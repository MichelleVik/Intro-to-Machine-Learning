{
 "cells": [
  {
   "cell_type": "markdown",
   "id": "f28606e1",
   "metadata": {
    "slideshow": {
     "slide_type": "notes"
    }
   },
   "source": [
    "- `conda install autopep8`\n",
    "- `pip install rise`\n",
    "- `pip install pandas`"
   ]
  },
  {
   "cell_type": "markdown",
   "id": "441caf5d",
   "metadata": {
    "slideshow": {
     "slide_type": "slide"
    }
   },
   "source": [
    "# Class will start at 6:05 PM\n",
    "\n",
    "In the meantime... fun fact!"
   ]
  },
  {
   "cell_type": "markdown",
   "id": "f4678989",
   "metadata": {
    "slideshow": {
     "slide_type": "fragment"
    }
   },
   "source": []
  },
  {
   "cell_type": "markdown",
   "id": "12d70594",
   "metadata": {
    "slideshow": {
     "slide_type": "slide"
    }
   },
   "source": [
    "\n",
    "# Week 2: Feature Engineering and Model setup\n",
    "### Intro to Machine Learning | Professional Certificate course \n",
    "\n",
    "Viviana Marquez,  M.Sc.<br>\n",
    "March 1, 2023\n",
    "\n",
    "<br>\n",
    "\n",
    "<img src='../img/all/di.jpeg' style='width:500px; float: left; margin: 0px 30px 15px 0px'>"
   ]
  },
  {
   "cell_type": "markdown",
   "id": "ac8b7cd3",
   "metadata": {
    "slideshow": {
     "slide_type": "slide"
    }
   },
   "source": [
    "# 🚀 Today's agenda\n",
    "\n",
    "**Part 1:**\n",
    "\n",
    "- Getting data\n",
    "- Pandas crash course\n",
    "- EDA: Exploratory Data Analysis\n",
    "- Preparing data\n",
    "- Basic feature engineering"
   ]
  },
  {
   "cell_type": "markdown",
   "id": "f2f31e72",
   "metadata": {
    "slideshow": {
     "slide_type": "slide"
    }
   },
   "source": [
    "# 🚀 Today's agenda\n",
    "\n",
    "**Part 2:**\n",
    "- Train, validation, and test data sets\n",
    "- Underfitting vs overfitting\n",
    "- Bias-Variance trade-off\n",
    "- How to select a model?"
   ]
  },
  {
   "cell_type": "markdown",
   "id": "ccaef5d0",
   "metadata": {
    "slideshow": {
     "slide_type": "slide"
    }
   },
   "source": [
    "# ❇️ Housekeeping"
   ]
  },
  {
   "cell_type": "markdown",
   "id": "1dcf078d",
   "metadata": {
    "slideshow": {
     "slide_type": "slide"
    }
   },
   "source": [
    "## Class dynamics\n",
    "\n",
    "**🗓️ Schedule**\n",
    "- Wednesdays 6PM - 9PM PST from February 22 to April 5 (7 weeks)\n",
    "- Classes will be LIVE through Zoom\n",
    "- Lectures with exercises and Q+A"
   ]
  },
  {
   "cell_type": "markdown",
   "id": "45322312",
   "metadata": {
    "slideshow": {
     "slide_type": "fragment"
    }
   },
   "source": [
    "\n",
    "**⌛ Class breakdown**\n",
    "- First five minutes I'll give a fun fact. Class will promptly start at 6:05PM PST\n",
    "- Self-graded quiz\n",
    "- Two blocks, with a 15 min break in between \n",
    "- Ungraded homework 💪"
   ]
  },
  {
   "cell_type": "markdown",
   "id": "d7f3fdc5",
   "metadata": {
    "slideshow": {
     "slide_type": "slide"
    }
   },
   "source": [
    "## Resources\n",
    "\n",
    "<br>\n",
    "<img src='../img/class_0/book.png' style='height:500px; float: left; margin: 0px 30px 15px 0px'>\n",
    "\n",
    "- [Canvas](https://usfca.instructure.com/courses/1613920)\n",
    "- [GitHub](https://github.com/vivianamarquez/Intro-to-Machine-Learning)\n",
    "- One office hour per week: Fridays 12PM EST\n",
    "\n",
    "- 🙋🏻🙋🏾‍♀️🙋‍♂️ Questions and comments are encouraged!\n",
    "- My email: vmarquez2@usfca.edu"
   ]
  },
  {
   "cell_type": "markdown",
   "id": "e0733be8",
   "metadata": {
    "slideshow": {
     "slide_type": "fragment"
    }
   },
   "source": [
    "- If you can't attend a session, please email Mikaela at mlmora@usfca.edu"
   ]
  },
  {
   "cell_type": "markdown",
   "id": "5cfccbcd",
   "metadata": {
    "slideshow": {
     "slide_type": "slide"
    }
   },
   "source": [
    "# ⏪ Last class recap\n",
    "\n",
    "- What is machine learning?\n",
    "- Creating a conda environment \n",
    "- Types of machine learning models \n",
    "- ML workflow "
   ]
  },
  {
   "cell_type": "markdown",
   "id": "fe781589",
   "metadata": {
    "slideshow": {
     "slide_type": "slide"
    }
   },
   "source": [
    "# 🗺️📍 Guide map \n",
    "\n",
    "<center>\n",
    "    <img src='../img/class_1/ml_map2.png' style='height:450px; float: center; margin: 0px 0px 0px 0px'>\n",
    "</center>\n",
    "    \n",
    "\n"
   ]
  },
  {
   "cell_type": "markdown",
   "id": "7f94344f",
   "metadata": {
    "slideshow": {
     "slide_type": "slide"
    }
   },
   "source": [
    "# 🗺️📍 Guide map \n",
    "\n",
    "<br>\n",
    "<center>\n",
    "    <img src='../img/class_0/pipeline.png' style='height:350px;'>\n",
    "</center>\n",
    "    \n",
    "\n"
   ]
  },
  {
   "cell_type": "markdown",
   "id": "85f7445a",
   "metadata": {
    "slideshow": {
     "slide_type": "slide"
    }
   },
   "source": [
    "### Conda environment commands\n",
    "\n",
    "- `conda activate IntroML`\n",
    "        - Launch `jupyter notebook`"
   ]
  },
  {
   "cell_type": "markdown",
   "id": "e2f5c083",
   "metadata": {
    "slideshow": {
     "slide_type": "slide"
    }
   },
   "source": [
    "# 🚀 Part 1"
   ]
  },
  {
   "cell_type": "markdown",
   "id": "adf92e74",
   "metadata": {
    "slideshow": {
     "slide_type": "slide"
    }
   },
   "source": [
    "# ❇️ Getting data"
   ]
  },
  {
   "cell_type": "markdown",
   "id": "65d5f906",
   "metadata": {
    "slideshow": {
     "slide_type": "slide"
    }
   },
   "source": [
    "# 🗺️📍 Guide map \n",
    "\n",
    "<br>\n",
    "<center>\n",
    "    <img src='../img/class_2/pipeline_EDA.png' style='height:350px;'>\n",
    "</center>\n",
    "    \n",
    "\n"
   ]
  },
  {
   "cell_type": "markdown",
   "id": "71a991fd",
   "metadata": {
    "slideshow": {
     "slide_type": "slide"
    }
   },
   "source": [
    "## Data is the new oil\n",
    "\n",
    "<br>\n",
    "<center>\n",
    "    <img src='../img/class_2/everyminute.png' style='height:750px;'>\n",
    "</center>"
   ]
  },
  {
   "cell_type": "markdown",
   "id": "2f9a03f8",
   "metadata": {
    "slideshow": {
     "slide_type": "slide"
    }
   },
   "source": [
    "## 👷🏽‍♀️ Getting data: In an ideal world...\n",
    "\n",
    "<br>\n",
    "<center>\n",
    "    <img src='../img/class_2/callcenter.jpg' style='height:350px;'>\n",
    "</center>\n",
    "\n",
    "- Imagine that you're working with data from a call center\n",
    "- Your task is to determine whether a call is a customer service inquiry or a sales inquiry\n",
    "- For this task, your company is provided with thousands (even millions) of observations\n",
    "- Additionally, each data point is labeled"
   ]
  },
  {
   "cell_type": "markdown",
   "id": "fd67cc96",
   "metadata": {
    "slideshow": {
     "slide_type": "fragment"
    }
   },
   "source": [
    "- Unfortunately, most projects are not that fortunate 🙁 and we need to go get our own data"
   ]
  },
  {
   "cell_type": "markdown",
   "id": "0869bab8",
   "metadata": {
    "slideshow": {
     "slide_type": "slide"
    }
   },
   "source": [
    "## 👷🏽‍♀️ Where to get data?\n",
    "\n",
    "**Open data repositories:**\n",
    "\n",
    "- OpenML.org (https://openml.org)\n",
    "- Kaggle.com (https://kaggle.com/datasets)\n",
    "- PapersWithCode.com (https://paperswithcode.com/datasets)\n",
    "- UC Irvine Machine Learning Repository (https://archive.ics.uci.edu/ml)\n",
    "- Amazon's AWS datasets (https://registry.opendata.aws)\n",
    "- TensorFlow datasets (https://tensorflow.org/datasets)\n",
    "- Google's data search engine: (https://datasetsearch.research.google.com/)"
   ]
  },
  {
   "cell_type": "markdown",
   "id": "76f8a6a8",
   "metadata": {
    "slideshow": {
     "slide_type": "slide"
    }
   },
   "source": [
    "**Meta portals and other pages listing datasets:**\n",
    "- DataPortals.org (https://dataportals.org/)\n",
    "- OpenDataMonitor.eu (https://opendatamonitor.eu/frontend/web/index.php?r=dashboard%2Findex)\n",
    "- Wikipedia's list of machine learning datasets (https://en.wikipedia.org/wiki/List_of_datasets_for_machine-learning_research)\n",
    "- Quora's list (https://www.quora.com/Where-can-I-find-large-datasets-open-to-the-public)\n",
    "- Reddit's dataset (https://www.reddit.com/r/datasets)\n",
    "- GitHub * (https://github.com/)"
   ]
  },
  {
   "cell_type": "markdown",
   "id": "699304c2",
   "metadata": {
    "slideshow": {
     "slide_type": "slide"
    }
   },
   "source": [
    "**Location specific:**\n",
    "\n",
    "- US Government data (https://data.gov/)\n",
    "- San Francisco Open Data (https://datasf.org/opendata/)\n",
    "- California Open Data (https://data.ca.gov/)\n",
    "- Los Angeles Open Data (https://data.lacity.org/)\n",
    "- NYC Open Data (https://opendata.cityofnewyork.us/)\n",
    "- State of New York Open Data (https://data.ny.gov/)"
   ]
  },
  {
   "cell_type": "markdown",
   "id": "ebd8a750",
   "metadata": {
    "slideshow": {
     "slide_type": "slide"
    }
   },
   "source": [
    "**Topic specific:**\n",
    "\n",
    "- World Bank Open Data (https://data.worldbank.org/)\n",
    "- PG&E's Public Data Sets (https://pge-energydatarequest.com/public_datasets) \n",
    "- ~Soccer~ Football data (https://datahub.io/collections/football_)\n",
    "- The Office Dataset (https://www.kaggle.com/datasets/nehaprabhavalkar/the-office-dataset)\n",
    "- The Last of s (https://www.kaggle.com/datasets/lazaro97/the-last-of-us-reviews)"
   ]
  },
  {
   "cell_type": "markdown",
   "id": "9c675a91",
   "metadata": {
    "slideshow": {
     "slide_type": "slide"
    }
   },
   "source": [
    "## 👷🏽‍♀️ Other ways of getting data\n",
    "\n",
    "- Request your own data: Twitter, Facebook, WhatsApp, etc.\n",
    "- Use APIs (Application Programming Interface)\n",
    "- Webscraping\n",
    "    - `BeautifulSoup`: Library for parsing HTML and XML documents\n",
    "    - `Selenium`: Web browser automation tool\n"
   ]
  },
  {
   "cell_type": "markdown",
   "id": "a5c82003",
   "metadata": {
    "slideshow": {
     "slide_type": "slide"
    }
   },
   "source": [
    "## 👷🏽‍♀️ Data augmentation \n",
    "\n",
    "- Technique used to increase the amount of training data by artificially creating new data from existing data (crucial for the performance of ML models and prevent overfitting)\n",
    "\n",
    "<br>\n",
    "<center>\n",
    "    <img src='../img/class_2/cat1.jpeg' style='height:350px;'>\n",
    "</center>"
   ]
  },
  {
   "cell_type": "markdown",
   "id": "c4eb48ae",
   "metadata": {
    "slideshow": {
     "slide_type": "slide"
    }
   },
   "source": [
    "## 👷🏽‍♀️ Data augmentation \n",
    "\n",
    "- Technique used to increase the amount of training data by artificially creating new data from existing data\n",
    "\n",
    "<br>\n",
    "<center>\n",
    "    <img src='../img/class_2/cat2.jpeg' style='height:350px;'>\n",
    "</center>"
   ]
  },
  {
   "cell_type": "markdown",
   "id": "e1970bd1",
   "metadata": {
    "slideshow": {
     "slide_type": "slide"
    }
   },
   "source": [
    "## 👷🏽‍♀️ Data augmentation \n",
    "\n",
    "- Technique used to increase the amount of training data by artificially creating new data from existing data\n",
    "\n",
    "<br>\n",
    "<center>\n",
    "    <img src='../img/class_2/cat4.jpeg' style='height:350px;'>\n",
    "</center>"
   ]
  },
  {
   "cell_type": "markdown",
   "id": "584e4545",
   "metadata": {
    "slideshow": {
     "slide_type": "slide"
    }
   },
   "source": [
    "## 👷🏽‍♀️ Data augmentation \n",
    "\n",
    "- Technique used to increase the amount of training data by artificially creating new data from existing data\n",
    "\n",
    "<br>\n",
    "<center>\n",
    "    <img src='../img/class_2/cat5.jpeg' style='height:350px;'>\n",
    "</center>"
   ]
  },
  {
   "cell_type": "markdown",
   "id": "d3127735",
   "metadata": {
    "slideshow": {
     "slide_type": "slide"
    }
   },
   "source": [
    "## 👷🏽‍♀️ Data augmentation \n",
    "\n",
    "Some strategies for **image** data:"
   ]
  },
  {
   "cell_type": "markdown",
   "id": "b375775e",
   "metadata": {
    "slideshow": {
     "slide_type": "fragment"
    }
   },
   "source": [
    "- Flipping\n",
    "- Rotating\n",
    "- Cropping\n",
    "- Zooming\n",
    "- Adding noise or distortion\n",
    "- Adjust brightness and contrast"
   ]
  },
  {
   "cell_type": "markdown",
   "id": "212ada6e",
   "metadata": {
    "slideshow": {
     "slide_type": "slide"
    }
   },
   "source": [
    "## 👷🏽‍♀️ Data augmentation \n",
    "\n",
    "Some strategies for **text** data:"
   ]
  },
  {
   "cell_type": "markdown",
   "id": "7e5eafe1",
   "metadata": {
    "slideshow": {
     "slide_type": "fragment"
    }
   },
   "source": [
    "- Synonym/antonym replacement\n",
    "- Entity replacement\n",
    "- Random insertion/deletion \n",
    "- Back-translation "
   ]
  },
  {
   "cell_type": "markdown",
   "id": "477b5f57",
   "metadata": {
    "slideshow": {
     "slide_type": "slide"
    }
   },
   "source": [
    "## 👷🏽‍♀️ Data augmentation \n",
    "\n",
    "Some strategies for **numerical** data:"
   ]
  },
  {
   "cell_type": "markdown",
   "id": "590d6110",
   "metadata": {
    "slideshow": {
     "slide_type": "fragment"
    }
   },
   "source": [
    "- Scaling: Multiply or divide the data by a constant factor to increase or decrease its magnitude.\n",
    "\n",
    "- Shifting: Add or subtract a constant value to the data to shift its position along the scale.\n",
    "\n",
    "- Noise addition: Add a small amount of random noise to the data to create variations. (For example, adding small amounts of Gaussian noise to simulate measurement error)\n",
    "\n",
    "- Interpolation: Add new data points to the dataset by interpolating between existing data points.\n",
    "\n",
    "- Smoothing: Smooth the data by applying filters or averaging techniques."
   ]
  },
  {
   "cell_type": "markdown",
   "id": "477cb50a",
   "metadata": {
    "slideshow": {
     "slide_type": "slide"
    }
   },
   "source": [
    "# ❇️ Pandas crash course"
   ]
  },
  {
   "cell_type": "markdown",
   "id": "27f3d9fa",
   "metadata": {
    "slideshow": {
     "slide_type": "slide"
    }
   },
   "source": [
    "<img src='../img/class_2/cali.png' style='height:500px; float: left; margin: 0px 100px 0px 0px'>\n",
    "\n",
    "### Before we start... \n",
    "\n",
    "Download data from [here](https://raw.githubusercontent.com/vivianamarquez/Intro-to-Machine-Learning/main/data/housing.csv)\n",
    "\n",
    " - California Housing Prices dataset\n",
    "     - 1990 California census"
   ]
  },
  {
   "cell_type": "markdown",
   "id": "2ca41f4a",
   "metadata": {
    "slideshow": {
     "slide_type": "slide"
    }
   },
   "source": [
    "# 🐼 Pandas\n",
    "\n",
    "- `pandas` is a fast, powerful, flexible and easy to use open source data analysis and manipulation tool, built on top of the Python programming language"
   ]
  },
  {
   "cell_type": "code",
   "execution_count": 2,
   "id": "f191fd3b",
   "metadata": {
    "slideshow": {
     "slide_type": "fragment"
    }
   },
   "outputs": [
    {
     "name": "stdout",
     "output_type": "stream",
     "text": [
      "Collecting pandas\n",
      "  Downloading pandas-1.5.3-cp39-cp39-macosx_10_9_x86_64.whl (12.0 MB)\n",
      "\u001b[2K     \u001b[90m━━━━━━━━━━━━━━━━━━━━━━━━━━━━━━━━━━━━━━━━\u001b[0m \u001b[32m12.0/12.0 MB\u001b[0m \u001b[31m50.3 MB/s\u001b[0m eta \u001b[36m0:00:00\u001b[0m00:01\u001b[0m00:01\u001b[0m\n",
      "\u001b[?25hCollecting numpy>=1.20.3\n",
      "  Downloading numpy-1.24.2-cp39-cp39-macosx_10_9_x86_64.whl (19.8 MB)\n",
      "\u001b[2K     \u001b[90m━━━━━━━━━━━━━━━━━━━━━━━━━━━━━━━━━━━━━━━━\u001b[0m \u001b[32m19.8/19.8 MB\u001b[0m \u001b[31m41.1 MB/s\u001b[0m eta \u001b[36m0:00:00\u001b[0m00:01\u001b[0m00:01\u001b[0m\n",
      "\u001b[?25hRequirement already satisfied: python-dateutil>=2.8.1 in /Users/vivianamarquez/opt/anaconda3/envs/IntroML/lib/python3.9/site-packages (from pandas) (2.8.2)\n",
      "Collecting pytz>=2020.1\n",
      "  Downloading pytz-2022.7.1-py2.py3-none-any.whl (499 kB)\n",
      "\u001b[2K     \u001b[90m━━━━━━━━━━━━━━━━━━━━━━━━━━━━━━━━━━━━━━\u001b[0m \u001b[32m499.4/499.4 kB\u001b[0m \u001b[31m35.7 MB/s\u001b[0m eta \u001b[36m0:00:00\u001b[0m\n",
      "\u001b[?25hRequirement already satisfied: six>=1.5 in /Users/vivianamarquez/opt/anaconda3/envs/IntroML/lib/python3.9/site-packages (from python-dateutil>=2.8.1->pandas) (1.16.0)\n",
      "Installing collected packages: pytz, numpy, pandas\n",
      "Successfully installed numpy-1.24.2 pandas-1.5.3 pytz-2022.7.1\n"
     ]
    }
   ],
   "source": [
    "! pip install pandas"
   ]
  },
  {
   "cell_type": "code",
   "execution_count": 4,
   "id": "f5932a78",
   "metadata": {
    "slideshow": {
     "slide_type": "slide"
    }
   },
   "outputs": [],
   "source": [
    "# importing pandas\n",
    "import pandas as pd"
   ]
  },
  {
   "cell_type": "code",
   "execution_count": 5,
   "id": "05354736",
   "metadata": {
    "slideshow": {
     "slide_type": "fragment"
    }
   },
   "outputs": [],
   "source": [
    "# reading data\n",
    "df = pd.read_csv(\"../data/housing.csv\")"
   ]
  },
  {
   "cell_type": "code",
   "execution_count": 9,
   "id": "f12e1cbf",
   "metadata": {
    "slideshow": {
     "slide_type": "fragment"
    }
   },
   "outputs": [
    {
     "data": {
      "text/html": [
       "<div>\n",
       "<style scoped>\n",
       "    .dataframe tbody tr th:only-of-type {\n",
       "        vertical-align: middle;\n",
       "    }\n",
       "\n",
       "    .dataframe tbody tr th {\n",
       "        vertical-align: top;\n",
       "    }\n",
       "\n",
       "    .dataframe thead th {\n",
       "        text-align: right;\n",
       "    }\n",
       "</style>\n",
       "<table border=\"1\" class=\"dataframe\">\n",
       "  <thead>\n",
       "    <tr style=\"text-align: right;\">\n",
       "      <th></th>\n",
       "      <th>longitude</th>\n",
       "      <th>latitude</th>\n",
       "      <th>housing_median_age</th>\n",
       "      <th>total_rooms</th>\n",
       "      <th>total_bedrooms</th>\n",
       "      <th>population</th>\n",
       "      <th>households</th>\n",
       "      <th>median_income</th>\n",
       "      <th>median_house_value</th>\n",
       "      <th>ocean_proximity</th>\n",
       "    </tr>\n",
       "  </thead>\n",
       "  <tbody>\n",
       "    <tr>\n",
       "      <th>6665</th>\n",
       "      <td>-117.18</td>\n",
       "      <td>32.69</td>\n",
       "      <td>37.0</td>\n",
       "      <td>3112.0</td>\n",
       "      <td>716.0</td>\n",
       "      <td>1304.0</td>\n",
       "      <td>674.0</td>\n",
       "      <td>3.2121</td>\n",
       "      <td>320800.0</td>\n",
       "      <td>NEAR OCEAN</td>\n",
       "    </tr>\n",
       "    <tr>\n",
       "      <th>10850</th>\n",
       "      <td>-117.68</td>\n",
       "      <td>35.65</td>\n",
       "      <td>15.0</td>\n",
       "      <td>2701.0</td>\n",
       "      <td>576.0</td>\n",
       "      <td>1245.0</td>\n",
       "      <td>513.0</td>\n",
       "      <td>3.3269</td>\n",
       "      <td>81900.0</td>\n",
       "      <td>INLAND</td>\n",
       "    </tr>\n",
       "    <tr>\n",
       "      <th>10202</th>\n",
       "      <td>-120.47</td>\n",
       "      <td>35.04</td>\n",
       "      <td>29.0</td>\n",
       "      <td>1315.0</td>\n",
       "      <td>279.0</td>\n",
       "      <td>926.0</td>\n",
       "      <td>249.0</td>\n",
       "      <td>2.9375</td>\n",
       "      <td>144800.0</td>\n",
       "      <td>&lt;1H OCEAN</td>\n",
       "    </tr>\n",
       "    <tr>\n",
       "      <th>15493</th>\n",
       "      <td>-117.70</td>\n",
       "      <td>34.08</td>\n",
       "      <td>33.0</td>\n",
       "      <td>4674.0</td>\n",
       "      <td>791.0</td>\n",
       "      <td>2769.0</td>\n",
       "      <td>784.0</td>\n",
       "      <td>4.1448</td>\n",
       "      <td>137300.0</td>\n",
       "      <td>INLAND</td>\n",
       "    </tr>\n",
       "    <tr>\n",
       "      <th>1465</th>\n",
       "      <td>-120.62</td>\n",
       "      <td>35.12</td>\n",
       "      <td>22.0</td>\n",
       "      <td>1240.0</td>\n",
       "      <td>294.0</td>\n",
       "      <td>768.0</td>\n",
       "      <td>288.0</td>\n",
       "      <td>2.6550</td>\n",
       "      <td>160000.0</td>\n",
       "      <td>&lt;1H OCEAN</td>\n",
       "    </tr>\n",
       "  </tbody>\n",
       "</table>\n",
       "</div>"
      ],
      "text/plain": [
       "       longitude  latitude  housing_median_age  total_rooms  total_bedrooms  \\\n",
       "6665     -117.18     32.69                37.0       3112.0           716.0   \n",
       "10850    -117.68     35.65                15.0       2701.0           576.0   \n",
       "10202    -120.47     35.04                29.0       1315.0           279.0   \n",
       "15493    -117.70     34.08                33.0       4674.0           791.0   \n",
       "1465     -120.62     35.12                22.0       1240.0           294.0   \n",
       "\n",
       "       population  households  median_income  median_house_value  \\\n",
       "6665       1304.0       674.0         3.2121            320800.0   \n",
       "10850      1245.0       513.0         3.3269             81900.0   \n",
       "10202       926.0       249.0         2.9375            144800.0   \n",
       "15493      2769.0       784.0         4.1448            137300.0   \n",
       "1465        768.0       288.0         2.6550            160000.0   \n",
       "\n",
       "      ocean_proximity  \n",
       "6665       NEAR OCEAN  \n",
       "10850          INLAND  \n",
       "10202       <1H OCEAN  \n",
       "15493          INLAND  \n",
       "1465        <1H OCEAN  "
      ]
     },
     "execution_count": 9,
     "metadata": {},
     "output_type": "execute_result"
    }
   ],
   "source": [
    "# viewing data\n",
    "df.head()\n",
    "df.sample(5)"
   ]
  },
  {
   "cell_type": "code",
   "execution_count": 13,
   "id": "a49d27ca",
   "metadata": {
    "slideshow": {
     "slide_type": "slide"
    }
   },
   "outputs": [
    {
     "data": {
      "text/plain": [
       "(20640, 10)"
      ]
     },
     "execution_count": 13,
     "metadata": {},
     "output_type": "execute_result"
    }
   ],
   "source": [
    "# get number of rows, number of columns\n",
    "df.shape"
   ]
  },
  {
   "cell_type": "code",
   "execution_count": 15,
   "id": "39b1de05",
   "metadata": {
    "slideshow": {
     "slide_type": "fragment"
    }
   },
   "outputs": [
    {
     "data": {
      "text/plain": [
       "longitude             float64\n",
       "latitude              float64\n",
       "housing_median_age    float64\n",
       "total_rooms           float64\n",
       "total_bedrooms        float64\n",
       "population            float64\n",
       "households            float64\n",
       "median_income         float64\n",
       "median_house_value    float64\n",
       "ocean_proximity        object\n",
       "dtype: object"
      ]
     },
     "execution_count": 15,
     "metadata": {},
     "output_type": "execute_result"
    }
   ],
   "source": [
    "# data types of each column\n",
    "df.dtypes"
   ]
  },
  {
   "cell_type": "code",
   "execution_count": 7,
   "id": "f6a8ae4d",
   "metadata": {
    "slideshow": {
     "slide_type": "slide"
    }
   },
   "outputs": [
    {
     "data": {
      "text/plain": [
       "Index(['longitude', 'latitude', 'housing_median_age', 'total_rooms',\n",
       "       'total_bedrooms', 'population', 'households', 'median_income',\n",
       "       'median_house_value', 'ocean_proximity'],\n",
       "      dtype='object')"
      ]
     },
     "execution_count": 7,
     "metadata": {},
     "output_type": "execute_result"
    }
   ],
   "source": [
    "# get all column names\n",
    "df.columns"
   ]
  },
  {
   "cell_type": "code",
   "execution_count": 8,
   "id": "a18e3eaf",
   "metadata": {
    "slideshow": {
     "slide_type": "fragment"
    }
   },
   "outputs": [
    {
     "data": {
      "text/plain": [
       "0       -122.23\n",
       "1       -122.22\n",
       "2       -122.24\n",
       "3       -122.25\n",
       "4       -122.25\n",
       "          ...  \n",
       "20635   -121.09\n",
       "20636   -121.21\n",
       "20637   -121.22\n",
       "20638   -121.32\n",
       "20639   -121.24\n",
       "Name: longitude, Length: 20640, dtype: float64"
      ]
     },
     "execution_count": 8,
     "metadata": {},
     "output_type": "execute_result"
    }
   ],
   "source": [
    "# call a column\n",
    "df['longitude']"
   ]
  },
  {
   "cell_type": "code",
   "execution_count": 10,
   "id": "d9294844",
   "metadata": {
    "slideshow": {
     "slide_type": "slide"
    }
   },
   "outputs": [
    {
     "data": {
      "text/html": [
       "<div>\n",
       "<style scoped>\n",
       "    .dataframe tbody tr th:only-of-type {\n",
       "        vertical-align: middle;\n",
       "    }\n",
       "\n",
       "    .dataframe tbody tr th {\n",
       "        vertical-align: top;\n",
       "    }\n",
       "\n",
       "    .dataframe thead th {\n",
       "        text-align: right;\n",
       "    }\n",
       "</style>\n",
       "<table border=\"1\" class=\"dataframe\">\n",
       "  <thead>\n",
       "    <tr style=\"text-align: right;\">\n",
       "      <th></th>\n",
       "      <th>longitude</th>\n",
       "      <th>latitude</th>\n",
       "    </tr>\n",
       "  </thead>\n",
       "  <tbody>\n",
       "    <tr>\n",
       "      <th>0</th>\n",
       "      <td>-122.23</td>\n",
       "      <td>37.88</td>\n",
       "    </tr>\n",
       "    <tr>\n",
       "      <th>1</th>\n",
       "      <td>-122.22</td>\n",
       "      <td>37.86</td>\n",
       "    </tr>\n",
       "    <tr>\n",
       "      <th>2</th>\n",
       "      <td>-122.24</td>\n",
       "      <td>37.85</td>\n",
       "    </tr>\n",
       "    <tr>\n",
       "      <th>3</th>\n",
       "      <td>-122.25</td>\n",
       "      <td>37.85</td>\n",
       "    </tr>\n",
       "    <tr>\n",
       "      <th>4</th>\n",
       "      <td>-122.25</td>\n",
       "      <td>37.85</td>\n",
       "    </tr>\n",
       "    <tr>\n",
       "      <th>...</th>\n",
       "      <td>...</td>\n",
       "      <td>...</td>\n",
       "    </tr>\n",
       "    <tr>\n",
       "      <th>20635</th>\n",
       "      <td>-121.09</td>\n",
       "      <td>39.48</td>\n",
       "    </tr>\n",
       "    <tr>\n",
       "      <th>20636</th>\n",
       "      <td>-121.21</td>\n",
       "      <td>39.49</td>\n",
       "    </tr>\n",
       "    <tr>\n",
       "      <th>20637</th>\n",
       "      <td>-121.22</td>\n",
       "      <td>39.43</td>\n",
       "    </tr>\n",
       "    <tr>\n",
       "      <th>20638</th>\n",
       "      <td>-121.32</td>\n",
       "      <td>39.43</td>\n",
       "    </tr>\n",
       "    <tr>\n",
       "      <th>20639</th>\n",
       "      <td>-121.24</td>\n",
       "      <td>39.37</td>\n",
       "    </tr>\n",
       "  </tbody>\n",
       "</table>\n",
       "<p>20640 rows × 2 columns</p>\n",
       "</div>"
      ],
      "text/plain": [
       "       longitude  latitude\n",
       "0        -122.23     37.88\n",
       "1        -122.22     37.86\n",
       "2        -122.24     37.85\n",
       "3        -122.25     37.85\n",
       "4        -122.25     37.85\n",
       "...          ...       ...\n",
       "20635    -121.09     39.48\n",
       "20636    -121.21     39.49\n",
       "20637    -121.22     39.43\n",
       "20638    -121.32     39.43\n",
       "20639    -121.24     39.37\n",
       "\n",
       "[20640 rows x 2 columns]"
      ]
     },
     "execution_count": 10,
     "metadata": {},
     "output_type": "execute_result"
    }
   ],
   "source": [
    "# call multiple columns\n",
    "df[['longitude', 'latitude']]"
   ]
  },
  {
   "cell_type": "code",
   "execution_count": 12,
   "id": "970782d9",
   "metadata": {
    "slideshow": {
     "slide_type": "slide"
    }
   },
   "outputs": [
    {
     "data": {
      "text/plain": [
       "0        near bay\n",
       "1        near bay\n",
       "2        near bay\n",
       "3        near bay\n",
       "4        near bay\n",
       "           ...   \n",
       "20635      inland\n",
       "20636      inland\n",
       "20637      inland\n",
       "20638      inland\n",
       "20639      inland\n",
       "Name: ocean_proximity, Length: 20640, dtype: object"
      ]
     },
     "execution_count": 12,
     "metadata": {},
     "output_type": "execute_result"
    }
   ],
   "source": [
    "# apply a column-wise function\n",
    "\n",
    "df['ocean_proximity'].apply(lambda row: row.lower())"
   ]
  },
  {
   "cell_type": "markdown",
   "id": "1a340ad8",
   "metadata": {
    "slideshow": {
     "slide_type": "slide"
    }
   },
   "source": [
    "**`loc` vs `iloc`**\n",
    "\n",
    "- `loc`: Select data by label/index\n",
    "- `iloc`: Select data by integer location"
   ]
  },
  {
   "cell_type": "code",
   "execution_count": 17,
   "id": "649dd91a",
   "metadata": {
    "slideshow": {
     "slide_type": "fragment"
    }
   },
   "outputs": [
    {
     "data": {
      "text/plain": [
       "-122.25"
      ]
     },
     "execution_count": 17,
     "metadata": {},
     "output_type": "execute_result"
    }
   ],
   "source": [
    "df.loc[3, 'longitude']"
   ]
  },
  {
   "cell_type": "code",
   "execution_count": 21,
   "id": "e01b280a",
   "metadata": {
    "slideshow": {
     "slide_type": "fragment"
    }
   },
   "outputs": [
    {
     "data": {
      "text/plain": [
       "1274.0"
      ]
     },
     "execution_count": 21,
     "metadata": {},
     "output_type": "execute_result"
    }
   ],
   "source": [
    "df.head()\n",
    "df.iloc[3, 3]"
   ]
  },
  {
   "cell_type": "markdown",
   "id": "d1dd3291",
   "metadata": {
    "slideshow": {
     "slide_type": "slide"
    }
   },
   "source": [
    "- We will learn more Pandas as we go on our next topic\n",
    "- Documentation: https://pandas.pydata.org/docs/"
   ]
  },
  {
   "cell_type": "markdown",
   "id": "ce86850b",
   "metadata": {
    "slideshow": {
     "slide_type": "slide"
    }
   },
   "source": [
    "# ❇️ EDA: Exploratory Data Analysis"
   ]
  },
  {
   "cell_type": "markdown",
   "id": "2b7e27b3",
   "metadata": {
    "slideshow": {
     "slide_type": "slide"
    }
   },
   "source": [
    "### 🕵️ EDA: Exploratory Data Analysis\n",
    "\n",
    "<br>\n",
    "<center>\n",
    "    <img src='../img/class_2/pipeline_EDA.png' style='height:300px;'>\n",
    "</center>"
   ]
  },
  {
   "cell_type": "markdown",
   "id": "4c1b01c1",
   "metadata": {
    "slideshow": {
     "slide_type": "fragment"
    }
   },
   "source": [
    "- EDA is the process of performing initial investigations on data to be able to understand it, identify patters and relationships between variables, detect outliers and anomalies with the help of summary statistics and data visualizations."
   ]
  },
  {
   "cell_type": "markdown",
   "id": "7e91139a",
   "metadata": {
    "slideshow": {
     "slide_type": "fragment"
    }
   },
   "source": [
    "- By exploring the data in this way, data professionals can check the overall health of their data and gain insights and make informed decisions about how to approach further analysis or modeling"
   ]
  },
  {
   "cell_type": "markdown",
   "id": "52195943",
   "metadata": {
    "slideshow": {
     "slide_type": "slide"
    }
   },
   "source": [
    "# ❇️ Preparing data"
   ]
  },
  {
   "cell_type": "markdown",
   "id": "81a01229",
   "metadata": {
    "slideshow": {
     "slide_type": "slide"
    }
   },
   "source": [
    "# ❇️ Basic Feature Engineering"
   ]
  },
  {
   "cell_type": "markdown",
   "id": "a7505719",
   "metadata": {
    "slideshow": {
     "slide_type": "slide"
    }
   },
   "source": [
    "# 🚀 Part 2\n",
    "\n",
    "See you here at "
   ]
  },
  {
   "cell_type": "markdown",
   "id": "77aaa7c7",
   "metadata": {
    "slideshow": {
     "slide_type": "slide"
    }
   },
   "source": [
    "# ❇️ Train, validation, and test data sets"
   ]
  },
  {
   "cell_type": "markdown",
   "id": "964755aa",
   "metadata": {
    "slideshow": {
     "slide_type": "slide"
    }
   },
   "source": [
    "# ❇️ Underfitting vs Overfitting / Bias-Variance trade-off"
   ]
  },
  {
   "cell_type": "markdown",
   "id": "9a501a63",
   "metadata": {
    "slideshow": {
     "slide_type": "slide"
    }
   },
   "source": [
    "# ❇️ How to select a model?"
   ]
  },
  {
   "cell_type": "markdown",
   "id": "bd23f2d0",
   "metadata": {
    "slideshow": {
     "slide_type": "slide"
    }
   },
   "source": [
    "# ⏪ Today's recap\n",
    "\n",
    "- "
   ]
  },
  {
   "cell_type": "markdown",
   "id": "7b2900de",
   "metadata": {
    "slideshow": {
     "slide_type": "slide"
    }
   },
   "source": [
    "<center>\n",
    "<img src='../img/all/bye.gif' style='height:400px;'> \n",
    "</center>\n",
    "\n",
    "# Next class: Regression models"
   ]
  }
 ],
 "metadata": {
  "celltoolbar": "Slideshow",
  "kernelspec": {
   "display_name": "Python 3 (ipykernel)",
   "language": "python",
   "name": "python3"
  },
  "language_info": {
   "codemirror_mode": {
    "name": "ipython",
    "version": 3
   },
   "file_extension": ".py",
   "mimetype": "text/x-python",
   "name": "python",
   "nbconvert_exporter": "python",
   "pygments_lexer": "ipython3",
   "version": "3.9.16"
  }
 },
 "nbformat": 4,
 "nbformat_minor": 5
}
