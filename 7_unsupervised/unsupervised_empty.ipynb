{
 "cells": [
  {
   "cell_type": "markdown",
   "id": "56231af0",
   "metadata": {
    "slideshow": {
     "slide_type": "notes"
    }
   },
   "source": [
    "`pip3 install torch torchvision torchaudio`\n",
    "\n",
    "`pip install transformers`"
   ]
  },
  {
   "cell_type": "code",
   "execution_count": 1,
   "id": "6ae2109d",
   "metadata": {
    "slideshow": {
     "slide_type": "notes"
    }
   },
   "outputs": [],
   "source": [
    "import warnings\n",
    "warnings.filterwarnings(\"ignore\")"
   ]
  },
  {
   "cell_type": "markdown",
   "id": "441caf5d",
   "metadata": {
    "slideshow": {
     "slide_type": "slide"
    }
   },
   "source": [
    "# Class will start at 6:05 PM\n",
    "\n",
    "In the meantime... fun fact!"
   ]
  },
  {
   "cell_type": "markdown",
   "id": "0beaaf25",
   "metadata": {
    "slideshow": {
     "slide_type": "fragment"
    }
   },
   "source": [
    "https://cat-gpt.com/"
   ]
  },
  {
   "cell_type": "markdown",
   "id": "12d70594",
   "metadata": {
    "slideshow": {
     "slide_type": "slide"
    }
   },
   "source": [
    "# Week 7: Unsupervised learning and farewell\n",
    "### Intro to Machine Learning | Professional Certificate course \n",
    "\n",
    "Viviana Marquez,  M.Sc.<br>\n",
    "April 5, 2023\n",
    "\n",
    "<br>\n",
    "\n",
    "<img src='../img/all/di.jpeg' style='width:500px; float: left; margin: 0px 30px 15px 0px'>"
   ]
  },
  {
   "cell_type": "markdown",
   "id": "ac8b7cd3",
   "metadata": {
    "slideshow": {
     "slide_type": "slide"
    }
   },
   "source": [
    "# 🚀 Today's agenda\n",
    "\n",
    "**Part 1:**\n",
    "\n",
    "- Unsupervised learning\n",
    "    - K-means\n",
    "    - Hierarchical clustering\n",
    "    - PCA (Principal Component Analysis)"
   ]
  },
  {
   "cell_type": "markdown",
   "id": "f2f31e72",
   "metadata": {
    "slideshow": {
     "slide_type": "slide"
    }
   },
   "source": [
    "# 🚀 Today's agenda\n",
    "\n",
    "**Part 2:**\n",
    "\n",
    "- Course recap\n",
    "- Data literacy / Data ethics\n",
    "- BONUS: Very brief introduction to Neural Networks\n",
    "- End of Course Survey "
   ]
  },
  {
   "cell_type": "markdown",
   "id": "5cfccbcd",
   "metadata": {
    "slideshow": {
     "slide_type": "slide"
    }
   },
   "source": [
    "# ⏪ Last class recap\n",
    "\n",
    "- Ensemble Learning\n",
    "    - Voting classifiers\n",
    "    - Bagging\n",
    "        - Random Forest\n",
    "    - Boosting\n",
    "        - AdaBoost\n",
    "        - Gradient Boosting\n",
    "        - XGBoost\n",
    "    - Stacking\n",
    "    \n",
    "- Model selection and optimization\n",
    "    - Hyperparameter tuning\n",
    "        - Cross-Validation\n",
    "        - Grid search"
   ]
  },
  {
   "cell_type": "markdown",
   "id": "85f7445a",
   "metadata": {
    "slideshow": {
     "slide_type": "slide"
    }
   },
   "source": [
    "### Conda environment commands\n",
    "\n",
    "- `conda activate IntroML`\n",
    "    - Launch `jupyter notebook`\n",
    "    \n",
    "    \n",
    "### Alternative\n",
    "\n",
    "Google Colab: https://colab.research.google.com/"
   ]
  },
  {
   "cell_type": "markdown",
   "id": "e2f5c083",
   "metadata": {
    "slideshow": {
     "slide_type": "slide"
    }
   },
   "source": [
    "# 🚀 Part 1"
   ]
  },
  {
   "cell_type": "markdown",
   "id": "6a481656",
   "metadata": {
    "slideshow": {
     "slide_type": "slide"
    }
   },
   "source": [
    "# ❇️ Unsupervised learning\n",
    "\n",
    "<br>\n",
    "<center>\n",
    "    <img src='../img/class_7/unsup.jpeg' style='height:550px; float: center; margin: 0px 0px 0px 0px'>\n",
    "</center>\n",
    "    "
   ]
  },
  {
   "cell_type": "markdown",
   "id": "09209a5a",
   "metadata": {
    "slideshow": {
     "slide_type": "slide"
    }
   },
   "source": [
    "# 🗺️📍 Guide map \n",
    "\n",
    "<center>\n",
    "    <img src='../img/class_7/ml_map_unsup2.png' style='height:550px; float: center; margin: 0px 0px 0px 0px'>\n",
    "</center>\n",
    "    \n",
    "\n"
   ]
  },
  {
   "cell_type": "markdown",
   "id": "e61b5009",
   "metadata": {
    "slideshow": {
     "slide_type": "slide"
    }
   },
   "source": [
    "# 🗺️📍 Guide map \n",
    "\n",
    "<center>\n",
    "    <img src='../img/class_7/ml_map_unsup.png' style='height:550px; float: center; margin: 0px 0px 0px 0px'>\n",
    "</center>\n",
    "    \n",
    "\n"
   ]
  },
  {
   "cell_type": "markdown",
   "id": "c9ac9492",
   "metadata": {
    "slideshow": {
     "slide_type": "slide"
    }
   },
   "source": [
    "# Clustering algorithms"
   ]
  },
  {
   "cell_type": "markdown",
   "id": "b2ee7716",
   "metadata": {
    "slideshow": {
     "slide_type": "fragment"
    }
   },
   "source": [
    "It is the most common form of unsupervised learning"
   ]
  },
  {
   "cell_type": "markdown",
   "id": "996fe1da",
   "metadata": {
    "slideshow": {
     "slide_type": "fragment"
    }
   },
   "source": [
    "#### Data\n",
    "\n",
    "- Training samples $\\{x_1,\\cdots,x_n\\}\\in \\mathbb{R}^n$\n",
    "- We don't need (<i>have</i>) labels $y_i$"
   ]
  },
  {
   "cell_type": "markdown",
   "id": "2870597f",
   "metadata": {
    "slideshow": {
     "slide_type": "slide"
    }
   },
   "source": [
    "# First (?) clustering application"
   ]
  },
  {
   "cell_type": "markdown",
   "id": "bb568f19",
   "metadata": {
    "slideshow": {
     "slide_type": "fragment"
    }
   },
   "source": [
    "<br>\n",
    "<img src='../img/class_7/John_Snow.jpg' style='height:250px; float: left; margin: 0px 50px 30px 0px'>• In the 1850s, a London physician named John Snow plotted the location of cholera deaths on a map\n",
    "\n",
    "\n",
    "• The locations showed that the cases were clustered near certain intersections where there were contaminated wells -- thus, exposing both the problem and the solution\n",
    "\n",
    "<br>\n",
    "<center><img src='../img/class_7/img3b.png' style='height:300px'><small>Source: Nina Mishra HP Labs</small></center>"
   ]
  },
  {
   "cell_type": "markdown",
   "id": "c9b8993a",
   "metadata": {
    "slideshow": {
     "slide_type": "slide"
    }
   },
   "source": [
    "# Clustering algorithms"
   ]
  },
  {
   "cell_type": "markdown",
   "id": "a6f80821",
   "metadata": {
    "slideshow": {
     "slide_type": "fragment"
    }
   },
   "source": [
    "**Objective**: To group specimens into classes of similar objects--\"clusters\""
   ]
  },
  {
   "cell_type": "markdown",
   "id": "c396f5c2",
   "metadata": {
    "slideshow": {
     "slide_type": "fragment"
    }
   },
   "source": [
    "**When to use them?**: When we don't know what we are looking for"
   ]
  },
  {
   "cell_type": "markdown",
   "id": "e7905d43",
   "metadata": {
    "slideshow": {
     "slide_type": "fragment"
    }
   },
   "source": [
    "... but, beware, it can turn into gibberish!"
   ]
  },
  {
   "cell_type": "markdown",
   "id": "06d7fb04",
   "metadata": {
    "slideshow": {
     "slide_type": "fragment"
    }
   },
   "source": [
    "The data set must have:\n",
    "- High intra-class similarity\n",
    "- Low inter-class similarity"
   ]
  },
  {
   "cell_type": "markdown",
   "id": "3b480895",
   "metadata": {
    "slideshow": {
     "slide_type": "slide"
    }
   },
   "source": [
    "\n",
    "\n",
    "<center>\n",
    "    <img src='../img/class_7/clust.png' style='height:750px; float: center; margin: 0px 0px 0px 0px'>\n",
    "</center>\n",
    "    \n",
    "\n"
   ]
  },
  {
   "cell_type": "markdown",
   "id": "338f331f",
   "metadata": {
    "slideshow": {
     "slide_type": "slide"
    }
   },
   "source": [
    "\n",
    "\n",
    "<center>\n",
    "    <img src='../img/class_7/clust_part.png' style='height:750px; float: center; margin: 0px 0px 0px 0px'>\n",
    "</center>\n",
    "    \n",
    "\n"
   ]
  },
  {
   "cell_type": "markdown",
   "id": "7355cfea",
   "metadata": {
    "slideshow": {
     "slide_type": "slide"
    }
   },
   "source": [
    "# K-means"
   ]
  },
  {
   "cell_type": "markdown",
   "id": "9f1925e2",
   "metadata": {
    "slideshow": {
     "slide_type": "fragment"
    }
   },
   "source": [
    "- Unsupervised Machine Learning model of clustering by partitioning\n"
   ]
  },
  {
   "cell_type": "markdown",
   "id": "af413d92",
   "metadata": {
    "slideshow": {
     "slide_type": "fragment"
    }
   },
   "source": [
    "\n",
    "<center>\n",
    "    <img src='../img/class_7/img7b.gif' style='height:200px; float: center; margin: 0px 0px 0px 0px'>\n",
    "</center>"
   ]
  },
  {
   "cell_type": "markdown",
   "id": "bead041a",
   "metadata": {
    "slideshow": {
     "slide_type": "fragment"
    }
   },
   "source": [
    "$K$-means an iterative algorithm whose objective is to partition a set of $N$ observations into $K$ groups in which each observation belongs to the group whose mean value is closest"
   ]
  },
  {
   "cell_type": "markdown",
   "id": "9033165d",
   "metadata": {
    "slideshow": {
     "slide_type": "slide"
    }
   },
   "source": [
    "# K-means | Steps"
   ]
  },
  {
   "cell_type": "markdown",
   "id": "a49865e0",
   "metadata": {
    "slideshow": {
     "slide_type": "fragment"
    }
   },
   "source": [
    "<img src='https://upload.wikimedia.org/wikipedia/commons/thumb/5/5e/K_Means_Example_Step_1.svg/249px-K_Means_Example_Step_1.svg.png' style='height:250px; float: left; margin: 0px 50px 0px 0px'>\n",
    "\n",
    "<b> 1. Initialize</b>\n",
    "<br><br>A. &nbsp; Choose a number $K$ of clusters\n",
    "<br><br>B. &nbsp; Randomly choose $K$ points as centroids"
   ]
  },
  {
   "cell_type": "markdown",
   "id": "ca97a69d",
   "metadata": {
    "slideshow": {
     "slide_type": "slide"
    }
   },
   "source": [
    "<center><img src='https://upload.wikimedia.org/wikipedia/commons/thumb/a/a5/K_Means_Example_Step_2.svg/278px-K_Means_Example_Step_2.svg.png' style='height:250px; float: right; margin: 0px 0px 0px 0px'>\n",
    "\n",
    "\n",
    "<img src='https://upload.wikimedia.org/wikipedia/commons/thumb/3/3e/K_Means_Example_Step_3.svg/278px-K_Means_Example_Step_3.svg.png' style='height:250px; float: right; margin: 0px 0px 0px 0px'></center>\n",
    "\n",
    "<b>2. Repeat</b>\n",
    "<br><br>A. &nbsp; $K$ clusters are created by associating each observation with the nearest mean\n",
    "<br><br>B. &nbsp; The new centroid of each of the $K$ clusters is the mean of its observations"
   ]
  },
  {
   "cell_type": "markdown",
   "id": "e8ee432c",
   "metadata": {
    "slideshow": {
     "slide_type": "fragment"
    }
   },
   "source": [
    "<img src='https://upload.wikimedia.org/wikipedia/commons/thumb/d/d2/K_Means_Example_Step_4.svg/278px-K_Means_Example_Step_4.svg.png' style='height:250px; float: left; margin: 0px 50px 0px 0px'>\n",
    "\n",
    "<b>3. Stop </b>\n",
    "<br><br>A. &nbsp; Repeat steps 1 y 2\n",
    "<br><br>B. &nbsp; he algorithm terminates when there is no longer a change in the cluster centroids, the cluster observations remain the same, **or** the maximum number of iterations is reached"
   ]
  },
  {
   "cell_type": "markdown",
   "id": "25394ada",
   "metadata": {
    "slideshow": {
     "slide_type": "slide"
    }
   },
   "source": [
    "#### More:\n",
    "    \n",
    "- The math behind it: [Link](https://nlp.stanford.edu/IR-book/html/htmledition/k-means-1.html)\n",
    "\n",
    "- Visualization: [Video](https://www.youtube.com/watch?v=BVFG7fd1H30)"
   ]
  },
  {
   "cell_type": "markdown",
   "id": "1c4faf8a",
   "metadata": {
    "slideshow": {
     "slide_type": "slide"
    }
   },
   "source": [
    "### 👮‍♀️ Check point\n",
    "<br>\n",
    "<img src='../img/class_7/kmeans2.png' style='height:700px; float: right; margin: 0px 50px 0px 0px'>\n",
    "\n",
    "- What's the number of $K$?\n",
    "\n",
    "- What is happening at each step?"
   ]
  },
  {
   "cell_type": "markdown",
   "id": "89139096",
   "metadata": {
    "slideshow": {
     "slide_type": "slide"
    }
   },
   "source": [
    "# Let's code! \n",
    "\n",
    "<br>\n",
    "<center><img src='../img/class_5/excited.gif' style='height:200px; float: center; margin: 0px 0px 0px 0px'></center>\n",
    "<br>"
   ]
  },
  {
   "cell_type": "code",
   "execution_count": null,
   "id": "d23daaeb",
   "metadata": {
    "slideshow": {
     "slide_type": "slide"
    }
   },
   "outputs": [],
   "source": []
  },
  {
   "cell_type": "code",
   "execution_count": null,
   "id": "e0d14a20",
   "metadata": {
    "slideshow": {
     "slide_type": "slide"
    }
   },
   "outputs": [],
   "source": []
  },
  {
   "cell_type": "markdown",
   "id": "6b5fe24c",
   "metadata": {
    "slideshow": {
     "slide_type": "slide"
    }
   },
   "source": [
    "# 🤔 Before we continue... did you notice something weird?"
   ]
  },
  {
   "cell_type": "markdown",
   "id": "6a71d060",
   "metadata": {
    "slideshow": {
     "slide_type": "fragment"
    }
   },
   "source": [
    "It doesn't make too much sense to split your dataset into train/test for unsupervised learning since you don't have labels, therefore you can't compute standard performance metrics"
   ]
  },
  {
   "cell_type": "code",
   "execution_count": null,
   "id": "81012cd0",
   "metadata": {
    "slideshow": {
     "slide_type": "slide"
    }
   },
   "outputs": [],
   "source": []
  },
  {
   "cell_type": "code",
   "execution_count": null,
   "id": "e1ecdf86",
   "metadata": {
    "slideshow": {
     "slide_type": "fragment"
    }
   },
   "outputs": [],
   "source": []
  },
  {
   "cell_type": "code",
   "execution_count": null,
   "id": "29139dab",
   "metadata": {
    "slideshow": {
     "slide_type": "slide"
    }
   },
   "outputs": [],
   "source": []
  },
  {
   "cell_type": "markdown",
   "id": "d431281f",
   "metadata": {
    "slideshow": {
     "slide_type": "slide"
    }
   },
   "source": [
    "# 🤔 How do we pick $K$?"
   ]
  },
  {
   "cell_type": "markdown",
   "id": "15541f2b",
   "metadata": {
    "slideshow": {
     "slide_type": "slide"
    }
   },
   "source": [
    "#### It's important to pick a good number for $K$\n",
    "\n",
    "<br>\n",
    "<center><img src='../img/class_7/pickk1.png' style='height:600px'></center>"
   ]
  },
  {
   "cell_type": "markdown",
   "id": "e9457d84",
   "metadata": {
    "slideshow": {
     "slide_type": "slide"
    }
   },
   "source": [
    "### How many clusters do we have here?\n",
    "\n",
    "<br>\n",
    "<center><img src='https://cdn.analyticsvidhya.com/wp-content/uploads/2019/08/Screenshot-from-2019-08-09-15-51-38.png'></center>"
   ]
  },
  {
   "cell_type": "markdown",
   "id": "2f3f4e91",
   "metadata": {
    "slideshow": {
     "slide_type": "slide"
    }
   },
   "source": [
    "### Two?\n",
    "\n",
    "<br>\n",
    "<center><center><img src='https://cdn.analyticsvidhya.com/wp-content/uploads/2019/08/Screenshot-from-2019-08-09-15-53-27.png'></center></center>"
   ]
  },
  {
   "cell_type": "markdown",
   "id": "afb6349f",
   "metadata": {
    "slideshow": {
     "slide_type": "slide"
    }
   },
   "source": [
    "### Eight?\n",
    "\n",
    "<br>\n",
    "<center><img src='https://cdn.analyticsvidhya.com/wp-content/uploads/2019/08/Screenshot-from-2019-08-09-15-54-58.png'></center>"
   ]
  },
  {
   "cell_type": "markdown",
   "id": "a003925d",
   "metadata": {
    "slideshow": {
     "slide_type": "slide"
    }
   },
   "source": [
    "### 👮‍♀️ Check point\n",
    "\n",
    "- What's the minimum possible value for $K$?\n",
    "\n",
    "- What's the maximum possible value for $K$?"
   ]
  },
  {
   "cell_type": "markdown",
   "id": "4827b8e1",
   "metadata": {
    "slideshow": {
     "slide_type": "slide"
    }
   },
   "source": [
    "# Elbow method\n",
    "\n",
    "- One method used to select the best $K$ is known as the elbow method"
   ]
  },
  {
   "cell_type": "code",
   "execution_count": null,
   "id": "ba3bf3aa",
   "metadata": {
    "slideshow": {
     "slide_type": "fragment"
    }
   },
   "outputs": [],
   "source": []
  },
  {
   "cell_type": "code",
   "execution_count": null,
   "id": "0afd05b7",
   "metadata": {
    "slideshow": {
     "slide_type": "slide"
    }
   },
   "outputs": [],
   "source": []
  },
  {
   "cell_type": "code",
   "execution_count": null,
   "id": "9a355ddf",
   "metadata": {
    "slideshow": {
     "slide_type": "slide"
    }
   },
   "outputs": [],
   "source": []
  },
  {
   "cell_type": "code",
   "execution_count": null,
   "id": "47e5aadf",
   "metadata": {
    "slideshow": {
     "slide_type": "slide"
    }
   },
   "outputs": [],
   "source": []
  },
  {
   "cell_type": "code",
   "execution_count": null,
   "id": "47767a0f",
   "metadata": {
    "slideshow": {
     "slide_type": "slide"
    }
   },
   "outputs": [],
   "source": []
  },
  {
   "cell_type": "code",
   "execution_count": null,
   "id": "d93c4c76",
   "metadata": {
    "slideshow": {
     "slide_type": "slide"
    }
   },
   "outputs": [],
   "source": []
  },
  {
   "cell_type": "code",
   "execution_count": null,
   "id": "7892336c",
   "metadata": {
    "slideshow": {
     "slide_type": "slide"
    }
   },
   "outputs": [],
   "source": []
  },
  {
   "cell_type": "markdown",
   "id": "dd52ff0f",
   "metadata": {
    "slideshow": {
     "slide_type": "slide"
    }
   },
   "source": [
    "# 🙁 What can go wrong?"
   ]
  },
  {
   "cell_type": "markdown",
   "id": "5305d751",
   "metadata": {
    "slideshow": {
     "slide_type": "fragment"
    }
   },
   "source": [
    "Disadvantages of $K$-means:\n",
    "\n",
    "- It's computationally intensive\n",
    "\n",
    "- Each observation belongs to a single cluster\n",
    "\n",
    "- Very sensitive to outlier observations\n",
    "\n",
    "- Cannot model complex relationships"
   ]
  },
  {
   "cell_type": "markdown",
   "id": "f157524a",
   "metadata": {
    "slideshow": {
     "slide_type": "slide"
    }
   },
   "source": [
    "#### When not to use $K$-means\n",
    "\n",
    "<br>\n",
    "\n",
    "<center><img src='https://cdn.analyticsvidhya.com/wp-content/uploads/2019/08/Screenshot-from-2019-08-09-13-15-26.png'></center>"
   ]
  },
  {
   "cell_type": "markdown",
   "id": "5e94d380",
   "metadata": {
    "slideshow": {
     "slide_type": "slide"
    }
   },
   "source": [
    "#### When not to use $K$-means\n",
    "\n",
    "\n",
    "<br>\n",
    "\n",
    "<center><img src='../img/class_7/ej1.png' style='height:500px'></center>"
   ]
  },
  {
   "cell_type": "markdown",
   "id": "b20d5a1c",
   "metadata": {
    "slideshow": {
     "slide_type": "slide"
    }
   },
   "source": [
    "#### When not to use $K$-means\n",
    "\n",
    "<br>\n",
    "\n",
    "\n",
    "<center><img src='https://cdn.analyticsvidhya.com/wp-content/uploads/2019/08/Screenshot-from-2019-08-09-13-19-05.png'></center>"
   ]
  },
  {
   "cell_type": "markdown",
   "id": "4355059d",
   "metadata": {
    "slideshow": {
     "slide_type": "slide"
    }
   },
   "source": [
    "#### When not to use $K$-means\n",
    "\n",
    "<br>\n",
    "\n",
    "\n",
    "<center><img src='https://cdn.analyticsvidhya.com/wp-content/uploads/2019/08/Screenshot-from-2019-08-09-13-19-05.png'></center>"
   ]
  },
  {
   "cell_type": "markdown",
   "id": "f88422ed",
   "metadata": {
    "slideshow": {
     "slide_type": "slide"
    }
   },
   "source": [
    "### Other clustering algorithms from `scikit-learn`:\n",
    "\n",
    "https://scikit-learn.org/stable/modules/clustering.html#hierarchical-clustering"
   ]
  },
  {
   "cell_type": "markdown",
   "id": "ac0585c0",
   "metadata": {
    "slideshow": {
     "slide_type": "slide"
    }
   },
   "source": [
    "\n",
    "\n",
    "<center>\n",
    "    <img src='../img/class_7/clust_hie.png' style='height:750px; float: center; margin: 0px 0px 0px 0px'>\n",
    "</center>\n",
    "    \n",
    "\n"
   ]
  },
  {
   "cell_type": "markdown",
   "id": "382e404f",
   "metadata": {
    "slideshow": {
     "slide_type": "slide"
    }
   },
   "source": [
    "# Hierarchical Clustering\n",
    "\n",
    "<br><br>\n",
    "<center>\n",
    "    <img src='../img/class_7/heatmap2.png' style='height:400px; float: center; margin: 0px 0px 0px 0px'>\n",
    "</center>\n",
    "    "
   ]
  },
  {
   "cell_type": "markdown",
   "id": "a7505719",
   "metadata": {
    "slideshow": {
     "slide_type": "fragment"
    }
   },
   "source": [
    "- Model that seeks to build a hierarchy of clusters"
   ]
  },
  {
   "cell_type": "markdown",
   "id": "a31f5832",
   "metadata": {
    "slideshow": {
     "slide_type": "fragment"
    }
   },
   "source": [
    "- Often associated with heatmaps (data viz technique to show magnitude of a phenomenon as color in two dims)"
   ]
  },
  {
   "cell_type": "markdown",
   "id": "7933b17d",
   "metadata": {
    "slideshow": {
     "slide_type": "fragment"
    }
   },
   "source": [
    "- Hierarchical clustering orders the rows/columns based on similarity"
   ]
  },
  {
   "cell_type": "markdown",
   "id": "3ecfc516",
   "metadata": {
    "slideshow": {
     "slide_type": "slide"
    }
   },
   "source": [
    "<center>\n",
    "    <img src='../img/class_7/h_comp.png' style='height:600px; float: center; margin: 0px 0px 0px 0px'>\n",
    "</center>\n",
    "    "
   ]
  },
  {
   "cell_type": "markdown",
   "id": "266b0d99",
   "metadata": {
    "slideshow": {
     "slide_type": "slide"
    }
   },
   "source": [
    "<center>\n",
    "    <img src='../img/class_7/dendo.png' style='height:600px; float: center; margin: 0px 0px 0px 0px'>\n",
    "</center>\n",
    "    "
   ]
  },
  {
   "cell_type": "markdown",
   "id": "6140b805",
   "metadata": {
    "slideshow": {
     "slide_type": "slide"
    }
   },
   "source": [
    "# Two strategies for Hierarchical Clustering\n",
    "\n",
    "- **Agglomerative**: This is a \"bottom-up\" approach: each observation starts in its own cluster, and pairs of clusters are merged as one moves up the hierarchy.\n",
    "- **Divisive**: This is a \"top-down\" approach: all observations start in one cluster, and splits are performed recursively as one moves down the hierarchy."
   ]
  },
  {
   "cell_type": "markdown",
   "id": "b0b27a21",
   "metadata": {
    "slideshow": {
     "slide_type": "slide"
    }
   },
   "source": [
    "# An intuition behind Hierarchical Clustering..."
   ]
  },
  {
   "cell_type": "markdown",
   "id": "fe45710f",
   "metadata": {
    "slideshow": {
     "slide_type": "slide"
    }
   },
   "source": [
    "<center>\n",
    "    <img src='../img/class_7/h1.png' style='height:600px; float: center; margin: 0px 0px 0px 0px'>\n",
    "</center>\n",
    "    "
   ]
  },
  {
   "cell_type": "markdown",
   "id": "b6cdddf1",
   "metadata": {
    "slideshow": {
     "slide_type": "slide"
    }
   },
   "source": [
    "<center>\n",
    "    <img src='../img/class_7/h2.png' style='height:600px; float: center; margin: 0px 0px 0px 0px'>\n",
    "</center>\n",
    "    "
   ]
  },
  {
   "cell_type": "markdown",
   "id": "dbcc4ba7",
   "metadata": {
    "slideshow": {
     "slide_type": "slide"
    }
   },
   "source": [
    "<center>\n",
    "    <img src='../img/class_7/h3.png' style='height:600px; float: center; margin: 0px 0px 0px 0px'>\n",
    "</center>\n",
    "    "
   ]
  },
  {
   "cell_type": "markdown",
   "id": "4067b03f",
   "metadata": {
    "slideshow": {
     "slide_type": "slide"
    }
   },
   "source": [
    "<center>\n",
    "    <img src='../img/class_7/h4.png' style='height:600px; float: center; margin: 0px 0px 0px 0px'>\n",
    "</center>\n",
    "    "
   ]
  },
  {
   "cell_type": "markdown",
   "id": "1728c4e5",
   "metadata": {
    "slideshow": {
     "slide_type": "slide"
    }
   },
   "source": [
    "<center>\n",
    "    <img src='../img/class_7/h5.png' style='height:600px; float: center; margin: 0px 0px 0px 0px'>\n",
    "</center>\n",
    "    "
   ]
  },
  {
   "cell_type": "markdown",
   "id": "e6214b23",
   "metadata": {
    "slideshow": {
     "slide_type": "slide"
    }
   },
   "source": [
    "<center>\n",
    "    <img src='../img/class_7/h6.png' style='height:600px; float: center; margin: 0px 0px 0px 0px'>\n",
    "</center>\n",
    "    "
   ]
  },
  {
   "cell_type": "markdown",
   "id": "b6d26915",
   "metadata": {
    "slideshow": {
     "slide_type": "slide"
    }
   },
   "source": [
    "<center>\n",
    "    <img src='../img/class_7/h7.png' style='height:600px; float: center; margin: 0px 0px 0px 0px'>\n",
    "</center>\n",
    "    "
   ]
  },
  {
   "cell_type": "markdown",
   "id": "138bcd8e",
   "metadata": {
    "slideshow": {
     "slide_type": "fragment"
    }
   },
   "source": [
    "- Hierarchical clustering is usually accompanied by a \"dendrogram\""
   ]
  },
  {
   "cell_type": "markdown",
   "id": "e1c95f8b",
   "metadata": {
    "slideshow": {
     "slide_type": "fragment"
    }
   },
   "source": [
    "- It indicates both the similarity and the order that the clusters were formed"
   ]
  },
  {
   "cell_type": "markdown",
   "id": "8bf94c5a",
   "metadata": {
    "slideshow": {
     "slide_type": "slide"
    }
   },
   "source": [
    "# Let's code! \n",
    "\n",
    "<br>\n",
    "<center><img src='../img/class_5/excited.gif' style='height:200px; float: center; margin: 0px 0px 0px 0px'></center>\n",
    "<br>"
   ]
  },
  {
   "cell_type": "code",
   "execution_count": null,
   "id": "545f5caa",
   "metadata": {
    "slideshow": {
     "slide_type": "slide"
    }
   },
   "outputs": [],
   "source": []
  },
  {
   "cell_type": "code",
   "execution_count": null,
   "id": "fb1a23d0",
   "metadata": {
    "slideshow": {
     "slide_type": "slide"
    }
   },
   "outputs": [],
   "source": []
  },
  {
   "cell_type": "markdown",
   "id": "079d72c1",
   "metadata": {
    "slideshow": {
     "slide_type": "slide"
    }
   },
   "source": [
    "# 💡 K-means vs Hierarchical Clustering\n",
    "\n",
    " \n"
   ]
  },
  {
   "cell_type": "markdown",
   "id": "62a89705",
   "metadata": {
    "slideshow": {
     "slide_type": "fragment"
    }
   },
   "source": [
    "- Clustering algorithms"
   ]
  },
  {
   "cell_type": "markdown",
   "id": "6078a067",
   "metadata": {
    "slideshow": {
     "slide_type": "fragment"
    }
   },
   "source": [
    "- Hierarchical Clustering: More suitable for discovering nested structures"
   ]
  },
  {
   "cell_type": "markdown",
   "id": "4afa2efb",
   "metadata": {
    "slideshow": {
     "slide_type": "fragment"
    }
   },
   "source": [
    "- K-Means: More suitable for finding spherical clusters with roughly equal sizes"
   ]
  },
  {
   "cell_type": "markdown",
   "id": "e6a727d0",
   "metadata": {
    "slideshow": {
     "slide_type": "slide"
    }
   },
   "source": [
    "# 🗺️📍 Guide map \n",
    "\n",
    "<center>\n",
    "    <img src='../img/class_7/ml_map_unsup2.png' style='height:550px; float: center; margin: 0px 0px 0px 0px'>\n",
    "</center>\n",
    "    \n",
    "\n"
   ]
  },
  {
   "cell_type": "markdown",
   "id": "028cece0",
   "metadata": {
    "slideshow": {
     "slide_type": "slide"
    }
   },
   "source": [
    "# PCA (Principal Component Analysis)\n",
    "\n"
   ]
  },
  {
   "cell_type": "markdown",
   "id": "807bc084",
   "metadata": {
    "slideshow": {
     "slide_type": "fragment"
    }
   },
   "source": [
    "- Dimensionality reduction technique. It converts all the correlations among all of the features into a $n$-D graph"
   ]
  },
  {
   "cell_type": "markdown",
   "id": "ec503e2e",
   "metadata": {
    "slideshow": {
     "slide_type": "fragment"
    }
   },
   "source": [
    "- Aims to transform and project a dataset into a lower-dimensional space while retaining as much of the original data's variance as possible"
   ]
  },
  {
   "cell_type": "markdown",
   "id": "e8002a1f",
   "metadata": {
    "slideshow": {
     "slide_type": "fragment"
    }
   },
   "source": [
    "- Not a clustering algorithm but can be used for data visualization or as a preprocessing step to improve the performance of other machine learning algorithms"
   ]
  },
  {
   "cell_type": "markdown",
   "id": "e718ba56",
   "metadata": {
    "slideshow": {
     "slide_type": "slide"
    }
   },
   "source": [
    "# Let's code! \n",
    "\n",
    "<br>\n",
    "<center><img src='../img/class_5/excited.gif' style='height:200px; float: center; margin: 0px 0px 0px 0px'></center>\n",
    "<br>"
   ]
  },
  {
   "cell_type": "code",
   "execution_count": null,
   "id": "654e56bb",
   "metadata": {
    "slideshow": {
     "slide_type": "slide"
    }
   },
   "outputs": [],
   "source": []
  },
  {
   "cell_type": "code",
   "execution_count": null,
   "id": "8fbc362b",
   "metadata": {
    "slideshow": {
     "slide_type": "slide"
    }
   },
   "outputs": [],
   "source": []
  },
  {
   "cell_type": "code",
   "execution_count": null,
   "id": "1c285969",
   "metadata": {
    "slideshow": {
     "slide_type": "slide"
    }
   },
   "outputs": [],
   "source": []
  },
  {
   "cell_type": "code",
   "execution_count": null,
   "id": "4b0ef594",
   "metadata": {
    "slideshow": {
     "slide_type": "slide"
    }
   },
   "outputs": [],
   "source": []
  },
  {
   "cell_type": "markdown",
   "id": "80985e82",
   "metadata": {
    "slideshow": {
     "slide_type": "slide"
    }
   },
   "source": [
    "# 🚀 Part 2\n",
    "\n",
    "See you here at @"
   ]
  },
  {
   "cell_type": "markdown",
   "id": "8a558c1d",
   "metadata": {
    "slideshow": {
     "slide_type": "slide"
    }
   },
   "source": [
    "# ❇️ Course recap"
   ]
  },
  {
   "cell_type": "markdown",
   "id": "2f0c6ff0",
   "metadata": {
    "slideshow": {
     "slide_type": "fragment"
    }
   },
   "source": [
    "Data Science Cheat Sheet: https://s3.amazonaws.com/assets.datacamp.com/blog_assets/Scikit_Learn_Cheat_Sheet_Python.pdf"
   ]
  },
  {
   "cell_type": "markdown",
   "id": "23ccb29d",
   "metadata": {
    "slideshow": {
     "slide_type": "fragment"
    }
   },
   "source": [
    "Choosing the right estimator: https://scikit-learn.org/stable/tutorial/machine_learning_map/index.html"
   ]
  },
  {
   "cell_type": "markdown",
   "id": "f162fde5",
   "metadata": {
    "slideshow": {
     "slide_type": "slide"
    }
   },
   "source": [
    "# ❇️ Data literacy/ethics"
   ]
  },
  {
   "cell_type": "markdown",
   "id": "47c3cbca",
   "metadata": {
    "slideshow": {
     "slide_type": "slide"
    }
   },
   "source": [
    "# Data literacy\n",
    "\n",
    "<br>\n",
    "\n",
    "<center>\n",
    "    <img src='../img/class_7/scribe.jpeg' style='height:550px; float: center; margin: 0px 0px 0px 0px'>\n",
    "</center>\n"
   ]
  },
  {
   "cell_type": "markdown",
   "id": "ea61062a",
   "metadata": {
    "slideshow": {
     "slide_type": "slide"
    }
   },
   "source": [
    "# Data ethics\n",
    "\n",
    "<br>\n",
    "\n",
    "<center>\n",
    "    <img src='../img/class_7/book.jpg' style='height:550px; float: center; margin: 0px 0px 0px 0px'>\n",
    "</center>\n"
   ]
  },
  {
   "cell_type": "markdown",
   "id": "695a9612",
   "metadata": {
    "slideshow": {
     "slide_type": "slide"
    }
   },
   "source": [
    "# ❇️ BONUS: Very brief intro to Neural Networks"
   ]
  },
  {
   "cell_type": "markdown",
   "id": "95ddd5dc",
   "metadata": {
    "slideshow": {
     "slide_type": "slide"
    }
   },
   "source": [
    "\n",
    "<center>\n",
    "<img src='../img/class_0/ai_ml_dl.webp' style='height:600px;'>\n",
    "</center>"
   ]
  },
  {
   "cell_type": "markdown",
   "id": "960390e0",
   "metadata": {
    "slideshow": {
     "slide_type": "fragment"
    }
   },
   "source": [
    "- **Deep Learning (DL)** is a subset of machine learning that is inspired by how the human brain works. It involves training artificial neural networks to learn from data. Neural networks are composed of layers of interconnected nodes that can learn to recognize patterns in data."
   ]
  },
  {
   "cell_type": "markdown",
   "id": "99c6f003",
   "metadata": {
    "slideshow": {
     "slide_type": "slide"
    }
   },
   "source": [
    "# ❇️ Why ML and not DL?"
   ]
  },
  {
   "cell_type": "markdown",
   "id": "7ae17da0",
   "metadata": {
    "slideshow": {
     "slide_type": "slide"
    }
   },
   "source": [
    "- While DL is no doubt one of the most exciting areas in ML, you should master the fundamentals first! \n",
    "\n",
    "- ML also provides you with the skills needed to prepare data, select features, choose models, train them, and evaluate their performance"
   ]
  },
  {
   "cell_type": "markdown",
   "id": "28612164",
   "metadata": {
    "slideshow": {
     "slide_type": "fragment"
    }
   },
   "source": [
    "- DL is a only applicable for a limited subset of problems\n",
    "    - Requires lots of compute\n",
    "    - Requires lots of data"
   ]
  },
  {
   "cell_type": "markdown",
   "id": "14235a13",
   "metadata": {
    "slideshow": {
     "slide_type": "fragment"
    }
   },
   "source": [
    "- Moreover, most problems can be solved quite well using simpler techniques such as random forests!"
   ]
  },
  {
   "cell_type": "markdown",
   "id": "466c2e64",
   "metadata": {
    "slideshow": {
     "slide_type": "slide"
    }
   },
   "source": [
    "## 🧠 Neural network \n",
    "\n",
    "- A neural network is composed of neurons\n",
    "- Artifcial Neural Networks (ANN) are inspired by biological neural networks"
   ]
  },
  {
   "cell_type": "markdown",
   "id": "c64b44bb",
   "metadata": {
    "slideshow": {
     "slide_type": "slide"
    }
   },
   "source": [
    "### 🧠 A biological neuron \n",
    "\n",
    "<center><img src='../img/class_7/neu.png' style='height:300px; float: center; margin: 0px 15px 15px 0px'></center>\n",
    "\n",
    "In a simplified way:\n",
    "- Dendrites feed the cell body through electrical signals\n",
    "- The response is then passed through the axon"
   ]
  },
  {
   "cell_type": "markdown",
   "id": "14ac9cb4",
   "metadata": {
    "slideshow": {
     "slide_type": "slide"
    }
   },
   "source": [
    "### 🧠 An artificial neuron = Perceptron \n",
    "\n",
    "<center><img src='../img/class_7/perceptron.png' style='height:250px; float: center; margin: 0px 15px 15px 0px'></center>\n"
   ]
  },
  {
   "cell_type": "markdown",
   "id": "72f406eb",
   "metadata": {
    "slideshow": {
     "slide_type": "slide"
    }
   },
   "source": [
    "### 🧠 An artificial neuron = Perceptron \n",
    "\n",
    "<center><img src='../img/class_7/p1.png' style='height:250px; float: center; margin: 0px 15px 15px 0px'></center>\n",
    "\n",
    "- Like any *machine learning* model, we have input values\n"
   ]
  },
  {
   "cell_type": "markdown",
   "id": "9bd0631e",
   "metadata": {
    "slideshow": {
     "slide_type": "slide"
    }
   },
   "source": [
    "### 🧠 An artificial neuron = Perceptron \n",
    "\n",
    "<center><img src='../img/class_7/p2b.png' style='height:250px; float: center; margin: 0px 15px 15px 0px'></center>\n",
    "\n",
    "- Then, the input values are multiplied by weights\n",
    "- These weights are initialized randomly"
   ]
  },
  {
   "cell_type": "markdown",
   "id": "129bf8c2",
   "metadata": {
    "slideshow": {
     "slide_type": "slide"
    }
   },
   "source": [
    "### 🧠 An artificial neuron = Perceptron \n",
    "\n",
    "<center><img src='../img/class_7/p3.png' style='height:250px; float: center; margin: 0px 15px 15px 0px'></center>\n",
    "\n",
    "- The result (in this example $12\\cdot 0.5 + 4\\cdot-1 = 2$) is passed through an activation function\n",
    "- There are many activation functions"
   ]
  },
  {
   "cell_type": "markdown",
   "id": "d6c4e057",
   "metadata": {
    "slideshow": {
     "slide_type": "slide"
    }
   },
   "source": [
    "### 🧠 An artificial neuron = Perceptron \n",
    "\n",
    "<center><img src='../img/class_7/p4.png' style='height:250px; float: center; margin: 0px 15px 15px 0px'></center>\n",
    "\n",
    "- The result (in this example $12\\cdot 0.5 + 4\\cdot-1 = 2$) is passed through an activation function\n",
    "- There are many activation functions: **EXAMPLE**: Positive=1, Negative=0"
   ]
  },
  {
   "cell_type": "markdown",
   "id": "e866f031",
   "metadata": {
    "slideshow": {
     "slide_type": "slide"
    }
   },
   "source": [
    "### 🧠 An artificial neuron = Perceptron \n",
    "<br>\n",
    "<center><img src='../img/class_7/p5.png' style='height:250px; float: center; margin: 0px 15px 15px 0px'></center>\n",
    "\n",
    "- Bias added to avoid mathematical problems"
   ]
  },
  {
   "cell_type": "markdown",
   "id": "2a3efae3",
   "metadata": {
    "slideshow": {
     "slide_type": "slide"
    }
   },
   "source": [
    "### 🧠 An artificial neural network \n",
    "<br>\n",
    "<center><img src='../img/class_7/p5.png' style='height:250px; float: center; margin: 0px 15px 15px 0px'></center>\n",
    "\n",
    "- In math terms, we have:\n",
    "$$\\sum^{n}_{i=0}w_ix_i + b$$\n",
    "<br>\n",
    "- When we have a neural network composed of several perceptrons, it is extended to matrix form"
   ]
  },
  {
   "cell_type": "markdown",
   "id": "6bb209e0",
   "metadata": {
    "slideshow": {
     "slide_type": "slide"
    }
   },
   "source": [
    "### 🧠 An artificial neural network\n",
    "<br>\n",
    "<center><img src='../img/class_7/ann.png' style='height:250px; float: center; margin: 0px 15px 15px 0px'></center>\n",
    "\n",
    "Parts:\n",
    "- Input layer: Actual data values\n",
    "- Hidden layers (2 in this case): Deep network\n",
    "- Output Layer: Final estimate\n",
    "\n",
    "As the number of layers increases, the level of abstraction increases"
   ]
  },
  {
   "cell_type": "markdown",
   "id": "9e69503a",
   "metadata": {
    "slideshow": {
     "slide_type": "slide"
    }
   },
   "source": [
    "### 👮‍♀️ Check point\n",
    "<br>\n",
    "<center><img src='../img/class_7/control.png' style='height:300px; float: center; margin: 0px 15px 15px 0px'></center>\n",
    "\n",
    "### How many hidden layers are there in this NN?"
   ]
  },
  {
   "cell_type": "markdown",
   "id": "08b750bf",
   "metadata": {
    "slideshow": {
     "slide_type": "slide"
    }
   },
   "source": [
    "### 💥 Activation function\n",
    "<br>\n",
    "<center><img src='../img/class_7/fa1.png' style='height:250px; float: center; margin: 0px 15px 15px 0px'></center>\n",
    "\n",
    "- Assigns 0 if the value is less than 0, assigns 1 if the value is greater than or equal to zero\n",
    "- Very drastic, small changes are not reflected"
   ]
  },
  {
   "cell_type": "markdown",
   "id": "1b0c41c6",
   "metadata": {
    "slideshow": {
     "slide_type": "slide"
    }
   },
   "source": [
    "### 💥 Activation function\n",
    "<br>\n",
    "<center><img src='../img/class_7/fa2.png' style='height:250px; float: center; margin: 0px 15px 15px 0px'></center>\n",
    "\n",
    "- **Sigmoid function:** $f(x)=\\dfrac{1}{1+e^{-(x)}}$\n",
    "- Very useful depending on the task"
   ]
  },
  {
   "cell_type": "markdown",
   "id": "4ab7b588",
   "metadata": {
    "slideshow": {
     "slide_type": "slide"
    }
   },
   "source": [
    "### 💥 Activation function\n",
    "<br>\n",
    "<center><img src='../img/class_7/fa4.png' style='height:250px; float: center; margin: 0px 15px 15px 0px'></center>\n",
    "\n",
    "- **ReLU** ( Rectified Lineal Unit): $max(0,x)$\n",
    "- Although it is simple, it performs very well in many situations."
   ]
  },
  {
   "cell_type": "markdown",
   "id": "4de5d164",
   "metadata": {
    "slideshow": {
     "slide_type": "slide"
    }
   },
   "source": [
    "## 🤗 Transformers with Hugging Face\n",
    "<br>\n",
    "<center><img src='../img/class_7/trans.jpeg' style='height:300px; float: center; margin: 0px 15px 15px 0px'></center>\n",
    "\n",
    "- [Hugging Face](https://huggingface.co/) is a startup that offers 30 pre-trained modules in more than 100 languages and 8 architectures for NLU & NLG \n",
    "\n",
    "    - BERT (from Google);\n",
    "    - GPT (from OpenAI);\n",
    "    - GPT-2 (from OpenAI);\n",
    "    - Transformer-XL (from Google/CMU);\n",
    "    - XLNet (from Google/CMU);\n",
    "    - XLM (from Facebook);\n",
    "    - RoBERTa (from Facebook);\n",
    "    - DistilBERT (from Hugging Face).\n",
    "    \n",
    "    \n",
    "- Resource: https://www.kdnuggets.com/2021/02/hugging-face-transformer-basics.html\n",
    "- Resource: https://medium.com/inside-machine-learning/what-is-a-transformer-d07dd1fbec04"
   ]
  },
  {
   "cell_type": "markdown",
   "id": "3bb6eaba",
   "metadata": {
    "slideshow": {
     "slide_type": "slide"
    }
   },
   "source": [
    "# What can transformers do?\n",
    "\n",
    "- Install PyTorch: https://pytorch.org/get-started/locally/\n",
    "- `pip install transformers`\n",
    "- If you have issues try: `pip install datasets evaluate transformers[sentencepiece]`"
   ]
  },
  {
   "cell_type": "code",
   "execution_count": null,
   "id": "3745110b",
   "metadata": {
    "slideshow": {
     "slide_type": "slide"
    }
   },
   "outputs": [],
   "source": [
    "! pip3 install torch torchvision torchaudio"
   ]
  },
  {
   "cell_type": "code",
   "execution_count": null,
   "id": "37746c07",
   "metadata": {
    "slideshow": {
     "slide_type": "slide"
    }
   },
   "outputs": [],
   "source": [
    "! pip install transformers"
   ]
  },
  {
   "cell_type": "markdown",
   "id": "2fe98e46",
   "metadata": {
    "slideshow": {
     "slide_type": "slide"
    }
   },
   "source": [
    "### Sentiment analysis"
   ]
  },
  {
   "cell_type": "code",
   "execution_count": null,
   "id": "9a192c63",
   "metadata": {
    "slideshow": {
     "slide_type": "fragment"
    }
   },
   "outputs": [],
   "source": []
  },
  {
   "cell_type": "code",
   "execution_count": null,
   "id": "e4d757f3",
   "metadata": {
    "slideshow": {
     "slide_type": "fragment"
    }
   },
   "outputs": [],
   "source": []
  },
  {
   "cell_type": "code",
   "execution_count": null,
   "id": "cd9e03c1",
   "metadata": {
    "slideshow": {
     "slide_type": "fragment"
    }
   },
   "outputs": [],
   "source": []
  },
  {
   "cell_type": "markdown",
   "id": "da524379",
   "metadata": {
    "slideshow": {
     "slide_type": "slide"
    }
   },
   "source": [
    "### Classification"
   ]
  },
  {
   "cell_type": "code",
   "execution_count": null,
   "id": "69d0348c",
   "metadata": {
    "slideshow": {
     "slide_type": "fragment"
    }
   },
   "outputs": [],
   "source": []
  },
  {
   "cell_type": "markdown",
   "id": "74459188",
   "metadata": {
    "slideshow": {
     "slide_type": "slide"
    }
   },
   "source": [
    "### Text generation"
   ]
  },
  {
   "cell_type": "code",
   "execution_count": null,
   "id": "b3849cf7",
   "metadata": {
    "slideshow": {
     "slide_type": "fragment"
    }
   },
   "outputs": [],
   "source": []
  },
  {
   "cell_type": "markdown",
   "id": "b34be052",
   "metadata": {
    "slideshow": {
     "slide_type": "slide"
    }
   },
   "source": [
    "### Named Entity Recognition (NER)"
   ]
  },
  {
   "cell_type": "code",
   "execution_count": null,
   "id": "d2fc35d8",
   "metadata": {
    "slideshow": {
     "slide_type": "fragment"
    }
   },
   "outputs": [],
   "source": []
  },
  {
   "cell_type": "markdown",
   "id": "78ec2f6e",
   "metadata": {
    "slideshow": {
     "slide_type": "slide"
    }
   },
   "source": [
    "### Q&A"
   ]
  },
  {
   "cell_type": "code",
   "execution_count": null,
   "id": "df471f47",
   "metadata": {
    "slideshow": {
     "slide_type": "fragment"
    }
   },
   "outputs": [],
   "source": []
  },
  {
   "cell_type": "markdown",
   "id": "35938bd9",
   "metadata": {
    "slideshow": {
     "slide_type": "slide"
    }
   },
   "source": [
    "### Summarization"
   ]
  },
  {
   "cell_type": "code",
   "execution_count": null,
   "id": "4dd3c7a3",
   "metadata": {
    "slideshow": {
     "slide_type": "fragment"
    }
   },
   "outputs": [],
   "source": []
  },
  {
   "cell_type": "markdown",
   "id": "2ada0c1a",
   "metadata": {
    "slideshow": {
     "slide_type": "slide"
    }
   },
   "source": [
    "### Image classification"
   ]
  },
  {
   "cell_type": "code",
   "execution_count": null,
   "id": "75eb92b4",
   "metadata": {
    "slideshow": {
     "slide_type": "fragment"
    }
   },
   "outputs": [],
   "source": []
  },
  {
   "cell_type": "markdown",
   "id": "85d0d4f5",
   "metadata": {
    "slideshow": {
     "slide_type": "slide"
    }
   },
   "source": [
    "# ⏪ Today's recap\n",
    "\n",
    "- Unsupervised learning\n",
    "    - K-means\n",
    "    - Hierarchical clustering\n",
    "    - PCA (Principal Component Analysis)\n",
    "    \n",
    "- Course recap\n",
    "- Data literacy / Data ethics\n",
    "- BONUS: Very brief introduction to Neural Networks"
   ]
  },
  {
   "cell_type": "markdown",
   "id": "c28a7a07",
   "metadata": {
    "slideshow": {
     "slide_type": "slide"
    }
   },
   "source": [
    "# End of Course Survey:\n",
    "\n",
    "https://docs.google.com/forms/d/e/1FAIpQLSfKU6P7GFIgTiExYL2BtY2dsxsDXamfyP7l2FmspNZIWGsuGQ/viewform"
   ]
  },
  {
   "cell_type": "markdown",
   "id": "7b2900de",
   "metadata": {
    "slideshow": {
     "slide_type": "slide"
    }
   },
   "source": [
    "<center>\n",
    "<img src='../img/all/bye.gif' style='height:400px;'> \n",
    "</center>\n",
    "\n",
    "# Great meeting all of you!\n",
    "\n",
    "## Feel free to stay in touch with me: https://www.linkedin.com/in/vivianamarquez/"
   ]
  }
 ],
 "metadata": {
  "celltoolbar": "Slideshow",
  "kernelspec": {
   "display_name": "Python 3 (ipykernel)",
   "language": "python",
   "name": "python3"
  },
  "language_info": {
   "codemirror_mode": {
    "name": "ipython",
    "version": 3
   },
   "file_extension": ".py",
   "mimetype": "text/x-python",
   "name": "python",
   "nbconvert_exporter": "python",
   "pygments_lexer": "ipython3",
   "version": "3.9.16"
  }
 },
 "nbformat": 4,
 "nbformat_minor": 5
}
