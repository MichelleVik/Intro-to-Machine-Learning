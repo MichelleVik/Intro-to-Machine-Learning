{
 "cells": [
  {
   "cell_type": "code",
   "execution_count": 1,
   "id": "6ae2109d",
   "metadata": {
    "slideshow": {
     "slide_type": "notes"
    }
   },
   "outputs": [],
   "source": [
    "import warnings\n",
    "warnings.filterwarnings(\"ignore\")"
   ]
  },
  {
   "cell_type": "markdown",
   "id": "441caf5d",
   "metadata": {
    "slideshow": {
     "slide_type": "slide"
    }
   },
   "source": [
    "# Class will start at 6:05 PM\n",
    "\n",
    "In the meantime... fun fact!"
   ]
  },
  {
   "cell_type": "markdown",
   "id": "0beaaf25",
   "metadata": {
    "slideshow": {
     "slide_type": "fragment"
    }
   },
   "source": [
    "https://cat-gpt.com/"
   ]
  },
  {
   "cell_type": "markdown",
   "id": "12d70594",
   "metadata": {
    "slideshow": {
     "slide_type": "slide"
    }
   },
   "source": [
    "# Week 7: Unsupervised learning and farewell\n",
    "### Intro to Machine Learning | Professional Certificate course \n",
    "\n",
    "Viviana Marquez,  M.Sc.<br>\n",
    "April 5, 2023\n",
    "\n",
    "<br>\n",
    "\n",
    "<img src='../img/all/di.jpeg' style='width:500px; float: left; margin: 0px 30px 15px 0px'>"
   ]
  },
  {
   "cell_type": "markdown",
   "id": "ac8b7cd3",
   "metadata": {
    "slideshow": {
     "slide_type": "slide"
    }
   },
   "source": [
    "# 🚀 Today's agenda\n",
    "\n",
    "**Part 1:**\n",
    "\n",
    "- Unsupervised learning\n",
    "    - K-means\n",
    "    - Hierarchical clustering\n",
    "    - PCA (Principal Component Analysis)"
   ]
  },
  {
   "cell_type": "markdown",
   "id": "f2f31e72",
   "metadata": {
    "slideshow": {
     "slide_type": "slide"
    }
   },
   "source": [
    "# 🚀 Today's agenda\n",
    "\n",
    "**Part 2:**\n",
    "\n",
    "- Model interpretation\n",
    "    - Feature selection\n",
    "    - Feature importance\n",
    "- Data literacy / Data ethics\n",
    "- BONUS: Very brief introduction to Neural Networks\n",
    "- End of Course Survey "
   ]
  },
  {
   "cell_type": "markdown",
   "id": "5cfccbcd",
   "metadata": {
    "slideshow": {
     "slide_type": "slide"
    }
   },
   "source": [
    "# ⏪ Last class recap\n",
    "\n",
    "- Ensemble Learning\n",
    "    - Voting classifiers\n",
    "    - Bagging\n",
    "        - Random Forest\n",
    "    - Boosting\n",
    "        - AdaBoost\n",
    "        - Gradient Boosting\n",
    "        - XGBoost\n",
    "    - Stacking\n",
    "    \n",
    "- Model selection and optimization\n",
    "    - Hyperparameter tuning\n",
    "        - Cross-Validation\n",
    "        - Grid search"
   ]
  },
  {
   "cell_type": "markdown",
   "id": "85f7445a",
   "metadata": {
    "slideshow": {
     "slide_type": "slide"
    }
   },
   "source": [
    "### Conda environment commands\n",
    "\n",
    "- `conda activate IntroML`\n",
    "    - Launch `jupyter notebook`\n",
    "    \n",
    "    \n",
    "### Alternative\n",
    "\n",
    "Google Colab: https://colab.research.google.com/"
   ]
  },
  {
   "cell_type": "markdown",
   "id": "e2f5c083",
   "metadata": {
    "slideshow": {
     "slide_type": "slide"
    }
   },
   "source": [
    "# 🚀 Part 1"
   ]
  },
  {
   "cell_type": "markdown",
   "id": "6a481656",
   "metadata": {
    "slideshow": {
     "slide_type": "slide"
    }
   },
   "source": [
    "# ❇️ Ensemble Learning"
   ]
  },
  {
   "cell_type": "markdown",
   "id": "a7505719",
   "metadata": {
    "slideshow": {
     "slide_type": "slide"
    }
   },
   "source": [
    "# 🚀 Part 2\n",
    "\n",
    "See you here at @"
   ]
  },
  {
   "cell_type": "markdown",
   "id": "8a558c1d",
   "metadata": {
    "slideshow": {
     "slide_type": "slide"
    }
   },
   "source": [
    "# ❇️ Model selection and optimization"
   ]
  },
  {
   "cell_type": "markdown",
   "id": "09209a5a",
   "metadata": {
    "slideshow": {
     "slide_type": "slide"
    }
   },
   "source": [
    "# 🗺️📍 Guide map \n",
    "\n",
    "<center>\n",
    "    <img src='../img/class_6/ml_map_sup.png' style='height:550px; float: center; margin: 0px 0px 0px 0px'>\n",
    "</center>\n",
    "    \n",
    "\n"
   ]
  },
  {
   "cell_type": "markdown",
   "id": "85d0d4f5",
   "metadata": {
    "slideshow": {
     "slide_type": "slide"
    }
   },
   "source": [
    "# ⏪ Today's recap\n",
    "\n",
    "- Unsupervised learning\n",
    "    - K-means\n",
    "    - Hierarchical clustering\n",
    "    - PCA (Principal Component Analysis)\n",
    "    \n",
    "- Model interpretation\n",
    "    - Feature selection\n",
    "    - Feature importance\n",
    "- Data literacy / Data ethics\n",
    "- BONUS: Very brief introduction to Neural Networks"
   ]
  },
  {
   "cell_type": "markdown",
   "id": "c28a7a07",
   "metadata": {
    "slideshow": {
     "slide_type": "slide"
    }
   },
   "source": [
    "# End of Course Survey:\n",
    "\n",
    "https://docs.google.com/forms/d/e/1FAIpQLSfKU6P7GFIgTiExYL2BtY2dsxsDXamfyP7l2FmspNZIWGsuGQ/viewform"
   ]
  },
  {
   "cell_type": "markdown",
   "id": "7b2900de",
   "metadata": {
    "slideshow": {
     "slide_type": "slide"
    }
   },
   "source": [
    "<center>\n",
    "<img src='../img/all/bye.gif' style='height:400px;'> \n",
    "</center>\n",
    "\n",
    "# Great meeting all of you!\n",
    "\n",
    "## Feel free to stay in touch with me: https://www.linkedin.com/in/vivianamarquez/"
   ]
  }
 ],
 "metadata": {
  "celltoolbar": "Slideshow",
  "kernelspec": {
   "display_name": "Python 3 (ipykernel)",
   "language": "python",
   "name": "python3"
  },
  "language_info": {
   "codemirror_mode": {
    "name": "ipython",
    "version": 3
   },
   "file_extension": ".py",
   "mimetype": "text/x-python",
   "name": "python",
   "nbconvert_exporter": "python",
   "pygments_lexer": "ipython3",
   "version": "3.9.16"
  }
 },
 "nbformat": 4,
 "nbformat_minor": 5
}
