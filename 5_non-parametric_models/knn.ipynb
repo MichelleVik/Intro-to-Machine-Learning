{
 "cells": [
  {
   "cell_type": "markdown",
   "id": "441caf5d",
   "metadata": {
    "slideshow": {
     "slide_type": "slide"
    }
   },
   "source": [
    "# Class will start at 6:05 PM\n",
    "\n",
    "In the meantime... fun fact!"
   ]
  },
  {
   "cell_type": "markdown",
   "id": "b8db19cd",
   "metadata": {
    "slideshow": {
     "slide_type": "fragment"
    }
   },
   "source": [
    "- Sales and marketing is the most profitable area for machine learning. (McKinsey)"
   ]
  },
  {
   "cell_type": "markdown",
   "id": "d5ba1d3d",
   "metadata": {
    "slideshow": {
     "slide_type": "fragment"
    }
   },
   "source": [
    "- Nissan has increased its conversion rate by 67% with a machine learning model. (Think with Google)"
   ]
  },
  {
   "cell_type": "markdown",
   "id": "bbc961da",
   "metadata": {
    "slideshow": {
     "slide_type": "fragment"
    }
   },
   "source": [
    "- Recommendations account for 80% of the movies watched on Netflix. (Cult of Mac, ResearchGate)"
   ]
  },
  {
   "cell_type": "markdown",
   "id": "01170415",
   "metadata": {
    "slideshow": {
     "slide_type": "fragment"
    }
   },
   "source": [
    "- A machine learning algorithm can detect epilepsy in children with 73% accuracy (similar to human doctors on adults) (ScienceDirect)"
   ]
  },
  {
   "cell_type": "markdown",
   "id": "293ac264",
   "metadata": {
    "slideshow": {
     "slide_type": "slide"
    }
   },
   "source": [
    "- Machine learning statistics show 95% accuracy in reading lips. (outperformed experienced human lip readers) (McKinsey)"
   ]
  },
  {
   "cell_type": "markdown",
   "id": "12638a05",
   "metadata": {
    "slideshow": {
     "slide_type": "fragment"
    }
   },
   "source": [
    "- The employment of computer and research scientists is expected to grow by 22% from 2020 to 2030. (avg for all occupations is 4%) (BLS)"
   ]
  },
  {
   "cell_type": "markdown",
   "id": "7f83d15e",
   "metadata": {
    "slideshow": {
     "slide_type": "fragment"
    }
   },
   "source": [
    "- The employment of computer and research scientists is expected to grow by 22% from 2020 to 2030. (avg for all occupations is 4%) (BLS)"
   ]
  },
  {
   "cell_type": "markdown",
   "id": "bff99574",
   "metadata": {
    "slideshow": {
     "slide_type": "fragment"
    }
   },
   "source": [
    "- 40% of newly filed patent applications in the healthcare sector have an AI or machine learning aspect. (Kluwer Patent Blog)"
   ]
  },
  {
   "cell_type": "markdown",
   "id": "12d70594",
   "metadata": {
    "slideshow": {
     "slide_type": "slide"
    }
   },
   "source": [
    "# Week 5: Classification models continuation and non-parametric models\n",
    "### Intro to Machine Learning | Professional Certificate course \n",
    "\n",
    "Viviana Marquez,  M.Sc.<br>\n",
    "March 22, 2023\n",
    "\n",
    "<br>\n",
    "\n",
    "<img src='../img/all/di.jpeg' style='width:500px; float: left; margin: 0px 30px 15px 0px'>"
   ]
  },
  {
   "cell_type": "markdown",
   "id": "ac8b7cd3",
   "metadata": {
    "slideshow": {
     "slide_type": "slide"
    }
   },
   "source": [
    "# 🚀 Today's agenda\n",
    "\n",
    "**Part 1:**\n",
    "\n",
    "- Classification models continuation \n",
    "    - Logistic regression\n",
    "    - Support Vector Machines (SVM)\n",
    "    - Naive-Bayes"
   ]
  },
  {
   "cell_type": "markdown",
   "id": "f2f31e72",
   "metadata": {
    "slideshow": {
     "slide_type": "slide"
    }
   },
   "source": [
    "# 🚀 Today's agenda\n",
    "\n",
    "**Part 2:**\n",
    "\n",
    "- Non-parametric models\n",
    "    - KNN\n",
    "    - Decision trees\n",
    "    - Random forests"
   ]
  },
  {
   "cell_type": "markdown",
   "id": "5cfccbcd",
   "metadata": {
    "slideshow": {
     "slide_type": "slide"
    }
   },
   "source": [
    "# ⏪ Last class recap"
   ]
  },
  {
   "cell_type": "markdown",
   "id": "1c8c39ba",
   "metadata": {
    "slideshow": {
     "slide_type": "fragment"
    }
   },
   "source": [
    "- Regression models continuation \n",
    "    - Linear regression recap\n",
    "    - Performance metrics: RMSE and R-Squared\n",
    "    - Regularized models"
   ]
  },
  {
   "cell_type": "markdown",
   "id": "2ffd2049",
   "metadata": {
    "slideshow": {
     "slide_type": "fragment"
    }
   },
   "source": [
    "- Intro to classification models\n",
    "    - Binary\n",
    "    - Multiclass\n",
    "    - Multilabel"
   ]
  },
  {
   "cell_type": "markdown",
   "id": "3b20d5c0",
   "metadata": {
    "slideshow": {
     "slide_type": "fragment"
    }
   },
   "source": [
    "- Performance metrics for classification models\n",
    "    - TP/TN/FP/FN\n",
    "    - Accuracy (careful of unbalanced datasets!)\n",
    "    - Precision: The ability of the model to find **only** the relevant cases within a data set (TP/classified as positive)\n",
    "    - Recall: The ability of the model to retrieve **all** relevant cases within a data set (TP/actually positive)\n",
    "    - F1: Optimal balance between precision and recall\n",
    "    - Confusion matrix: Tool to obtain measures to compare the predicted values with the true values"
   ]
  },
  {
   "cell_type": "markdown",
   "id": "85f7445a",
   "metadata": {
    "slideshow": {
     "slide_type": "slide"
    }
   },
   "source": [
    "### Conda environment commands\n",
    "\n",
    "- `conda activate IntroML`\n",
    "    - Launch `jupyter notebook`\n",
    "    \n",
    "    \n",
    "### Alternative\n",
    "\n",
    "Google Colab: https://colab.research.google.com/"
   ]
  },
  {
   "cell_type": "markdown",
   "id": "e2f5c083",
   "metadata": {
    "slideshow": {
     "slide_type": "slide"
    }
   },
   "source": [
    "# 🚀 Part 1"
   ]
  },
  {
   "cell_type": "markdown",
   "id": "6a481656",
   "metadata": {
    "slideshow": {
     "slide_type": "slide"
    }
   },
   "source": [
    "# ❇️ Classification models"
   ]
  },
  {
   "cell_type": "markdown",
   "id": "09209a5a",
   "metadata": {
    "slideshow": {
     "slide_type": "slide"
    }
   },
   "source": [
    "# 🗺️📍 Guide map \n",
    "\n",
    "<center>\n",
    "    <img src='../img/class_1/classification.png' style='height:550px; float: center; margin: 0px 0px 0px 0px'>\n",
    "</center>\n",
    "    \n",
    "\n"
   ]
  },
  {
   "cell_type": "markdown",
   "id": "1b50f98e",
   "metadata": {
    "slideshow": {
     "slide_type": "slide"
    }
   },
   "source": [
    "# Regressor vs Classifier; 2 sides of the same coin\n",
    "<br>\n",
    "<center>\n",
    "    <img src='../img/class_3/reg_class.png' style='height:400px; float: center; margin: 0px 0px 0px 0px'>\n",
    "</center>"
   ]
  },
  {
   "cell_type": "markdown",
   "id": "f5b5862a",
   "metadata": {
    "slideshow": {
     "slide_type": "slide"
    }
   },
   "source": [
    "# ❇️ Logistic regression"
   ]
  },
  {
   "cell_type": "markdown",
   "id": "9ebba28e",
   "metadata": {
    "slideshow": {
     "slide_type": "slide"
    }
   },
   "source": [
    "# ❇️ Support Vector Machines (SVM)"
   ]
  },
  {
   "cell_type": "markdown",
   "id": "61f22d7b",
   "metadata": {
    "slideshow": {
     "slide_type": "slide"
    }
   },
   "source": [
    "# ❇️ Naive-Bayes"
   ]
  },
  {
   "cell_type": "markdown",
   "id": "910a59af",
   "metadata": {
    "slideshow": {
     "slide_type": "slide"
    }
   },
   "source": [
    "# 👮‍♀️ Check-in\n",
    "\n"
   ]
  },
  {
   "cell_type": "markdown",
   "id": "a7505719",
   "metadata": {
    "slideshow": {
     "slide_type": "slide"
    }
   },
   "source": [
    "# 🚀 Part 2\n",
    "\n",
    "See you here at @"
   ]
  },
  {
   "cell_type": "markdown",
   "id": "1a06076a",
   "metadata": {
    "slideshow": {
     "slide_type": "slide"
    }
   },
   "source": [
    "# ❇️ Non-parametric models"
   ]
  },
  {
   "cell_type": "markdown",
   "id": "67ae60a2",
   "metadata": {
    "slideshow": {
     "slide_type": "slide"
    }
   },
   "source": [
    "# ❇️ KNN"
   ]
  },
  {
   "cell_type": "markdown",
   "id": "6620a346",
   "metadata": {
    "slideshow": {
     "slide_type": "slide"
    }
   },
   "source": [
    "# ❇️ Decision trees"
   ]
  },
  {
   "cell_type": "markdown",
   "id": "2c52c1a3",
   "metadata": {
    "slideshow": {
     "slide_type": "slide"
    }
   },
   "source": [
    "# ❇️ Random forests"
   ]
  },
  {
   "cell_type": "markdown",
   "id": "85d0d4f5",
   "metadata": {
    "slideshow": {
     "slide_type": "slide"
    }
   },
   "source": [
    "# ⏪ Today's recap\n",
    "\n",
    "- "
   ]
  },
  {
   "cell_type": "markdown",
   "id": "c28a7a07",
   "metadata": {
    "slideshow": {
     "slide_type": "slide"
    }
   },
   "source": [
    "# 👮‍♀️ Misc:\n",
    "\n",
    "- Self-graded quiz will be posted in the next hour\n",
    "- 💪 Ungraded homework will be posted tonight or tomorrow morning\n",
    "- Office hours on Friday at 12 PM PST and Monday 6 PM PST (Zoom link is posted in Canvas) "
   ]
  },
  {
   "cell_type": "markdown",
   "id": "7b2900de",
   "metadata": {
    "slideshow": {
     "slide_type": "slide"
    }
   },
   "source": [
    "<center>\n",
    "<img src='../img/all/bye.gif' style='height:400px;'> \n",
    "</center>\n",
    "\n",
    "# Next class: \n",
    "- Ensemble models\n",
    "- Model optimization\n",
    "- Model interpretation"
   ]
  }
 ],
 "metadata": {
  "celltoolbar": "Slideshow",
  "kernelspec": {
   "display_name": "Python 3 (ipykernel)",
   "language": "python",
   "name": "python3"
  },
  "language_info": {
   "codemirror_mode": {
    "name": "ipython",
    "version": 3
   },
   "file_extension": ".py",
   "mimetype": "text/x-python",
   "name": "python",
   "nbconvert_exporter": "python",
   "pygments_lexer": "ipython3",
   "version": "3.9.16"
  }
 },
 "nbformat": 4,
 "nbformat_minor": 5
}
