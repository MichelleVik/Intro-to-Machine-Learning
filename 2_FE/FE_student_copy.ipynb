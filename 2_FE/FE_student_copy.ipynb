{
 "cells": [
  {
   "cell_type": "markdown",
   "id": "b8db19cd",
   "metadata": {
    "slideshow": {
     "slide_type": "notes"
    }
   },
   "source": [
    "- `conda install autopep8`\n",
    "- `pip install rise`\n",
    "- `pip install pandas`\n",
    "- `pip install matplotlib`\n",
    "- `pip install scikit-learn`"
   ]
  },
  {
   "cell_type": "markdown",
   "id": "441caf5d",
   "metadata": {
    "slideshow": {
     "slide_type": "slide"
    }
   },
   "source": [
    "# Class will start at 6:05 PM\n",
    "\n",
    "In the meantime... fun fact!"
   ]
  },
  {
   "cell_type": "markdown",
   "id": "f4678989",
   "metadata": {
    "slideshow": {
     "slide_type": "fragment"
    }
   },
   "source": [
    "- LinkedIn\n",
    "- GitHub \n",
    "- Website \n",
    "- CV"
   ]
  },
  {
   "cell_type": "markdown",
   "id": "12d70594",
   "metadata": {
    "slideshow": {
     "slide_type": "slide"
    }
   },
   "source": [
    "# Week 2: Feature Engineering\n",
    "### Intro to Machine Learning | Professional Certificate course \n",
    "\n",
    "Viviana Marquez,  M.Sc.<br>\n",
    "March 1, 2023\n",
    "\n",
    "<br>\n",
    "\n",
    "<img src='../img/all/di.jpeg' style='width:500px; float: left; margin: 0px 30px 15px 0px'>"
   ]
  },
  {
   "cell_type": "markdown",
   "id": "ac8b7cd3",
   "metadata": {
    "slideshow": {
     "slide_type": "slide"
    }
   },
   "source": [
    "# 🚀 Today's agenda\n",
    "\n",
    "**Part 1:**\n",
    "\n",
    "- Getting data\n",
    "- Pandas crash course\n",
    "- EDA: Exploratory Data Analysis"
   ]
  },
  {
   "cell_type": "markdown",
   "id": "f2f31e72",
   "metadata": {
    "slideshow": {
     "slide_type": "slide"
    }
   },
   "source": [
    "# 🚀 Today's agenda\n",
    "\n",
    "**Part 2:**\n",
    "- Train, validation, and test data sets\n",
    "- Data cleaning and feature engineering "
   ]
  },
  {
   "cell_type": "markdown",
   "id": "ccaef5d0",
   "metadata": {
    "slideshow": {
     "slide_type": "slide"
    }
   },
   "source": [
    "# ❇️ Housekeeping"
   ]
  },
  {
   "cell_type": "markdown",
   "id": "1dcf078d",
   "metadata": {
    "slideshow": {
     "slide_type": "slide"
    }
   },
   "source": [
    "## Class dynamics\n",
    "\n",
    "**🗓️ Schedule**\n",
    "- Wednesdays 6PM - 9PM PST from February 22 to April 5 (7 weeks)\n",
    "- Classes will be LIVE through Zoom\n",
    "- Lectures with exercises and Q+A"
   ]
  },
  {
   "cell_type": "markdown",
   "id": "45322312",
   "metadata": {
    "slideshow": {
     "slide_type": "fragment"
    }
   },
   "source": [
    "\n",
    "**⌛ Class breakdown**\n",
    "- First five minutes I'll give a fun fact. Class will promptly start at 6:05PM PST\n",
    "- Self-graded quiz\n",
    "- Two blocks, with a 15 min break in between \n",
    "- Ungraded homework 💪"
   ]
  },
  {
   "cell_type": "markdown",
   "id": "d7f3fdc5",
   "metadata": {
    "slideshow": {
     "slide_type": "slide"
    }
   },
   "source": [
    "## Resources\n",
    "\n",
    "<br>\n",
    "<img src='../img/class_0/book.png' style='height:500px; float: left; margin: 0px 30px 15px 0px'>\n",
    "\n",
    "- [Canvas](https://usfca.instructure.com/courses/1613920)\n",
    "- [GitHub](https://github.com/vivianamarquez/Intro-to-Machine-Learning)\n",
    "- One office hour per week: Fridays 12PM PST\n",
    "\n",
    "- 🙋🏻🙋🏾‍♀️🙋‍♂️ Questions and comments are encouraged!\n",
    "- My email: vmarquez2@usfca.edu"
   ]
  },
  {
   "cell_type": "markdown",
   "id": "e0733be8",
   "metadata": {
    "slideshow": {
     "slide_type": "fragment"
    }
   },
   "source": [
    "- If you can't attend a session, please email Mikaela at mlmora@usfca.edu"
   ]
  },
  {
   "cell_type": "markdown",
   "id": "5cfccbcd",
   "metadata": {
    "slideshow": {
     "slide_type": "slide"
    }
   },
   "source": [
    "# ⏪ Last class recap\n",
    "\n",
    "- What is machine learning?\n",
    "- Creating a conda environment \n",
    "- Types of machine learning models \n",
    "- ML workflow "
   ]
  },
  {
   "cell_type": "markdown",
   "id": "fe781589",
   "metadata": {
    "slideshow": {
     "slide_type": "slide"
    }
   },
   "source": [
    "# 🗺️📍 Guide map \n",
    "\n",
    "<center>\n",
    "    <img src='../img/class_1/ml_map2.png' style='height:550px; float: center; margin: 0px 0px 0px 0px'>\n",
    "</center>\n",
    "    \n",
    "\n"
   ]
  },
  {
   "cell_type": "markdown",
   "id": "7f94344f",
   "metadata": {
    "slideshow": {
     "slide_type": "slide"
    }
   },
   "source": [
    "# 🗺️📍 Guide map \n",
    "\n",
    "<br>\n",
    "<center>\n",
    "    <img src='../img/class_0/pipeline.png' style='height:350px;'>\n",
    "</center>\n",
    "    \n",
    "\n"
   ]
  },
  {
   "cell_type": "markdown",
   "id": "85f7445a",
   "metadata": {
    "slideshow": {
     "slide_type": "slide"
    }
   },
   "source": [
    "### Conda environment commands\n",
    "\n",
    "- `conda activate IntroML`\n",
    "    - Launch `jupyter notebook`"
   ]
  },
  {
   "cell_type": "markdown",
   "id": "e2f5c083",
   "metadata": {
    "slideshow": {
     "slide_type": "slide"
    }
   },
   "source": [
    "# 🚀 Part 1"
   ]
  },
  {
   "cell_type": "markdown",
   "id": "adf92e74",
   "metadata": {
    "slideshow": {
     "slide_type": "slide"
    }
   },
   "source": [
    "# ❇️ Getting data"
   ]
  },
  {
   "cell_type": "markdown",
   "id": "65d5f906",
   "metadata": {
    "slideshow": {
     "slide_type": "slide"
    }
   },
   "source": [
    "# 🗺️📍 Guide map \n",
    "\n",
    "<br>\n",
    "<center>\n",
    "    <img src='../img/class_2/pipeline_EDA.png' style='height:350px;'>\n",
    "</center>\n",
    "    \n",
    "\n"
   ]
  },
  {
   "cell_type": "markdown",
   "id": "71a991fd",
   "metadata": {
    "slideshow": {
     "slide_type": "slide"
    }
   },
   "source": [
    "## Data is the new oil\n",
    "\n",
    "<br>\n",
    "<center>\n",
    "    <img src='../img/class_2/everyminute.png' style='height:700px;'>\n",
    "</center>"
   ]
  },
  {
   "cell_type": "markdown",
   "id": "2f9a03f8",
   "metadata": {
    "slideshow": {
     "slide_type": "slide"
    }
   },
   "source": [
    "## 👷🏽‍♀️ Getting data: In an ideal world...\n",
    "\n",
    "<br>\n",
    "<center>\n",
    "    <img src='../img/class_2/callcenter.jpg' style='height:300px;'>\n",
    "</center>\n",
    "\n",
    "- Imagine that you're working with data from a call center\n",
    "- Your task is to determine whether a call is a customer service inquiry or a sales inquiry\n",
    "- For this task, your company is provided with thousands (even millions) of observations\n",
    "- Additionally, each data point is labeled"
   ]
  },
  {
   "cell_type": "markdown",
   "id": "fd67cc96",
   "metadata": {
    "slideshow": {
     "slide_type": "fragment"
    }
   },
   "source": [
    "- Unfortunately, most projects are not that fortunate 🙁 and we need to go get our own data"
   ]
  },
  {
   "cell_type": "markdown",
   "id": "0869bab8",
   "metadata": {
    "slideshow": {
     "slide_type": "slide"
    }
   },
   "source": [
    "## 👷🏽‍♀️ Where to get data?\n",
    "\n",
    "**Open data repositories:**\n",
    "\n",
    "- OpenML.org (https://openml.org)\n",
    "- Kaggle.com (https://kaggle.com/datasets)\n",
    "- PapersWithCode.com (https://paperswithcode.com/datasets)\n",
    "- UC Irvine Machine Learning Repository (https://archive.ics.uci.edu/ml)\n",
    "- Amazon's AWS datasets (https://registry.opendata.aws)\n",
    "- TensorFlow datasets (https://tensorflow.org/datasets)\n",
    "- Google's data search engine: (https://datasetsearch.research.google.com/)"
   ]
  },
  {
   "cell_type": "markdown",
   "id": "76f8a6a8",
   "metadata": {
    "slideshow": {
     "slide_type": "slide"
    }
   },
   "source": [
    "**Meta portals and other pages listing datasets:**\n",
    "- DataPortals.org (https://dataportals.org/)\n",
    "- OpenDataMonitor.eu (https://opendatamonitor.eu/frontend/web/index.php?r=dashboard%2Findex)\n",
    "- Wikipedia's list of machine learning datasets (https://en.wikipedia.org/wiki/List_of_datasets_for_machine-learning_research)\n",
    "- Quora's list (https://www.quora.com/Where-can-I-find-large-datasets-open-to-the-public)\n",
    "- Reddit's dataset (https://www.reddit.com/r/datasets)\n",
    "- GitHub * (https://github.com/)"
   ]
  },
  {
   "cell_type": "markdown",
   "id": "699304c2",
   "metadata": {
    "slideshow": {
     "slide_type": "slide"
    }
   },
   "source": [
    "**Location specific:**\n",
    "\n",
    "- US Government data (https://data.gov/)\n",
    "- San Francisco Open Data (https://datasf.org/opendata/)\n",
    "- California Open Data (https://data.ca.gov/)\n",
    "- Los Angeles Open Data (https://data.lacity.org/)\n",
    "- NYC Open Data (https://opendata.cityofnewyork.us/)\n",
    "- State of New York Open Data (https://data.ny.gov/)"
   ]
  },
  {
   "cell_type": "markdown",
   "id": "ebd8a750",
   "metadata": {
    "slideshow": {
     "slide_type": "slide"
    }
   },
   "source": [
    "**Topic specific:**\n",
    "\n",
    "- World Bank Open Data (https://data.worldbank.org/)\n",
    "- PG&E's Public Data Sets (https://pge-energydatarequest.com/public_datasets) \n",
    "- ~Soccer~ Football data (https://datahub.io/collections/football_)\n",
    "- The Office Dataset (https://www.kaggle.com/datasets/nehaprabhavalkar/the-office-dataset)\n",
    "- The Last of Us (https://www.kaggle.com/datasets/lazaro97/the-last-of-us-reviews)"
   ]
  },
  {
   "cell_type": "markdown",
   "id": "9c675a91",
   "metadata": {
    "slideshow": {
     "slide_type": "slide"
    }
   },
   "source": [
    "## 👷🏽‍♀️ Other ways of getting data\n",
    "\n",
    "- Request your own data: Twitter, Facebook, WhatsApp, etc.\n",
    "- Use APIs (Application Programming Interface)\n",
    "- Web scraping\n",
    "    - `BeautifulSoup`: Library for parsing HTML and XML documents\n",
    "    - `Selenium`: Web browser automation tool\n"
   ]
  },
  {
   "cell_type": "markdown",
   "id": "c24af99e",
   "metadata": {
    "slideshow": {
     "slide_type": "slide"
    }
   },
   "source": [
    "## 👷🏽‍♀️ Data augmentation \n",
    "\n",
    "- Technique used to increase the amount of training data by artificially creating new data from existing data (crucial for the performance of ML models and prevent overfitting)\n",
    "\n",
    "<br>\n",
    "<center>\n",
    "    <img src='../img/class_2/cat1.jpeg' style='height:350px;'>\n",
    "</center>"
   ]
  },
  {
   "cell_type": "markdown",
   "id": "08e09ab3",
   "metadata": {
    "slideshow": {
     "slide_type": "slide"
    }
   },
   "source": [
    "## 👷🏽‍♀️ Data augmentation \n",
    "\n",
    "- Technique used to increase the amount of training data by artificially creating new data from existing data\n",
    "\n",
    "<br>\n",
    "<center>\n",
    "    <img src='../img/class_2/cat2.jpeg' style='height:350px;'>\n",
    "</center>"
   ]
  },
  {
   "cell_type": "markdown",
   "id": "4901e102",
   "metadata": {
    "slideshow": {
     "slide_type": "slide"
    }
   },
   "source": [
    "## 👷🏽‍♀️ Data augmentation \n",
    "\n",
    "- Technique used to increase the amount of training data by artificially creating new data from existing data\n",
    "\n",
    "<br>\n",
    "<center>\n",
    "    <img src='../img/class_2/cat4.jpeg' style='height:350px;'>\n",
    "</center>"
   ]
  },
  {
   "cell_type": "markdown",
   "id": "a424e7a9",
   "metadata": {
    "slideshow": {
     "slide_type": "slide"
    }
   },
   "source": [
    "## 👷🏽‍♀️ Data augmentation \n",
    "\n",
    "- Technique used to increase the amount of training data by artificially creating new data from existing data\n",
    "\n",
    "<br>\n",
    "<center>\n",
    "    <img src='../img/class_2/cat5.jpeg' style='height:350px;'>\n",
    "</center>"
   ]
  },
  {
   "cell_type": "markdown",
   "id": "b15fbfa6",
   "metadata": {
    "slideshow": {
     "slide_type": "slide"
    }
   },
   "source": [
    "## 👷🏽‍♀️ Data augmentation \n",
    "\n",
    "Some strategies for **image** data:"
   ]
  },
  {
   "cell_type": "markdown",
   "id": "c7ae2484",
   "metadata": {
    "slideshow": {
     "slide_type": "fragment"
    }
   },
   "source": [
    "- Flipping\n",
    "- Rotating\n",
    "- Cropping\n",
    "- Zooming\n",
    "- Adding noise or distortion\n",
    "- Adjust brightness and contrast"
   ]
  },
  {
   "cell_type": "markdown",
   "id": "416a5867",
   "metadata": {
    "slideshow": {
     "slide_type": "slide"
    }
   },
   "source": [
    "## 👷🏽‍♀️ Data augmentation \n",
    "\n",
    "Some strategies for **text** data:"
   ]
  },
  {
   "cell_type": "markdown",
   "id": "279eef06",
   "metadata": {
    "slideshow": {
     "slide_type": "fragment"
    }
   },
   "source": [
    "- Synonym/antonym replacement\n",
    "- Entity replacement\n",
    "- Random insertion/deletion \n",
    "- Back-translation "
   ]
  },
  {
   "cell_type": "markdown",
   "id": "780b67fe",
   "metadata": {
    "slideshow": {
     "slide_type": "slide"
    }
   },
   "source": [
    "## 👷🏽‍♀️ Data augmentation \n",
    "\n",
    "Some strategies for **numerical** data:"
   ]
  },
  {
   "cell_type": "markdown",
   "id": "3499e23e",
   "metadata": {
    "slideshow": {
     "slide_type": "fragment"
    }
   },
   "source": [
    "- **Scaling:** Multiply or divide the data by a constant factor to increase or decrease its magnitude.\n",
    "\n",
    "- **Shifting:** Add or subtract a constant value to the data to shift its position along the scale.\n",
    "\n",
    "- **Noise addition:** Add a small amount of random noise to the data to create variations. (For example, adding small amounts of Gaussian noise to simulate measurement error)\n",
    "\n",
    "- **Interpolation:** Add new data points to the dataset by interpolating between existing data points.\n",
    "\n",
    "- **Smoothing:** Smooth the data by applying filters or averaging techniques."
   ]
  },
  {
   "cell_type": "markdown",
   "id": "477cb50a",
   "metadata": {
    "slideshow": {
     "slide_type": "slide"
    }
   },
   "source": [
    "# ❇️ Pandas crash course"
   ]
  },
  {
   "cell_type": "markdown",
   "id": "403ac9db",
   "metadata": {
    "slideshow": {
     "slide_type": "slide"
    }
   },
   "source": [
    "# Let's code!!!\n",
    "\n",
    "- https://codeshare.io/ZJEBQo\n",
    "- https://github.com/vivianamarquez/Intro-to-Machine-Learning/blob/main/2_FE/FE_student_copy.ipynb"
   ]
  },
  {
   "cell_type": "markdown",
   "id": "b6aa5545",
   "metadata": {
    "slideshow": {
     "slide_type": "slide"
    }
   },
   "source": [
    "<img src='../img/class_2/cali.png' style='height:500px; float: left; margin: 0px 100px 0px 0px'>\n",
    "\n",
    "### Before we start... \n",
    "\n",
    "Download data from [here](https://raw.githubusercontent.com/vivianamarquez/Intro-to-Machine-Learning/main/data/housing.csv)\n",
    "\n",
    " - California Housing Prices dataset\n",
    "     - 1990 California census\n",
    "     \n",
    "     \n",
    "Task: Create a model to predict median house value based on the other features of the dataset"
   ]
  },
  {
   "cell_type": "markdown",
   "id": "520aa682",
   "metadata": {
    "slideshow": {
     "slide_type": "slide"
    }
   },
   "source": [
    "# 🐼 Pandas\n",
    "\n",
    "- `pandas` is a fast, powerful, flexible and easy to use open source data analysis and manipulation tool, built on top of the Python programming language"
   ]
  },
  {
   "cell_type": "code",
   "execution_count": 2,
   "id": "dc710c3b",
   "metadata": {
    "slideshow": {
     "slide_type": "fragment"
    }
   },
   "outputs": [
    {
     "name": "stdout",
     "output_type": "stream",
     "text": [
      "Requirement already satisfied: pandas in /Users/vivianamarquez/opt/anaconda3/envs/IntroML/lib/python3.9/site-packages (1.5.3)\r\n",
      "Requirement already satisfied: python-dateutil>=2.8.1 in /Users/vivianamarquez/opt/anaconda3/envs/IntroML/lib/python3.9/site-packages (from pandas) (2.8.2)\r\n",
      "Requirement already satisfied: numpy>=1.20.3 in /Users/vivianamarquez/opt/anaconda3/envs/IntroML/lib/python3.9/site-packages (from pandas) (1.24.2)\r\n",
      "Requirement already satisfied: pytz>=2020.1 in /Users/vivianamarquez/opt/anaconda3/envs/IntroML/lib/python3.9/site-packages (from pandas) (2022.7.1)\r\n",
      "Requirement already satisfied: six>=1.5 in /Users/vivianamarquez/opt/anaconda3/envs/IntroML/lib/python3.9/site-packages (from python-dateutil>=2.8.1->pandas) (1.16.0)\r\n"
     ]
    }
   ],
   "source": [
    "! pip install pandas"
   ]
  },
  {
   "cell_type": "code",
   "execution_count": 3,
   "id": "6d773ee5",
   "metadata": {
    "slideshow": {
     "slide_type": "slide"
    }
   },
   "outputs": [],
   "source": [
    "# import pandas\n",
    "import pandas as pd"
   ]
  },
  {
   "cell_type": "code",
   "execution_count": 4,
   "id": "553fa330",
   "metadata": {
    "slideshow": {
     "slide_type": "fragment"
    }
   },
   "outputs": [],
   "source": [
    "df = pd.read_csv(\"../data/housing.csv\")"
   ]
  },
  {
   "cell_type": "code",
   "execution_count": 10,
   "id": "b3e4f202",
   "metadata": {
    "slideshow": {
     "slide_type": "fragment"
    }
   },
   "outputs": [
    {
     "data": {
      "text/html": [
       "<div>\n",
       "<style scoped>\n",
       "    .dataframe tbody tr th:only-of-type {\n",
       "        vertical-align: middle;\n",
       "    }\n",
       "\n",
       "    .dataframe tbody tr th {\n",
       "        vertical-align: top;\n",
       "    }\n",
       "\n",
       "    .dataframe thead th {\n",
       "        text-align: right;\n",
       "    }\n",
       "</style>\n",
       "<table border=\"1\" class=\"dataframe\">\n",
       "  <thead>\n",
       "    <tr style=\"text-align: right;\">\n",
       "      <th></th>\n",
       "      <th>longitude</th>\n",
       "      <th>latitude</th>\n",
       "      <th>housing_median_age</th>\n",
       "      <th>total_rooms</th>\n",
       "      <th>total_bedrooms</th>\n",
       "      <th>population</th>\n",
       "      <th>households</th>\n",
       "      <th>median_income</th>\n",
       "      <th>median_house_value</th>\n",
       "      <th>ocean_proximity</th>\n",
       "    </tr>\n",
       "  </thead>\n",
       "  <tbody>\n",
       "    <tr>\n",
       "      <th>14548</th>\n",
       "      <td>-120.81</td>\n",
       "      <td>39.02</td>\n",
       "      <td>30.0</td>\n",
       "      <td>806.0</td>\n",
       "      <td>189.0</td>\n",
       "      <td>326.0</td>\n",
       "      <td>146.0</td>\n",
       "      <td>2.8155</td>\n",
       "      <td>101000.0</td>\n",
       "      <td>INLAND</td>\n",
       "    </tr>\n",
       "    <tr>\n",
       "      <th>5741</th>\n",
       "      <td>-117.07</td>\n",
       "      <td>32.70</td>\n",
       "      <td>14.0</td>\n",
       "      <td>2763.0</td>\n",
       "      <td>456.0</td>\n",
       "      <td>1914.0</td>\n",
       "      <td>465.0</td>\n",
       "      <td>4.1645</td>\n",
       "      <td>143000.0</td>\n",
       "      <td>NEAR OCEAN</td>\n",
       "    </tr>\n",
       "    <tr>\n",
       "      <th>14190</th>\n",
       "      <td>-121.18</td>\n",
       "      <td>38.07</td>\n",
       "      <td>21.0</td>\n",
       "      <td>2333.0</td>\n",
       "      <td>377.0</td>\n",
       "      <td>1073.0</td>\n",
       "      <td>332.0</td>\n",
       "      <td>4.8125</td>\n",
       "      <td>161100.0</td>\n",
       "      <td>INLAND</td>\n",
       "    </tr>\n",
       "    <tr>\n",
       "      <th>13128</th>\n",
       "      <td>-122.04</td>\n",
       "      <td>36.95</td>\n",
       "      <td>36.0</td>\n",
       "      <td>1862.0</td>\n",
       "      <td>364.0</td>\n",
       "      <td>1080.0</td>\n",
       "      <td>364.0</td>\n",
       "      <td>4.4567</td>\n",
       "      <td>263800.0</td>\n",
       "      <td>NEAR OCEAN</td>\n",
       "    </tr>\n",
       "    <tr>\n",
       "      <th>16232</th>\n",
       "      <td>-117.90</td>\n",
       "      <td>33.80</td>\n",
       "      <td>27.0</td>\n",
       "      <td>2176.0</td>\n",
       "      <td>442.0</td>\n",
       "      <td>1440.0</td>\n",
       "      <td>418.0</td>\n",
       "      <td>4.3750</td>\n",
       "      <td>212500.0</td>\n",
       "      <td>&lt;1H OCEAN</td>\n",
       "    </tr>\n",
       "  </tbody>\n",
       "</table>\n",
       "</div>"
      ],
      "text/plain": [
       "       longitude  latitude  housing_median_age  total_rooms  total_bedrooms  \\\n",
       "14548    -120.81     39.02                30.0        806.0           189.0   \n",
       "5741     -117.07     32.70                14.0       2763.0           456.0   \n",
       "14190    -121.18     38.07                21.0       2333.0           377.0   \n",
       "13128    -122.04     36.95                36.0       1862.0           364.0   \n",
       "16232    -117.90     33.80                27.0       2176.0           442.0   \n",
       "\n",
       "       population  households  median_income  median_house_value  \\\n",
       "14548       326.0       146.0         2.8155            101000.0   \n",
       "5741       1914.0       465.0         4.1645            143000.0   \n",
       "14190      1073.0       332.0         4.8125            161100.0   \n",
       "13128      1080.0       364.0         4.4567            263800.0   \n",
       "16232      1440.0       418.0         4.3750            212500.0   \n",
       "\n",
       "      ocean_proximity  \n",
       "14548          INLAND  \n",
       "5741       NEAR OCEAN  \n",
       "14190          INLAND  \n",
       "13128      NEAR OCEAN  \n",
       "16232       <1H OCEAN  "
      ]
     },
     "execution_count": 10,
     "metadata": {},
     "output_type": "execute_result"
    }
   ],
   "source": [
    "# view data\n",
    "df.sample(5)"
   ]
  },
  {
   "cell_type": "code",
   "execution_count": 11,
   "id": "90b2559f",
   "metadata": {
    "slideshow": {
     "slide_type": "slide"
    }
   },
   "outputs": [
    {
     "data": {
      "text/plain": [
       "(20640, 10)"
      ]
     },
     "execution_count": 11,
     "metadata": {},
     "output_type": "execute_result"
    }
   ],
   "source": [
    "# get number of rows, get number of columns\n",
    "\n",
    "df.shape"
   ]
  },
  {
   "cell_type": "code",
   "execution_count": 12,
   "id": "e0df3130",
   "metadata": {
    "slideshow": {
     "slide_type": "fragment"
    }
   },
   "outputs": [
    {
     "data": {
      "text/plain": [
       "longitude             float64\n",
       "latitude              float64\n",
       "housing_median_age    float64\n",
       "total_rooms           float64\n",
       "total_bedrooms        float64\n",
       "population            float64\n",
       "households            float64\n",
       "median_income         float64\n",
       "median_house_value    float64\n",
       "ocean_proximity        object\n",
       "dtype: object"
      ]
     },
     "execution_count": 12,
     "metadata": {},
     "output_type": "execute_result"
    }
   ],
   "source": [
    "# data types of each column\n",
    "df.dtypes"
   ]
  },
  {
   "cell_type": "code",
   "execution_count": 13,
   "id": "c5be4c5f",
   "metadata": {
    "slideshow": {
     "slide_type": "slide"
    }
   },
   "outputs": [
    {
     "data": {
      "text/plain": [
       "Index(['longitude', 'latitude', 'housing_median_age', 'total_rooms',\n",
       "       'total_bedrooms', 'population', 'households', 'median_income',\n",
       "       'median_house_value', 'ocean_proximity'],\n",
       "      dtype='object')"
      ]
     },
     "execution_count": 13,
     "metadata": {},
     "output_type": "execute_result"
    }
   ],
   "source": [
    "# get all column names\n",
    "df.columns"
   ]
  },
  {
   "cell_type": "code",
   "execution_count": 16,
   "id": "130dd588",
   "metadata": {
    "slideshow": {
     "slide_type": "fragment"
    }
   },
   "outputs": [
    {
     "data": {
      "text/plain": [
       "0       -122.23\n",
       "1       -122.22\n",
       "2       -122.24\n",
       "3       -122.25\n",
       "4       -122.25\n",
       "          ...  \n",
       "20635   -121.09\n",
       "20636   -121.21\n",
       "20637   -121.22\n",
       "20638   -121.32\n",
       "20639   -121.24\n",
       "Name: longitude, Length: 20640, dtype: float64"
      ]
     },
     "execution_count": 16,
     "metadata": {},
     "output_type": "execute_result"
    }
   ],
   "source": [
    "# call a column\n",
    "df['longitude']"
   ]
  },
  {
   "cell_type": "code",
   "execution_count": 19,
   "id": "b3ac94f0",
   "metadata": {
    "slideshow": {
     "slide_type": "slide"
    }
   },
   "outputs": [
    {
     "data": {
      "text/html": [
       "<div>\n",
       "<style scoped>\n",
       "    .dataframe tbody tr th:only-of-type {\n",
       "        vertical-align: middle;\n",
       "    }\n",
       "\n",
       "    .dataframe tbody tr th {\n",
       "        vertical-align: top;\n",
       "    }\n",
       "\n",
       "    .dataframe thead th {\n",
       "        text-align: right;\n",
       "    }\n",
       "</style>\n",
       "<table border=\"1\" class=\"dataframe\">\n",
       "  <thead>\n",
       "    <tr style=\"text-align: right;\">\n",
       "      <th></th>\n",
       "      <th>longitude</th>\n",
       "      <th>latitude</th>\n",
       "    </tr>\n",
       "  </thead>\n",
       "  <tbody>\n",
       "    <tr>\n",
       "      <th>0</th>\n",
       "      <td>-122.23</td>\n",
       "      <td>37.88</td>\n",
       "    </tr>\n",
       "    <tr>\n",
       "      <th>1</th>\n",
       "      <td>-122.22</td>\n",
       "      <td>37.86</td>\n",
       "    </tr>\n",
       "    <tr>\n",
       "      <th>2</th>\n",
       "      <td>-122.24</td>\n",
       "      <td>37.85</td>\n",
       "    </tr>\n",
       "    <tr>\n",
       "      <th>3</th>\n",
       "      <td>-122.25</td>\n",
       "      <td>37.85</td>\n",
       "    </tr>\n",
       "    <tr>\n",
       "      <th>4</th>\n",
       "      <td>-122.25</td>\n",
       "      <td>37.85</td>\n",
       "    </tr>\n",
       "    <tr>\n",
       "      <th>...</th>\n",
       "      <td>...</td>\n",
       "      <td>...</td>\n",
       "    </tr>\n",
       "    <tr>\n",
       "      <th>20635</th>\n",
       "      <td>-121.09</td>\n",
       "      <td>39.48</td>\n",
       "    </tr>\n",
       "    <tr>\n",
       "      <th>20636</th>\n",
       "      <td>-121.21</td>\n",
       "      <td>39.49</td>\n",
       "    </tr>\n",
       "    <tr>\n",
       "      <th>20637</th>\n",
       "      <td>-121.22</td>\n",
       "      <td>39.43</td>\n",
       "    </tr>\n",
       "    <tr>\n",
       "      <th>20638</th>\n",
       "      <td>-121.32</td>\n",
       "      <td>39.43</td>\n",
       "    </tr>\n",
       "    <tr>\n",
       "      <th>20639</th>\n",
       "      <td>-121.24</td>\n",
       "      <td>39.37</td>\n",
       "    </tr>\n",
       "  </tbody>\n",
       "</table>\n",
       "<p>20640 rows × 2 columns</p>\n",
       "</div>"
      ],
      "text/plain": [
       "       longitude  latitude\n",
       "0        -122.23     37.88\n",
       "1        -122.22     37.86\n",
       "2        -122.24     37.85\n",
       "3        -122.25     37.85\n",
       "4        -122.25     37.85\n",
       "...          ...       ...\n",
       "20635    -121.09     39.48\n",
       "20636    -121.21     39.49\n",
       "20637    -121.22     39.43\n",
       "20638    -121.32     39.43\n",
       "20639    -121.24     39.37\n",
       "\n",
       "[20640 rows x 2 columns]"
      ]
     },
     "execution_count": 19,
     "metadata": {},
     "output_type": "execute_result"
    }
   ],
   "source": [
    "# call multiple columns\n",
    "df[['longitude', 'latitude']]"
   ]
  },
  {
   "cell_type": "code",
   "execution_count": 24,
   "id": "a3949b69",
   "metadata": {
    "slideshow": {
     "slide_type": "slide"
    }
   },
   "outputs": [
    {
     "data": {
      "text/plain": [
       "0        near bay\n",
       "1        near bay\n",
       "2        near bay\n",
       "3        near bay\n",
       "4        near bay\n",
       "           ...   \n",
       "20635      inland\n",
       "20636      inland\n",
       "20637      inland\n",
       "20638      inland\n",
       "20639      inland\n",
       "Name: ocean_proximity, Length: 20640, dtype: object"
      ]
     },
     "execution_count": 24,
     "metadata": {},
     "output_type": "execute_result"
    }
   ],
   "source": [
    "# apply a column-wise function\n",
    "df['ocean_proximity'].apply(lambda row: row.lower())"
   ]
  },
  {
   "cell_type": "markdown",
   "id": "552e6a2d",
   "metadata": {
    "slideshow": {
     "slide_type": "slide"
    }
   },
   "source": [
    "**`loc` vs `iloc`**\n",
    "\n",
    "- `loc`: Select data by index/label\n",
    "- `iloc`: Select data by integer location"
   ]
  },
  {
   "cell_type": "code",
   "execution_count": 26,
   "id": "52056b21",
   "metadata": {
    "slideshow": {
     "slide_type": "fragment"
    }
   },
   "outputs": [
    {
     "data": {
      "text/plain": [
       "21.0"
      ]
     },
     "execution_count": 26,
     "metadata": {},
     "output_type": "execute_result"
    }
   ],
   "source": [
    "df.loc[1, 'housing_median_age']"
   ]
  },
  {
   "cell_type": "code",
   "execution_count": 29,
   "id": "f1d4da51",
   "metadata": {
    "slideshow": {
     "slide_type": "fragment"
    }
   },
   "outputs": [
    {
     "data": {
      "text/plain": [
       "housing_median_age        21.0\n",
       "total_rooms             7099.0\n",
       "total_bedrooms          1106.0\n",
       "population              2401.0\n",
       "households              1138.0\n",
       "median_income           8.3014\n",
       "median_house_value    358500.0\n",
       "ocean_proximity       NEAR BAY\n",
       "Name: 1, dtype: object"
      ]
     },
     "execution_count": 29,
     "metadata": {},
     "output_type": "execute_result"
    }
   ],
   "source": [
    "df.iloc[1, 2:]"
   ]
  },
  {
   "cell_type": "markdown",
   "id": "c974d014",
   "metadata": {
    "slideshow": {
     "slide_type": "slide"
    }
   },
   "source": [
    "- We will learn more Pandas as we go on our next topic\n",
    "- Documentation: https://pandas.pydata.org/docs/"
   ]
  },
  {
   "cell_type": "markdown",
   "id": "ce86850b",
   "metadata": {
    "slideshow": {
     "slide_type": "slide"
    }
   },
   "source": [
    "# ❇️ EDA: Exploratory Data Analysis"
   ]
  },
  {
   "cell_type": "markdown",
   "id": "9cbe5fac",
   "metadata": {
    "slideshow": {
     "slide_type": "slide"
    }
   },
   "source": [
    "### 🕵️ EDA: Exploratory Data Analysis\n",
    "\n",
    "<br>\n",
    "<center>\n",
    "    <img src='../img/class_2/pipeline_EDA.png' style='height:300px;'>\n",
    "</center>"
   ]
  },
  {
   "cell_type": "markdown",
   "id": "37eb5f56",
   "metadata": {
    "slideshow": {
     "slide_type": "fragment"
    }
   },
   "source": [
    "- EDA is the process of performing initial investigations on data to be able to understand it, identify patters and relationships between variables, detect outliers and anomalies with the help of summary statistics and data visualizations."
   ]
  },
  {
   "cell_type": "markdown",
   "id": "4b065c3f",
   "metadata": {
    "slideshow": {
     "slide_type": "fragment"
    }
   },
   "source": [
    "- By exploring the data in this way, data professionals can check the overall health of their data and gain insights and make informed decisions about how to approach further analysis or modeling"
   ]
  },
  {
   "cell_type": "markdown",
   "id": "193b9241",
   "metadata": {
    "slideshow": {
     "slide_type": "slide"
    }
   },
   "source": [
    "## Look at the data"
   ]
  },
  {
   "cell_type": "code",
   "execution_count": 30,
   "id": "9d6ecd7e",
   "metadata": {
    "slideshow": {
     "slide_type": "fragment"
    }
   },
   "outputs": [
    {
     "data": {
      "text/html": [
       "<div>\n",
       "<style scoped>\n",
       "    .dataframe tbody tr th:only-of-type {\n",
       "        vertical-align: middle;\n",
       "    }\n",
       "\n",
       "    .dataframe tbody tr th {\n",
       "        vertical-align: top;\n",
       "    }\n",
       "\n",
       "    .dataframe thead th {\n",
       "        text-align: right;\n",
       "    }\n",
       "</style>\n",
       "<table border=\"1\" class=\"dataframe\">\n",
       "  <thead>\n",
       "    <tr style=\"text-align: right;\">\n",
       "      <th></th>\n",
       "      <th>longitude</th>\n",
       "      <th>latitude</th>\n",
       "      <th>housing_median_age</th>\n",
       "      <th>total_rooms</th>\n",
       "      <th>total_bedrooms</th>\n",
       "      <th>population</th>\n",
       "      <th>households</th>\n",
       "      <th>median_income</th>\n",
       "      <th>median_house_value</th>\n",
       "      <th>ocean_proximity</th>\n",
       "    </tr>\n",
       "  </thead>\n",
       "  <tbody>\n",
       "    <tr>\n",
       "      <th>0</th>\n",
       "      <td>-122.23</td>\n",
       "      <td>37.88</td>\n",
       "      <td>41.0</td>\n",
       "      <td>880.0</td>\n",
       "      <td>129.0</td>\n",
       "      <td>322.0</td>\n",
       "      <td>126.0</td>\n",
       "      <td>8.3252</td>\n",
       "      <td>452600.0</td>\n",
       "      <td>NEAR BAY</td>\n",
       "    </tr>\n",
       "    <tr>\n",
       "      <th>1</th>\n",
       "      <td>-122.22</td>\n",
       "      <td>37.86</td>\n",
       "      <td>21.0</td>\n",
       "      <td>7099.0</td>\n",
       "      <td>1106.0</td>\n",
       "      <td>2401.0</td>\n",
       "      <td>1138.0</td>\n",
       "      <td>8.3014</td>\n",
       "      <td>358500.0</td>\n",
       "      <td>NEAR BAY</td>\n",
       "    </tr>\n",
       "    <tr>\n",
       "      <th>2</th>\n",
       "      <td>-122.24</td>\n",
       "      <td>37.85</td>\n",
       "      <td>52.0</td>\n",
       "      <td>1467.0</td>\n",
       "      <td>190.0</td>\n",
       "      <td>496.0</td>\n",
       "      <td>177.0</td>\n",
       "      <td>7.2574</td>\n",
       "      <td>352100.0</td>\n",
       "      <td>NEAR BAY</td>\n",
       "    </tr>\n",
       "    <tr>\n",
       "      <th>3</th>\n",
       "      <td>-122.25</td>\n",
       "      <td>37.85</td>\n",
       "      <td>52.0</td>\n",
       "      <td>1274.0</td>\n",
       "      <td>235.0</td>\n",
       "      <td>558.0</td>\n",
       "      <td>219.0</td>\n",
       "      <td>5.6431</td>\n",
       "      <td>341300.0</td>\n",
       "      <td>NEAR BAY</td>\n",
       "    </tr>\n",
       "    <tr>\n",
       "      <th>4</th>\n",
       "      <td>-122.25</td>\n",
       "      <td>37.85</td>\n",
       "      <td>52.0</td>\n",
       "      <td>1627.0</td>\n",
       "      <td>280.0</td>\n",
       "      <td>565.0</td>\n",
       "      <td>259.0</td>\n",
       "      <td>3.8462</td>\n",
       "      <td>342200.0</td>\n",
       "      <td>NEAR BAY</td>\n",
       "    </tr>\n",
       "  </tbody>\n",
       "</table>\n",
       "</div>"
      ],
      "text/plain": [
       "   longitude  latitude  housing_median_age  total_rooms  total_bedrooms  \\\n",
       "0    -122.23     37.88                41.0        880.0           129.0   \n",
       "1    -122.22     37.86                21.0       7099.0          1106.0   \n",
       "2    -122.24     37.85                52.0       1467.0           190.0   \n",
       "3    -122.25     37.85                52.0       1274.0           235.0   \n",
       "4    -122.25     37.85                52.0       1627.0           280.0   \n",
       "\n",
       "   population  households  median_income  median_house_value ocean_proximity  \n",
       "0       322.0       126.0         8.3252            452600.0        NEAR BAY  \n",
       "1      2401.0      1138.0         8.3014            358500.0        NEAR BAY  \n",
       "2       496.0       177.0         7.2574            352100.0        NEAR BAY  \n",
       "3       558.0       219.0         5.6431            341300.0        NEAR BAY  \n",
       "4       565.0       259.0         3.8462            342200.0        NEAR BAY  "
      ]
     },
     "execution_count": 30,
     "metadata": {},
     "output_type": "execute_result"
    }
   ],
   "source": [
    "df.head()"
   ]
  },
  {
   "cell_type": "code",
   "execution_count": 31,
   "id": "fd44c893",
   "metadata": {
    "slideshow": {
     "slide_type": "slide"
    }
   },
   "outputs": [
    {
     "data": {
      "text/plain": [
       "(20640, 10)"
      ]
     },
     "execution_count": 31,
     "metadata": {},
     "output_type": "execute_result"
    }
   ],
   "source": [
    "df.shape"
   ]
  },
  {
   "cell_type": "code",
   "execution_count": 33,
   "id": "5797c755",
   "metadata": {
    "slideshow": {
     "slide_type": "fragment"
    }
   },
   "outputs": [
    {
     "name": "stdout",
     "output_type": "stream",
     "text": [
      "<class 'pandas.core.frame.DataFrame'>\n",
      "RangeIndex: 20640 entries, 0 to 20639\n",
      "Data columns (total 10 columns):\n",
      " #   Column              Non-Null Count  Dtype  \n",
      "---  ------              --------------  -----  \n",
      " 0   longitude           20640 non-null  float64\n",
      " 1   latitude            20640 non-null  float64\n",
      " 2   housing_median_age  20640 non-null  float64\n",
      " 3   total_rooms         20640 non-null  float64\n",
      " 4   total_bedrooms      20433 non-null  float64\n",
      " 5   population          20640 non-null  float64\n",
      " 6   households          20640 non-null  float64\n",
      " 7   median_income       20640 non-null  float64\n",
      " 8   median_house_value  20640 non-null  float64\n",
      " 9   ocean_proximity     20640 non-null  object \n",
      "dtypes: float64(9), object(1)\n",
      "memory usage: 1.6+ MB\n"
     ]
    }
   ],
   "source": [
    "# quick description of the data\n",
    "df.info()"
   ]
  },
  {
   "cell_type": "markdown",
   "id": "29a8ff3e",
   "metadata": {
    "slideshow": {
     "slide_type": "fragment"
    }
   },
   "source": [
    "- Observe `total_bedrooms`"
   ]
  },
  {
   "cell_type": "code",
   "execution_count": 34,
   "id": "a8951326",
   "metadata": {
    "slideshow": {
     "slide_type": "slide"
    }
   },
   "outputs": [
    {
     "data": {
      "text/html": [
       "<div>\n",
       "<style scoped>\n",
       "    .dataframe tbody tr th:only-of-type {\n",
       "        vertical-align: middle;\n",
       "    }\n",
       "\n",
       "    .dataframe tbody tr th {\n",
       "        vertical-align: top;\n",
       "    }\n",
       "\n",
       "    .dataframe thead th {\n",
       "        text-align: right;\n",
       "    }\n",
       "</style>\n",
       "<table border=\"1\" class=\"dataframe\">\n",
       "  <thead>\n",
       "    <tr style=\"text-align: right;\">\n",
       "      <th></th>\n",
       "      <th>longitude</th>\n",
       "      <th>latitude</th>\n",
       "      <th>housing_median_age</th>\n",
       "      <th>total_rooms</th>\n",
       "      <th>total_bedrooms</th>\n",
       "      <th>population</th>\n",
       "      <th>households</th>\n",
       "      <th>median_income</th>\n",
       "      <th>median_house_value</th>\n",
       "    </tr>\n",
       "  </thead>\n",
       "  <tbody>\n",
       "    <tr>\n",
       "      <th>count</th>\n",
       "      <td>20640.000000</td>\n",
       "      <td>20640.000000</td>\n",
       "      <td>20640.000000</td>\n",
       "      <td>20640.000000</td>\n",
       "      <td>20433.000000</td>\n",
       "      <td>20640.000000</td>\n",
       "      <td>20640.000000</td>\n",
       "      <td>20640.000000</td>\n",
       "      <td>20640.000000</td>\n",
       "    </tr>\n",
       "    <tr>\n",
       "      <th>mean</th>\n",
       "      <td>-119.569704</td>\n",
       "      <td>35.631861</td>\n",
       "      <td>28.639486</td>\n",
       "      <td>2635.763081</td>\n",
       "      <td>537.870553</td>\n",
       "      <td>1425.476744</td>\n",
       "      <td>499.539680</td>\n",
       "      <td>3.870671</td>\n",
       "      <td>206855.816909</td>\n",
       "    </tr>\n",
       "    <tr>\n",
       "      <th>std</th>\n",
       "      <td>2.003532</td>\n",
       "      <td>2.135952</td>\n",
       "      <td>12.585558</td>\n",
       "      <td>2181.615252</td>\n",
       "      <td>421.385070</td>\n",
       "      <td>1132.462122</td>\n",
       "      <td>382.329753</td>\n",
       "      <td>1.899822</td>\n",
       "      <td>115395.615874</td>\n",
       "    </tr>\n",
       "    <tr>\n",
       "      <th>min</th>\n",
       "      <td>-124.350000</td>\n",
       "      <td>32.540000</td>\n",
       "      <td>1.000000</td>\n",
       "      <td>2.000000</td>\n",
       "      <td>1.000000</td>\n",
       "      <td>3.000000</td>\n",
       "      <td>1.000000</td>\n",
       "      <td>0.499900</td>\n",
       "      <td>14999.000000</td>\n",
       "    </tr>\n",
       "    <tr>\n",
       "      <th>25%</th>\n",
       "      <td>-121.800000</td>\n",
       "      <td>33.930000</td>\n",
       "      <td>18.000000</td>\n",
       "      <td>1447.750000</td>\n",
       "      <td>296.000000</td>\n",
       "      <td>787.000000</td>\n",
       "      <td>280.000000</td>\n",
       "      <td>2.563400</td>\n",
       "      <td>119600.000000</td>\n",
       "    </tr>\n",
       "    <tr>\n",
       "      <th>50%</th>\n",
       "      <td>-118.490000</td>\n",
       "      <td>34.260000</td>\n",
       "      <td>29.000000</td>\n",
       "      <td>2127.000000</td>\n",
       "      <td>435.000000</td>\n",
       "      <td>1166.000000</td>\n",
       "      <td>409.000000</td>\n",
       "      <td>3.534800</td>\n",
       "      <td>179700.000000</td>\n",
       "    </tr>\n",
       "    <tr>\n",
       "      <th>75%</th>\n",
       "      <td>-118.010000</td>\n",
       "      <td>37.710000</td>\n",
       "      <td>37.000000</td>\n",
       "      <td>3148.000000</td>\n",
       "      <td>647.000000</td>\n",
       "      <td>1725.000000</td>\n",
       "      <td>605.000000</td>\n",
       "      <td>4.743250</td>\n",
       "      <td>264725.000000</td>\n",
       "    </tr>\n",
       "    <tr>\n",
       "      <th>max</th>\n",
       "      <td>-114.310000</td>\n",
       "      <td>41.950000</td>\n",
       "      <td>52.000000</td>\n",
       "      <td>39320.000000</td>\n",
       "      <td>6445.000000</td>\n",
       "      <td>35682.000000</td>\n",
       "      <td>6082.000000</td>\n",
       "      <td>15.000100</td>\n",
       "      <td>500001.000000</td>\n",
       "    </tr>\n",
       "  </tbody>\n",
       "</table>\n",
       "</div>"
      ],
      "text/plain": [
       "          longitude      latitude  housing_median_age   total_rooms  \\\n",
       "count  20640.000000  20640.000000        20640.000000  20640.000000   \n",
       "mean    -119.569704     35.631861           28.639486   2635.763081   \n",
       "std        2.003532      2.135952           12.585558   2181.615252   \n",
       "min     -124.350000     32.540000            1.000000      2.000000   \n",
       "25%     -121.800000     33.930000           18.000000   1447.750000   \n",
       "50%     -118.490000     34.260000           29.000000   2127.000000   \n",
       "75%     -118.010000     37.710000           37.000000   3148.000000   \n",
       "max     -114.310000     41.950000           52.000000  39320.000000   \n",
       "\n",
       "       total_bedrooms    population    households  median_income  \\\n",
       "count    20433.000000  20640.000000  20640.000000   20640.000000   \n",
       "mean       537.870553   1425.476744    499.539680       3.870671   \n",
       "std        421.385070   1132.462122    382.329753       1.899822   \n",
       "min          1.000000      3.000000      1.000000       0.499900   \n",
       "25%        296.000000    787.000000    280.000000       2.563400   \n",
       "50%        435.000000   1166.000000    409.000000       3.534800   \n",
       "75%        647.000000   1725.000000    605.000000       4.743250   \n",
       "max       6445.000000  35682.000000   6082.000000      15.000100   \n",
       "\n",
       "       median_house_value  \n",
       "count        20640.000000  \n",
       "mean        206855.816909  \n",
       "std         115395.615874  \n",
       "min          14999.000000  \n",
       "25%         119600.000000  \n",
       "50%         179700.000000  \n",
       "75%         264725.000000  \n",
       "max         500001.000000  "
      ]
     },
     "execution_count": 34,
     "metadata": {},
     "output_type": "execute_result"
    }
   ],
   "source": [
    "# summary of the numerical attributes\n",
    "df.describe()"
   ]
  },
  {
   "cell_type": "markdown",
   "id": "f9278ed1",
   "metadata": {
    "slideshow": {
     "slide_type": "fragment"
    }
   },
   "source": [
    "- Note that null values are ignored "
   ]
  },
  {
   "cell_type": "markdown",
   "id": "fd577e93",
   "metadata": {
    "slideshow": {
     "slide_type": "fragment"
    }
   },
   "source": [
    "- Percentile: Value below which a given percentage of observations in a group of observations fall"
   ]
  },
  {
   "cell_type": "code",
   "execution_count": 35,
   "id": "0e8b4aa5",
   "metadata": {
    "slideshow": {
     "slide_type": "slide"
    }
   },
   "outputs": [
    {
     "data": {
      "text/plain": [
       "<1H OCEAN     9136\n",
       "INLAND        6551\n",
       "NEAR OCEAN    2658\n",
       "NEAR BAY      2290\n",
       "ISLAND           5\n",
       "Name: ocean_proximity, dtype: int64"
      ]
     },
     "execution_count": 35,
     "metadata": {},
     "output_type": "execute_result"
    }
   ],
   "source": [
    "# exploring non-numerical attributes\n",
    "df['ocean_proximity'].value_counts()"
   ]
  },
  {
   "cell_type": "code",
   "execution_count": 37,
   "id": "08984297",
   "metadata": {
    "slideshow": {
     "slide_type": "fragment"
    }
   },
   "outputs": [
    {
     "data": {
      "text/plain": [
       "5"
      ]
     },
     "execution_count": 37,
     "metadata": {},
     "output_type": "execute_result"
    }
   ],
   "source": [
    "df['ocean_proximity'].nunique()"
   ]
  },
  {
   "cell_type": "code",
   "execution_count": 40,
   "id": "db1b8323",
   "metadata": {
    "slideshow": {
     "slide_type": "slide"
    }
   },
   "outputs": [
    {
     "data": {
      "text/html": [
       "<div>\n",
       "<style scoped>\n",
       "    .dataframe tbody tr th:only-of-type {\n",
       "        vertical-align: middle;\n",
       "    }\n",
       "\n",
       "    .dataframe tbody tr th {\n",
       "        vertical-align: top;\n",
       "    }\n",
       "\n",
       "    .dataframe thead th {\n",
       "        text-align: right;\n",
       "    }\n",
       "</style>\n",
       "<table border=\"1\" class=\"dataframe\">\n",
       "  <thead>\n",
       "    <tr style=\"text-align: right;\">\n",
       "      <th></th>\n",
       "      <th>mean</th>\n",
       "      <th>sum</th>\n",
       "    </tr>\n",
       "    <tr>\n",
       "      <th>ocean_proximity</th>\n",
       "      <th></th>\n",
       "      <th></th>\n",
       "    </tr>\n",
       "  </thead>\n",
       "  <tbody>\n",
       "    <tr>\n",
       "      <th>&lt;1H OCEAN</th>\n",
       "      <td>2628.343586</td>\n",
       "      <td>24012547.0</td>\n",
       "    </tr>\n",
       "    <tr>\n",
       "      <th>INLAND</th>\n",
       "      <td>2717.742787</td>\n",
       "      <td>17803933.0</td>\n",
       "    </tr>\n",
       "    <tr>\n",
       "      <th>ISLAND</th>\n",
       "      <td>1574.600000</td>\n",
       "      <td>7873.0</td>\n",
       "    </tr>\n",
       "    <tr>\n",
       "      <th>NEAR BAY</th>\n",
       "      <td>2493.589520</td>\n",
       "      <td>5710320.0</td>\n",
       "    </tr>\n",
       "    <tr>\n",
       "      <th>NEAR OCEAN</th>\n",
       "      <td>2583.700903</td>\n",
       "      <td>6867477.0</td>\n",
       "    </tr>\n",
       "  </tbody>\n",
       "</table>\n",
       "</div>"
      ],
      "text/plain": [
       "                        mean         sum\n",
       "ocean_proximity                         \n",
       "<1H OCEAN        2628.343586  24012547.0\n",
       "INLAND           2717.742787  17803933.0\n",
       "ISLAND           1574.600000      7873.0\n",
       "NEAR BAY         2493.589520   5710320.0\n",
       "NEAR OCEAN       2583.700903   6867477.0"
      ]
     },
     "execution_count": 40,
     "metadata": {},
     "output_type": "execute_result"
    }
   ],
   "source": [
    "df.groupby(by=['ocean_proximity']).agg(['mean', 'sum'])['total_rooms']"
   ]
  },
  {
   "cell_type": "code",
   "execution_count": 43,
   "id": "7f39b07e",
   "metadata": {
    "slideshow": {
     "slide_type": "slide"
    }
   },
   "outputs": [
    {
     "name": "stderr",
     "output_type": "stream",
     "text": [
      "/var/folders/n7/q93jwpcs6jndz6qqvj4mhtcm0000gn/T/ipykernel_83064/3129850035.py:1: FutureWarning: The default value of numeric_only in DataFrame.corr is deprecated. In a future version, it will default to False. Select only valid columns or specify the value of numeric_only to silence this warning.\n",
      "  df.corr().style.background_gradient(cmap='coolwarm').set_precision(2)\n",
      "/var/folders/n7/q93jwpcs6jndz6qqvj4mhtcm0000gn/T/ipykernel_83064/3129850035.py:1: FutureWarning: this method is deprecated in favour of `Styler.format(precision=..)`\n",
      "  df.corr().style.background_gradient(cmap='coolwarm').set_precision(2)\n"
     ]
    },
    {
     "data": {
      "text/html": [
       "<style type=\"text/css\">\n",
       "#T_82a0f_row0_col0, #T_82a0f_row1_col1, #T_82a0f_row2_col2, #T_82a0f_row3_col3, #T_82a0f_row4_col4, #T_82a0f_row5_col5, #T_82a0f_row6_col6, #T_82a0f_row7_col7, #T_82a0f_row8_col8 {\n",
       "  background-color: #b40426;\n",
       "  color: #f1f1f1;\n",
       "}\n",
       "#T_82a0f_row0_col1, #T_82a0f_row1_col0, #T_82a0f_row1_col8, #T_82a0f_row2_col3, #T_82a0f_row2_col4, #T_82a0f_row2_col5, #T_82a0f_row2_col6, #T_82a0f_row2_col7, #T_82a0f_row3_col2 {\n",
       "  background-color: #3b4cc0;\n",
       "  color: #f1f1f1;\n",
       "}\n",
       "#T_82a0f_row0_col2 {\n",
       "  background-color: #7699f6;\n",
       "  color: #f1f1f1;\n",
       "}\n",
       "#T_82a0f_row0_col3 {\n",
       "  background-color: #9ebeff;\n",
       "  color: #000000;\n",
       "}\n",
       "#T_82a0f_row0_col4 {\n",
       "  background-color: #9dbdff;\n",
       "  color: #000000;\n",
       "}\n",
       "#T_82a0f_row0_col5 {\n",
       "  background-color: #a1c0ff;\n",
       "  color: #000000;\n",
       "}\n",
       "#T_82a0f_row0_col6, #T_82a0f_row1_col2 {\n",
       "  background-color: #96b7ff;\n",
       "  color: #000000;\n",
       "}\n",
       "#T_82a0f_row0_col7 {\n",
       "  background-color: #5673e0;\n",
       "  color: #f1f1f1;\n",
       "}\n",
       "#T_82a0f_row0_col8 {\n",
       "  background-color: #5470de;\n",
       "  color: #f1f1f1;\n",
       "}\n",
       "#T_82a0f_row1_col3 {\n",
       "  background-color: #89acfd;\n",
       "  color: #000000;\n",
       "}\n",
       "#T_82a0f_row1_col4 {\n",
       "  background-color: #799cf8;\n",
       "  color: #f1f1f1;\n",
       "}\n",
       "#T_82a0f_row1_col5 {\n",
       "  background-color: #688aef;\n",
       "  color: #f1f1f1;\n",
       "}\n",
       "#T_82a0f_row1_col6, #T_82a0f_row7_col2 {\n",
       "  background-color: #7396f5;\n",
       "  color: #f1f1f1;\n",
       "}\n",
       "#T_82a0f_row1_col7 {\n",
       "  background-color: #445acc;\n",
       "  color: #f1f1f1;\n",
       "}\n",
       "#T_82a0f_row2_col0, #T_82a0f_row5_col1 {\n",
       "  background-color: #c7d7f0;\n",
       "  color: #000000;\n",
       "}\n",
       "#T_82a0f_row2_col1 {\n",
       "  background-color: #d9dce1;\n",
       "  color: #000000;\n",
       "}\n",
       "#T_82a0f_row2_col8 {\n",
       "  background-color: #81a4fb;\n",
       "  color: #f1f1f1;\n",
       "}\n",
       "#T_82a0f_row3_col0 {\n",
       "  background-color: #dddcdc;\n",
       "  color: #000000;\n",
       "}\n",
       "#T_82a0f_row3_col1 {\n",
       "  background-color: #d3dbe7;\n",
       "  color: #000000;\n",
       "}\n",
       "#T_82a0f_row3_col4, #T_82a0f_row4_col3 {\n",
       "  background-color: #c73635;\n",
       "  color: #f1f1f1;\n",
       "}\n",
       "#T_82a0f_row3_col5 {\n",
       "  background-color: #d95847;\n",
       "  color: #f1f1f1;\n",
       "}\n",
       "#T_82a0f_row3_col6 {\n",
       "  background-color: #cb3e38;\n",
       "  color: #f1f1f1;\n",
       "}\n",
       "#T_82a0f_row3_col7, #T_82a0f_row8_col6 {\n",
       "  background-color: #98b9ff;\n",
       "  color: #000000;\n",
       "}\n",
       "#T_82a0f_row3_col8, #T_82a0f_row7_col6 {\n",
       "  background-color: #8badfd;\n",
       "  color: #000000;\n",
       "}\n",
       "#T_82a0f_row4_col0 {\n",
       "  background-color: #e1dad6;\n",
       "  color: #000000;\n",
       "}\n",
       "#T_82a0f_row4_col1 {\n",
       "  background-color: #cedaeb;\n",
       "  color: #000000;\n",
       "}\n",
       "#T_82a0f_row4_col2 {\n",
       "  background-color: #4358cb;\n",
       "  color: #f1f1f1;\n",
       "}\n",
       "#T_82a0f_row4_col5 {\n",
       "  background-color: #d55042;\n",
       "  color: #f1f1f1;\n",
       "}\n",
       "#T_82a0f_row4_col6, #T_82a0f_row6_col4 {\n",
       "  background-color: #b8122a;\n",
       "  color: #f1f1f1;\n",
       "}\n",
       "#T_82a0f_row4_col7 {\n",
       "  background-color: #5977e3;\n",
       "  color: #f1f1f1;\n",
       "}\n",
       "#T_82a0f_row4_col8 {\n",
       "  background-color: #7093f3;\n",
       "  color: #f1f1f1;\n",
       "}\n",
       "#T_82a0f_row5_col0 {\n",
       "  background-color: #e5d8d1;\n",
       "  color: #000000;\n",
       "}\n",
       "#T_82a0f_row5_col2 {\n",
       "  background-color: #4961d2;\n",
       "  color: #f1f1f1;\n",
       "}\n",
       "#T_82a0f_row5_col3 {\n",
       "  background-color: #d75445;\n",
       "  color: #f1f1f1;\n",
       "}\n",
       "#T_82a0f_row5_col4 {\n",
       "  background-color: #d44e41;\n",
       "  color: #f1f1f1;\n",
       "}\n",
       "#T_82a0f_row5_col6, #T_82a0f_row6_col5 {\n",
       "  background-color: #cd423b;\n",
       "  color: #f1f1f1;\n",
       "}\n",
       "#T_82a0f_row5_col7 {\n",
       "  background-color: #5d7ce6;\n",
       "  color: #f1f1f1;\n",
       "}\n",
       "#T_82a0f_row5_col8 {\n",
       "  background-color: #5a78e4;\n",
       "  color: #f1f1f1;\n",
       "}\n",
       "#T_82a0f_row6_col0 {\n",
       "  background-color: #dfdbd9;\n",
       "  color: #000000;\n",
       "}\n",
       "#T_82a0f_row6_col1 {\n",
       "  background-color: #cdd9ec;\n",
       "  color: #000000;\n",
       "}\n",
       "#T_82a0f_row6_col2 {\n",
       "  background-color: #465ecf;\n",
       "  color: #f1f1f1;\n",
       "}\n",
       "#T_82a0f_row6_col3 {\n",
       "  background-color: #ca3b37;\n",
       "  color: #f1f1f1;\n",
       "}\n",
       "#T_82a0f_row6_col7 {\n",
       "  background-color: #5f7fe8;\n",
       "  color: #f1f1f1;\n",
       "}\n",
       "#T_82a0f_row6_col8 {\n",
       "  background-color: #7597f6;\n",
       "  color: #f1f1f1;\n",
       "}\n",
       "#T_82a0f_row7_col0 {\n",
       "  background-color: #d5dbe5;\n",
       "  color: #000000;\n",
       "}\n",
       "#T_82a0f_row7_col1 {\n",
       "  background-color: #ccd9ed;\n",
       "  color: #000000;\n",
       "}\n",
       "#T_82a0f_row7_col3 {\n",
       "  background-color: #c4d5f3;\n",
       "  color: #000000;\n",
       "}\n",
       "#T_82a0f_row7_col4 {\n",
       "  background-color: #88abfd;\n",
       "  color: #000000;\n",
       "}\n",
       "#T_82a0f_row7_col5 {\n",
       "  background-color: #86a9fc;\n",
       "  color: #f1f1f1;\n",
       "}\n",
       "#T_82a0f_row7_col8 {\n",
       "  background-color: #f6a283;\n",
       "  color: #000000;\n",
       "}\n",
       "#T_82a0f_row8_col0 {\n",
       "  background-color: #d1dae9;\n",
       "  color: #000000;\n",
       "}\n",
       "#T_82a0f_row8_col1 {\n",
       "  background-color: #c1d4f4;\n",
       "  color: #000000;\n",
       "}\n",
       "#T_82a0f_row8_col2 {\n",
       "  background-color: #adc9fd;\n",
       "  color: #000000;\n",
       "}\n",
       "#T_82a0f_row8_col3 {\n",
       "  background-color: #b5cdfa;\n",
       "  color: #000000;\n",
       "}\n",
       "#T_82a0f_row8_col4 {\n",
       "  background-color: #97b8ff;\n",
       "  color: #000000;\n",
       "}\n",
       "#T_82a0f_row8_col5 {\n",
       "  background-color: #7ea1fa;\n",
       "  color: #f1f1f1;\n",
       "}\n",
       "#T_82a0f_row8_col7 {\n",
       "  background-color: #f6a586;\n",
       "  color: #000000;\n",
       "}\n",
       "</style>\n",
       "<table id=\"T_82a0f\">\n",
       "  <thead>\n",
       "    <tr>\n",
       "      <th class=\"blank level0\" >&nbsp;</th>\n",
       "      <th id=\"T_82a0f_level0_col0\" class=\"col_heading level0 col0\" >longitude</th>\n",
       "      <th id=\"T_82a0f_level0_col1\" class=\"col_heading level0 col1\" >latitude</th>\n",
       "      <th id=\"T_82a0f_level0_col2\" class=\"col_heading level0 col2\" >housing_median_age</th>\n",
       "      <th id=\"T_82a0f_level0_col3\" class=\"col_heading level0 col3\" >total_rooms</th>\n",
       "      <th id=\"T_82a0f_level0_col4\" class=\"col_heading level0 col4\" >total_bedrooms</th>\n",
       "      <th id=\"T_82a0f_level0_col5\" class=\"col_heading level0 col5\" >population</th>\n",
       "      <th id=\"T_82a0f_level0_col6\" class=\"col_heading level0 col6\" >households</th>\n",
       "      <th id=\"T_82a0f_level0_col7\" class=\"col_heading level0 col7\" >median_income</th>\n",
       "      <th id=\"T_82a0f_level0_col8\" class=\"col_heading level0 col8\" >median_house_value</th>\n",
       "    </tr>\n",
       "  </thead>\n",
       "  <tbody>\n",
       "    <tr>\n",
       "      <th id=\"T_82a0f_level0_row0\" class=\"row_heading level0 row0\" >longitude</th>\n",
       "      <td id=\"T_82a0f_row0_col0\" class=\"data row0 col0\" >1.00</td>\n",
       "      <td id=\"T_82a0f_row0_col1\" class=\"data row0 col1\" >-0.92</td>\n",
       "      <td id=\"T_82a0f_row0_col2\" class=\"data row0 col2\" >-0.11</td>\n",
       "      <td id=\"T_82a0f_row0_col3\" class=\"data row0 col3\" >0.04</td>\n",
       "      <td id=\"T_82a0f_row0_col4\" class=\"data row0 col4\" >0.07</td>\n",
       "      <td id=\"T_82a0f_row0_col5\" class=\"data row0 col5\" >0.10</td>\n",
       "      <td id=\"T_82a0f_row0_col6\" class=\"data row0 col6\" >0.06</td>\n",
       "      <td id=\"T_82a0f_row0_col7\" class=\"data row0 col7\" >-0.02</td>\n",
       "      <td id=\"T_82a0f_row0_col8\" class=\"data row0 col8\" >-0.05</td>\n",
       "    </tr>\n",
       "    <tr>\n",
       "      <th id=\"T_82a0f_level0_row1\" class=\"row_heading level0 row1\" >latitude</th>\n",
       "      <td id=\"T_82a0f_row1_col0\" class=\"data row1 col0\" >-0.92</td>\n",
       "      <td id=\"T_82a0f_row1_col1\" class=\"data row1 col1\" >1.00</td>\n",
       "      <td id=\"T_82a0f_row1_col2\" class=\"data row1 col2\" >0.01</td>\n",
       "      <td id=\"T_82a0f_row1_col3\" class=\"data row1 col3\" >-0.04</td>\n",
       "      <td id=\"T_82a0f_row1_col4\" class=\"data row1 col4\" >-0.07</td>\n",
       "      <td id=\"T_82a0f_row1_col5\" class=\"data row1 col5\" >-0.11</td>\n",
       "      <td id=\"T_82a0f_row1_col6\" class=\"data row1 col6\" >-0.07</td>\n",
       "      <td id=\"T_82a0f_row1_col7\" class=\"data row1 col7\" >-0.08</td>\n",
       "      <td id=\"T_82a0f_row1_col8\" class=\"data row1 col8\" >-0.14</td>\n",
       "    </tr>\n",
       "    <tr>\n",
       "      <th id=\"T_82a0f_level0_row2\" class=\"row_heading level0 row2\" >housing_median_age</th>\n",
       "      <td id=\"T_82a0f_row2_col0\" class=\"data row2 col0\" >-0.11</td>\n",
       "      <td id=\"T_82a0f_row2_col1\" class=\"data row2 col1\" >0.01</td>\n",
       "      <td id=\"T_82a0f_row2_col2\" class=\"data row2 col2\" >1.00</td>\n",
       "      <td id=\"T_82a0f_row2_col3\" class=\"data row2 col3\" >-0.36</td>\n",
       "      <td id=\"T_82a0f_row2_col4\" class=\"data row2 col4\" >-0.32</td>\n",
       "      <td id=\"T_82a0f_row2_col5\" class=\"data row2 col5\" >-0.30</td>\n",
       "      <td id=\"T_82a0f_row2_col6\" class=\"data row2 col6\" >-0.30</td>\n",
       "      <td id=\"T_82a0f_row2_col7\" class=\"data row2 col7\" >-0.12</td>\n",
       "      <td id=\"T_82a0f_row2_col8\" class=\"data row2 col8\" >0.11</td>\n",
       "    </tr>\n",
       "    <tr>\n",
       "      <th id=\"T_82a0f_level0_row3\" class=\"row_heading level0 row3\" >total_rooms</th>\n",
       "      <td id=\"T_82a0f_row3_col0\" class=\"data row3 col0\" >0.04</td>\n",
       "      <td id=\"T_82a0f_row3_col1\" class=\"data row3 col1\" >-0.04</td>\n",
       "      <td id=\"T_82a0f_row3_col2\" class=\"data row3 col2\" >-0.36</td>\n",
       "      <td id=\"T_82a0f_row3_col3\" class=\"data row3 col3\" >1.00</td>\n",
       "      <td id=\"T_82a0f_row3_col4\" class=\"data row3 col4\" >0.93</td>\n",
       "      <td id=\"T_82a0f_row3_col5\" class=\"data row3 col5\" >0.86</td>\n",
       "      <td id=\"T_82a0f_row3_col6\" class=\"data row3 col6\" >0.92</td>\n",
       "      <td id=\"T_82a0f_row3_col7\" class=\"data row3 col7\" >0.20</td>\n",
       "      <td id=\"T_82a0f_row3_col8\" class=\"data row3 col8\" >0.13</td>\n",
       "    </tr>\n",
       "    <tr>\n",
       "      <th id=\"T_82a0f_level0_row4\" class=\"row_heading level0 row4\" >total_bedrooms</th>\n",
       "      <td id=\"T_82a0f_row4_col0\" class=\"data row4 col0\" >0.07</td>\n",
       "      <td id=\"T_82a0f_row4_col1\" class=\"data row4 col1\" >-0.07</td>\n",
       "      <td id=\"T_82a0f_row4_col2\" class=\"data row4 col2\" >-0.32</td>\n",
       "      <td id=\"T_82a0f_row4_col3\" class=\"data row4 col3\" >0.93</td>\n",
       "      <td id=\"T_82a0f_row4_col4\" class=\"data row4 col4\" >1.00</td>\n",
       "      <td id=\"T_82a0f_row4_col5\" class=\"data row4 col5\" >0.88</td>\n",
       "      <td id=\"T_82a0f_row4_col6\" class=\"data row4 col6\" >0.98</td>\n",
       "      <td id=\"T_82a0f_row4_col7\" class=\"data row4 col7\" >-0.01</td>\n",
       "      <td id=\"T_82a0f_row4_col8\" class=\"data row4 col8\" >0.05</td>\n",
       "    </tr>\n",
       "    <tr>\n",
       "      <th id=\"T_82a0f_level0_row5\" class=\"row_heading level0 row5\" >population</th>\n",
       "      <td id=\"T_82a0f_row5_col0\" class=\"data row5 col0\" >0.10</td>\n",
       "      <td id=\"T_82a0f_row5_col1\" class=\"data row5 col1\" >-0.11</td>\n",
       "      <td id=\"T_82a0f_row5_col2\" class=\"data row5 col2\" >-0.30</td>\n",
       "      <td id=\"T_82a0f_row5_col3\" class=\"data row5 col3\" >0.86</td>\n",
       "      <td id=\"T_82a0f_row5_col4\" class=\"data row5 col4\" >0.88</td>\n",
       "      <td id=\"T_82a0f_row5_col5\" class=\"data row5 col5\" >1.00</td>\n",
       "      <td id=\"T_82a0f_row5_col6\" class=\"data row5 col6\" >0.91</td>\n",
       "      <td id=\"T_82a0f_row5_col7\" class=\"data row5 col7\" >0.00</td>\n",
       "      <td id=\"T_82a0f_row5_col8\" class=\"data row5 col8\" >-0.02</td>\n",
       "    </tr>\n",
       "    <tr>\n",
       "      <th id=\"T_82a0f_level0_row6\" class=\"row_heading level0 row6\" >households</th>\n",
       "      <td id=\"T_82a0f_row6_col0\" class=\"data row6 col0\" >0.06</td>\n",
       "      <td id=\"T_82a0f_row6_col1\" class=\"data row6 col1\" >-0.07</td>\n",
       "      <td id=\"T_82a0f_row6_col2\" class=\"data row6 col2\" >-0.30</td>\n",
       "      <td id=\"T_82a0f_row6_col3\" class=\"data row6 col3\" >0.92</td>\n",
       "      <td id=\"T_82a0f_row6_col4\" class=\"data row6 col4\" >0.98</td>\n",
       "      <td id=\"T_82a0f_row6_col5\" class=\"data row6 col5\" >0.91</td>\n",
       "      <td id=\"T_82a0f_row6_col6\" class=\"data row6 col6\" >1.00</td>\n",
       "      <td id=\"T_82a0f_row6_col7\" class=\"data row6 col7\" >0.01</td>\n",
       "      <td id=\"T_82a0f_row6_col8\" class=\"data row6 col8\" >0.07</td>\n",
       "    </tr>\n",
       "    <tr>\n",
       "      <th id=\"T_82a0f_level0_row7\" class=\"row_heading level0 row7\" >median_income</th>\n",
       "      <td id=\"T_82a0f_row7_col0\" class=\"data row7 col0\" >-0.02</td>\n",
       "      <td id=\"T_82a0f_row7_col1\" class=\"data row7 col1\" >-0.08</td>\n",
       "      <td id=\"T_82a0f_row7_col2\" class=\"data row7 col2\" >-0.12</td>\n",
       "      <td id=\"T_82a0f_row7_col3\" class=\"data row7 col3\" >0.20</td>\n",
       "      <td id=\"T_82a0f_row7_col4\" class=\"data row7 col4\" >-0.01</td>\n",
       "      <td id=\"T_82a0f_row7_col5\" class=\"data row7 col5\" >0.00</td>\n",
       "      <td id=\"T_82a0f_row7_col6\" class=\"data row7 col6\" >0.01</td>\n",
       "      <td id=\"T_82a0f_row7_col7\" class=\"data row7 col7\" >1.00</td>\n",
       "      <td id=\"T_82a0f_row7_col8\" class=\"data row7 col8\" >0.69</td>\n",
       "    </tr>\n",
       "    <tr>\n",
       "      <th id=\"T_82a0f_level0_row8\" class=\"row_heading level0 row8\" >median_house_value</th>\n",
       "      <td id=\"T_82a0f_row8_col0\" class=\"data row8 col0\" >-0.05</td>\n",
       "      <td id=\"T_82a0f_row8_col1\" class=\"data row8 col1\" >-0.14</td>\n",
       "      <td id=\"T_82a0f_row8_col2\" class=\"data row8 col2\" >0.11</td>\n",
       "      <td id=\"T_82a0f_row8_col3\" class=\"data row8 col3\" >0.13</td>\n",
       "      <td id=\"T_82a0f_row8_col4\" class=\"data row8 col4\" >0.05</td>\n",
       "      <td id=\"T_82a0f_row8_col5\" class=\"data row8 col5\" >-0.02</td>\n",
       "      <td id=\"T_82a0f_row8_col6\" class=\"data row8 col6\" >0.07</td>\n",
       "      <td id=\"T_82a0f_row8_col7\" class=\"data row8 col7\" >0.69</td>\n",
       "      <td id=\"T_82a0f_row8_col8\" class=\"data row8 col8\" >1.00</td>\n",
       "    </tr>\n",
       "  </tbody>\n",
       "</table>\n"
      ],
      "text/plain": [
       "<pandas.io.formats.style.Styler at 0x7fe943bd5730>"
      ]
     },
     "execution_count": 43,
     "metadata": {},
     "output_type": "execute_result"
    }
   ],
   "source": [
    "df.corr().style.background_gradient(cmap='coolwarm').set_precision(2)"
   ]
  },
  {
   "cell_type": "code",
   "execution_count": 44,
   "id": "2239e661",
   "metadata": {
    "slideshow": {
     "slide_type": "slide"
    }
   },
   "outputs": [
    {
     "name": "stderr",
     "output_type": "stream",
     "text": [
      "/var/folders/n7/q93jwpcs6jndz6qqvj4mhtcm0000gn/T/ipykernel_83064/1771394237.py:1: FutureWarning: The default value of numeric_only in DataFrame.corr is deprecated. In a future version, it will default to False. Select only valid columns or specify the value of numeric_only to silence this warning.\n",
      "  df.corr()['median_house_value'].sort_values(ascending=False)\n"
     ]
    },
    {
     "data": {
      "text/plain": [
       "median_house_value    1.000000\n",
       "median_income         0.688075\n",
       "total_rooms           0.134153\n",
       "housing_median_age    0.105623\n",
       "households            0.065843\n",
       "total_bedrooms        0.049686\n",
       "population           -0.024650\n",
       "longitude            -0.045967\n",
       "latitude             -0.144160\n",
       "Name: median_house_value, dtype: float64"
      ]
     },
     "execution_count": 44,
     "metadata": {},
     "output_type": "execute_result"
    }
   ],
   "source": [
    "df.corr()['median_house_value'].sort_values(ascending=False)"
   ]
  },
  {
   "cell_type": "markdown",
   "id": "c987cd6c",
   "metadata": {
    "slideshow": {
     "slide_type": "slide"
    }
   },
   "source": [
    "### Histogram\n",
    "\n",
    "Shows the number of of instances that have a given value"
   ]
  },
  {
   "cell_type": "code",
   "execution_count": 45,
   "id": "cf0404be",
   "metadata": {
    "slideshow": {
     "slide_type": "fragment"
    }
   },
   "outputs": [
    {
     "name": "stdout",
     "output_type": "stream",
     "text": [
      "Requirement already satisfied: matplotlib in /Users/vivianamarquez/opt/anaconda3/envs/IntroML/lib/python3.9/site-packages (3.7.0)\n",
      "Requirement already satisfied: kiwisolver>=1.0.1 in /Users/vivianamarquez/opt/anaconda3/envs/IntroML/lib/python3.9/site-packages (from matplotlib) (1.4.4)\n",
      "Requirement already satisfied: numpy>=1.20 in /Users/vivianamarquez/opt/anaconda3/envs/IntroML/lib/python3.9/site-packages (from matplotlib) (1.24.2)\n",
      "Requirement already satisfied: packaging>=20.0 in /Users/vivianamarquez/opt/anaconda3/envs/IntroML/lib/python3.9/site-packages (from matplotlib) (23.0)\n",
      "Requirement already satisfied: contourpy>=1.0.1 in /Users/vivianamarquez/opt/anaconda3/envs/IntroML/lib/python3.9/site-packages (from matplotlib) (1.0.7)\n",
      "Requirement already satisfied: pillow>=6.2.0 in /Users/vivianamarquez/opt/anaconda3/envs/IntroML/lib/python3.9/site-packages (from matplotlib) (9.4.0)\n",
      "Requirement already satisfied: importlib-resources>=3.2.0 in /Users/vivianamarquez/opt/anaconda3/envs/IntroML/lib/python3.9/site-packages (from matplotlib) (5.12.0)\n",
      "Requirement already satisfied: fonttools>=4.22.0 in /Users/vivianamarquez/opt/anaconda3/envs/IntroML/lib/python3.9/site-packages (from matplotlib) (4.38.0)\n",
      "Requirement already satisfied: pyparsing>=2.3.1 in /Users/vivianamarquez/opt/anaconda3/envs/IntroML/lib/python3.9/site-packages (from matplotlib) (3.0.9)\n",
      "Requirement already satisfied: python-dateutil>=2.7 in /Users/vivianamarquez/opt/anaconda3/envs/IntroML/lib/python3.9/site-packages (from matplotlib) (2.8.2)\n",
      "Requirement already satisfied: cycler>=0.10 in /Users/vivianamarquez/opt/anaconda3/envs/IntroML/lib/python3.9/site-packages (from matplotlib) (0.11.0)\n",
      "Requirement already satisfied: zipp>=3.1.0 in /Users/vivianamarquez/opt/anaconda3/envs/IntroML/lib/python3.9/site-packages (from importlib-resources>=3.2.0->matplotlib) (3.14.0)\n",
      "Requirement already satisfied: six>=1.5 in /Users/vivianamarquez/opt/anaconda3/envs/IntroML/lib/python3.9/site-packages (from python-dateutil>=2.7->matplotlib) (1.16.0)\n"
     ]
    }
   ],
   "source": [
    "! pip install matplotlib"
   ]
  },
  {
   "cell_type": "code",
   "execution_count": 46,
   "id": "939ae2e1",
   "metadata": {
    "slideshow": {
     "slide_type": "slide"
    }
   },
   "outputs": [],
   "source": [
    "import matplotlib.pyplot as plt"
   ]
  },
  {
   "cell_type": "code",
   "execution_count": 48,
   "id": "86015613",
   "metadata": {
    "slideshow": {
     "slide_type": "fragment"
    }
   },
   "outputs": [
    {
     "data": {
      "image/png": "[encoded data removed]",
      "text/plain": [
       "<Figure size 1200x800 with 9 Axes>"
      ]
     },
     "metadata": {},
     "output_type": "display_data"
    }
   ],
   "source": [
    "df.hist(bins=50, figsize=(12,8))\n",
    "plt.show()"
   ]
  },
  {
   "cell_type": "markdown",
   "id": "80ffab56",
   "metadata": {
    "slideshow": {
     "slide_type": "slide"
    }
   },
   "source": [
    "# 🤔 Do you notice anything by looking at these histograms?"
   ]
  },
  {
   "cell_type": "markdown",
   "id": "21bf52fb",
   "metadata": {
    "slideshow": {
     "slide_type": "fragment"
    }
   },
   "source": [
    "- `median_income`: Looks like it's not expressed in US dollars"
   ]
  },
  {
   "cell_type": "markdown",
   "id": "b8877309",
   "metadata": {
    "slideshow": {
     "slide_type": "fragment"
    }
   },
   "source": [
    "    - Data has been scaled and capped at 15 for higher median incomes, and at 0.5 for lower median incomes. \n",
    "    - The numbers represent roughly tens of thousands of dollars (e.g., 3 actually means about $30,000). \n",
    "    - Working with preprocessed attributes is common in Machine Learning, and it is not necessarily a problem, but you should try to understand how the data was computed."
   ]
  },
  {
   "cell_type": "markdown",
   "id": "057a44b0",
   "metadata": {
    "slideshow": {
     "slide_type": "slide"
    }
   },
   "source": [
    "- `housing_median_age`, `median_house_value`: Looks like they're capped."
   ]
  },
  {
   "cell_type": "markdown",
   "id": "79ad02a6",
   "metadata": {
    "slideshow": {
     "slide_type": "fragment"
    }
   },
   "source": [
    "    - Issue: `median_house_value` is your target variable\n",
    "    - Options: Collect proper labels or remove capped observations from the dataset"
   ]
  },
  {
   "cell_type": "markdown",
   "id": "795ae996",
   "metadata": {
    "slideshow": {
     "slide_type": "slide"
    }
   },
   "source": [
    "- Many attributes have different scales (... we will discuss that next)"
   ]
  },
  {
   "cell_type": "markdown",
   "id": "3c48e004",
   "metadata": {
    "slideshow": {
     "slide_type": "fragment"
    }
   },
   "source": [
    "- Many histograms are skewed right"
   ]
  },
  {
   "cell_type": "markdown",
   "id": "2a64606a",
   "metadata": {
    "slideshow": {
     "slide_type": "slide"
    }
   },
   "source": [
    "# Do we have nulls?"
   ]
  },
  {
   "cell_type": "code",
   "execution_count": 52,
   "id": "e975e2ad",
   "metadata": {
    "slideshow": {
     "slide_type": "fragment"
    }
   },
   "outputs": [
    {
     "data": {
      "text/plain": [
       "longitude               0\n",
       "latitude                0\n",
       "housing_median_age      0\n",
       "total_rooms             0\n",
       "total_bedrooms        207\n",
       "population              0\n",
       "households              0\n",
       "median_income           0\n",
       "median_house_value      0\n",
       "ocean_proximity         0\n",
       "dtype: int64"
      ]
     },
     "execution_count": 52,
     "metadata": {},
     "output_type": "execute_result"
    }
   ],
   "source": [
    "df.isna().sum()"
   ]
  },
  {
   "cell_type": "markdown",
   "id": "57121fa6",
   "metadata": {
    "slideshow": {
     "slide_type": "slide"
    }
   },
   "source": [
    "# Visualizing your data"
   ]
  },
  {
   "cell_type": "code",
   "execution_count": 53,
   "id": "b3396b38",
   "metadata": {
    "slideshow": {
     "slide_type": "fragment"
    }
   },
   "outputs": [
    {
     "data": {
      "image/png": "[encoded data removed]",
      "text/plain": [
       "<Figure size 640x480 with 1 Axes>"
      ]
     },
     "metadata": {},
     "output_type": "display_data"
    }
   ],
   "source": [
    "df.plot(kind=\"scatter\", x=\"longitude\", y=\"latitude\", grid=True)\n",
    "plt.show()"
   ]
  },
  {
   "cell_type": "code",
   "execution_count": 54,
   "id": "bd500bce",
   "metadata": {
    "slideshow": {
     "slide_type": "slide"
    }
   },
   "outputs": [
    {
     "data": {
      "image/png": "[encoded data removed]",
      "text/plain": [
       "<Figure size 640x480 with 1 Axes>"
      ]
     },
     "metadata": {},
     "output_type": "display_data"
    }
   ],
   "source": [
    "df.plot(kind=\"scatter\", x=\"longitude\", y=\"latitude\", grid=True, alpha=0.2)\n",
    "plt.show()"
   ]
  },
  {
   "cell_type": "code",
   "execution_count": 55,
   "id": "90d88070",
   "metadata": {
    "scrolled": false,
    "slideshow": {
     "slide_type": "slide"
    }
   },
   "outputs": [
    {
     "data": {
      "image/png": "[encoded data removed]",
      "text/plain": [
       "<Figure size 1000x700 with 2 Axes>"
      ]
     },
     "metadata": {},
     "output_type": "display_data"
    }
   ],
   "source": [
    "df.plot(kind=\"scatter\", x=\"longitude\", y=\"latitude\", grid=True,\n",
    "             s=df[\"population\"] / 100, \n",
    "             label=\"population\",\n",
    "             c=\"median_house_value\", \n",
    "             cmap=\"jet\", colorbar=True,\n",
    "             legend=True,  figsize=(10, 7))\n",
    "plt.show()"
   ]
  },
  {
   "cell_type": "markdown",
   "id": "841c2537",
   "metadata": {
    "slideshow": {
     "slide_type": "slide"
    }
   },
   "source": [
    "Save California image from: https://raw.githubusercontent.com/vivianamarquez/Intro-to-Machine-Learning/main/img/class_2/california.png"
   ]
  },
  {
   "cell_type": "code",
   "execution_count": 56,
   "id": "f1e1cb80",
   "metadata": {
    "scrolled": false,
    "slideshow": {
     "slide_type": "slide"
    }
   },
   "outputs": [
    {
     "data": {
      "image/png": "[encoded data removed]",
      "text/plain": [
       "<Figure size 1000x700 with 2 Axes>"
      ]
     },
     "metadata": {},
     "output_type": "display_data"
    }
   ],
   "source": [
    "df.plot(kind=\"scatter\", x=\"longitude\", y=\"latitude\",\n",
    "             s=df[\"population\"] / 100, label=\"population\",\n",
    "             c=\"median_house_value\", cmap=\"jet\", colorbar=True,\n",
    "             legend=True,  figsize=(10, 7))\n",
    "\n",
    "california_img = plt.imread(\"../img/class_2/california.png\")\n",
    "\n",
    "axis = -124.55, -113.95, 32.45, 42.05\n",
    "\n",
    "plt.axis(axis)\n",
    "plt.imshow(california_img, extent=axis)\n",
    "\n",
    "plt.show()"
   ]
  },
  {
   "cell_type": "markdown",
   "id": "7c6558e2",
   "metadata": {
    "slideshow": {
     "slide_type": "slide"
    }
   },
   "source": [
    "# Useful questions to ask yourself when doing EDA"
   ]
  },
  {
   "cell_type": "markdown",
   "id": "8a1dfccc",
   "metadata": {
    "slideshow": {
     "slide_type": "fragment"
    }
   },
   "source": [
    "- **Completeness:** Does the given data include all required information?"
   ]
  },
  {
   "cell_type": "markdown",
   "id": "2a98c4f3",
   "metadata": {
    "slideshow": {
     "slide_type": "fragment"
    }
   },
   "source": [
    "- **Validity:** Does the given data correspond with business rules and/or restrictions?"
   ]
  },
  {
   "cell_type": "markdown",
   "id": "db59e78f",
   "metadata": {
    "slideshow": {
     "slide_type": "fragment"
    }
   },
   "source": [
    "- **Uniformity:** Is the given data specified using consistent units of measurement?\n",
    "\n"
   ]
  },
  {
   "cell_type": "markdown",
   "id": "a5b7c4fd",
   "metadata": {
    "slideshow": {
     "slide_type": "fragment"
    }
   },
   "source": [
    "- **Consistency:** Is the given data consistent across your datasets?\n"
   ]
  },
  {
   "cell_type": "markdown",
   "id": "06723c84",
   "metadata": {
    "slideshow": {
     "slide_type": "fragment"
    }
   },
   "source": [
    "- **Accuracy:** Is the given data close to the true values?\n",
    "\n",
    "\n"
   ]
  },
  {
   "cell_type": "markdown",
   "id": "a7505719",
   "metadata": {
    "slideshow": {
     "slide_type": "slide"
    }
   },
   "source": [
    "#### 🚀 Part 2\n",
    "\n",
    "See you here at @7:50PM"
   ]
  },
  {
   "cell_type": "markdown",
   "id": "77aaa7c7",
   "metadata": {
    "slideshow": {
     "slide_type": "slide"
    }
   },
   "source": [
    "# ❇️ Train, validation, and test data sets"
   ]
  },
  {
   "cell_type": "markdown",
   "id": "bfad8d4f",
   "metadata": {
    "slideshow": {
     "slide_type": "slide"
    }
   },
   "source": [
    "<center>\n",
    "    <img src='../img/class_2/pipeline_FE.png' style='height:500px;'>\n",
    "</center>"
   ]
  },
  {
   "cell_type": "markdown",
   "id": "5e18398b",
   "metadata": {
    "slideshow": {
     "slide_type": "slide"
    }
   },
   "source": [
    "# ⏩ How do we know if our model is good? "
   ]
  },
  {
   "cell_type": "markdown",
   "id": "4f320a92",
   "metadata": {
    "slideshow": {
     "slide_type": "fragment"
    }
   },
   "source": [
    "## --> We need split the data into train/validation/test data sets!"
   ]
  },
  {
   "cell_type": "markdown",
   "id": "6196c516",
   "metadata": {
    "slideshow": {
     "slide_type": "fragment"
    }
   },
   "source": [
    "- **Training dataset:** Used to train machine learning model\n",
    "- **Validation dataset:** Used to tune the model's hyperparameters \n",
    "- **Test datatset:** Evaluate the model's performance on unseen data"
   ]
  },
  {
   "cell_type": "markdown",
   "id": "c156eb7e",
   "metadata": {
    "slideshow": {
     "slide_type": "notes"
    }
   },
   "source": [
    "(Val set: you can ensure that you are not overfitting your model to the training data by tweaking its hyperparameters)"
   ]
  },
  {
   "cell_type": "markdown",
   "id": "cef1cdb8",
   "metadata": {
    "slideshow": {
     "slide_type": "slide"
    }
   },
   "source": [
    "# ⚠️⚠️⚠️ \n",
    "\n",
    "- It is important to separate the data into training, validation, and test sets **BEFORE** doing any data cleaning or feature engineering to prevent <u>data leakage</u> and ensure that the model is evaluated on unseen data."
   ]
  },
  {
   "cell_type": "markdown",
   "id": "d7a5d91e",
   "metadata": {
    "slideshow": {
     "slide_type": "fragment"
    }
   },
   "source": [
    "- **Data leakage:** Occurs when information from the validation or test set is used to inform the model during training or feature engineering\n",
    "    - This can result in an overly optimistic evaluation of the model's performance and an inability to generalize well to new, unseen data\n",
    "    - By separating the datasets we can ensure that the model is evaluated on unseen data"
   ]
  },
  {
   "cell_type": "markdown",
   "id": "af44b386",
   "metadata": {
    "slideshow": {
     "slide_type": "fragment"
    }
   },
   "source": [
    "- In general, putting 80% of the data in the training set, 10%  in the validation set, and 10% in the test set is a good split to start with."
   ]
  },
  {
   "cell_type": "markdown",
   "id": "cfaa38bd",
   "metadata": {
    "slideshow": {
     "slide_type": "fragment"
    }
   },
   "source": [
    "- Most of the time, the data should be split randomly to be representative of the whole population."
   ]
  },
  {
   "cell_type": "markdown",
   "id": "a62764d6",
   "metadata": {
    "slideshow": {
     "slide_type": "slide"
    }
   },
   "source": [
    "# Let's split the data"
   ]
  },
  {
   "cell_type": "code",
   "execution_count": 57,
   "id": "b6378388",
   "metadata": {
    "slideshow": {
     "slide_type": "fragment"
    }
   },
   "outputs": [
    {
     "name": "stdout",
     "output_type": "stream",
     "text": [
      "Requirement already satisfied: scikit-learn in /Users/vivianamarquez/opt/anaconda3/envs/IntroML/lib/python3.9/site-packages (1.2.1)\n",
      "Requirement already satisfied: threadpoolctl>=2.0.0 in /Users/vivianamarquez/opt/anaconda3/envs/IntroML/lib/python3.9/site-packages (from scikit-learn) (3.1.0)\n",
      "Requirement already satisfied: scipy>=1.3.2 in /Users/vivianamarquez/opt/anaconda3/envs/IntroML/lib/python3.9/site-packages (from scikit-learn) (1.10.1)\n",
      "Requirement already satisfied: numpy>=1.17.3 in /Users/vivianamarquez/opt/anaconda3/envs/IntroML/lib/python3.9/site-packages (from scikit-learn) (1.24.2)\n",
      "Requirement already satisfied: joblib>=1.1.1 in /Users/vivianamarquez/opt/anaconda3/envs/IntroML/lib/python3.9/site-packages (from scikit-learn) (1.2.0)\n"
     ]
    }
   ],
   "source": [
    "! pip install scikit-learn"
   ]
  },
  {
   "cell_type": "code",
   "execution_count": 58,
   "id": "446d72e3",
   "metadata": {
    "slideshow": {
     "slide_type": "slide"
    }
   },
   "outputs": [],
   "source": [
    "from sklearn.model_selection import train_test_split"
   ]
  },
  {
   "cell_type": "code",
   "execution_count": 60,
   "id": "b5e0f01e",
   "metadata": {
    "slideshow": {
     "slide_type": "fragment"
    }
   },
   "outputs": [
    {
     "data": {
      "text/html": [
       "<div>\n",
       "<style scoped>\n",
       "    .dataframe tbody tr th:only-of-type {\n",
       "        vertical-align: middle;\n",
       "    }\n",
       "\n",
       "    .dataframe tbody tr th {\n",
       "        vertical-align: top;\n",
       "    }\n",
       "\n",
       "    .dataframe thead th {\n",
       "        text-align: right;\n",
       "    }\n",
       "</style>\n",
       "<table border=\"1\" class=\"dataframe\">\n",
       "  <thead>\n",
       "    <tr style=\"text-align: right;\">\n",
       "      <th></th>\n",
       "      <th>longitude</th>\n",
       "      <th>latitude</th>\n",
       "      <th>housing_median_age</th>\n",
       "      <th>total_rooms</th>\n",
       "      <th>total_bedrooms</th>\n",
       "      <th>population</th>\n",
       "      <th>households</th>\n",
       "      <th>median_income</th>\n",
       "      <th>median_house_value</th>\n",
       "      <th>ocean_proximity</th>\n",
       "    </tr>\n",
       "  </thead>\n",
       "  <tbody>\n",
       "    <tr>\n",
       "      <th>0</th>\n",
       "      <td>-122.23</td>\n",
       "      <td>37.88</td>\n",
       "      <td>41.0</td>\n",
       "      <td>880.0</td>\n",
       "      <td>129.0</td>\n",
       "      <td>322.0</td>\n",
       "      <td>126.0</td>\n",
       "      <td>8.3252</td>\n",
       "      <td>452600.0</td>\n",
       "      <td>NEAR BAY</td>\n",
       "    </tr>\n",
       "    <tr>\n",
       "      <th>1</th>\n",
       "      <td>-122.22</td>\n",
       "      <td>37.86</td>\n",
       "      <td>21.0</td>\n",
       "      <td>7099.0</td>\n",
       "      <td>1106.0</td>\n",
       "      <td>2401.0</td>\n",
       "      <td>1138.0</td>\n",
       "      <td>8.3014</td>\n",
       "      <td>358500.0</td>\n",
       "      <td>NEAR BAY</td>\n",
       "    </tr>\n",
       "    <tr>\n",
       "      <th>2</th>\n",
       "      <td>-122.24</td>\n",
       "      <td>37.85</td>\n",
       "      <td>52.0</td>\n",
       "      <td>1467.0</td>\n",
       "      <td>190.0</td>\n",
       "      <td>496.0</td>\n",
       "      <td>177.0</td>\n",
       "      <td>7.2574</td>\n",
       "      <td>352100.0</td>\n",
       "      <td>NEAR BAY</td>\n",
       "    </tr>\n",
       "    <tr>\n",
       "      <th>3</th>\n",
       "      <td>-122.25</td>\n",
       "      <td>37.85</td>\n",
       "      <td>52.0</td>\n",
       "      <td>1274.0</td>\n",
       "      <td>235.0</td>\n",
       "      <td>558.0</td>\n",
       "      <td>219.0</td>\n",
       "      <td>5.6431</td>\n",
       "      <td>341300.0</td>\n",
       "      <td>NEAR BAY</td>\n",
       "    </tr>\n",
       "    <tr>\n",
       "      <th>4</th>\n",
       "      <td>-122.25</td>\n",
       "      <td>37.85</td>\n",
       "      <td>52.0</td>\n",
       "      <td>1627.0</td>\n",
       "      <td>280.0</td>\n",
       "      <td>565.0</td>\n",
       "      <td>259.0</td>\n",
       "      <td>3.8462</td>\n",
       "      <td>342200.0</td>\n",
       "      <td>NEAR BAY</td>\n",
       "    </tr>\n",
       "  </tbody>\n",
       "</table>\n",
       "</div>"
      ],
      "text/plain": [
       "   longitude  latitude  housing_median_age  total_rooms  total_bedrooms  \\\n",
       "0    -122.23     37.88                41.0        880.0           129.0   \n",
       "1    -122.22     37.86                21.0       7099.0          1106.0   \n",
       "2    -122.24     37.85                52.0       1467.0           190.0   \n",
       "3    -122.25     37.85                52.0       1274.0           235.0   \n",
       "4    -122.25     37.85                52.0       1627.0           280.0   \n",
       "\n",
       "   population  households  median_income  median_house_value ocean_proximity  \n",
       "0       322.0       126.0         8.3252            452600.0        NEAR BAY  \n",
       "1      2401.0      1138.0         8.3014            358500.0        NEAR BAY  \n",
       "2       496.0       177.0         7.2574            352100.0        NEAR BAY  \n",
       "3       558.0       219.0         5.6431            341300.0        NEAR BAY  \n",
       "4       565.0       259.0         3.8462            342200.0        NEAR BAY  "
      ]
     },
     "execution_count": 60,
     "metadata": {},
     "output_type": "execute_result"
    }
   ],
   "source": [
    "df.head()"
   ]
  },
  {
   "cell_type": "code",
   "execution_count": 61,
   "id": "c613766d",
   "metadata": {
    "slideshow": {
     "slide_type": "slide"
    }
   },
   "outputs": [
    {
     "data": {
      "text/html": [
       "<div>\n",
       "<style scoped>\n",
       "    .dataframe tbody tr th:only-of-type {\n",
       "        vertical-align: middle;\n",
       "    }\n",
       "\n",
       "    .dataframe tbody tr th {\n",
       "        vertical-align: top;\n",
       "    }\n",
       "\n",
       "    .dataframe thead th {\n",
       "        text-align: right;\n",
       "    }\n",
       "</style>\n",
       "<table border=\"1\" class=\"dataframe\">\n",
       "  <thead>\n",
       "    <tr style=\"text-align: right;\">\n",
       "      <th></th>\n",
       "      <th>median_house_value</th>\n",
       "    </tr>\n",
       "  </thead>\n",
       "  <tbody>\n",
       "    <tr>\n",
       "      <th>0</th>\n",
       "      <td>452600.0</td>\n",
       "    </tr>\n",
       "    <tr>\n",
       "      <th>1</th>\n",
       "      <td>358500.0</td>\n",
       "    </tr>\n",
       "    <tr>\n",
       "      <th>2</th>\n",
       "      <td>352100.0</td>\n",
       "    </tr>\n",
       "    <tr>\n",
       "      <th>3</th>\n",
       "      <td>341300.0</td>\n",
       "    </tr>\n",
       "    <tr>\n",
       "      <th>4</th>\n",
       "      <td>342200.0</td>\n",
       "    </tr>\n",
       "  </tbody>\n",
       "</table>\n",
       "</div>"
      ],
      "text/plain": [
       "   median_house_value\n",
       "0            452600.0\n",
       "1            358500.0\n",
       "2            352100.0\n",
       "3            341300.0\n",
       "4            342200.0"
      ]
     },
     "execution_count": 61,
     "metadata": {},
     "output_type": "execute_result"
    }
   ],
   "source": [
    "# target variable\n",
    "y = df[['median_house_value']]\n",
    "y.head()"
   ]
  },
  {
   "cell_type": "code",
   "execution_count": 64,
   "id": "e6d68e55",
   "metadata": {
    "slideshow": {
     "slide_type": "fragment"
    }
   },
   "outputs": [
    {
     "data": {
      "text/html": [
       "<div>\n",
       "<style scoped>\n",
       "    .dataframe tbody tr th:only-of-type {\n",
       "        vertical-align: middle;\n",
       "    }\n",
       "\n",
       "    .dataframe tbody tr th {\n",
       "        vertical-align: top;\n",
       "    }\n",
       "\n",
       "    .dataframe thead th {\n",
       "        text-align: right;\n",
       "    }\n",
       "</style>\n",
       "<table border=\"1\" class=\"dataframe\">\n",
       "  <thead>\n",
       "    <tr style=\"text-align: right;\">\n",
       "      <th></th>\n",
       "      <th>longitude</th>\n",
       "      <th>latitude</th>\n",
       "      <th>housing_median_age</th>\n",
       "      <th>total_rooms</th>\n",
       "      <th>total_bedrooms</th>\n",
       "      <th>population</th>\n",
       "      <th>households</th>\n",
       "      <th>median_income</th>\n",
       "      <th>ocean_proximity</th>\n",
       "    </tr>\n",
       "  </thead>\n",
       "  <tbody>\n",
       "    <tr>\n",
       "      <th>0</th>\n",
       "      <td>-122.23</td>\n",
       "      <td>37.88</td>\n",
       "      <td>41.0</td>\n",
       "      <td>880.0</td>\n",
       "      <td>129.0</td>\n",
       "      <td>322.0</td>\n",
       "      <td>126.0</td>\n",
       "      <td>8.3252</td>\n",
       "      <td>NEAR BAY</td>\n",
       "    </tr>\n",
       "    <tr>\n",
       "      <th>1</th>\n",
       "      <td>-122.22</td>\n",
       "      <td>37.86</td>\n",
       "      <td>21.0</td>\n",
       "      <td>7099.0</td>\n",
       "      <td>1106.0</td>\n",
       "      <td>2401.0</td>\n",
       "      <td>1138.0</td>\n",
       "      <td>8.3014</td>\n",
       "      <td>NEAR BAY</td>\n",
       "    </tr>\n",
       "    <tr>\n",
       "      <th>2</th>\n",
       "      <td>-122.24</td>\n",
       "      <td>37.85</td>\n",
       "      <td>52.0</td>\n",
       "      <td>1467.0</td>\n",
       "      <td>190.0</td>\n",
       "      <td>496.0</td>\n",
       "      <td>177.0</td>\n",
       "      <td>7.2574</td>\n",
       "      <td>NEAR BAY</td>\n",
       "    </tr>\n",
       "    <tr>\n",
       "      <th>3</th>\n",
       "      <td>-122.25</td>\n",
       "      <td>37.85</td>\n",
       "      <td>52.0</td>\n",
       "      <td>1274.0</td>\n",
       "      <td>235.0</td>\n",
       "      <td>558.0</td>\n",
       "      <td>219.0</td>\n",
       "      <td>5.6431</td>\n",
       "      <td>NEAR BAY</td>\n",
       "    </tr>\n",
       "    <tr>\n",
       "      <th>4</th>\n",
       "      <td>-122.25</td>\n",
       "      <td>37.85</td>\n",
       "      <td>52.0</td>\n",
       "      <td>1627.0</td>\n",
       "      <td>280.0</td>\n",
       "      <td>565.0</td>\n",
       "      <td>259.0</td>\n",
       "      <td>3.8462</td>\n",
       "      <td>NEAR BAY</td>\n",
       "    </tr>\n",
       "  </tbody>\n",
       "</table>\n",
       "</div>"
      ],
      "text/plain": [
       "   longitude  latitude  housing_median_age  total_rooms  total_bedrooms  \\\n",
       "0    -122.23     37.88                41.0        880.0           129.0   \n",
       "1    -122.22     37.86                21.0       7099.0          1106.0   \n",
       "2    -122.24     37.85                52.0       1467.0           190.0   \n",
       "3    -122.25     37.85                52.0       1274.0           235.0   \n",
       "4    -122.25     37.85                52.0       1627.0           280.0   \n",
       "\n",
       "   population  households  median_income ocean_proximity  \n",
       "0       322.0       126.0         8.3252        NEAR BAY  \n",
       "1      2401.0      1138.0         8.3014        NEAR BAY  \n",
       "2       496.0       177.0         7.2574        NEAR BAY  \n",
       "3       558.0       219.0         5.6431        NEAR BAY  \n",
       "4       565.0       259.0         3.8462        NEAR BAY  "
      ]
     },
     "execution_count": 64,
     "metadata": {},
     "output_type": "execute_result"
    }
   ],
   "source": [
    "# attributes\n",
    "X = df [['longitude', 'latitude', 'housing_median_age', 'total_rooms',\n",
    "       'total_bedrooms', 'population', 'households', 'median_income',\n",
    "       'ocean_proximity']]\n",
    "\n",
    "X.head()"
   ]
  },
  {
   "cell_type": "code",
   "execution_count": 87,
   "id": "50dc1db2",
   "metadata": {
    "slideshow": {
     "slide_type": "slide"
    }
   },
   "outputs": [],
   "source": [
    "X_train_val, X_test, y_train_val, y_test = train_test_split(X, y, test_size=0.1)"
   ]
  },
  {
   "cell_type": "code",
   "execution_count": 88,
   "id": "0e043d41",
   "metadata": {
    "slideshow": {
     "slide_type": "fragment"
    }
   },
   "outputs": [],
   "source": [
    "# Split the training and validation sets\n",
    "X_train, X_val, y_train, y_val = train_test_split(X_train_val, y_train_val, test_size=0.111111)"
   ]
  },
  {
   "cell_type": "code",
   "execution_count": 89,
   "id": "ec830a9e",
   "metadata": {
    "slideshow": {
     "slide_type": "fragment"
    }
   },
   "outputs": [
    {
     "data": {
      "text/html": [
       "<div>\n",
       "<style scoped>\n",
       "    .dataframe tbody tr th:only-of-type {\n",
       "        vertical-align: middle;\n",
       "    }\n",
       "\n",
       "    .dataframe tbody tr th {\n",
       "        vertical-align: top;\n",
       "    }\n",
       "\n",
       "    .dataframe thead th {\n",
       "        text-align: right;\n",
       "    }\n",
       "</style>\n",
       "<table border=\"1\" class=\"dataframe\">\n",
       "  <thead>\n",
       "    <tr style=\"text-align: right;\">\n",
       "      <th></th>\n",
       "      <th>longitude</th>\n",
       "      <th>latitude</th>\n",
       "      <th>housing_median_age</th>\n",
       "      <th>total_rooms</th>\n",
       "      <th>total_bedrooms</th>\n",
       "      <th>population</th>\n",
       "      <th>households</th>\n",
       "      <th>median_income</th>\n",
       "      <th>ocean_proximity</th>\n",
       "    </tr>\n",
       "  </thead>\n",
       "  <tbody>\n",
       "    <tr>\n",
       "      <th>6503</th>\n",
       "      <td>-119.68</td>\n",
       "      <td>36.63</td>\n",
       "      <td>39.0</td>\n",
       "      <td>1237.0</td>\n",
       "      <td>256.0</td>\n",
       "      <td>638.0</td>\n",
       "      <td>239.0</td>\n",
       "      <td>3.0139</td>\n",
       "      <td>INLAND</td>\n",
       "    </tr>\n",
       "    <tr>\n",
       "      <th>7219</th>\n",
       "      <td>-118.31</td>\n",
       "      <td>33.99</td>\n",
       "      <td>49.0</td>\n",
       "      <td>857.0</td>\n",
       "      <td>196.0</td>\n",
       "      <td>694.0</td>\n",
       "      <td>228.0</td>\n",
       "      <td>2.8950</td>\n",
       "      <td>&lt;1H OCEAN</td>\n",
       "    </tr>\n",
       "  </tbody>\n",
       "</table>\n",
       "</div>"
      ],
      "text/plain": [
       "      longitude  latitude  housing_median_age  total_rooms  total_bedrooms  \\\n",
       "6503    -119.68     36.63                39.0       1237.0           256.0   \n",
       "7219    -118.31     33.99                49.0        857.0           196.0   \n",
       "\n",
       "      population  households  median_income ocean_proximity  \n",
       "6503       638.0       239.0         3.0139          INLAND  \n",
       "7219       694.0       228.0         2.8950       <1H OCEAN  "
      ]
     },
     "execution_count": 89,
     "metadata": {},
     "output_type": "execute_result"
    }
   ],
   "source": [
    "X_val.head(2)"
   ]
  },
  {
   "cell_type": "code",
   "execution_count": 90,
   "id": "1ee85637",
   "metadata": {
    "slideshow": {
     "slide_type": "fragment"
    }
   },
   "outputs": [
    {
     "name": "stdout",
     "output_type": "stream",
     "text": [
      "Number of observations in X_train: 16512 and y_train: 16512\n",
      "Number of observations in X_val: 2064 and y_val: 2064\n",
      "Number of observations in X_test: 2064 and y_test: 2064\n"
     ]
    }
   ],
   "source": [
    "# Sanity check: X and y should contain the same number of observations\n",
    "print(f\"Number of observations in X_train: {X_train.shape[0]} and y_train: {y_train.shape[0]}\")\n",
    "print(f\"Number of observations in X_val: {X_val.shape[0]} and y_val: {y_val.shape[0]}\")\n",
    "print(f\"Number of observations in X_test: {X_test.shape[0]} and y_test: {y_test.shape[0]}\")"
   ]
  },
  {
   "cell_type": "code",
   "execution_count": 92,
   "id": "171de75f",
   "metadata": {
    "slideshow": {
     "slide_type": "fragment"
    }
   },
   "outputs": [
    {
     "name": "stdout",
     "output_type": "stream",
     "text": [
      "Percentage of observations in the train dataset: 80.0%\n",
      "Percentage of observations in the val dataset: 10.0%\n",
      "Percentage of observations in the test dataset: 10.0%\n"
     ]
    }
   ],
   "source": [
    "print(f\"Percentage of observations in the train dataset: {X_train.shape[0]/df.shape[0]*100}%\")\n",
    "print(f\"Percentage of observations in the val dataset: {X_val.shape[0]/df.shape[0]*100}%\")\n",
    "print(f\"Percentage of observations in the test dataset: {X_test.shape[0]/df.shape[0]*100}%\")"
   ]
  },
  {
   "cell_type": "markdown",
   "id": "52195943",
   "metadata": {
    "slideshow": {
     "slide_type": "slide"
    }
   },
   "source": [
    "# ❇️ Data cleaning"
   ]
  },
  {
   "cell_type": "markdown",
   "id": "d062a5dd",
   "metadata": {
    "slideshow": {
     "slide_type": "slide"
    }
   },
   "source": [
    "# 🛁 Data cleaning\n",
    "\n",
    "<br><br>\n",
    "<center>\n",
    "    <img src='../img/class_0/gigo.png' style='height:300px;'>\n",
    "</center>\n",
    "\n",
    "- Identifying and correcting or removing errors, inaccuracies, and incomplete or irrelevant data\n",
    "- Objective: Improve data quality, making it suitable for modeling"
   ]
  },
  {
   "cell_type": "markdown",
   "id": "8517b459",
   "metadata": {
    "slideshow": {
     "slide_type": "slide"
    }
   },
   "source": [
    "### Handling missing values\n",
    "\n",
    "Two options: Drop them or account for them"
   ]
  },
  {
   "cell_type": "code",
   "execution_count": 100,
   "id": "a30e454d",
   "metadata": {
    "slideshow": {
     "slide_type": "fragment"
    }
   },
   "outputs": [
    {
     "data": {
      "text/html": [
       "<div>\n",
       "<style scoped>\n",
       "    .dataframe tbody tr th:only-of-type {\n",
       "        vertical-align: middle;\n",
       "    }\n",
       "\n",
       "    .dataframe tbody tr th {\n",
       "        vertical-align: top;\n",
       "    }\n",
       "\n",
       "    .dataframe thead th {\n",
       "        text-align: right;\n",
       "    }\n",
       "</style>\n",
       "<table border=\"1\" class=\"dataframe\">\n",
       "  <thead>\n",
       "    <tr style=\"text-align: right;\">\n",
       "      <th></th>\n",
       "      <th>longitude</th>\n",
       "      <th>latitude</th>\n",
       "      <th>housing_median_age</th>\n",
       "      <th>total_rooms</th>\n",
       "      <th>total_bedrooms</th>\n",
       "      <th>population</th>\n",
       "      <th>households</th>\n",
       "      <th>median_income</th>\n",
       "      <th>ocean_proximity</th>\n",
       "    </tr>\n",
       "  </thead>\n",
       "  <tbody>\n",
       "    <tr>\n",
       "      <th>9584</th>\n",
       "      <td>-117.92</td>\n",
       "      <td>33.87</td>\n",
       "      <td>33.0</td>\n",
       "      <td>1597.0</td>\n",
       "      <td>NaN</td>\n",
       "      <td>1888.0</td>\n",
       "      <td>423.0</td>\n",
       "      <td>3.0550</td>\n",
       "      <td>&lt;1H OCEAN</td>\n",
       "    </tr>\n",
       "    <tr>\n",
       "      <th>12188</th>\n",
       "      <td>-121.02</td>\n",
       "      <td>37.48</td>\n",
       "      <td>26.0</td>\n",
       "      <td>467.0</td>\n",
       "      <td>NaN</td>\n",
       "      <td>244.0</td>\n",
       "      <td>83.0</td>\n",
       "      <td>4.1346</td>\n",
       "      <td>INLAND</td>\n",
       "    </tr>\n",
       "    <tr>\n",
       "      <th>1984</th>\n",
       "      <td>-119.11</td>\n",
       "      <td>35.42</td>\n",
       "      <td>52.0</td>\n",
       "      <td>154.0</td>\n",
       "      <td>NaN</td>\n",
       "      <td>37.0</td>\n",
       "      <td>16.0</td>\n",
       "      <td>10.0263</td>\n",
       "      <td>INLAND</td>\n",
       "    </tr>\n",
       "    <tr>\n",
       "      <th>1441</th>\n",
       "      <td>-122.39</td>\n",
       "      <td>37.59</td>\n",
       "      <td>32.0</td>\n",
       "      <td>4497.0</td>\n",
       "      <td>NaN</td>\n",
       "      <td>1846.0</td>\n",
       "      <td>715.0</td>\n",
       "      <td>6.1323</td>\n",
       "      <td>NEAR OCEAN</td>\n",
       "    </tr>\n",
       "    <tr>\n",
       "      <th>17438</th>\n",
       "      <td>-117.61</td>\n",
       "      <td>34.08</td>\n",
       "      <td>12.0</td>\n",
       "      <td>4427.0</td>\n",
       "      <td>NaN</td>\n",
       "      <td>2400.0</td>\n",
       "      <td>843.0</td>\n",
       "      <td>4.7147</td>\n",
       "      <td>INLAND</td>\n",
       "    </tr>\n",
       "    <tr>\n",
       "      <th>...</th>\n",
       "      <td>...</td>\n",
       "      <td>...</td>\n",
       "      <td>...</td>\n",
       "      <td>...</td>\n",
       "      <td>...</td>\n",
       "      <td>...</td>\n",
       "      <td>...</td>\n",
       "      <td>...</td>\n",
       "      <td>...</td>\n",
       "    </tr>\n",
       "    <tr>\n",
       "      <th>11020</th>\n",
       "      <td>-119.33</td>\n",
       "      <td>36.30</td>\n",
       "      <td>11.0</td>\n",
       "      <td>3045.0</td>\n",
       "      <td>NaN</td>\n",
       "      <td>1563.0</td>\n",
       "      <td>516.0</td>\n",
       "      <td>5.4337</td>\n",
       "      <td>INLAND</td>\n",
       "    </tr>\n",
       "    <tr>\n",
       "      <th>11541</th>\n",
       "      <td>-119.78</td>\n",
       "      <td>36.82</td>\n",
       "      <td>25.0</td>\n",
       "      <td>5016.0</td>\n",
       "      <td>NaN</td>\n",
       "      <td>2133.0</td>\n",
       "      <td>928.0</td>\n",
       "      <td>3.6250</td>\n",
       "      <td>INLAND</td>\n",
       "    </tr>\n",
       "    <tr>\n",
       "      <th>15857</th>\n",
       "      <td>-118.18</td>\n",
       "      <td>34.19</td>\n",
       "      <td>48.0</td>\n",
       "      <td>1371.0</td>\n",
       "      <td>NaN</td>\n",
       "      <td>528.0</td>\n",
       "      <td>155.0</td>\n",
       "      <td>15.0001</td>\n",
       "      <td>&lt;1H OCEAN</td>\n",
       "    </tr>\n",
       "    <tr>\n",
       "      <th>20088</th>\n",
       "      <td>-119.73</td>\n",
       "      <td>36.83</td>\n",
       "      <td>8.0</td>\n",
       "      <td>3602.0</td>\n",
       "      <td>NaN</td>\n",
       "      <td>1959.0</td>\n",
       "      <td>580.0</td>\n",
       "      <td>5.3478</td>\n",
       "      <td>INLAND</td>\n",
       "    </tr>\n",
       "    <tr>\n",
       "      <th>16075</th>\n",
       "      <td>-116.91</td>\n",
       "      <td>32.83</td>\n",
       "      <td>16.0</td>\n",
       "      <td>5203.0</td>\n",
       "      <td>NaN</td>\n",
       "      <td>2515.0</td>\n",
       "      <td>862.0</td>\n",
       "      <td>4.1050</td>\n",
       "      <td>&lt;1H OCEAN</td>\n",
       "    </tr>\n",
       "  </tbody>\n",
       "</table>\n",
       "<p>168 rows × 9 columns</p>\n",
       "</div>"
      ],
      "text/plain": [
       "       longitude  latitude  housing_median_age  total_rooms  total_bedrooms  \\\n",
       "9584     -117.92     33.87                33.0       1597.0             NaN   \n",
       "12188    -121.02     37.48                26.0        467.0             NaN   \n",
       "1984     -119.11     35.42                52.0        154.0             NaN   \n",
       "1441     -122.39     37.59                32.0       4497.0             NaN   \n",
       "17438    -117.61     34.08                12.0       4427.0             NaN   \n",
       "...          ...       ...                 ...          ...             ...   \n",
       "11020    -119.33     36.30                11.0       3045.0             NaN   \n",
       "11541    -119.78     36.82                25.0       5016.0             NaN   \n",
       "15857    -118.18     34.19                48.0       1371.0             NaN   \n",
       "20088    -119.73     36.83                 8.0       3602.0             NaN   \n",
       "16075    -116.91     32.83                16.0       5203.0             NaN   \n",
       "\n",
       "       population  households  median_income ocean_proximity  \n",
       "9584       1888.0       423.0         3.0550       <1H OCEAN  \n",
       "12188       244.0        83.0         4.1346          INLAND  \n",
       "1984         37.0        16.0        10.0263          INLAND  \n",
       "1441       1846.0       715.0         6.1323      NEAR OCEAN  \n",
       "17438      2400.0       843.0         4.7147          INLAND  \n",
       "...           ...         ...            ...             ...  \n",
       "11020      1563.0       516.0         5.4337          INLAND  \n",
       "11541      2133.0       928.0         3.6250          INLAND  \n",
       "15857       528.0       155.0        15.0001       <1H OCEAN  \n",
       "20088      1959.0       580.0         5.3478          INLAND  \n",
       "16075      2515.0       862.0         4.1050       <1H OCEAN  \n",
       "\n",
       "[168 rows x 9 columns]"
      ]
     },
     "execution_count": 100,
     "metadata": {},
     "output_type": "execute_result"
    }
   ],
   "source": [
    "X_train[X_train['total_bedrooms'].isna()]"
   ]
  },
  {
   "cell_type": "code",
   "execution_count": 104,
   "id": "16beb204",
   "metadata": {
    "slideshow": {
     "slide_type": "slide"
    }
   },
   "outputs": [
    {
     "data": {
      "text/html": [
       "<div>\n",
       "<style scoped>\n",
       "    .dataframe tbody tr th:only-of-type {\n",
       "        vertical-align: middle;\n",
       "    }\n",
       "\n",
       "    .dataframe tbody tr th {\n",
       "        vertical-align: top;\n",
       "    }\n",
       "\n",
       "    .dataframe thead th {\n",
       "        text-align: right;\n",
       "    }\n",
       "</style>\n",
       "<table border=\"1\" class=\"dataframe\">\n",
       "  <thead>\n",
       "    <tr style=\"text-align: right;\">\n",
       "      <th></th>\n",
       "      <th>longitude</th>\n",
       "      <th>latitude</th>\n",
       "      <th>housing_median_age</th>\n",
       "      <th>total_rooms</th>\n",
       "      <th>total_bedrooms</th>\n",
       "      <th>population</th>\n",
       "      <th>households</th>\n",
       "      <th>median_income</th>\n",
       "      <th>ocean_proximity</th>\n",
       "    </tr>\n",
       "  </thead>\n",
       "  <tbody>\n",
       "    <tr>\n",
       "      <th>4310</th>\n",
       "      <td>-117.25</td>\n",
       "      <td>32.80</td>\n",
       "      <td>26.0</td>\n",
       "      <td>2442.0</td>\n",
       "      <td>659.0</td>\n",
       "      <td>1134.0</td>\n",
       "      <td>624.0</td>\n",
       "      <td>3.3274</td>\n",
       "      <td>NEAR OCEAN</td>\n",
       "    </tr>\n",
       "    <tr>\n",
       "      <th>6639</th>\n",
       "      <td>-121.99</td>\n",
       "      <td>37.56</td>\n",
       "      <td>18.0</td>\n",
       "      <td>5505.0</td>\n",
       "      <td>1005.0</td>\n",
       "      <td>2641.0</td>\n",
       "      <td>971.0</td>\n",
       "      <td>5.0000</td>\n",
       "      <td>&lt;1H OCEAN</td>\n",
       "    </tr>\n",
       "    <tr>\n",
       "      <th>2750</th>\n",
       "      <td>-117.95</td>\n",
       "      <td>34.05</td>\n",
       "      <td>35.0</td>\n",
       "      <td>1309.0</td>\n",
       "      <td>276.0</td>\n",
       "      <td>1113.0</td>\n",
       "      <td>253.0</td>\n",
       "      <td>4.3750</td>\n",
       "      <td>&lt;1H OCEAN</td>\n",
       "    </tr>\n",
       "    <tr>\n",
       "      <th>16740</th>\n",
       "      <td>-118.11</td>\n",
       "      <td>34.68</td>\n",
       "      <td>6.0</td>\n",
       "      <td>7430.0</td>\n",
       "      <td>1184.0</td>\n",
       "      <td>3489.0</td>\n",
       "      <td>1115.0</td>\n",
       "      <td>5.3267</td>\n",
       "      <td>INLAND</td>\n",
       "    </tr>\n",
       "    <tr>\n",
       "      <th>5027</th>\n",
       "      <td>-116.80</td>\n",
       "      <td>32.80</td>\n",
       "      <td>11.0</td>\n",
       "      <td>3874.0</td>\n",
       "      <td>565.0</td>\n",
       "      <td>1672.0</td>\n",
       "      <td>546.0</td>\n",
       "      <td>6.1481</td>\n",
       "      <td>&lt;1H OCEAN</td>\n",
       "    </tr>\n",
       "    <tr>\n",
       "      <th>...</th>\n",
       "      <td>...</td>\n",
       "      <td>...</td>\n",
       "      <td>...</td>\n",
       "      <td>...</td>\n",
       "      <td>...</td>\n",
       "      <td>...</td>\n",
       "      <td>...</td>\n",
       "      <td>...</td>\n",
       "      <td>...</td>\n",
       "    </tr>\n",
       "    <tr>\n",
       "      <th>19253</th>\n",
       "      <td>-121.94</td>\n",
       "      <td>37.73</td>\n",
       "      <td>22.0</td>\n",
       "      <td>6719.0</td>\n",
       "      <td>1068.0</td>\n",
       "      <td>2843.0</td>\n",
       "      <td>994.0</td>\n",
       "      <td>6.1265</td>\n",
       "      <td>&lt;1H OCEAN</td>\n",
       "    </tr>\n",
       "    <tr>\n",
       "      <th>11023</th>\n",
       "      <td>-118.06</td>\n",
       "      <td>34.16</td>\n",
       "      <td>46.0</td>\n",
       "      <td>1467.0</td>\n",
       "      <td>298.0</td>\n",
       "      <td>816.0</td>\n",
       "      <td>267.0</td>\n",
       "      <td>3.6705</td>\n",
       "      <td>INLAND</td>\n",
       "    </tr>\n",
       "    <tr>\n",
       "      <th>12075</th>\n",
       "      <td>-117.01</td>\n",
       "      <td>32.80</td>\n",
       "      <td>20.0</td>\n",
       "      <td>2705.0</td>\n",
       "      <td>545.0</td>\n",
       "      <td>1198.0</td>\n",
       "      <td>497.0</td>\n",
       "      <td>3.7159</td>\n",
       "      <td>&lt;1H OCEAN</td>\n",
       "    </tr>\n",
       "    <tr>\n",
       "      <th>5615</th>\n",
       "      <td>-121.87</td>\n",
       "      <td>38.02</td>\n",
       "      <td>52.0</td>\n",
       "      <td>2264.0</td>\n",
       "      <td>439.0</td>\n",
       "      <td>1403.0</td>\n",
       "      <td>476.0</td>\n",
       "      <td>2.7083</td>\n",
       "      <td>INLAND</td>\n",
       "    </tr>\n",
       "    <tr>\n",
       "      <th>10811</th>\n",
       "      <td>-121.21</td>\n",
       "      <td>38.75</td>\n",
       "      <td>11.0</td>\n",
       "      <td>4552.0</td>\n",
       "      <td>639.0</td>\n",
       "      <td>2006.0</td>\n",
       "      <td>623.0</td>\n",
       "      <td>4.3962</td>\n",
       "      <td>INLAND</td>\n",
       "    </tr>\n",
       "  </tbody>\n",
       "</table>\n",
       "<p>16344 rows × 9 columns</p>\n",
       "</div>"
      ],
      "text/plain": [
       "       longitude  latitude  housing_median_age  total_rooms  total_bedrooms  \\\n",
       "4310     -117.25     32.80                26.0       2442.0           659.0   \n",
       "6639     -121.99     37.56                18.0       5505.0          1005.0   \n",
       "2750     -117.95     34.05                35.0       1309.0           276.0   \n",
       "16740    -118.11     34.68                 6.0       7430.0          1184.0   \n",
       "5027     -116.80     32.80                11.0       3874.0           565.0   \n",
       "...          ...       ...                 ...          ...             ...   \n",
       "19253    -121.94     37.73                22.0       6719.0          1068.0   \n",
       "11023    -118.06     34.16                46.0       1467.0           298.0   \n",
       "12075    -117.01     32.80                20.0       2705.0           545.0   \n",
       "5615     -121.87     38.02                52.0       2264.0           439.0   \n",
       "10811    -121.21     38.75                11.0       4552.0           639.0   \n",
       "\n",
       "       population  households  median_income ocean_proximity  \n",
       "4310       1134.0       624.0         3.3274      NEAR OCEAN  \n",
       "6639       2641.0       971.0         5.0000       <1H OCEAN  \n",
       "2750       1113.0       253.0         4.3750       <1H OCEAN  \n",
       "16740      3489.0      1115.0         5.3267          INLAND  \n",
       "5027       1672.0       546.0         6.1481       <1H OCEAN  \n",
       "...           ...         ...            ...             ...  \n",
       "19253      2843.0       994.0         6.1265       <1H OCEAN  \n",
       "11023       816.0       267.0         3.6705          INLAND  \n",
       "12075      1198.0       497.0         3.7159       <1H OCEAN  \n",
       "5615       1403.0       476.0         2.7083          INLAND  \n",
       "10811      2006.0       623.0         4.3962          INLAND  \n",
       "\n",
       "[16344 rows x 9 columns]"
      ]
     },
     "execution_count": 104,
     "metadata": {},
     "output_type": "execute_result"
    }
   ],
   "source": [
    "# option 1: drop them\n",
    "X_train.dropna(subset=['total_bedrooms'])"
   ]
  },
  {
   "cell_type": "code",
   "execution_count": 106,
   "id": "5669405f",
   "metadata": {
    "slideshow": {
     "slide_type": "slide"
    }
   },
   "outputs": [
    {
     "name": "stdout",
     "output_type": "stream",
     "text": [
      "Requirement already satisfied: numpy in /Users/vivianamarquez/opt/anaconda3/envs/IntroML/lib/python3.9/site-packages (1.24.2)\r\n"
     ]
    }
   ],
   "source": [
    "! pip install numpy"
   ]
  },
  {
   "cell_type": "code",
   "execution_count": 109,
   "id": "42a010e8",
   "metadata": {
    "slideshow": {
     "slide_type": "slide"
    }
   },
   "outputs": [],
   "source": [
    "# option 2: account for them \n",
    "# documentation: https://scikit-learn.org/stable/modules/generated/sklearn.impute.SimpleImputer.html\n",
    "\n",
    "import numpy as np\n",
    "from sklearn.impute import SimpleImputer\n",
    "\n",
    "imputer = SimpleImputer(strategy=\"median\")\n",
    "X_train_numerical_features = X_train.select_dtypes(include=[np.number])"
   ]
  },
  {
   "cell_type": "code",
   "execution_count": 118,
   "id": "bf2d7a7e",
   "metadata": {
    "slideshow": {
     "slide_type": "fragment"
    }
   },
   "outputs": [
    {
     "name": "stdout",
     "output_type": "stream",
     "text": [
      "Imputer: [-118.49     34.25     29.     2119.      434.     1163.      408.\n",
      "    3.5341]\n",
      "Median of each feature in X_train_numerical: [-118.49     34.25     29.     2119.      434.     1163.      408.\n",
      "    3.5341]\n"
     ]
    }
   ],
   "source": [
    "imputer.fit(X_train_numerical_features)\n",
    "print(f\"Imputer: {imputer.statistics_}\")\n",
    "print(f\"Median of each feature in X_train_numerical: {X_train_numerical_features.median().values}\")"
   ]
  },
  {
   "cell_type": "code",
   "execution_count": 128,
   "id": "91ca4cf0",
   "metadata": {
    "scrolled": true,
    "slideshow": {
     "slide_type": "slide"
    }
   },
   "outputs": [
    {
     "data": {
      "text/plain": [
       "longitude             0\n",
       "latitude              0\n",
       "housing_median_age    0\n",
       "total_rooms           0\n",
       "total_bedrooms        0\n",
       "population            0\n",
       "households            0\n",
       "median_income         0\n",
       "dtype: int64"
      ]
     },
     "execution_count": 128,
     "metadata": {},
     "output_type": "execute_result"
    }
   ],
   "source": [
    "X_train_numerical_features_transformed = imputer.transform(X_train_numerical_features)\n",
    "X_train_numerical_features = pd.DataFrame(X_train_numerical_features_transformed,\n",
    "                                          columns = X_train_numerical_features.columns, index=X_train_numerical_features.index)\n",
    "X_train_numerical_features.isna().sum()"
   ]
  },
  {
   "cell_type": "code",
   "execution_count": 129,
   "id": "df0484f2",
   "metadata": {
    "slideshow": {
     "slide_type": "slide"
    }
   },
   "outputs": [
    {
     "data": {
      "text/html": [
       "<div>\n",
       "<style scoped>\n",
       "    .dataframe tbody tr th:only-of-type {\n",
       "        vertical-align: middle;\n",
       "    }\n",
       "\n",
       "    .dataframe tbody tr th {\n",
       "        vertical-align: top;\n",
       "    }\n",
       "\n",
       "    .dataframe thead th {\n",
       "        text-align: right;\n",
       "    }\n",
       "</style>\n",
       "<table border=\"1\" class=\"dataframe\">\n",
       "  <thead>\n",
       "    <tr style=\"text-align: right;\">\n",
       "      <th></th>\n",
       "      <th>longitude</th>\n",
       "      <th>latitude</th>\n",
       "      <th>housing_median_age</th>\n",
       "      <th>total_rooms</th>\n",
       "      <th>total_bedrooms</th>\n",
       "      <th>population</th>\n",
       "      <th>households</th>\n",
       "      <th>median_income</th>\n",
       "    </tr>\n",
       "  </thead>\n",
       "  <tbody>\n",
       "    <tr>\n",
       "      <th>4310</th>\n",
       "      <td>-117.25</td>\n",
       "      <td>32.80</td>\n",
       "      <td>26.0</td>\n",
       "      <td>2442.0</td>\n",
       "      <td>659.0</td>\n",
       "      <td>1134.0</td>\n",
       "      <td>624.0</td>\n",
       "      <td>3.3274</td>\n",
       "    </tr>\n",
       "    <tr>\n",
       "      <th>6639</th>\n",
       "      <td>-121.99</td>\n",
       "      <td>37.56</td>\n",
       "      <td>18.0</td>\n",
       "      <td>5505.0</td>\n",
       "      <td>1005.0</td>\n",
       "      <td>2641.0</td>\n",
       "      <td>971.0</td>\n",
       "      <td>5.0000</td>\n",
       "    </tr>\n",
       "    <tr>\n",
       "      <th>2750</th>\n",
       "      <td>-117.95</td>\n",
       "      <td>34.05</td>\n",
       "      <td>35.0</td>\n",
       "      <td>1309.0</td>\n",
       "      <td>276.0</td>\n",
       "      <td>1113.0</td>\n",
       "      <td>253.0</td>\n",
       "      <td>4.3750</td>\n",
       "    </tr>\n",
       "    <tr>\n",
       "      <th>16740</th>\n",
       "      <td>-118.11</td>\n",
       "      <td>34.68</td>\n",
       "      <td>6.0</td>\n",
       "      <td>7430.0</td>\n",
       "      <td>1184.0</td>\n",
       "      <td>3489.0</td>\n",
       "      <td>1115.0</td>\n",
       "      <td>5.3267</td>\n",
       "    </tr>\n",
       "    <tr>\n",
       "      <th>5027</th>\n",
       "      <td>-116.80</td>\n",
       "      <td>32.80</td>\n",
       "      <td>11.0</td>\n",
       "      <td>3874.0</td>\n",
       "      <td>565.0</td>\n",
       "      <td>1672.0</td>\n",
       "      <td>546.0</td>\n",
       "      <td>6.1481</td>\n",
       "    </tr>\n",
       "    <tr>\n",
       "      <th>...</th>\n",
       "      <td>...</td>\n",
       "      <td>...</td>\n",
       "      <td>...</td>\n",
       "      <td>...</td>\n",
       "      <td>...</td>\n",
       "      <td>...</td>\n",
       "      <td>...</td>\n",
       "      <td>...</td>\n",
       "    </tr>\n",
       "    <tr>\n",
       "      <th>19253</th>\n",
       "      <td>-121.94</td>\n",
       "      <td>37.73</td>\n",
       "      <td>22.0</td>\n",
       "      <td>6719.0</td>\n",
       "      <td>1068.0</td>\n",
       "      <td>2843.0</td>\n",
       "      <td>994.0</td>\n",
       "      <td>6.1265</td>\n",
       "    </tr>\n",
       "    <tr>\n",
       "      <th>11023</th>\n",
       "      <td>-118.06</td>\n",
       "      <td>34.16</td>\n",
       "      <td>46.0</td>\n",
       "      <td>1467.0</td>\n",
       "      <td>298.0</td>\n",
       "      <td>816.0</td>\n",
       "      <td>267.0</td>\n",
       "      <td>3.6705</td>\n",
       "    </tr>\n",
       "    <tr>\n",
       "      <th>12075</th>\n",
       "      <td>-117.01</td>\n",
       "      <td>32.80</td>\n",
       "      <td>20.0</td>\n",
       "      <td>2705.0</td>\n",
       "      <td>545.0</td>\n",
       "      <td>1198.0</td>\n",
       "      <td>497.0</td>\n",
       "      <td>3.7159</td>\n",
       "    </tr>\n",
       "    <tr>\n",
       "      <th>5615</th>\n",
       "      <td>-121.87</td>\n",
       "      <td>38.02</td>\n",
       "      <td>52.0</td>\n",
       "      <td>2264.0</td>\n",
       "      <td>439.0</td>\n",
       "      <td>1403.0</td>\n",
       "      <td>476.0</td>\n",
       "      <td>2.7083</td>\n",
       "    </tr>\n",
       "    <tr>\n",
       "      <th>10811</th>\n",
       "      <td>-121.21</td>\n",
       "      <td>38.75</td>\n",
       "      <td>11.0</td>\n",
       "      <td>4552.0</td>\n",
       "      <td>639.0</td>\n",
       "      <td>2006.0</td>\n",
       "      <td>623.0</td>\n",
       "      <td>4.3962</td>\n",
       "    </tr>\n",
       "  </tbody>\n",
       "</table>\n",
       "<p>16512 rows × 8 columns</p>\n",
       "</div>"
      ],
      "text/plain": [
       "       longitude  latitude  housing_median_age  total_rooms  total_bedrooms  \\\n",
       "4310     -117.25     32.80                26.0       2442.0           659.0   \n",
       "6639     -121.99     37.56                18.0       5505.0          1005.0   \n",
       "2750     -117.95     34.05                35.0       1309.0           276.0   \n",
       "16740    -118.11     34.68                 6.0       7430.0          1184.0   \n",
       "5027     -116.80     32.80                11.0       3874.0           565.0   \n",
       "...          ...       ...                 ...          ...             ...   \n",
       "19253    -121.94     37.73                22.0       6719.0          1068.0   \n",
       "11023    -118.06     34.16                46.0       1467.0           298.0   \n",
       "12075    -117.01     32.80                20.0       2705.0           545.0   \n",
       "5615     -121.87     38.02                52.0       2264.0           439.0   \n",
       "10811    -121.21     38.75                11.0       4552.0           639.0   \n",
       "\n",
       "       population  households  median_income  \n",
       "4310       1134.0       624.0         3.3274  \n",
       "6639       2641.0       971.0         5.0000  \n",
       "2750       1113.0       253.0         4.3750  \n",
       "16740      3489.0      1115.0         5.3267  \n",
       "5027       1672.0       546.0         6.1481  \n",
       "...           ...         ...            ...  \n",
       "19253      2843.0       994.0         6.1265  \n",
       "11023       816.0       267.0         3.6705  \n",
       "12075      1198.0       497.0         3.7159  \n",
       "5615       1403.0       476.0         2.7083  \n",
       "10811      2006.0       623.0         4.3962  \n",
       "\n",
       "[16512 rows x 8 columns]"
      ]
     },
     "execution_count": 129,
     "metadata": {},
     "output_type": "execute_result"
    }
   ],
   "source": [
    "X_train_numerical_features"
   ]
  },
  {
   "cell_type": "markdown",
   "id": "f839d7b6",
   "metadata": {
    "slideshow": {
     "slide_type": "slide"
    }
   },
   "source": [
    "# 🤔 When would you use median? When would you use mean?"
   ]
  },
  {
   "cell_type": "markdown",
   "id": "c9faac30",
   "metadata": {
    "slideshow": {
     "slide_type": "slide"
    }
   },
   "source": [
    "### Handling outliers\n",
    "\n",
    "- An outlier is an observation that is unlike the other observations\n",
    "    - Measurement or input error\n",
    "    - Data corruption\n",
    "    - True observation "
   ]
  },
  {
   "cell_type": "markdown",
   "id": "7583c898",
   "metadata": {
    "slideshow": {
     "slide_type": "fragment"
    }
   },
   "source": [
    "- There is no precise way to identify outliers given that each dataset is unique"
   ]
  },
  {
   "cell_type": "markdown",
   "id": "a4c79149",
   "metadata": {
    "slideshow": {
     "slide_type": "fragment"
    }
   },
   "source": [
    "- We can use statistical methods to identify observations that appear to be rare"
   ]
  },
  {
   "cell_type": "code",
   "execution_count": 130,
   "id": "d33f466e",
   "metadata": {
    "slideshow": {
     "slide_type": "slide"
    }
   },
   "outputs": [],
   "source": [
    "# documentation: https://scikit-learn.org/stable/modules/generated/sklearn.ensemble.IsolationForest.html\n",
    "from sklearn.ensemble import IsolationForest\n",
    "\n",
    "isolation_forst = IsolationForest()\n",
    "outlier_pred = isolation_forst.fit_predict(X_train_numerical_features)"
   ]
  },
  {
   "cell_type": "code",
   "execution_count": 136,
   "id": "5aafb3f5",
   "metadata": {
    "slideshow": {
     "slide_type": "fragment"
    }
   },
   "outputs": [
    {
     "data": {
      "text/html": [
       "<div>\n",
       "<style scoped>\n",
       "    .dataframe tbody tr th:only-of-type {\n",
       "        vertical-align: middle;\n",
       "    }\n",
       "\n",
       "    .dataframe tbody tr th {\n",
       "        vertical-align: top;\n",
       "    }\n",
       "\n",
       "    .dataframe thead th {\n",
       "        text-align: right;\n",
       "    }\n",
       "</style>\n",
       "<table border=\"1\" class=\"dataframe\">\n",
       "  <thead>\n",
       "    <tr style=\"text-align: right;\">\n",
       "      <th></th>\n",
       "      <th>longitude</th>\n",
       "      <th>latitude</th>\n",
       "      <th>housing_median_age</th>\n",
       "      <th>total_rooms</th>\n",
       "      <th>total_bedrooms</th>\n",
       "      <th>population</th>\n",
       "      <th>households</th>\n",
       "      <th>median_income</th>\n",
       "      <th>ocean_proximity</th>\n",
       "    </tr>\n",
       "  </thead>\n",
       "  <tbody>\n",
       "    <tr>\n",
       "      <th>4310</th>\n",
       "      <td>-117.25</td>\n",
       "      <td>32.80</td>\n",
       "      <td>26.0</td>\n",
       "      <td>2442.0</td>\n",
       "      <td>659.0</td>\n",
       "      <td>1134.0</td>\n",
       "      <td>624.0</td>\n",
       "      <td>3.3274</td>\n",
       "      <td>NEAR OCEAN</td>\n",
       "    </tr>\n",
       "    <tr>\n",
       "      <th>6639</th>\n",
       "      <td>-121.99</td>\n",
       "      <td>37.56</td>\n",
       "      <td>18.0</td>\n",
       "      <td>5505.0</td>\n",
       "      <td>1005.0</td>\n",
       "      <td>2641.0</td>\n",
       "      <td>971.0</td>\n",
       "      <td>5.0000</td>\n",
       "      <td>&lt;1H OCEAN</td>\n",
       "    </tr>\n",
       "    <tr>\n",
       "      <th>2750</th>\n",
       "      <td>-117.95</td>\n",
       "      <td>34.05</td>\n",
       "      <td>35.0</td>\n",
       "      <td>1309.0</td>\n",
       "      <td>276.0</td>\n",
       "      <td>1113.0</td>\n",
       "      <td>253.0</td>\n",
       "      <td>4.3750</td>\n",
       "      <td>&lt;1H OCEAN</td>\n",
       "    </tr>\n",
       "    <tr>\n",
       "      <th>5027</th>\n",
       "      <td>-116.80</td>\n",
       "      <td>32.80</td>\n",
       "      <td>11.0</td>\n",
       "      <td>3874.0</td>\n",
       "      <td>565.0</td>\n",
       "      <td>1672.0</td>\n",
       "      <td>546.0</td>\n",
       "      <td>6.1481</td>\n",
       "      <td>&lt;1H OCEAN</td>\n",
       "    </tr>\n",
       "    <tr>\n",
       "      <th>1318</th>\n",
       "      <td>-118.19</td>\n",
       "      <td>34.65</td>\n",
       "      <td>33.0</td>\n",
       "      <td>1781.0</td>\n",
       "      <td>326.0</td>\n",
       "      <td>913.0</td>\n",
       "      <td>314.0</td>\n",
       "      <td>3.9963</td>\n",
       "      <td>INLAND</td>\n",
       "    </tr>\n",
       "    <tr>\n",
       "      <th>...</th>\n",
       "      <td>...</td>\n",
       "      <td>...</td>\n",
       "      <td>...</td>\n",
       "      <td>...</td>\n",
       "      <td>...</td>\n",
       "      <td>...</td>\n",
       "      <td>...</td>\n",
       "      <td>...</td>\n",
       "      <td>...</td>\n",
       "    </tr>\n",
       "    <tr>\n",
       "      <th>13610</th>\n",
       "      <td>-118.27</td>\n",
       "      <td>34.11</td>\n",
       "      <td>39.0</td>\n",
       "      <td>3825.0</td>\n",
       "      <td>916.0</td>\n",
       "      <td>1378.0</td>\n",
       "      <td>746.0</td>\n",
       "      <td>4.4094</td>\n",
       "      <td>&lt;1H OCEAN</td>\n",
       "    </tr>\n",
       "    <tr>\n",
       "      <th>11023</th>\n",
       "      <td>-118.06</td>\n",
       "      <td>34.16</td>\n",
       "      <td>46.0</td>\n",
       "      <td>1467.0</td>\n",
       "      <td>298.0</td>\n",
       "      <td>816.0</td>\n",
       "      <td>267.0</td>\n",
       "      <td>3.6705</td>\n",
       "      <td>INLAND</td>\n",
       "    </tr>\n",
       "    <tr>\n",
       "      <th>12075</th>\n",
       "      <td>-117.01</td>\n",
       "      <td>32.80</td>\n",
       "      <td>20.0</td>\n",
       "      <td>2705.0</td>\n",
       "      <td>545.0</td>\n",
       "      <td>1198.0</td>\n",
       "      <td>497.0</td>\n",
       "      <td>3.7159</td>\n",
       "      <td>&lt;1H OCEAN</td>\n",
       "    </tr>\n",
       "    <tr>\n",
       "      <th>5615</th>\n",
       "      <td>-121.87</td>\n",
       "      <td>38.02</td>\n",
       "      <td>52.0</td>\n",
       "      <td>2264.0</td>\n",
       "      <td>439.0</td>\n",
       "      <td>1403.0</td>\n",
       "      <td>476.0</td>\n",
       "      <td>2.7083</td>\n",
       "      <td>INLAND</td>\n",
       "    </tr>\n",
       "    <tr>\n",
       "      <th>10811</th>\n",
       "      <td>-121.21</td>\n",
       "      <td>38.75</td>\n",
       "      <td>11.0</td>\n",
       "      <td>4552.0</td>\n",
       "      <td>639.0</td>\n",
       "      <td>2006.0</td>\n",
       "      <td>623.0</td>\n",
       "      <td>4.3962</td>\n",
       "      <td>INLAND</td>\n",
       "    </tr>\n",
       "  </tbody>\n",
       "</table>\n",
       "<p>14523 rows × 9 columns</p>\n",
       "</div>"
      ],
      "text/plain": [
       "       longitude  latitude  housing_median_age  total_rooms  total_bedrooms  \\\n",
       "4310     -117.25     32.80                26.0       2442.0           659.0   \n",
       "6639     -121.99     37.56                18.0       5505.0          1005.0   \n",
       "2750     -117.95     34.05                35.0       1309.0           276.0   \n",
       "5027     -116.80     32.80                11.0       3874.0           565.0   \n",
       "1318     -118.19     34.65                33.0       1781.0           326.0   \n",
       "...          ...       ...                 ...          ...             ...   \n",
       "13610    -118.27     34.11                39.0       3825.0           916.0   \n",
       "11023    -118.06     34.16                46.0       1467.0           298.0   \n",
       "12075    -117.01     32.80                20.0       2705.0           545.0   \n",
       "5615     -121.87     38.02                52.0       2264.0           439.0   \n",
       "10811    -121.21     38.75                11.0       4552.0           639.0   \n",
       "\n",
       "       population  households  median_income ocean_proximity  \n",
       "4310       1134.0       624.0         3.3274      NEAR OCEAN  \n",
       "6639       2641.0       971.0         5.0000       <1H OCEAN  \n",
       "2750       1113.0       253.0         4.3750       <1H OCEAN  \n",
       "5027       1672.0       546.0         6.1481       <1H OCEAN  \n",
       "1318        913.0       314.0         3.9963          INLAND  \n",
       "...           ...         ...            ...             ...  \n",
       "13610      1378.0       746.0         4.4094       <1H OCEAN  \n",
       "11023       816.0       267.0         3.6705          INLAND  \n",
       "12075      1198.0       497.0         3.7159       <1H OCEAN  \n",
       "5615       1403.0       476.0         2.7083          INLAND  \n",
       "10811      2006.0       623.0         4.3962          INLAND  \n",
       "\n",
       "[14523 rows x 9 columns]"
      ]
     },
     "execution_count": 136,
     "metadata": {},
     "output_type": "execute_result"
    }
   ],
   "source": [
    "X_train[outlier_pred == 1] # -1: outlier observations"
   ]
  },
  {
   "cell_type": "markdown",
   "id": "8f0c6bed",
   "metadata": {
    "slideshow": {
     "slide_type": "slide"
    }
   },
   "source": [
    "### Handling duplicates"
   ]
  },
  {
   "cell_type": "code",
   "execution_count": 138,
   "id": "3650bf44",
   "metadata": {
    "slideshow": {
     "slide_type": "fragment"
    }
   },
   "outputs": [
    {
     "data": {
      "text/plain": [
       "0"
      ]
     },
     "execution_count": 138,
     "metadata": {},
     "output_type": "execute_result"
    }
   ],
   "source": [
    "X_train.duplicated().sum()"
   ]
  },
  {
   "cell_type": "markdown",
   "id": "9e0ad12c",
   "metadata": {
    "slideshow": {
     "slide_type": "slide"
    }
   },
   "source": [
    "# 🛁 Data cleaning\n",
    "\n",
    "- Included but not limited to: \n",
    "    - Handling missing values: drop them or account for them \n",
    "    - Handling outliers: drop them or account for them or keep them\n",
    "    - Remove duplicates\n",
    "    - Handling incorrect data types\n",
    "    - Handling inconsistent data (example: age shouldn't be negative)"
   ]
  },
  {
   "cell_type": "markdown",
   "id": "81a01229",
   "metadata": {
    "slideshow": {
     "slide_type": "slide"
    }
   },
   "source": [
    "# ❇️ Feature Engineering"
   ]
  },
  {
   "cell_type": "markdown",
   "id": "09067905",
   "metadata": {
    "slideshow": {
     "slide_type": "slide"
    }
   },
   "source": [
    "# 🏗 Feature engineering \n",
    "\n",
    "- Feature engineering is the process of selecting and transforming raw data into features that can be used to train machine learning models\n",
    "- AKA creating/changing number of columns"
   ]
  },
  {
   "cell_type": "markdown",
   "id": "e5f727a9",
   "metadata": {
    "slideshow": {
     "slide_type": "slide"
    }
   },
   "source": [
    "### Handling categorical attributes\n",
    "\n",
    "- Most machine learning models prefer to work with numbers "
   ]
  },
  {
   "cell_type": "markdown",
   "id": "a1c619a6",
   "metadata": {
    "slideshow": {
     "slide_type": "slide"
    }
   },
   "source": [
    "### Ordinal encoder\n",
    "\n",
    "- Disadvantage: Assumes two nearby values are more similar to each other (useful for ordered categories such as \"bad\", \"average\", \"good\", \"excellent\")"
   ]
  },
  {
   "cell_type": "code",
   "execution_count": 140,
   "id": "76c06fcf",
   "metadata": {
    "slideshow": {
     "slide_type": "fragment"
    }
   },
   "outputs": [],
   "source": [
    "X_train_cat_features = X_train[['ocean_proximity']]"
   ]
  },
  {
   "cell_type": "code",
   "execution_count": 141,
   "id": "4df36988",
   "metadata": {
    "slideshow": {
     "slide_type": "fragment"
    }
   },
   "outputs": [
    {
     "data": {
      "text/plain": [
       "array([[4.],\n",
       "       [0.],\n",
       "       [0.],\n",
       "       ...,\n",
       "       [0.],\n",
       "       [1.],\n",
       "       [1.]])"
      ]
     },
     "execution_count": 141,
     "metadata": {},
     "output_type": "execute_result"
    }
   ],
   "source": [
    "from sklearn.preprocessing import OrdinalEncoder\n",
    "\n",
    "ordinal_encoder = OrdinalEncoder()\n",
    "X_train_cat_features_encoded = ordinal_encoder.fit_transform(X_train_cat_features)\n",
    "X_train_cat_features_encoded"
   ]
  },
  {
   "cell_type": "code",
   "execution_count": 142,
   "id": "b74c9853",
   "metadata": {
    "slideshow": {
     "slide_type": "fragment"
    }
   },
   "outputs": [
    {
     "data": {
      "text/plain": [
       "[array(['<1H OCEAN', 'INLAND', 'ISLAND', 'NEAR BAY', 'NEAR OCEAN'],\n",
       "       dtype=object)]"
      ]
     },
     "execution_count": 142,
     "metadata": {},
     "output_type": "execute_result"
    }
   ],
   "source": [
    "ordinal_encoder.categories_"
   ]
  },
  {
   "cell_type": "markdown",
   "id": "ab9c0704",
   "metadata": {
    "slideshow": {
     "slide_type": "slide"
    }
   },
   "source": [
    "### One-Hot encoder\n",
    "\n",
    "- One binary category per attribute"
   ]
  },
  {
   "cell_type": "code",
   "execution_count": 149,
   "id": "086767f2",
   "metadata": {
    "slideshow": {
     "slide_type": "fragment"
    }
   },
   "outputs": [],
   "source": [
    "from sklearn.preprocessing import OneHotEncoder\n",
    "\n",
    "cat_encoder = OneHotEncoder()\n",
    "X_train_cat_1hot = cat_encoder.fit_transform(X_train_cat_features)"
   ]
  },
  {
   "cell_type": "code",
   "execution_count": 150,
   "id": "504be3f8",
   "metadata": {
    "slideshow": {
     "slide_type": "slide"
    }
   },
   "outputs": [
    {
     "data": {
      "text/html": [
       "<div>\n",
       "<style scoped>\n",
       "    .dataframe tbody tr th:only-of-type {\n",
       "        vertical-align: middle;\n",
       "    }\n",
       "\n",
       "    .dataframe tbody tr th {\n",
       "        vertical-align: top;\n",
       "    }\n",
       "\n",
       "    .dataframe thead th {\n",
       "        text-align: right;\n",
       "    }\n",
       "</style>\n",
       "<table border=\"1\" class=\"dataframe\">\n",
       "  <thead>\n",
       "    <tr style=\"text-align: right;\">\n",
       "      <th></th>\n",
       "      <th>ocean_proximity_&lt;1H OCEAN</th>\n",
       "      <th>ocean_proximity_INLAND</th>\n",
       "      <th>ocean_proximity_ISLAND</th>\n",
       "      <th>ocean_proximity_NEAR BAY</th>\n",
       "      <th>ocean_proximity_NEAR OCEAN</th>\n",
       "    </tr>\n",
       "  </thead>\n",
       "  <tbody>\n",
       "    <tr>\n",
       "      <th>4310</th>\n",
       "      <td>0.0</td>\n",
       "      <td>0.0</td>\n",
       "      <td>0.0</td>\n",
       "      <td>0.0</td>\n",
       "      <td>1.0</td>\n",
       "    </tr>\n",
       "    <tr>\n",
       "      <th>6639</th>\n",
       "      <td>1.0</td>\n",
       "      <td>0.0</td>\n",
       "      <td>0.0</td>\n",
       "      <td>0.0</td>\n",
       "      <td>0.0</td>\n",
       "    </tr>\n",
       "    <tr>\n",
       "      <th>2750</th>\n",
       "      <td>1.0</td>\n",
       "      <td>0.0</td>\n",
       "      <td>0.0</td>\n",
       "      <td>0.0</td>\n",
       "      <td>0.0</td>\n",
       "    </tr>\n",
       "    <tr>\n",
       "      <th>16740</th>\n",
       "      <td>0.0</td>\n",
       "      <td>1.0</td>\n",
       "      <td>0.0</td>\n",
       "      <td>0.0</td>\n",
       "      <td>0.0</td>\n",
       "    </tr>\n",
       "    <tr>\n",
       "      <th>5027</th>\n",
       "      <td>1.0</td>\n",
       "      <td>0.0</td>\n",
       "      <td>0.0</td>\n",
       "      <td>0.0</td>\n",
       "      <td>0.0</td>\n",
       "    </tr>\n",
       "    <tr>\n",
       "      <th>...</th>\n",
       "      <td>...</td>\n",
       "      <td>...</td>\n",
       "      <td>...</td>\n",
       "      <td>...</td>\n",
       "      <td>...</td>\n",
       "    </tr>\n",
       "    <tr>\n",
       "      <th>19253</th>\n",
       "      <td>1.0</td>\n",
       "      <td>0.0</td>\n",
       "      <td>0.0</td>\n",
       "      <td>0.0</td>\n",
       "      <td>0.0</td>\n",
       "    </tr>\n",
       "    <tr>\n",
       "      <th>11023</th>\n",
       "      <td>0.0</td>\n",
       "      <td>1.0</td>\n",
       "      <td>0.0</td>\n",
       "      <td>0.0</td>\n",
       "      <td>0.0</td>\n",
       "    </tr>\n",
       "    <tr>\n",
       "      <th>12075</th>\n",
       "      <td>1.0</td>\n",
       "      <td>0.0</td>\n",
       "      <td>0.0</td>\n",
       "      <td>0.0</td>\n",
       "      <td>0.0</td>\n",
       "    </tr>\n",
       "    <tr>\n",
       "      <th>5615</th>\n",
       "      <td>0.0</td>\n",
       "      <td>1.0</td>\n",
       "      <td>0.0</td>\n",
       "      <td>0.0</td>\n",
       "      <td>0.0</td>\n",
       "    </tr>\n",
       "    <tr>\n",
       "      <th>10811</th>\n",
       "      <td>0.0</td>\n",
       "      <td>1.0</td>\n",
       "      <td>0.0</td>\n",
       "      <td>0.0</td>\n",
       "      <td>0.0</td>\n",
       "    </tr>\n",
       "  </tbody>\n",
       "</table>\n",
       "<p>16512 rows × 5 columns</p>\n",
       "</div>"
      ],
      "text/plain": [
       "       ocean_proximity_<1H OCEAN  ocean_proximity_INLAND  \\\n",
       "4310                         0.0                     0.0   \n",
       "6639                         1.0                     0.0   \n",
       "2750                         1.0                     0.0   \n",
       "16740                        0.0                     1.0   \n",
       "5027                         1.0                     0.0   \n",
       "...                          ...                     ...   \n",
       "19253                        1.0                     0.0   \n",
       "11023                        0.0                     1.0   \n",
       "12075                        1.0                     0.0   \n",
       "5615                         0.0                     1.0   \n",
       "10811                        0.0                     1.0   \n",
       "\n",
       "       ocean_proximity_ISLAND  ocean_proximity_NEAR BAY  \\\n",
       "4310                      0.0                       0.0   \n",
       "6639                      0.0                       0.0   \n",
       "2750                      0.0                       0.0   \n",
       "16740                     0.0                       0.0   \n",
       "5027                      0.0                       0.0   \n",
       "...                       ...                       ...   \n",
       "19253                     0.0                       0.0   \n",
       "11023                     0.0                       0.0   \n",
       "12075                     0.0                       0.0   \n",
       "5615                      0.0                       0.0   \n",
       "10811                     0.0                       0.0   \n",
       "\n",
       "       ocean_proximity_NEAR OCEAN  \n",
       "4310                          1.0  \n",
       "6639                          0.0  \n",
       "2750                          0.0  \n",
       "16740                         0.0  \n",
       "5027                          0.0  \n",
       "...                           ...  \n",
       "19253                         0.0  \n",
       "11023                         0.0  \n",
       "12075                         0.0  \n",
       "5615                          0.0  \n",
       "10811                         0.0  \n",
       "\n",
       "[16512 rows x 5 columns]"
      ]
     },
     "execution_count": 150,
     "metadata": {},
     "output_type": "execute_result"
    }
   ],
   "source": [
    "pd.DataFrame(X_train_cat_1hot.toarray(),\n",
    "             columns = cat_encoder.get_feature_names_out(),\n",
    "             index=X_train.index)"
   ]
  },
  {
   "cell_type": "code",
   "execution_count": 152,
   "id": "0269d993",
   "metadata": {
    "slideshow": {
     "slide_type": "fragment"
    }
   },
   "outputs": [
    {
     "data": {
      "text/html": [
       "<div>\n",
       "<style scoped>\n",
       "    .dataframe tbody tr th:only-of-type {\n",
       "        vertical-align: middle;\n",
       "    }\n",
       "\n",
       "    .dataframe tbody tr th {\n",
       "        vertical-align: top;\n",
       "    }\n",
       "\n",
       "    .dataframe thead th {\n",
       "        text-align: right;\n",
       "    }\n",
       "</style>\n",
       "<table border=\"1\" class=\"dataframe\">\n",
       "  <thead>\n",
       "    <tr style=\"text-align: right;\">\n",
       "      <th></th>\n",
       "      <th>longitude</th>\n",
       "      <th>latitude</th>\n",
       "      <th>housing_median_age</th>\n",
       "      <th>total_rooms</th>\n",
       "      <th>total_bedrooms</th>\n",
       "      <th>population</th>\n",
       "      <th>households</th>\n",
       "      <th>median_income</th>\n",
       "      <th>ocean_proximity</th>\n",
       "    </tr>\n",
       "  </thead>\n",
       "  <tbody>\n",
       "    <tr>\n",
       "      <th>4310</th>\n",
       "      <td>-117.25</td>\n",
       "      <td>32.80</td>\n",
       "      <td>26.0</td>\n",
       "      <td>2442.0</td>\n",
       "      <td>659.0</td>\n",
       "      <td>1134.0</td>\n",
       "      <td>624.0</td>\n",
       "      <td>3.3274</td>\n",
       "      <td>NEAR OCEAN</td>\n",
       "    </tr>\n",
       "    <tr>\n",
       "      <th>6639</th>\n",
       "      <td>-121.99</td>\n",
       "      <td>37.56</td>\n",
       "      <td>18.0</td>\n",
       "      <td>5505.0</td>\n",
       "      <td>1005.0</td>\n",
       "      <td>2641.0</td>\n",
       "      <td>971.0</td>\n",
       "      <td>5.0000</td>\n",
       "      <td>&lt;1H OCEAN</td>\n",
       "    </tr>\n",
       "    <tr>\n",
       "      <th>2750</th>\n",
       "      <td>-117.95</td>\n",
       "      <td>34.05</td>\n",
       "      <td>35.0</td>\n",
       "      <td>1309.0</td>\n",
       "      <td>276.0</td>\n",
       "      <td>1113.0</td>\n",
       "      <td>253.0</td>\n",
       "      <td>4.3750</td>\n",
       "      <td>&lt;1H OCEAN</td>\n",
       "    </tr>\n",
       "    <tr>\n",
       "      <th>16740</th>\n",
       "      <td>-118.11</td>\n",
       "      <td>34.68</td>\n",
       "      <td>6.0</td>\n",
       "      <td>7430.0</td>\n",
       "      <td>1184.0</td>\n",
       "      <td>3489.0</td>\n",
       "      <td>1115.0</td>\n",
       "      <td>5.3267</td>\n",
       "      <td>INLAND</td>\n",
       "    </tr>\n",
       "    <tr>\n",
       "      <th>5027</th>\n",
       "      <td>-116.80</td>\n",
       "      <td>32.80</td>\n",
       "      <td>11.0</td>\n",
       "      <td>3874.0</td>\n",
       "      <td>565.0</td>\n",
       "      <td>1672.0</td>\n",
       "      <td>546.0</td>\n",
       "      <td>6.1481</td>\n",
       "      <td>&lt;1H OCEAN</td>\n",
       "    </tr>\n",
       "    <tr>\n",
       "      <th>...</th>\n",
       "      <td>...</td>\n",
       "      <td>...</td>\n",
       "      <td>...</td>\n",
       "      <td>...</td>\n",
       "      <td>...</td>\n",
       "      <td>...</td>\n",
       "      <td>...</td>\n",
       "      <td>...</td>\n",
       "      <td>...</td>\n",
       "    </tr>\n",
       "    <tr>\n",
       "      <th>19253</th>\n",
       "      <td>-121.94</td>\n",
       "      <td>37.73</td>\n",
       "      <td>22.0</td>\n",
       "      <td>6719.0</td>\n",
       "      <td>1068.0</td>\n",
       "      <td>2843.0</td>\n",
       "      <td>994.0</td>\n",
       "      <td>6.1265</td>\n",
       "      <td>&lt;1H OCEAN</td>\n",
       "    </tr>\n",
       "    <tr>\n",
       "      <th>11023</th>\n",
       "      <td>-118.06</td>\n",
       "      <td>34.16</td>\n",
       "      <td>46.0</td>\n",
       "      <td>1467.0</td>\n",
       "      <td>298.0</td>\n",
       "      <td>816.0</td>\n",
       "      <td>267.0</td>\n",
       "      <td>3.6705</td>\n",
       "      <td>INLAND</td>\n",
       "    </tr>\n",
       "    <tr>\n",
       "      <th>12075</th>\n",
       "      <td>-117.01</td>\n",
       "      <td>32.80</td>\n",
       "      <td>20.0</td>\n",
       "      <td>2705.0</td>\n",
       "      <td>545.0</td>\n",
       "      <td>1198.0</td>\n",
       "      <td>497.0</td>\n",
       "      <td>3.7159</td>\n",
       "      <td>&lt;1H OCEAN</td>\n",
       "    </tr>\n",
       "    <tr>\n",
       "      <th>5615</th>\n",
       "      <td>-121.87</td>\n",
       "      <td>38.02</td>\n",
       "      <td>52.0</td>\n",
       "      <td>2264.0</td>\n",
       "      <td>439.0</td>\n",
       "      <td>1403.0</td>\n",
       "      <td>476.0</td>\n",
       "      <td>2.7083</td>\n",
       "      <td>INLAND</td>\n",
       "    </tr>\n",
       "    <tr>\n",
       "      <th>10811</th>\n",
       "      <td>-121.21</td>\n",
       "      <td>38.75</td>\n",
       "      <td>11.0</td>\n",
       "      <td>4552.0</td>\n",
       "      <td>639.0</td>\n",
       "      <td>2006.0</td>\n",
       "      <td>623.0</td>\n",
       "      <td>4.3962</td>\n",
       "      <td>INLAND</td>\n",
       "    </tr>\n",
       "  </tbody>\n",
       "</table>\n",
       "<p>16512 rows × 9 columns</p>\n",
       "</div>"
      ],
      "text/plain": [
       "       longitude  latitude  housing_median_age  total_rooms  total_bedrooms  \\\n",
       "4310     -117.25     32.80                26.0       2442.0           659.0   \n",
       "6639     -121.99     37.56                18.0       5505.0          1005.0   \n",
       "2750     -117.95     34.05                35.0       1309.0           276.0   \n",
       "16740    -118.11     34.68                 6.0       7430.0          1184.0   \n",
       "5027     -116.80     32.80                11.0       3874.0           565.0   \n",
       "...          ...       ...                 ...          ...             ...   \n",
       "19253    -121.94     37.73                22.0       6719.0          1068.0   \n",
       "11023    -118.06     34.16                46.0       1467.0           298.0   \n",
       "12075    -117.01     32.80                20.0       2705.0           545.0   \n",
       "5615     -121.87     38.02                52.0       2264.0           439.0   \n",
       "10811    -121.21     38.75                11.0       4552.0           639.0   \n",
       "\n",
       "       population  households  median_income ocean_proximity  \n",
       "4310       1134.0       624.0         3.3274      NEAR OCEAN  \n",
       "6639       2641.0       971.0         5.0000       <1H OCEAN  \n",
       "2750       1113.0       253.0         4.3750       <1H OCEAN  \n",
       "16740      3489.0      1115.0         5.3267          INLAND  \n",
       "5027       1672.0       546.0         6.1481       <1H OCEAN  \n",
       "...           ...         ...            ...             ...  \n",
       "19253      2843.0       994.0         6.1265       <1H OCEAN  \n",
       "11023       816.0       267.0         3.6705          INLAND  \n",
       "12075      1198.0       497.0         3.7159       <1H OCEAN  \n",
       "5615       1403.0       476.0         2.7083          INLAND  \n",
       "10811      2006.0       623.0         4.3962          INLAND  \n",
       "\n",
       "[16512 rows x 9 columns]"
      ]
     },
     "execution_count": 152,
     "metadata": {},
     "output_type": "execute_result"
    }
   ],
   "source": [
    "X_train"
   ]
  },
  {
   "cell_type": "markdown",
   "id": "ca7a41ff",
   "metadata": {
    "slideshow": {
     "slide_type": "slide"
    }
   },
   "source": [
    "### Feature Scaling\n",
    "\n",
    "- With few exceptions, machine learning algorithms don't perform well when the input of the numerical values have very different scales\n",
    "- Example in this dataset: `total_rooms`, `median_income`\n",
    "\n",
    "The most common ones:\n",
    "- MinMax scaling\n",
    "- Standarization"
   ]
  },
  {
   "cell_type": "markdown",
   "id": "c9a02205",
   "metadata": {
    "slideshow": {
     "slide_type": "slide"
    }
   },
   "source": [
    "### MinMax\n",
    "\n",
    "- AKA normalization\n",
    "- Values are shifted and rescaled so that they end up ranging from 0 to 1\n",
    "- How to calculate it? Subtracting the min val and diving by the difference between the min and the max"
   ]
  },
  {
   "cell_type": "code",
   "execution_count": null,
   "id": "00a7c960",
   "metadata": {
    "slideshow": {
     "slide_type": "fragment"
    }
   },
   "outputs": [],
   "source": []
  },
  {
   "cell_type": "markdown",
   "id": "c172727a",
   "metadata": {
    "slideshow": {
     "slide_type": "slide"
    }
   },
   "source": [
    "### Standarization\n",
    "\n",
    "- How to calculate it? Subtracts the mean value, then it divides the result by the standard deviation\n",
    "- It doesn't restrict the values to a specific range"
   ]
  },
  {
   "cell_type": "code",
   "execution_count": null,
   "id": "0f496eae",
   "metadata": {
    "slideshow": {
     "slide_type": "fragment"
    }
   },
   "outputs": [],
   "source": []
  },
  {
   "cell_type": "markdown",
   "id": "d7b11242",
   "metadata": {
    "slideshow": {
     "slide_type": "slide"
    }
   },
   "source": [
    "# 🤔 When would you use standarization vs MinMax?"
   ]
  },
  {
   "cell_type": "markdown",
   "id": "c7997282",
   "metadata": {
    "slideshow": {
     "slide_type": "slide"
    }
   },
   "source": [
    "### More notes on feature scaling\n",
    "\n",
    "- When a feature's distribution has a heavy tail, both MinMax and standarization will squash most values into a small range\n",
    "- You should first transform it to shrink the heavy tail \n",
    "    - Square root\n",
    "    - Log\n",
    "    - Bucket the feature\n",
    "    - and more..."
   ]
  },
  {
   "cell_type": "code",
   "execution_count": null,
   "id": "11f4bb04",
   "metadata": {
    "slideshow": {
     "slide_type": "fragment"
    }
   },
   "outputs": [],
   "source": []
  },
  {
   "cell_type": "markdown",
   "id": "5c1bf776",
   "metadata": {
    "slideshow": {
     "slide_type": "slide"
    }
   },
   "source": [
    "# 🏗 Feature engineering \n",
    "\n",
    "- Included but not limited to: \n",
    "    - Handling categorical features: Ordinal encoder, OneHot encoder, etc.\n",
    "    - Feature scaling: MinMax, standarizaton, square root, log, etc.\n",
    "    - Feature extraction: Creating new features from existing ones\n",
    "    - Text processing: TF-IDF, Word2Vec, BERT, GPT\n",
    "    - Dimensionality reduction\n",
    "- Depends on your dataset!"
   ]
  },
  {
   "cell_type": "markdown",
   "id": "bd23f2d0",
   "metadata": {
    "slideshow": {
     "slide_type": "slide"
    }
   },
   "source": [
    "# ⚗️ Putting all of it together\n"
   ]
  },
  {
   "cell_type": "code",
   "execution_count": null,
   "id": "588b54a5",
   "metadata": {
    "slideshow": {
     "slide_type": "fragment"
    }
   },
   "outputs": [],
   "source": []
  },
  {
   "cell_type": "markdown",
   "id": "f399d697",
   "metadata": {
    "slideshow": {
     "slide_type": "fragment"
    }
   },
   "source": [
    "- Impute the median to handle missing values\n",
    "- One-Hot Encoder to handle categorical values\n",
    "- Standartization "
   ]
  },
  {
   "cell_type": "code",
   "execution_count": null,
   "id": "abd5a717",
   "metadata": {
    "slideshow": {
     "slide_type": "slide"
    }
   },
   "outputs": [],
   "source": []
  },
  {
   "cell_type": "code",
   "execution_count": null,
   "id": "c26f29dd",
   "metadata": {
    "slideshow": {
     "slide_type": "fragment"
    }
   },
   "outputs": [],
   "source": []
  },
  {
   "cell_type": "markdown",
   "id": "c6a8c202",
   "metadata": {
    "slideshow": {
     "slide_type": "slide"
    }
   },
   "source": [
    "# 🤔 Do you notice something funny in here?"
   ]
  },
  {
   "cell_type": "markdown",
   "id": "68c1983d",
   "metadata": {
    "slideshow": {
     "slide_type": "slide"
    }
   },
   "source": [
    "# ⏪ Today's recap\n",
    "\n",
    "<br>\n",
    "<center>\n",
    "    <img src='../img/class_2/pipeline_class2.png' style='height:300px;'>\n",
    "</center>\n",
    "\n",
    "- Get data\n",
    "- EDA: Exploratory data analysis\n",
    "- Train, validation, and test datasets\n",
    "- Splitting datasets happens **BEFORE** data cleaning and feature engineering to prevent data leakage\n",
    "- Data cleaning: missing values, outliers, duplicates, incorrect data types, inconsistent data, etc.\n",
    "- Feature engineering (aka changing number of columns): categorical values, feature scaling, feature extraction, etc."
   ]
  },
  {
   "cell_type": "markdown",
   "id": "80dd07ca",
   "metadata": {
    "slideshow": {
     "slide_type": "slide"
    }
   },
   "source": [
    "# 👮‍♀️ Misc:\n",
    "\n",
    "- Self-graded quiz will be posted in the next hour\n",
    "- 💪 Ungraded homework will be posted tonight or tomorrow morning\n",
    "- Office hours on Friday at 12 PM (Zoom link will be posted in Canvas) "
   ]
  },
  {
   "cell_type": "markdown",
   "id": "7b2900de",
   "metadata": {
    "slideshow": {
     "slide_type": "slide"
    }
   },
   "source": [
    "<center>\n",
    "<img src='../img/all/bye.gif' style='height:400px;'> \n",
    "</center>\n",
    "\n",
    "# Next class: Regression models"
   ]
  }
 ],
 "metadata": {
  "celltoolbar": "Slideshow",
  "kernelspec": {
   "display_name": "Python 3 (ipykernel)",
   "language": "python",
   "name": "python3"
  },
  "language_info": {
   "codemirror_mode": {
    "name": "ipython",
    "version": 3
   },
   "file_extension": ".py",
   "mimetype": "text/x-python",
   "name": "python",
   "nbconvert_exporter": "python",
   "pygments_lexer": "ipython3",
   "version": "3.9.16"
  }
 },
 "nbformat": 4,
 "nbformat_minor": 5
}
