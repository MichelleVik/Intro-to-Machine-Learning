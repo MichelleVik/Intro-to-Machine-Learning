{
 "cells": [
  {
   "cell_type": "markdown",
   "id": "b8db19cd",
   "metadata": {
    "slideshow": {
     "slide_type": "notes"
    }
   },
   "source": [
    "- `conda install autopep8`\n",
    "- `pip install rise`\n",
    "- `pip install pandas`\n",
    "- `pip install matplotlib`\n",
    "- `pip install scikit-learn`"
   ]
  },
  {
   "cell_type": "markdown",
   "id": "441caf5d",
   "metadata": {
    "slideshow": {
     "slide_type": "slide"
    }
   },
   "source": [
    "# Class will start at 6:05 PM\n",
    "\n",
    "In the meantime... fun fact!"
   ]
  },
  {
   "cell_type": "markdown",
   "id": "f4678989",
   "metadata": {
    "slideshow": {
     "slide_type": "fragment"
    }
   },
   "source": [
    "-"
   ]
  },
  {
   "cell_type": "markdown",
   "id": "12d70594",
   "metadata": {
    "slideshow": {
     "slide_type": "slide"
    }
   },
   "source": [
    "# Week 2: Feature Engineering\n",
    "### Intro to Machine Learning | Professional Certificate course \n",
    "\n",
    "Viviana Marquez,  M.Sc.<br>\n",
    "March 1, 2023\n",
    "\n",
    "<br>\n",
    "\n",
    "<img src='../img/all/di.jpeg' style='width:500px; float: left; margin: 0px 30px 15px 0px'>"
   ]
  },
  {
   "cell_type": "markdown",
   "id": "ac8b7cd3",
   "metadata": {
    "slideshow": {
     "slide_type": "slide"
    }
   },
   "source": [
    "# 🚀 Today's agenda\n",
    "\n",
    "**Part 1:**\n",
    "\n",
    "- Getting data\n",
    "- Pandas crash course\n",
    "- EDA: Exploratory Data Analysis"
   ]
  },
  {
   "cell_type": "markdown",
   "id": "f2f31e72",
   "metadata": {
    "slideshow": {
     "slide_type": "slide"
    }
   },
   "source": [
    "# 🚀 Today's agenda\n",
    "\n",
    "**Part 2:**\n",
    "- Train, validation, and test data sets\n",
    "- Data cleaning and feature engineering "
   ]
  },
  {
   "cell_type": "markdown",
   "id": "ccaef5d0",
   "metadata": {
    "slideshow": {
     "slide_type": "slide"
    }
   },
   "source": [
    "# ❇️ Housekeeping"
   ]
  },
  {
   "cell_type": "markdown",
   "id": "1dcf078d",
   "metadata": {
    "slideshow": {
     "slide_type": "slide"
    }
   },
   "source": [
    "## Class dynamics\n",
    "\n",
    "**🗓️ Schedule**\n",
    "- Wednesdays 6PM - 9PM PST from February 22 to April 5 (7 weeks)\n",
    "- Classes will be LIVE through Zoom\n",
    "- Lectures with exercises and Q+A"
   ]
  },
  {
   "cell_type": "markdown",
   "id": "45322312",
   "metadata": {
    "slideshow": {
     "slide_type": "fragment"
    }
   },
   "source": [
    "\n",
    "**⌛ Class breakdown**\n",
    "- First five minutes I'll give a fun fact. Class will promptly start at 6:05PM PST\n",
    "- Self-graded quiz\n",
    "- Two blocks, with a 15 min break in between \n",
    "- Ungraded homework 💪"
   ]
  },
  {
   "cell_type": "markdown",
   "id": "d7f3fdc5",
   "metadata": {
    "slideshow": {
     "slide_type": "slide"
    }
   },
   "source": [
    "## Resources\n",
    "\n",
    "<br>\n",
    "<img src='../img/class_0/book.png' style='height:500px; float: left; margin: 0px 30px 15px 0px'>\n",
    "\n",
    "- [Canvas](https://usfca.instructure.com/courses/1613920)\n",
    "- [GitHub](https://github.com/vivianamarquez/Intro-to-Machine-Learning)\n",
    "- One office hour per week: Fridays 12PM EST\n",
    "\n",
    "- 🙋🏻🙋🏾‍♀️🙋‍♂️ Questions and comments are encouraged!\n",
    "- My email: vmarquez2@usfca.edu"
   ]
  },
  {
   "cell_type": "markdown",
   "id": "e0733be8",
   "metadata": {
    "slideshow": {
     "slide_type": "fragment"
    }
   },
   "source": [
    "- If you can't attend a session, please email Mikaela at mlmora@usfca.edu"
   ]
  },
  {
   "cell_type": "markdown",
   "id": "5cfccbcd",
   "metadata": {
    "slideshow": {
     "slide_type": "slide"
    }
   },
   "source": [
    "# ⏪ Last class recap\n",
    "\n",
    "- What is machine learning?\n",
    "- Creating a conda environment \n",
    "- Types of machine learning models \n",
    "- ML workflow "
   ]
  },
  {
   "cell_type": "markdown",
   "id": "fe781589",
   "metadata": {
    "slideshow": {
     "slide_type": "slide"
    }
   },
   "source": [
    "# 🗺️📍 Guide map \n",
    "\n",
    "<center>\n",
    "    <img src='../img/class_1/ml_map2.png' style='height:550px; float: center; margin: 0px 0px 0px 0px'>\n",
    "</center>\n",
    "    \n",
    "\n"
   ]
  },
  {
   "cell_type": "markdown",
   "id": "7f94344f",
   "metadata": {
    "slideshow": {
     "slide_type": "slide"
    }
   },
   "source": [
    "# 🗺️📍 Guide map \n",
    "\n",
    "<br>\n",
    "<center>\n",
    "    <img src='../img/class_0/pipeline.png' style='height:350px;'>\n",
    "</center>\n",
    "    \n",
    "\n"
   ]
  },
  {
   "cell_type": "markdown",
   "id": "85f7445a",
   "metadata": {
    "slideshow": {
     "slide_type": "slide"
    }
   },
   "source": [
    "### Conda environment commands\n",
    "\n",
    "- `conda activate IntroML`\n",
    "    - Launch `jupyter notebook`"
   ]
  },
  {
   "cell_type": "markdown",
   "id": "e2f5c083",
   "metadata": {
    "slideshow": {
     "slide_type": "slide"
    }
   },
   "source": [
    "# 🚀 Part 1"
   ]
  },
  {
   "cell_type": "markdown",
   "id": "adf92e74",
   "metadata": {
    "slideshow": {
     "slide_type": "slide"
    }
   },
   "source": [
    "# ❇️ Getting data"
   ]
  },
  {
   "cell_type": "markdown",
   "id": "65d5f906",
   "metadata": {
    "slideshow": {
     "slide_type": "slide"
    }
   },
   "source": [
    "# 🗺️📍 Guide map \n",
    "\n",
    "<br>\n",
    "<center>\n",
    "    <img src='../img/class_2/pipeline_EDA.png' style='height:350px;'>\n",
    "</center>\n",
    "    \n",
    "\n"
   ]
  },
  {
   "cell_type": "markdown",
   "id": "71a991fd",
   "metadata": {
    "slideshow": {
     "slide_type": "slide"
    }
   },
   "source": [
    "## Data is the new oil\n",
    "\n",
    "<br>\n",
    "<center>\n",
    "    <img src='../img/class_2/everyminute.png' style='height:700px;'>\n",
    "</center>"
   ]
  },
  {
   "cell_type": "markdown",
   "id": "2f9a03f8",
   "metadata": {
    "slideshow": {
     "slide_type": "slide"
    }
   },
   "source": [
    "## 👷🏽‍♀️ Getting data: In an ideal world...\n",
    "\n",
    "<br>\n",
    "<center>\n",
    "    <img src='../img/class_2/callcenter.jpg' style='height:300px;'>\n",
    "</center>\n",
    "\n",
    "- Imagine that you're working with data from a call center\n",
    "- Your task is to determine whether a call is a customer service inquiry or a sales inquiry\n",
    "- For this task, your company is provided with thousands (even millions) of observations\n",
    "- Additionally, each data point is labeled"
   ]
  },
  {
   "cell_type": "markdown",
   "id": "fd67cc96",
   "metadata": {
    "slideshow": {
     "slide_type": "fragment"
    }
   },
   "source": [
    "- Unfortunately, most projects are not that fortunate 🙁 and we need to go get our own data"
   ]
  },
  {
   "cell_type": "markdown",
   "id": "0869bab8",
   "metadata": {
    "slideshow": {
     "slide_type": "slide"
    }
   },
   "source": [
    "## 👷🏽‍♀️ Where to get data?\n",
    "\n",
    "**Open data repositories:**\n",
    "\n",
    "- OpenML.org (https://openml.org)\n",
    "- Kaggle.com (https://kaggle.com/datasets)\n",
    "- PapersWithCode.com (https://paperswithcode.com/datasets)\n",
    "- UC Irvine Machine Learning Repository (https://archive.ics.uci.edu/ml)\n",
    "- Amazon's AWS datasets (https://registry.opendata.aws)\n",
    "- TensorFlow datasets (https://tensorflow.org/datasets)\n",
    "- Google's data search engine: (https://datasetsearch.research.google.com/)"
   ]
  },
  {
   "cell_type": "markdown",
   "id": "76f8a6a8",
   "metadata": {
    "slideshow": {
     "slide_type": "slide"
    }
   },
   "source": [
    "**Meta portals and other pages listing datasets:**\n",
    "- DataPortals.org (https://dataportals.org/)\n",
    "- OpenDataMonitor.eu (https://opendatamonitor.eu/frontend/web/index.php?r=dashboard%2Findex)\n",
    "- Wikipedia's list of machine learning datasets (https://en.wikipedia.org/wiki/List_of_datasets_for_machine-learning_research)\n",
    "- Quora's list (https://www.quora.com/Where-can-I-find-large-datasets-open-to-the-public)\n",
    "- Reddit's dataset (https://www.reddit.com/r/datasets)\n",
    "- GitHub * (https://github.com/)"
   ]
  },
  {
   "cell_type": "markdown",
   "id": "699304c2",
   "metadata": {
    "slideshow": {
     "slide_type": "slide"
    }
   },
   "source": [
    "**Location specific:**\n",
    "\n",
    "- US Government data (https://data.gov/)\n",
    "- San Francisco Open Data (https://datasf.org/opendata/)\n",
    "- California Open Data (https://data.ca.gov/)\n",
    "- Los Angeles Open Data (https://data.lacity.org/)\n",
    "- NYC Open Data (https://opendata.cityofnewyork.us/)\n",
    "- State of New York Open Data (https://data.ny.gov/)"
   ]
  },
  {
   "cell_type": "markdown",
   "id": "ebd8a750",
   "metadata": {
    "slideshow": {
     "slide_type": "slide"
    }
   },
   "source": [
    "**Topic specific:**\n",
    "\n",
    "- World Bank Open Data (https://data.worldbank.org/)\n",
    "- PG&E's Public Data Sets (https://pge-energydatarequest.com/public_datasets) \n",
    "- ~Soccer~ Football data (https://datahub.io/collections/football_)\n",
    "- The Office Dataset (https://www.kaggle.com/datasets/nehaprabhavalkar/the-office-dataset)\n",
    "- The Last of s (https://www.kaggle.com/datasets/lazaro97/the-last-of-us-reviews)"
   ]
  },
  {
   "cell_type": "markdown",
   "id": "9c675a91",
   "metadata": {
    "slideshow": {
     "slide_type": "slide"
    }
   },
   "source": [
    "## 👷🏽‍♀️ Other ways of getting data\n",
    "\n",
    "- Request your own data: Twitter, Facebook, WhatsApp, etc.\n",
    "- Use APIs (Application Programming Interface)\n",
    "- Web scraping\n",
    "    - `BeautifulSoup`: Library for parsing HTML and XML documents\n",
    "    - `Selenium`: Web browser automation tool\n"
   ]
  },
  {
   "cell_type": "markdown",
   "id": "c24af99e",
   "metadata": {
    "slideshow": {
     "slide_type": "slide"
    }
   },
   "source": [
    "## 👷🏽‍♀️ Data augmentation \n",
    "\n",
    "- Technique used to increase the amount of training data by artificially creating new data from existing data (crucial for the performance of ML models and prevent overfitting)\n",
    "\n",
    "<br>\n",
    "<center>\n",
    "    <img src='../img/class_2/cat1.jpeg' style='height:350px;'>\n",
    "</center>"
   ]
  },
  {
   "cell_type": "markdown",
   "id": "08e09ab3",
   "metadata": {
    "slideshow": {
     "slide_type": "slide"
    }
   },
   "source": [
    "## 👷🏽‍♀️ Data augmentation \n",
    "\n",
    "- Technique used to increase the amount of training data by artificially creating new data from existing data\n",
    "\n",
    "<br>\n",
    "<center>\n",
    "    <img src='../img/class_2/cat2.jpeg' style='height:350px;'>\n",
    "</center>"
   ]
  },
  {
   "cell_type": "markdown",
   "id": "4901e102",
   "metadata": {
    "slideshow": {
     "slide_type": "slide"
    }
   },
   "source": [
    "## 👷🏽‍♀️ Data augmentation \n",
    "\n",
    "- Technique used to increase the amount of training data by artificially creating new data from existing data\n",
    "\n",
    "<br>\n",
    "<center>\n",
    "    <img src='../img/class_2/cat4.jpeg' style='height:350px;'>\n",
    "</center>"
   ]
  },
  {
   "cell_type": "markdown",
   "id": "a424e7a9",
   "metadata": {
    "slideshow": {
     "slide_type": "slide"
    }
   },
   "source": [
    "## 👷🏽‍♀️ Data augmentation \n",
    "\n",
    "- Technique used to increase the amount of training data by artificially creating new data from existing data\n",
    "\n",
    "<br>\n",
    "<center>\n",
    "    <img src='../img/class_2/cat5.jpeg' style='height:350px;'>\n",
    "</center>"
   ]
  },
  {
   "cell_type": "markdown",
   "id": "b15fbfa6",
   "metadata": {
    "slideshow": {
     "slide_type": "slide"
    }
   },
   "source": [
    "## 👷🏽‍♀️ Data augmentation \n",
    "\n",
    "Some strategies for **image** data:"
   ]
  },
  {
   "cell_type": "markdown",
   "id": "c7ae2484",
   "metadata": {
    "slideshow": {
     "slide_type": "fragment"
    }
   },
   "source": [
    "- Flipping\n",
    "- Rotating\n",
    "- Cropping\n",
    "- Zooming\n",
    "- Adding noise or distortion\n",
    "- Adjust brightness and contrast"
   ]
  },
  {
   "cell_type": "markdown",
   "id": "416a5867",
   "metadata": {
    "slideshow": {
     "slide_type": "slide"
    }
   },
   "source": [
    "## 👷🏽‍♀️ Data augmentation \n",
    "\n",
    "Some strategies for **text** data:"
   ]
  },
  {
   "cell_type": "markdown",
   "id": "279eef06",
   "metadata": {
    "slideshow": {
     "slide_type": "fragment"
    }
   },
   "source": [
    "- Synonym/antonym replacement\n",
    "- Entity replacement\n",
    "- Random insertion/deletion \n",
    "- Back-translation "
   ]
  },
  {
   "cell_type": "markdown",
   "id": "780b67fe",
   "metadata": {
    "slideshow": {
     "slide_type": "slide"
    }
   },
   "source": [
    "## 👷🏽‍♀️ Data augmentation \n",
    "\n",
    "Some strategies for **numerical** data:"
   ]
  },
  {
   "cell_type": "markdown",
   "id": "3499e23e",
   "metadata": {
    "slideshow": {
     "slide_type": "fragment"
    }
   },
   "source": [
    "- **Scaling:** Multiply or divide the data by a constant factor to increase or decrease its magnitude.\n",
    "\n",
    "- **Shifting:** Add or subtract a constant value to the data to shift its position along the scale.\n",
    "\n",
    "- **Noise addition:** Add a small amount of random noise to the data to create variations. (For example, adding small amounts of Gaussian noise to simulate measurement error)\n",
    "\n",
    "- **Interpolation:** Add new data points to the dataset by interpolating between existing data points.\n",
    "\n",
    "- **Smoothing:** Smooth the data by applying filters or averaging techniques."
   ]
  },
  {
   "cell_type": "markdown",
   "id": "477cb50a",
   "metadata": {
    "slideshow": {
     "slide_type": "slide"
    }
   },
   "source": [
    "# ❇️ Pandas crash course"
   ]
  },
  {
   "cell_type": "markdown",
   "id": "b6aa5545",
   "metadata": {
    "slideshow": {
     "slide_type": "slide"
    }
   },
   "source": [
    "<img src='../img/class_2/cali.png' style='height:500px; float: left; margin: 0px 100px 0px 0px'>\n",
    "\n",
    "### Before we start... \n",
    "\n",
    "Download data from [here](https://raw.githubusercontent.com/vivianamarquez/Intro-to-Machine-Learning/main/data/housing.csv)\n",
    "\n",
    " - California Housing Prices dataset\n",
    "     - 1990 California census\n",
    "     \n",
    "     \n",
    "Task: Create a model to predict median house value based on the other features of the dataset"
   ]
  },
  {
   "cell_type": "markdown",
   "id": "520aa682",
   "metadata": {
    "slideshow": {
     "slide_type": "slide"
    }
   },
   "source": [
    "# 🐼 Pandas\n",
    "\n",
    "- `pandas` is a fast, powerful, flexible and easy to use open source data analysis and manipulation tool, built on top of the Python programming language"
   ]
  },
  {
   "cell_type": "code",
   "execution_count": null,
   "id": "dc710c3b",
   "metadata": {
    "slideshow": {
     "slide_type": "fragment"
    }
   },
   "outputs": [],
   "source": []
  },
  {
   "cell_type": "code",
   "execution_count": null,
   "id": "6d773ee5",
   "metadata": {
    "slideshow": {
     "slide_type": "slide"
    }
   },
   "outputs": [],
   "source": []
  },
  {
   "cell_type": "code",
   "execution_count": null,
   "id": "553fa330",
   "metadata": {
    "slideshow": {
     "slide_type": "fragment"
    }
   },
   "outputs": [],
   "source": []
  },
  {
   "cell_type": "code",
   "execution_count": null,
   "id": "b3e4f202",
   "metadata": {
    "slideshow": {
     "slide_type": "fragment"
    }
   },
   "outputs": [],
   "source": []
  },
  {
   "cell_type": "code",
   "execution_count": null,
   "id": "90b2559f",
   "metadata": {
    "slideshow": {
     "slide_type": "slide"
    }
   },
   "outputs": [],
   "source": []
  },
  {
   "cell_type": "code",
   "execution_count": null,
   "id": "e0df3130",
   "metadata": {
    "slideshow": {
     "slide_type": "fragment"
    }
   },
   "outputs": [],
   "source": []
  },
  {
   "cell_type": "code",
   "execution_count": null,
   "id": "c5be4c5f",
   "metadata": {
    "slideshow": {
     "slide_type": "slide"
    }
   },
   "outputs": [],
   "source": []
  },
  {
   "cell_type": "code",
   "execution_count": null,
   "id": "130dd588",
   "metadata": {
    "slideshow": {
     "slide_type": "fragment"
    }
   },
   "outputs": [],
   "source": []
  },
  {
   "cell_type": "code",
   "execution_count": null,
   "id": "b3ac94f0",
   "metadata": {
    "slideshow": {
     "slide_type": "slide"
    }
   },
   "outputs": [],
   "source": []
  },
  {
   "cell_type": "code",
   "execution_count": null,
   "id": "a3949b69",
   "metadata": {
    "slideshow": {
     "slide_type": "slide"
    }
   },
   "outputs": [],
   "source": []
  },
  {
   "cell_type": "markdown",
   "id": "552e6a2d",
   "metadata": {
    "slideshow": {
     "slide_type": "slide"
    }
   },
   "source": [
    "**`loc` vs `iloc`**\n",
    "\n",
    "- `loc`: Select data by label/index\n",
    "- `iloc`: Select data by integer location"
   ]
  },
  {
   "cell_type": "code",
   "execution_count": null,
   "id": "52056b21",
   "metadata": {
    "slideshow": {
     "slide_type": "fragment"
    }
   },
   "outputs": [],
   "source": []
  },
  {
   "cell_type": "code",
   "execution_count": null,
   "id": "f1d4da51",
   "metadata": {
    "slideshow": {
     "slide_type": "fragment"
    }
   },
   "outputs": [],
   "source": []
  },
  {
   "cell_type": "markdown",
   "id": "c974d014",
   "metadata": {
    "slideshow": {
     "slide_type": "slide"
    }
   },
   "source": [
    "- We will learn more Pandas as we go on our next topic\n",
    "- Documentation: https://pandas.pydata.org/docs/"
   ]
  },
  {
   "cell_type": "markdown",
   "id": "ce86850b",
   "metadata": {
    "slideshow": {
     "slide_type": "slide"
    }
   },
   "source": [
    "# ❇️ EDA: Exploratory Data Analysis"
   ]
  },
  {
   "cell_type": "markdown",
   "id": "9cbe5fac",
   "metadata": {
    "slideshow": {
     "slide_type": "slide"
    }
   },
   "source": [
    "### 🕵️ EDA: Exploratory Data Analysis\n",
    "\n",
    "<br>\n",
    "<center>\n",
    "    <img src='../img/class_2/pipeline_EDA.png' style='height:300px;'>\n",
    "</center>"
   ]
  },
  {
   "cell_type": "markdown",
   "id": "37eb5f56",
   "metadata": {
    "slideshow": {
     "slide_type": "fragment"
    }
   },
   "source": [
    "- EDA is the process of performing initial investigations on data to be able to understand it, identify patters and relationships between variables, detect outliers and anomalies with the help of summary statistics and data visualizations."
   ]
  },
  {
   "cell_type": "markdown",
   "id": "4b065c3f",
   "metadata": {
    "slideshow": {
     "slide_type": "fragment"
    }
   },
   "source": [
    "- By exploring the data in this way, data professionals can check the overall health of their data and gain insights and make informed decisions about how to approach further analysis or modeling"
   ]
  },
  {
   "cell_type": "markdown",
   "id": "193b9241",
   "metadata": {
    "slideshow": {
     "slide_type": "slide"
    }
   },
   "source": [
    "## Look at the data"
   ]
  },
  {
   "cell_type": "code",
   "execution_count": null,
   "id": "9d6ecd7e",
   "metadata": {
    "slideshow": {
     "slide_type": "fragment"
    }
   },
   "outputs": [],
   "source": []
  },
  {
   "cell_type": "code",
   "execution_count": null,
   "id": "fd44c893",
   "metadata": {
    "slideshow": {
     "slide_type": "slide"
    }
   },
   "outputs": [],
   "source": []
  },
  {
   "cell_type": "code",
   "execution_count": null,
   "id": "5797c755",
   "metadata": {
    "slideshow": {
     "slide_type": "fragment"
    }
   },
   "outputs": [],
   "source": []
  },
  {
   "cell_type": "markdown",
   "id": "29a8ff3e",
   "metadata": {
    "slideshow": {
     "slide_type": "fragment"
    }
   },
   "source": [
    "- Observe `total_bedrooms`"
   ]
  },
  {
   "cell_type": "code",
   "execution_count": null,
   "id": "a8951326",
   "metadata": {
    "slideshow": {
     "slide_type": "slide"
    }
   },
   "outputs": [],
   "source": []
  },
  {
   "cell_type": "markdown",
   "id": "f9278ed1",
   "metadata": {
    "slideshow": {
     "slide_type": "fragment"
    }
   },
   "source": [
    "- Note that null values are ignored "
   ]
  },
  {
   "cell_type": "markdown",
   "id": "fd577e93",
   "metadata": {
    "slideshow": {
     "slide_type": "fragment"
    }
   },
   "source": [
    "- Percentile: Value below which a given percentage of observations in a group of observations fall"
   ]
  },
  {
   "cell_type": "code",
   "execution_count": null,
   "id": "0e8b4aa5",
   "metadata": {
    "slideshow": {
     "slide_type": "slide"
    }
   },
   "outputs": [],
   "source": []
  },
  {
   "cell_type": "code",
   "execution_count": null,
   "id": "08984297",
   "metadata": {
    "slideshow": {
     "slide_type": "fragment"
    }
   },
   "outputs": [],
   "source": []
  },
  {
   "cell_type": "code",
   "execution_count": null,
   "id": "db1b8323",
   "metadata": {
    "slideshow": {
     "slide_type": "fragment"
    }
   },
   "outputs": [],
   "source": []
  },
  {
   "cell_type": "code",
   "execution_count": null,
   "id": "7f39b07e",
   "metadata": {
    "slideshow": {
     "slide_type": "slide"
    }
   },
   "outputs": [],
   "source": []
  },
  {
   "cell_type": "code",
   "execution_count": null,
   "id": "2239e661",
   "metadata": {
    "slideshow": {
     "slide_type": "slide"
    }
   },
   "outputs": [],
   "source": []
  },
  {
   "cell_type": "markdown",
   "id": "c987cd6c",
   "metadata": {
    "slideshow": {
     "slide_type": "slide"
    }
   },
   "source": [
    "### Histogram\n",
    "\n",
    "Shows the number of of instances that have a given value"
   ]
  },
  {
   "cell_type": "code",
   "execution_count": null,
   "id": "cf0404be",
   "metadata": {
    "slideshow": {
     "slide_type": "fragment"
    }
   },
   "outputs": [],
   "source": []
  },
  {
   "cell_type": "code",
   "execution_count": null,
   "id": "939ae2e1",
   "metadata": {
    "slideshow": {
     "slide_type": "slide"
    }
   },
   "outputs": [],
   "source": []
  },
  {
   "cell_type": "code",
   "execution_count": null,
   "id": "86015613",
   "metadata": {
    "slideshow": {
     "slide_type": "fragment"
    }
   },
   "outputs": [],
   "source": []
  },
  {
   "cell_type": "markdown",
   "id": "80ffab56",
   "metadata": {
    "slideshow": {
     "slide_type": "slide"
    }
   },
   "source": [
    "# 🤔 Do you notice anything by looking at these histograms?"
   ]
  },
  {
   "cell_type": "markdown",
   "id": "21bf52fb",
   "metadata": {
    "slideshow": {
     "slide_type": "fragment"
    }
   },
   "source": [
    "- `median_income`: Looks like it's not expressed in US dollars"
   ]
  },
  {
   "cell_type": "markdown",
   "id": "b8877309",
   "metadata": {
    "slideshow": {
     "slide_type": "fragment"
    }
   },
   "source": [
    "    - Data has been scaled and capped at 15 for higher median incomes, and at 0.5 for lower median incomes. \n",
    "    - The numbers represent roughly tens of thousands of dollars (e.g., 3 actually means about $30,000). \n",
    "    - Working with preprocessed attributes is common in Machine Learning, and it is not necessarily a problem, but you should try to understand how the data was computed."
   ]
  },
  {
   "cell_type": "markdown",
   "id": "057a44b0",
   "metadata": {
    "slideshow": {
     "slide_type": "slide"
    }
   },
   "source": [
    "- `housing_median_age`, `median_house_value`: Looks like they're capped."
   ]
  },
  {
   "cell_type": "markdown",
   "id": "79ad02a6",
   "metadata": {
    "slideshow": {
     "slide_type": "fragment"
    }
   },
   "source": [
    "    - Issue: `median_house_value` is your target variable\n",
    "    - Options: Collect proper labels or remove capped observations from the dataset"
   ]
  },
  {
   "cell_type": "markdown",
   "id": "795ae996",
   "metadata": {
    "slideshow": {
     "slide_type": "slide"
    }
   },
   "source": [
    "- Many attributes have different scales (... we will discuss that next)"
   ]
  },
  {
   "cell_type": "markdown",
   "id": "3c48e004",
   "metadata": {
    "slideshow": {
     "slide_type": "fragment"
    }
   },
   "source": [
    "- Many histograms are skewed right"
   ]
  },
  {
   "cell_type": "markdown",
   "id": "2a64606a",
   "metadata": {
    "slideshow": {
     "slide_type": "slide"
    }
   },
   "source": [
    "# Do we have nulls?"
   ]
  },
  {
   "cell_type": "code",
   "execution_count": null,
   "id": "e975e2ad",
   "metadata": {
    "slideshow": {
     "slide_type": "fragment"
    }
   },
   "outputs": [],
   "source": []
  },
  {
   "cell_type": "markdown",
   "id": "57121fa6",
   "metadata": {
    "slideshow": {
     "slide_type": "slide"
    }
   },
   "source": [
    "# Visualizing your data"
   ]
  },
  {
   "cell_type": "code",
   "execution_count": null,
   "id": "b3396b38",
   "metadata": {
    "slideshow": {
     "slide_type": "fragment"
    }
   },
   "outputs": [],
   "source": []
  },
  {
   "cell_type": "code",
   "execution_count": null,
   "id": "bd500bce",
   "metadata": {
    "slideshow": {
     "slide_type": "slide"
    }
   },
   "outputs": [],
   "source": []
  },
  {
   "cell_type": "code",
   "execution_count": null,
   "id": "90d88070",
   "metadata": {
    "slideshow": {
     "slide_type": "slide"
    }
   },
   "outputs": [],
   "source": []
  },
  {
   "cell_type": "markdown",
   "id": "841c2537",
   "metadata": {
    "slideshow": {
     "slide_type": "slide"
    }
   },
   "source": [
    "Save California image from: https://raw.githubusercontent.com/vivianamarquez/Intro-to-Machine-Learning/main/img/class_2/california.png"
   ]
  },
  {
   "cell_type": "code",
   "execution_count": null,
   "id": "f1e1cb80",
   "metadata": {
    "slideshow": {
     "slide_type": "slide"
    }
   },
   "outputs": [],
   "source": []
  },
  {
   "cell_type": "markdown",
   "id": "7c6558e2",
   "metadata": {
    "slideshow": {
     "slide_type": "slide"
    }
   },
   "source": [
    "# Useful questions to ask yourself when doing EDA"
   ]
  },
  {
   "cell_type": "markdown",
   "id": "8a1dfccc",
   "metadata": {
    "slideshow": {
     "slide_type": "fragment"
    }
   },
   "source": [
    "- **Completeness:** Does the given data include all required information?"
   ]
  },
  {
   "cell_type": "markdown",
   "id": "2a98c4f3",
   "metadata": {
    "slideshow": {
     "slide_type": "fragment"
    }
   },
   "source": [
    "- **Validity:** Does the given data correspond with business rules and/or restrictions?"
   ]
  },
  {
   "cell_type": "markdown",
   "id": "db59e78f",
   "metadata": {
    "slideshow": {
     "slide_type": "fragment"
    }
   },
   "source": [
    "- **Uniformity:** Is the given data specified using consistent units of measurement?\n",
    "\n"
   ]
  },
  {
   "cell_type": "markdown",
   "id": "a5b7c4fd",
   "metadata": {
    "slideshow": {
     "slide_type": "fragment"
    }
   },
   "source": [
    "- **Consistency:** Is the given data consistent across your datasets?\n"
   ]
  },
  {
   "cell_type": "markdown",
   "id": "06723c84",
   "metadata": {
    "slideshow": {
     "slide_type": "fragment"
    }
   },
   "source": [
    "- **Accuracy:** Is the given data close to the true values?\n",
    "\n",
    "\n"
   ]
  },
  {
   "cell_type": "markdown",
   "id": "a7505719",
   "metadata": {
    "slideshow": {
     "slide_type": "slide"
    }
   },
   "source": [
    "# 🚀 Part 2\n",
    "\n",
    "See you here at @"
   ]
  },
  {
   "cell_type": "markdown",
   "id": "77aaa7c7",
   "metadata": {
    "slideshow": {
     "slide_type": "slide"
    }
   },
   "source": [
    "# ❇️ Train, validation, and test data sets"
   ]
  },
  {
   "cell_type": "markdown",
   "id": "bfad8d4f",
   "metadata": {
    "slideshow": {
     "slide_type": "slide"
    }
   },
   "source": [
    "<center>\n",
    "    <img src='../img/class_2/pipeline_FE.png' style='height:300px;'>\n",
    "</center>"
   ]
  },
  {
   "cell_type": "markdown",
   "id": "5e18398b",
   "metadata": {
    "slideshow": {
     "slide_type": "slide"
    }
   },
   "source": [
    "# ⏩ How do we know if our model is good? "
   ]
  },
  {
   "cell_type": "markdown",
   "id": "4f320a92",
   "metadata": {
    "slideshow": {
     "slide_type": "fragment"
    }
   },
   "source": [
    "## --> We need split the data into train/validation/test data sets!"
   ]
  },
  {
   "cell_type": "markdown",
   "id": "6196c516",
   "metadata": {
    "slideshow": {
     "slide_type": "fragment"
    }
   },
   "source": [
    "- **Training dataset:** Used to train machine learning model\n",
    "- **Validation dataset:** Used to tune the model's hyperparameters \n",
    "- **Test datatset:** Evaluate the model's performance on unseen data"
   ]
  },
  {
   "cell_type": "markdown",
   "id": "c156eb7e",
   "metadata": {
    "slideshow": {
     "slide_type": "notes"
    }
   },
   "source": [
    "(Val set: you can ensure that you are not overfitting your model to the training data by tweaking its hyperparameters)"
   ]
  },
  {
   "cell_type": "markdown",
   "id": "cef1cdb8",
   "metadata": {
    "slideshow": {
     "slide_type": "slide"
    }
   },
   "source": [
    "# ⚠️⚠️⚠️ \n",
    "\n",
    "- It is important to separate the data into training, validation, and test sets **BEFORE** doing any data cleaning or feature engineering to prevent <u>data leakage</u> and ensure that the model is evaluated on unseen data."
   ]
  },
  {
   "cell_type": "markdown",
   "id": "d7a5d91e",
   "metadata": {
    "slideshow": {
     "slide_type": "fragment"
    }
   },
   "source": [
    "- **Data leakage:** Occurs when information from the validation or test set is used to inform the model during training or feature engineering\n",
    "    - This can result in an overly optimistic evaluation of the model's performance and an inability to generalize well to new, unseen data\n",
    "    - By separating the datasets we can ensure that the model is evaluated on unseen data"
   ]
  },
  {
   "cell_type": "markdown",
   "id": "af44b386",
   "metadata": {
    "slideshow": {
     "slide_type": "fragment"
    }
   },
   "source": [
    "- In general, putting 80% of the data in the training set, 10%  in the validation set, and 10% in the test set is a good split to start with."
   ]
  },
  {
   "cell_type": "markdown",
   "id": "cfaa38bd",
   "metadata": {
    "slideshow": {
     "slide_type": "fragment"
    }
   },
   "source": [
    "- Most of the time, the data should be split randomly to be representative of the whole population."
   ]
  },
  {
   "cell_type": "markdown",
   "id": "a62764d6",
   "metadata": {
    "slideshow": {
     "slide_type": "slide"
    }
   },
   "source": [
    "# Let's split the data"
   ]
  },
  {
   "cell_type": "code",
   "execution_count": null,
   "id": "b6378388",
   "metadata": {
    "slideshow": {
     "slide_type": "fragment"
    }
   },
   "outputs": [],
   "source": []
  },
  {
   "cell_type": "code",
   "execution_count": null,
   "id": "446d72e3",
   "metadata": {
    "slideshow": {
     "slide_type": "slide"
    }
   },
   "outputs": [],
   "source": []
  },
  {
   "cell_type": "code",
   "execution_count": null,
   "id": "b5e0f01e",
   "metadata": {
    "slideshow": {
     "slide_type": "fragment"
    }
   },
   "outputs": [],
   "source": []
  },
  {
   "cell_type": "code",
   "execution_count": null,
   "id": "c613766d",
   "metadata": {
    "slideshow": {
     "slide_type": "slide"
    }
   },
   "outputs": [],
   "source": []
  },
  {
   "cell_type": "code",
   "execution_count": null,
   "id": "e6d68e55",
   "metadata": {
    "slideshow": {
     "slide_type": "fragment"
    }
   },
   "outputs": [],
   "source": []
  },
  {
   "cell_type": "code",
   "execution_count": null,
   "id": "50dc1db2",
   "metadata": {
    "slideshow": {
     "slide_type": "slide"
    }
   },
   "outputs": [],
   "source": []
  },
  {
   "cell_type": "code",
   "execution_count": null,
   "id": "0e043d41",
   "metadata": {
    "slideshow": {
     "slide_type": "fragment"
    }
   },
   "outputs": [],
   "source": []
  },
  {
   "cell_type": "code",
   "execution_count": null,
   "id": "ec830a9e",
   "metadata": {
    "slideshow": {
     "slide_type": "fragment"
    }
   },
   "outputs": [],
   "source": []
  },
  {
   "cell_type": "code",
   "execution_count": null,
   "id": "1ee85637",
   "metadata": {
    "slideshow": {
     "slide_type": "fragment"
    }
   },
   "outputs": [],
   "source": []
  },
  {
   "cell_type": "code",
   "execution_count": null,
   "id": "171de75f",
   "metadata": {
    "slideshow": {
     "slide_type": "fragment"
    }
   },
   "outputs": [],
   "source": []
  },
  {
   "cell_type": "markdown",
   "id": "52195943",
   "metadata": {
    "slideshow": {
     "slide_type": "slide"
    }
   },
   "source": [
    "# ❇️ Data cleaning"
   ]
  },
  {
   "cell_type": "markdown",
   "id": "d062a5dd",
   "metadata": {
    "slideshow": {
     "slide_type": "slide"
    }
   },
   "source": [
    "# 🛁 Data cleaning\n",
    "\n",
    "<br><br>\n",
    "<center>\n",
    "    <img src='../img/class_0/gigo.png' style='height:300px;'>\n",
    "</center>\n",
    "\n",
    "- Identifying and correcting or removing errors, inaccuracies, and incomplete or irrelevant data\n",
    "- Objective: Improve data quality, making it suitable for modeling"
   ]
  },
  {
   "cell_type": "markdown",
   "id": "8517b459",
   "metadata": {
    "slideshow": {
     "slide_type": "slide"
    }
   },
   "source": [
    "### Handling missing values\n",
    "\n",
    "Two options: Drop them or account for them"
   ]
  },
  {
   "cell_type": "code",
   "execution_count": null,
   "id": "a30e454d",
   "metadata": {
    "slideshow": {
     "slide_type": "fragment"
    }
   },
   "outputs": [],
   "source": []
  },
  {
   "cell_type": "code",
   "execution_count": null,
   "id": "16beb204",
   "metadata": {
    "slideshow": {
     "slide_type": "slide"
    }
   },
   "outputs": [],
   "source": []
  },
  {
   "cell_type": "code",
   "execution_count": null,
   "id": "5669405f",
   "metadata": {
    "slideshow": {
     "slide_type": "slide"
    }
   },
   "outputs": [],
   "source": []
  },
  {
   "cell_type": "code",
   "execution_count": null,
   "id": "42a010e8",
   "metadata": {
    "slideshow": {
     "slide_type": "slide"
    }
   },
   "outputs": [],
   "source": []
  },
  {
   "cell_type": "code",
   "execution_count": null,
   "id": "bf2d7a7e",
   "metadata": {
    "slideshow": {
     "slide_type": "fragment"
    }
   },
   "outputs": [],
   "source": []
  },
  {
   "cell_type": "code",
   "execution_count": null,
   "id": "91ca4cf0",
   "metadata": {
    "slideshow": {
     "slide_type": "slide"
    }
   },
   "outputs": [],
   "source": []
  },
  {
   "cell_type": "code",
   "execution_count": null,
   "id": "df0484f2",
   "metadata": {
    "slideshow": {
     "slide_type": "slide"
    }
   },
   "outputs": [],
   "source": []
  },
  {
   "cell_type": "markdown",
   "id": "f839d7b6",
   "metadata": {
    "slideshow": {
     "slide_type": "slide"
    }
   },
   "source": [
    "# 🤔 When would you use median? When would you use mean?"
   ]
  },
  {
   "cell_type": "markdown",
   "id": "c9faac30",
   "metadata": {
    "slideshow": {
     "slide_type": "slide"
    }
   },
   "source": [
    "### Handling outliers\n",
    "\n",
    "- An outlier is an observation that is unlike the other observations\n",
    "    - Measurement or input error\n",
    "    - Data corruption\n",
    "    - True observation "
   ]
  },
  {
   "cell_type": "markdown",
   "id": "7583c898",
   "metadata": {
    "slideshow": {
     "slide_type": "fragment"
    }
   },
   "source": [
    "- There is no precise way to identify outliers given that each dataset is unique"
   ]
  },
  {
   "cell_type": "markdown",
   "id": "a4c79149",
   "metadata": {
    "slideshow": {
     "slide_type": "fragment"
    }
   },
   "source": [
    "- We can use statistical methods to identify observations that appear to be rare"
   ]
  },
  {
   "cell_type": "code",
   "execution_count": null,
   "id": "d33f466e",
   "metadata": {
    "slideshow": {
     "slide_type": "slide"
    }
   },
   "outputs": [],
   "source": []
  },
  {
   "cell_type": "code",
   "execution_count": null,
   "id": "5aafb3f5",
   "metadata": {
    "slideshow": {
     "slide_type": "fragment"
    }
   },
   "outputs": [],
   "source": []
  },
  {
   "cell_type": "markdown",
   "id": "8f0c6bed",
   "metadata": {
    "slideshow": {
     "slide_type": "slide"
    }
   },
   "source": [
    "### Handling duplicates"
   ]
  },
  {
   "cell_type": "code",
   "execution_count": null,
   "id": "3650bf44",
   "metadata": {
    "slideshow": {
     "slide_type": "fragment"
    }
   },
   "outputs": [],
   "source": []
  },
  {
   "cell_type": "markdown",
   "id": "9e0ad12c",
   "metadata": {
    "slideshow": {
     "slide_type": "slide"
    }
   },
   "source": [
    "# 🛁 Data cleaning\n",
    "\n",
    "- Included but not limited to: \n",
    "    - Handling missing values: drop them or account for them \n",
    "    - Handling outliers: drop them or account for them or keep them\n",
    "    - Remove duplicates\n",
    "    - Handling incorrect data types\n",
    "    - Handling inconsistent data (example: age shouldn't be negative)"
   ]
  },
  {
   "cell_type": "markdown",
   "id": "81a01229",
   "metadata": {
    "slideshow": {
     "slide_type": "slide"
    }
   },
   "source": [
    "# ❇️ Feature Engineering"
   ]
  },
  {
   "cell_type": "markdown",
   "id": "09067905",
   "metadata": {
    "slideshow": {
     "slide_type": "slide"
    }
   },
   "source": [
    "# 🏗 Feature engineering \n",
    "\n",
    "- Feature engineering is the process of selecting and transforming raw data into features that can be used to train machine learning models\n",
    "- AKA creating/changing number of columns"
   ]
  },
  {
   "cell_type": "markdown",
   "id": "e5f727a9",
   "metadata": {
    "slideshow": {
     "slide_type": "slide"
    }
   },
   "source": [
    "### Handling categorical attributes\n",
    "\n",
    "- Most machine learning models prefer to work with numbers "
   ]
  },
  {
   "cell_type": "markdown",
   "id": "a1c619a6",
   "metadata": {
    "slideshow": {
     "slide_type": "slide"
    }
   },
   "source": [
    "### Ordinal encoder\n",
    "\n",
    "- Disadvantage: Assumes two nearby values are more similar to each other (useful for ordered categories such as \"bad\". \"average\", \"good\", \"excellent\")"
   ]
  },
  {
   "cell_type": "code",
   "execution_count": null,
   "id": "76c06fcf",
   "metadata": {
    "slideshow": {
     "slide_type": "fragment"
    }
   },
   "outputs": [],
   "source": []
  },
  {
   "cell_type": "code",
   "execution_count": null,
   "id": "4df36988",
   "metadata": {
    "slideshow": {
     "slide_type": "fragment"
    }
   },
   "outputs": [],
   "source": []
  },
  {
   "cell_type": "code",
   "execution_count": null,
   "id": "b74c9853",
   "metadata": {
    "slideshow": {
     "slide_type": "fragment"
    }
   },
   "outputs": [],
   "source": []
  },
  {
   "cell_type": "markdown",
   "id": "ab9c0704",
   "metadata": {
    "slideshow": {
     "slide_type": "slide"
    }
   },
   "source": [
    "### One-Hot encoder\n",
    "\n",
    "- One binary category per attribute"
   ]
  },
  {
   "cell_type": "code",
   "execution_count": null,
   "id": "086767f2",
   "metadata": {
    "slideshow": {
     "slide_type": "fragment"
    }
   },
   "outputs": [],
   "source": []
  },
  {
   "cell_type": "code",
   "execution_count": null,
   "id": "504be3f8",
   "metadata": {
    "slideshow": {
     "slide_type": "slide"
    }
   },
   "outputs": [],
   "source": []
  },
  {
   "cell_type": "code",
   "execution_count": null,
   "id": "0269d993",
   "metadata": {
    "slideshow": {
     "slide_type": "fragment"
    }
   },
   "outputs": [],
   "source": []
  },
  {
   "cell_type": "markdown",
   "id": "ca7a41ff",
   "metadata": {
    "slideshow": {
     "slide_type": "slide"
    }
   },
   "source": [
    "### Feature Scaling\n",
    "\n",
    "- With few exceptions, machine learning algorithms don't perform well when the input of the numerical values have very different scales\n",
    "- Example in this dataset: `total_rooms`, `median_income`\n",
    "\n",
    "The most common ones:\n",
    "- MinMax scaling\n",
    "- Standarization"
   ]
  },
  {
   "cell_type": "markdown",
   "id": "c9a02205",
   "metadata": {
    "slideshow": {
     "slide_type": "slide"
    }
   },
   "source": [
    "### MinMax\n",
    "\n",
    "- AKA normalization\n",
    "- Values are shifted and rescaled so that they end up ranging from 0 to 1\n",
    "- How to calculate it? Subtracting the min val and diving by the difference between the min and the max"
   ]
  },
  {
   "cell_type": "code",
   "execution_count": null,
   "id": "00a7c960",
   "metadata": {
    "slideshow": {
     "slide_type": "fragment"
    }
   },
   "outputs": [],
   "source": []
  },
  {
   "cell_type": "markdown",
   "id": "c172727a",
   "metadata": {
    "slideshow": {
     "slide_type": "slide"
    }
   },
   "source": [
    "### Standarization\n",
    "\n",
    "- How to calculate it? Subtracts the mean value, then it divides the result by the standard deviation\n",
    "- It doesn't restrict the values to a specific range"
   ]
  },
  {
   "cell_type": "code",
   "execution_count": null,
   "id": "0f496eae",
   "metadata": {
    "slideshow": {
     "slide_type": "fragment"
    }
   },
   "outputs": [],
   "source": []
  },
  {
   "cell_type": "markdown",
   "id": "d7b11242",
   "metadata": {
    "slideshow": {
     "slide_type": "slide"
    }
   },
   "source": [
    "# 🤔 When would you use standarization vs MinMax?"
   ]
  },
  {
   "cell_type": "markdown",
   "id": "c7997282",
   "metadata": {
    "slideshow": {
     "slide_type": "slide"
    }
   },
   "source": [
    "### More notes on feature scaling\n",
    "\n",
    "- When a feature's distribution has a heavy tail, both MinMax and standarization will squash most values into a small range\n",
    "- You should first transform it to shrink the heavy tail \n",
    "    - Square root\n",
    "    - Log\n",
    "    - Bucket the feature\n",
    "    - and more..."
   ]
  },
  {
   "cell_type": "code",
   "execution_count": null,
   "id": "11f4bb04",
   "metadata": {
    "slideshow": {
     "slide_type": "fragment"
    }
   },
   "outputs": [],
   "source": []
  },
  {
   "cell_type": "markdown",
   "id": "5c1bf776",
   "metadata": {
    "slideshow": {
     "slide_type": "slide"
    }
   },
   "source": [
    "# 🏗 Feature engineering \n",
    "\n",
    "- Included but not limited to: \n",
    "    - Handling categorical features: Ordinal encoder, OneHot encoder, etc.\n",
    "    - Feature scaling: MinMax, standarizaton, square root, log, etc.\n",
    "    - Feature extraction: Creating new features from existing ones\n",
    "    - Text processing: TF-IDF, Word2Vec, BERT, GPT\n",
    "    - Dimensionality reduction\n",
    "- Depends on your dataset!"
   ]
  },
  {
   "cell_type": "markdown",
   "id": "bd23f2d0",
   "metadata": {
    "slideshow": {
     "slide_type": "slide"
    }
   },
   "source": [
    "# ⚗️ Putting all of it together\n"
   ]
  },
  {
   "cell_type": "code",
   "execution_count": null,
   "id": "588b54a5",
   "metadata": {
    "slideshow": {
     "slide_type": "fragment"
    }
   },
   "outputs": [],
   "source": []
  },
  {
   "cell_type": "markdown",
   "id": "f399d697",
   "metadata": {
    "slideshow": {
     "slide_type": "fragment"
    }
   },
   "source": [
    "- Impute the median to handle missing values\n",
    "- One-Hot Encoder to handle categorical values\n",
    "- Standartization "
   ]
  },
  {
   "cell_type": "code",
   "execution_count": null,
   "id": "abd5a717",
   "metadata": {
    "slideshow": {
     "slide_type": "slide"
    }
   },
   "outputs": [],
   "source": []
  },
  {
   "cell_type": "code",
   "execution_count": null,
   "id": "c26f29dd",
   "metadata": {
    "slideshow": {
     "slide_type": "fragment"
    }
   },
   "outputs": [],
   "source": []
  },
  {
   "cell_type": "markdown",
   "id": "c6a8c202",
   "metadata": {
    "slideshow": {
     "slide_type": "slide"
    }
   },
   "source": [
    "# 🤔 Do you notice something funny in here?"
   ]
  },
  {
   "cell_type": "markdown",
   "id": "68c1983d",
   "metadata": {
    "slideshow": {
     "slide_type": "slide"
    }
   },
   "source": [
    "# ⏪ Today's recap\n",
    "\n",
    "<br>\n",
    "<center>\n",
    "    <img src='../img/class_2/pipeline_class2.png' style='height:300px;'>\n",
    "</center>\n",
    "\n",
    "- Get data\n",
    "- EDA: Exploratory data analysis\n",
    "- Train, validation, and test datasets\n",
    "- Splitting datasets happens **BEFORE** data cleaning and feature engineering to prevent data leakage\n",
    "- Data cleaning: missing values, outliers, duplicates, incorrect data types, inconsistent data, etc.\n",
    "- Feature engineering (aka changing number of columns): categorical values, feature scaling, feature extraction, etc."
   ]
  },
  {
   "cell_type": "markdown",
   "id": "80dd07ca",
   "metadata": {
    "slideshow": {
     "slide_type": "slide"
    }
   },
   "source": [
    "# 👮‍♀️ Misc:\n",
    "\n",
    "- Self-graded quiz will be posted in the next hour\n",
    "- 💪 Ungraded homework will be posted tonight or tomorrow morning\n",
    "- Office hours on Friday at 12 PM (Zoom link will be posted in Canvas) "
   ]
  },
  {
   "cell_type": "markdown",
   "id": "7b2900de",
   "metadata": {
    "slideshow": {
     "slide_type": "slide"
    }
   },
   "source": [
    "<center>\n",
    "<img src='../img/all/bye.gif' style='height:400px;'> \n",
    "</center>\n",
    "\n",
    "# Next class: Regression models"
   ]
  }
 ],
 "metadata": {
  "celltoolbar": "Slideshow",
  "kernelspec": {
   "display_name": "Python 3 (ipykernel)",
   "language": "python",
   "name": "python3"
  },
  "language_info": {
   "codemirror_mode": {
    "name": "ipython",
    "version": 3
   },
   "file_extension": ".py",
   "mimetype": "text/x-python",
   "name": "python",
   "nbconvert_exporter": "python",
   "pygments_lexer": "ipython3",
   "version": "3.9.16"
  }
 },
 "nbformat": 4,
 "nbformat_minor": 5
}
