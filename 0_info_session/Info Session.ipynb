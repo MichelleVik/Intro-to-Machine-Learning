{
 "cells": [
  {
   "cell_type": "markdown",
   "id": "1fc06a9f",
   "metadata": {
    "slideshow": {
     "slide_type": "slide"
    }
   },
   "source": [
    "\n",
    "# Intro to Machine Learning\n",
    "### Professional Certificate course | Info Session\n",
    "\n",
    "Viviana Marquez,  M.Sc.<br>\n",
    "February 8, 2023\n",
    "\n",
    "<br>\n",
    "\n",
    "<img src='../img/all/di.jpeg' style='width:500px; float: left; margin: 0px 30px 15px 0px'>"
   ]
  },
  {
   "cell_type": "markdown",
   "id": "433084d0",
   "metadata": {
    "slideshow": {
     "slide_type": "slide"
    }
   },
   "source": [
    "\n",
    "# Agenda\n",
    "\n",
    "- Instructor introduction\n",
    "- Why learn Machine Learning?\n",
    "- About this class"
   ]
  },
  {
   "cell_type": "markdown",
   "id": "5526e232",
   "metadata": {
    "slideshow": {
     "slide_type": "slide"
    }
   },
   "source": [
    "# About me\n",
    "<br>\n",
    "<img src='../img/all/viviana_marquez.jpg' style='height:550px; float: left; margin: 0px 30px 15px 0px'>\n",
    "\n",
    "👋 Hi! I'm Viviana Marquez\n",
    "<br><small>https://www.linkedin.com/in/vivianamarquez/</small>\n",
    "\n",
    "🎓 MSc. Data Science - *University of San Francisco* (CA, USA)<br>\n",
    "🎓 BSc. Mathematics - *Konrad Lorenz University* (Bogotá, Colombia)<br>\n",
    "🎓 A.A. Journalism & Media - *CST* (Bogotá, Colombia)<br>\n",
    "\n",
    "**Currently**: <br>\n",
    "Software Engineer II, Machine Learning @ Dataminr<br>\n",
    "<small>📍 Manhattan, New York</small><br>\n",
    "<small>*Before*: HBO, Royal Caribbean Cruises, Zimmerman Advertising, TruSTAR Technology</small><br>"
   ]
  },
  {
   "cell_type": "markdown",
   "id": "fffa8b36",
   "metadata": {
    "slideshow": {
     "slide_type": "slide"
    }
   },
   "source": [
    "# Data science is for everyone! \n",
    "<br>\n",
    "<center>\n",
    "    <img src='../img/all/usf.jpeg' style='height:700px;'>\n",
    "</center>"
   ]
  },
  {
   "cell_type": "markdown",
   "id": "7826730c",
   "metadata": {
    "slideshow": {
     "slide_type": "slide"
    }
   },
   "source": [
    "# Why learn machine learning?\n",
    "\n",
    "<br>\n",
    "<center>\n",
    "<img src='../img/class_0/ml.jpeg' style='height:500px;'>\n",
    "</center>"
   ]
  },
  {
   "cell_type": "markdown",
   "id": "2faf754e",
   "metadata": {
    "slideshow": {
     "slide_type": "slide"
    }
   },
   "source": [
    "#### What is the difference between statistics and machine learning?"
   ]
  },
  {
   "cell_type": "markdown",
   "id": "eae6879b",
   "metadata": {
    "slideshow": {
     "slide_type": "fragment"
    }
   },
   "source": [
    "- About $45K in salary "
   ]
  },
  {
   "cell_type": "markdown",
   "id": "8192da5e",
   "metadata": {
    "slideshow": {
     "slide_type": "fragment"
    }
   },
   "source": [
    "<center><img src='../img/class_0/stats_ml.png' style='height:120px;'></center>\n",
    "\n",
    "They're both concerned with the same question: \n",
    "\n",
    "<b>How do we learn about data? </b>"
   ]
  },
  {
   "cell_type": "markdown",
   "id": "f1e3952a",
   "metadata": {
    "slideshow": {
     "slide_type": "slide"
    }
   },
   "source": [
    "## ML in real life: Billions of people use it every day! 🗺️\n",
    "\n",
    "<br>\n",
    "<center>\n",
    "<img src='../img/class_0/ml_everywhere.webp' style='height:300px;'>\n",
    "</center>"
   ]
  },
  {
   "cell_type": "markdown",
   "id": "3e036b52",
   "metadata": {
    "slideshow": {
     "slide_type": "fragment"
    }
   },
   "source": [
    "- Spam filter!"
   ]
  },
  {
   "cell_type": "markdown",
   "id": "9b0adfbf",
   "metadata": {
    "slideshow": {
     "slide_type": "fragment"
    }
   },
   "source": [
    "- Recommending videos"
   ]
  },
  {
   "cell_type": "markdown",
   "id": "bd0b3436",
   "metadata": {
    "slideshow": {
     "slide_type": "fragment"
    }
   },
   "source": [
    "- Segment customers and find the best marketing strategy for each group"
   ]
  },
  {
   "cell_type": "markdown",
   "id": "70ca8b96",
   "metadata": {
    "slideshow": {
     "slide_type": "fragment"
    }
   },
   "source": [
    "- Detect which transactions are likely to be fraudulent"
   ]
  },
  {
   "cell_type": "markdown",
   "id": "51c12e44",
   "metadata": {
    "slideshow": {
     "slide_type": "slide"
    }
   },
   "source": [
    "## How do machines learn from data?\n",
    "<br>\n",
    "<center><img src='../img/class_0/bot.png' style='height:300px;'>\n",
    "</center>"
   ]
  },
  {
   "cell_type": "markdown",
   "id": "8cd4e713",
   "metadata": {
    "slideshow": {
     "slide_type": "fragment"
    }
   },
   "source": [
    "- Create a **model** from the data given in order to generate conclusions from data points never seen before"
   ]
  },
  {
   "cell_type": "markdown",
   "id": "bc30f4a5",
   "metadata": {
    "slideshow": {
     "slide_type": "fragment"
    }
   },
   "source": [
    "\n",
    "💡 **Represent**\n",
    "\n",
    "💡 **Generalize** "
   ]
  },
  {
   "cell_type": "markdown",
   "id": "29bb3410",
   "metadata": {
    "slideshow": {
     "slide_type": "slide"
    }
   },
   "source": [
    "## Roadmap: Life of a ML model\n",
    "\n",
    "<br>\n",
    "<center>\n",
    "<img src='../img/class_0/pipeline.png' style='height:500px;'>\n",
    "</center>"
   ]
  },
  {
   "cell_type": "markdown",
   "id": "552ec539",
   "metadata": {
    "slideshow": {
     "slide_type": "slide"
    }
   },
   "source": [
    "\n",
    "<center>\n",
    "<img src='../img/class_0/komp2.jpeg' style='height:300px;'> <img src='../img/class_0/bob.jpeg' style='height:400px;'> \n",
    "</center>"
   ]
  },
  {
   "cell_type": "markdown",
   "id": "be679f76",
   "metadata": {
    "slideshow": {
     "slide_type": "slide"
    }
   },
   "source": [
    "\n",
    "<center>\n",
    "<img src='../img/class_0/ai_ml_dl.webp' style='height:300px;'>\n",
    "</center>"
   ]
  },
  {
   "cell_type": "markdown",
   "id": "79213725",
   "metadata": {
    "slideshow": {
     "slide_type": "fragment"
    }
   },
   "source": [
    "- While DL is no doubt one of the most exciting areas in ML, you should master the fundamentals first! "
   ]
  },
  {
   "cell_type": "markdown",
   "id": "d6d04578",
   "metadata": {
    "slideshow": {
     "slide_type": "fragment"
    }
   },
   "source": [
    "- DL is a only applicable for a limited subset of problems\n",
    "    - Requires lots of compute\n",
    "    - Requires lots of data"
   ]
  },
  {
   "cell_type": "markdown",
   "id": "86ac2d5b",
   "metadata": {
    "slideshow": {
     "slide_type": "fragment"
    }
   },
   "source": [
    "- Moreover, most problems can be solved quite well using simpler techniques such as random forests!"
   ]
  },
  {
   "cell_type": "markdown",
   "id": "ce0f1b5a",
   "metadata": {
    "slideshow": {
     "slide_type": "slide"
    }
   },
   "source": [
    "# About this class\n",
    "\n",
    "### Details:\n",
    "- Dates: February 22 - April 5 (7 weeks)\n",
    "- Schedule: Wednesdays, 6pm - 9pm Pacific Time\n",
    "- Location: Online (Live classes through Zoom)\n",
    "- One office hour per week"
   ]
  },
  {
   "cell_type": "markdown",
   "id": "1c805b6e",
   "metadata": {
    "slideshow": {
     "slide_type": "slide"
    }
   },
   "source": [
    "### About you\n",
    "- Python fundamentals (lists, dictionaries, conditionals, loops, functions)\n",
    "- Enthusiastic about AI/ML/DS 😃 \n",
    "- Good internet access\n"
   ]
  },
  {
   "cell_type": "code",
   "execution_count": 6,
   "id": "891023b4",
   "metadata": {
    "slideshow": {
     "slide_type": "slide"
    }
   },
   "outputs": [
    {
     "name": "stdout",
     "output_type": "stream",
     "text": [
      "TRUE\n",
      "1\n",
      "2\n"
     ]
    }
   ],
   "source": [
    "# (lists, dictionaries, conditionals, loops, functions\n",
    "\n",
    "my_list = [1,2,3]\n",
    "my_dict = {\"one\": 'apple', \"two\": \"mango\"}\n",
    "\n",
    "if \"a\" in \"apple\":\n",
    "    print(\"TRUE\")\n",
    "    \n",
    "for i in range(1,3):\n",
    "    print(i)\n",
    "    \n",
    "def mult(a,b):\n",
    "    return a*b"
   ]
  },
  {
   "cell_type": "markdown",
   "id": "44927e63",
   "metadata": {
    "slideshow": {
     "slide_type": "slide"
    }
   },
   "source": [
    "### Course objectives\n",
    "- Define key machine learning terminology\n",
    "- Apply common machine learning models to elementary data sets\n",
    "- Properly assess models using validation and test sets with appropriate metrics\n",
    "- Clean and perform simple feature engineering to improve model performance\n",
    "- Be familiar with the key libraries: Matplotlib, Pandas, Numpy, and scikit-learn\n"
   ]
  },
  {
   "cell_type": "markdown",
   "id": "54433d9c",
   "metadata": {
    "slideshow": {
     "slide_type": "slide"
    }
   },
   "source": [
    "### Class dynamics\n",
    "<br>\n",
    "<img src='../img/class_0/book.png' style='height:300px; float: left; margin: 0px 30px 15px 0px'>\n",
    "\n",
    "- Short review\n",
    "- Lecture with some breaks\n",
    "- Exercises and Q+A\n",
    "- Self-graded quiz\n",
    "- Ungraded homework 💪\n",
    "- Access to all the Jupyter notebooks"
   ]
  },
  {
   "cell_type": "code",
   "execution_count": 1,
   "id": "fcd81353",
   "metadata": {
    "slideshow": {
     "slide_type": "fragment"
    }
   },
   "outputs": [],
   "source": [
    "# Code a function that multiplies two numbers\n",
    "def multiply(a,b):\n",
    "    return a*b"
   ]
  },
  {
   "cell_type": "code",
   "execution_count": 2,
   "id": "1e6abefb",
   "metadata": {
    "slideshow": {
     "slide_type": "fragment"
    }
   },
   "outputs": [
    {
     "data": {
      "text/plain": [
       "6"
      ]
     },
     "execution_count": 2,
     "metadata": {},
     "output_type": "execute_result"
    }
   ],
   "source": [
    "multiply(2,3)"
   ]
  },
  {
   "cell_type": "markdown",
   "id": "9163117e",
   "metadata": {
    "slideshow": {
     "slide_type": "slide"
    }
   },
   "source": [
    "### Schedule overview\n",
    "\n",
    "<br>\n",
    "<center>\n",
    "<img src='../img/class_0/schedule.png' style='width:1200px;' >\n",
    "    </center>"
   ]
  }
 ],
 "metadata": {
  "celltoolbar": "Slideshow",
  "kernelspec": {
   "display_name": "Python 3",
   "language": "python",
   "name": "python3"
  },
  "language_info": {
   "codemirror_mode": {
    "name": "ipython",
    "version": 3
   },
   "file_extension": ".py",
   "mimetype": "text/x-python",
   "name": "python",
   "nbconvert_exporter": "python",
   "pygments_lexer": "ipython3",
   "version": "3.7.4"
  }
 },
 "nbformat": 4,
 "nbformat_minor": 5
}
