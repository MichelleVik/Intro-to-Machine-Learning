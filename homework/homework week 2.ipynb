{
 "cells": [
  {
   "cell_type": "markdown",
   "id": "ea43d485",
   "metadata": {},
   "source": [
    "# 💪 Homework week 2\n",
    "\n",
    "Download the following two files from this [link](https://www.kaggle.com/code/adarshkumarjha/big-mart-sales-prediction-using-normalization/input):\n",
    "\n",
    "    - train_Av.csv\n",
    "    - test_Av.csv\n",
    "    \n",
    "Your target variable is `Item_Outlet_Sales`"
   ]
  },
  {
   "cell_type": "markdown",
   "id": "2d9daf03",
   "metadata": {},
   "source": [
    "# Exploratory Data Analysis"
   ]
  },
  {
   "cell_type": "code",
   "execution_count": null,
   "id": "2ee7ae53",
   "metadata": {},
   "outputs": [],
   "source": []
  },
  {
   "cell_type": "code",
   "execution_count": null,
   "id": "9e346711",
   "metadata": {},
   "outputs": [],
   "source": []
  },
  {
   "cell_type": "code",
   "execution_count": null,
   "id": "bccfdf8d",
   "metadata": {},
   "outputs": [],
   "source": []
  },
  {
   "cell_type": "markdown",
   "id": "b6afa160",
   "metadata": {},
   "source": [
    "### What did you learn about your dataset with your EDA? "
   ]
  },
  {
   "cell_type": "markdown",
   "id": "7a0f7760",
   "metadata": {},
   "source": [
    "Answer:"
   ]
  },
  {
   "cell_type": "markdown",
   "id": "65d799d0",
   "metadata": {},
   "source": [
    "# Train/Test datasets\n",
    "Your dataset is already split in two: train/test files. \n",
    "\n",
    "Which file will you use for data cleaning? Feature engineering?"
   ]
  },
  {
   "cell_type": "markdown",
   "id": "f1471e0f",
   "metadata": {},
   "source": [
    "Answer:"
   ]
  },
  {
   "cell_type": "markdown",
   "id": "97a8a29a",
   "metadata": {},
   "source": [
    "# Data cleaning\n",
    "Your dataset is already split in two: train/test files. "
   ]
  },
  {
   "cell_type": "code",
   "execution_count": null,
   "id": "b6b777df",
   "metadata": {},
   "outputs": [],
   "source": []
  },
  {
   "cell_type": "code",
   "execution_count": null,
   "id": "3cd41e12",
   "metadata": {},
   "outputs": [],
   "source": []
  },
  {
   "cell_type": "code",
   "execution_count": null,
   "id": "9e1cea35",
   "metadata": {},
   "outputs": [],
   "source": []
  },
  {
   "cell_type": "markdown",
   "id": "97893ef6",
   "metadata": {},
   "source": [
    "### Why did you choose to clean your data this way?"
   ]
  },
  {
   "cell_type": "markdown",
   "id": "268c1fcd",
   "metadata": {},
   "source": [
    "Answer:"
   ]
  },
  {
   "cell_type": "markdown",
   "id": "ef7a866a",
   "metadata": {},
   "source": [
    "# Feature engineering "
   ]
  },
  {
   "cell_type": "code",
   "execution_count": null,
   "id": "9a8040b8",
   "metadata": {},
   "outputs": [],
   "source": []
  },
  {
   "cell_type": "code",
   "execution_count": null,
   "id": "1869c7cb",
   "metadata": {},
   "outputs": [],
   "source": []
  },
  {
   "cell_type": "code",
   "execution_count": null,
   "id": "dc7a4bb5",
   "metadata": {},
   "outputs": [],
   "source": []
  }
 ],
 "metadata": {
  "kernelspec": {
   "display_name": "Python 3 (ipykernel)",
   "language": "python",
   "name": "python3"
  },
  "language_info": {
   "codemirror_mode": {
    "name": "ipython",
    "version": 3
   },
   "file_extension": ".py",
   "mimetype": "text/x-python",
   "name": "python",
   "nbconvert_exporter": "python",
   "pygments_lexer": "ipython3",
   "version": "3.9.16"
  }
 },
 "nbformat": 4,
 "nbformat_minor": 5
}
