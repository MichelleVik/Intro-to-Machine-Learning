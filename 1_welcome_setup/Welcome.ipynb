{
 "cells": [
  {
   "cell_type": "markdown",
   "id": "12d70594",
   "metadata": {
    "slideshow": {
     "slide_type": "slide"
    }
   },
   "source": [
    "\n",
    "# Week 1: Welcome and setup\n",
    "### Intro to Machine Learning | Professional Certificate course \n",
    "\n",
    "Viviana Marquez,  M.Sc.<br>\n",
    "February 22, 2023\n",
    "\n",
    "<br>\n",
    "\n",
    "<img src='../img/all/di.jpeg' style='width:500px; float: left; margin: 0px 30px 15px 0px'>"
   ]
  },
  {
   "cell_type": "markdown",
   "id": "ac8b7cd3",
   "metadata": {
    "slideshow": {
     "slide_type": "slide"
    }
   },
   "source": [
    "# 🚀 Today's agenda\n",
    "\n",
    "**Part 1:**\n",
    "- Welcome and class introductions\n",
    "- Class dynamic and expectations\n",
    "<hr>\n",
    "- What is machine learning?\n",
    "- AI vs ML vs DL / Why ML and not DL?"
   ]
  },
  {
   "cell_type": "markdown",
   "id": "f2f31e72",
   "metadata": {
    "slideshow": {
     "slide_type": "slide"
    }
   },
   "source": [
    "# 🚀 Today's agenda\n",
    "\n",
    "**Part 2:**\n",
    "- Python: script files vs notebook files\n",
    "- Creating a conda environment \n",
    "<hr>\n",
    "- Ingredients of a model\n",
    "- Flavors of Machine Learning\n",
    "- Machine Learning workflow: End-to-end ML Project"
   ]
  },
  {
   "cell_type": "markdown",
   "id": "e2f5c083",
   "metadata": {
    "slideshow": {
     "slide_type": "slide"
    }
   },
   "source": [
    "# 🚀 Part 1"
   ]
  },
  {
   "cell_type": "markdown",
   "id": "ccaef5d0",
   "metadata": {
    "slideshow": {
     "slide_type": "slide"
    }
   },
   "source": [
    "# ❇️ Welcome and class introductions"
   ]
  },
  {
   "cell_type": "markdown",
   "id": "0179944c",
   "metadata": {
    "slideshow": {
     "slide_type": "slide"
    }
   },
   "source": [
    "# About me\n",
    "<br>\n",
    "<img src='../img/all/viviana_marquez.jpg' style='height:300px; float: left; margin: 0px 30px 15px 0px'>\n",
    "\n",
    "👋 Hi! I'm Viviana Marquez\n",
    "<br><small>https://www.linkedin.com/in/vivianamarquez/</small>\n",
    "\n",
    "🎓 MSc. Data Science - *University of San Francisco*<br>\n",
    "🎓 BSc. Mathematics - *Konrad Lorenz University* (Bogotá, Colombia)<br>\n",
    "🎓 A.A. Journalism & Media - *CST* (Bogotá, Colombia)<br>\n",
    "\n",
    "**Currently**: <br>\n",
    "Software Engineer III, Machine Learning @ Dataminr<br>\n",
    "<small>📍 Manhattan, New York</small><br>\n",
    "<small>*Before*: HBO, Royal Caribbean Cruises, Zimmerman Advertising, TruSTAR Technology</small><br>"
   ]
  },
  {
   "cell_type": "markdown",
   "id": "166afb3e",
   "metadata": {
    "slideshow": {
     "slide_type": "slide"
    }
   },
   "source": [
    "# Data (science) is for everyone! \n",
    "<br>\n",
    "<center>\n",
    "    <img src='../img/all/usf.jpeg' style='height:600px;'>\n",
    "</center>\n",
    "\n",
    "- When I joined my master's program it had a different name!"
   ]
  },
  {
   "cell_type": "markdown",
   "id": "c8c72854",
   "metadata": {
    "slideshow": {
     "slide_type": "slide"
    }
   },
   "source": [
    "# Now tell me about yourself!\n",
    "\n",
    "<br>\n",
    "<img src='../img/all/dons.png' style='height:400px; float: left; margin: 0px 0px 0px 0px'>\n",
    "\n",
    "- Preferred name\n",
    "- Where are you located?\n",
    "- About yourself \n",
    "- Computer Operating System (Windows, Linux, Mac, etc.)\n",
    "- Python experience\n",
    "- Machine Learning experience\n",
    "- What do you hope to learn from the class?\n",
    "- Favorite TV show/anime/movie"
   ]
  },
  {
   "cell_type": "markdown",
   "id": "eae1b529",
   "metadata": {
    "slideshow": {
     "slide_type": "slide"
    }
   },
   "source": [
    "# ❇️ Class dynamic and expectations"
   ]
  },
  {
   "cell_type": "markdown",
   "id": "1dcf078d",
   "metadata": {
    "slideshow": {
     "slide_type": "slide"
    }
   },
   "source": [
    "## Class dynamics\n",
    "\n",
    "**🗓️ Schedule**\n",
    "- Wednesdays 6PM - 9PM PST from February 22 to April 5 (7 weeks)\n",
    "- Classes will be LIVE through Zoom\n",
    "- Lectures with exercises and Q+A"
   ]
  },
  {
   "cell_type": "markdown",
   "id": "45322312",
   "metadata": {
    "slideshow": {
     "slide_type": "fragment"
    }
   },
   "source": [
    "\n",
    "**⌛ Class breakdown**\n",
    "- First five minutes I'll give a fun fact. Class will promptly start at 6:05PM PST\n",
    "- Self-graded quiz\n",
    "- Two blocks, with a 15 min break in between \n",
    "- Ungraded homework 💪"
   ]
  },
  {
   "cell_type": "markdown",
   "id": "d7f3fdc5",
   "metadata": {
    "slideshow": {
     "slide_type": "slide"
    }
   },
   "source": [
    "## Resources\n",
    "\n",
    "<br>\n",
    "<img src='../img/class_0/book.png' style='height:500px; float: left; margin: 0px 30px 15px 0px'>\n",
    "\n",
    "- [Canvas](https://usfca.instructure.com/courses/1613920)\n",
    "- [GitHub](https://github.com/vivianamarquez/Intro-to-Machine-Learning)\n",
    "- One office hour per week: [Form](https://docs.google.com/forms/d/e/1FAIpQLSffe9sFASYxhO5X80-RebNwKD_iJUovKddbe0W76u8OhEEHMg/viewform)\n",
    "\n",
    "\n",
    "- 🙋🏻🙋🏾‍♀️🙋‍♂️ Questions and comments are encouraged!\n",
    "- My email: vmarquez2@usfca.edu"
   ]
  },
  {
   "cell_type": "markdown",
   "id": "e0733be8",
   "metadata": {
    "slideshow": {
     "slide_type": "fragment"
    }
   },
   "source": [
    "- If you can't attend a session, please email Mikaela at mlmora@usfca.edu"
   ]
  },
  {
   "cell_type": "markdown",
   "id": "d0eaa220",
   "metadata": {
    "slideshow": {
     "slide_type": "slide"
    }
   },
   "source": [
    "### Course objectives\n",
    "- Define key machine learning terminology\n",
    "- Apply common machine learning models to a data set\n",
    "- Properly assess models using validation and test sets with appropriate metrics\n",
    "- Clean and perform simple feature engineering to improve model performance\n",
    "- Be familiar with the key libraries: Matplotlib, Pandas, Numpy, and scikit-learn\n"
   ]
  },
  {
   "cell_type": "markdown",
   "id": "5f2aa8c6",
   "metadata": {
    "slideshow": {
     "slide_type": "slide"
    }
   },
   "source": [
    "### Schedule overview\n",
    "\n",
    "<br>\n",
    "<center>\n",
    "<img src='../img/class_1/tentative_schedule.png' style='width:1100px;' >\n",
    "    </center>"
   ]
  },
  {
   "cell_type": "markdown",
   "id": "e929b276",
   "metadata": {
    "slideshow": {
     "slide_type": "slide"
    }
   },
   "source": [
    "### About you\n",
    "- Python fundamentals (lists, dictionaries, conditionals, loops, functions)\n",
    "- Enthusiastic about AI/ML/DS 😃 \n",
    "- Good internet access\n"
   ]
  },
  {
   "cell_type": "markdown",
   "id": "2d67e596",
   "metadata": {
    "slideshow": {
     "slide_type": "slide"
    }
   },
   "source": [
    "# ❇️ What is machine learning?\n",
    "\n",
    "\n",
    "<br>\n",
    "<center>\n",
    "<img src='../img/class_0/ml.jpeg' style='height:500px;'>\n",
    "</center>"
   ]
  },
  {
   "cell_type": "markdown",
   "id": "ebb0843e",
   "metadata": {
    "slideshow": {
     "slide_type": "slide"
    }
   },
   "source": [
    "<img src='../img/class_1/personal_assistant.jpeg' style='height:600px; float: left; margin: 0px 0px 0px 0px'>\n",
    "\n",
    "<br><br>\n",
    "- Imagine you have a personal assistant\n",
    "- They learn from your behavior and preferences\n",
    "- They may even predict what you might need or want \n"
   ]
  },
  {
   "cell_type": "markdown",
   "id": "86946427",
   "metadata": {
    "slideshow": {
     "slide_type": "slide"
    }
   },
   "source": [
    "## ML in real life: Billions of people use it every day! 🗺️\n",
    "\n",
    "<br>\n",
    "<center>\n",
    "<img src='../img/class_0/ml_everywhere.webp' style='height:300px;'>\n",
    "</center>"
   ]
  },
  {
   "cell_type": "markdown",
   "id": "fa73a0ab",
   "metadata": {
    "slideshow": {
     "slide_type": "fragment"
    }
   },
   "source": [
    "- Spam filter!"
   ]
  },
  {
   "cell_type": "markdown",
   "id": "18124dc9",
   "metadata": {
    "slideshow": {
     "slide_type": "fragment"
    }
   },
   "source": [
    "- Recommending videos"
   ]
  },
  {
   "cell_type": "markdown",
   "id": "920595e3",
   "metadata": {
    "slideshow": {
     "slide_type": "fragment"
    }
   },
   "source": [
    "- Segment customers and find the best marketing strategy for each group"
   ]
  },
  {
   "cell_type": "markdown",
   "id": "31e3e52a",
   "metadata": {
    "slideshow": {
     "slide_type": "fragment"
    }
   },
   "source": [
    "- Detect which transactions are likely to be fraudulent"
   ]
  },
  {
   "cell_type": "markdown",
   "id": "aef0d338",
   "metadata": {
    "slideshow": {
     "slide_type": "slide"
    }
   },
   "source": [
    "<center>\n",
    "<img src='../img/class_0/komp2.jpeg' style='height:300px;'>\n",
    "</center>"
   ]
  },
  {
   "cell_type": "markdown",
   "id": "1fb04509",
   "metadata": {
    "slideshow": {
     "slide_type": "slide"
    }
   },
   "source": [
    "# ❇️ AI vs ML vs DL\n",
    "### Artificial Intelligence vs Machine Learning vs Deep Learning"
   ]
  },
  {
   "cell_type": "markdown",
   "id": "95ddd5dc",
   "metadata": {
    "slideshow": {
     "slide_type": "slide"
    }
   },
   "source": [
    "\n",
    "<center>\n",
    "<img src='../img/class_0/ai_ml_dl.webp' style='height:600px;'>\n",
    "</center>"
   ]
  },
  {
   "cell_type": "markdown",
   "id": "e6d2362a",
   "metadata": {
    "slideshow": {
     "slide_type": "slide"
    }
   },
   "source": [
    "- **Artificial Intelligence (AI)** is a broad field that involves making machines perform tasks that typically require human-like intelligence. AI includes various subfields, such as computer vision, machine learning and natural language processing."
   ]
  },
  {
   "cell_type": "markdown",
   "id": "dc874d71",
   "metadata": {
    "slideshow": {
     "slide_type": "fragment"
    }
   },
   "source": [
    "- **Machine Learning (ML)** is a subset of AI that involves training machines to learn from data and make predictions or decisions without being explicitly programmed. ML algorithms can identify patterns in data and learn to make predictions based on that data."
   ]
  },
  {
   "cell_type": "markdown",
   "id": "960390e0",
   "metadata": {
    "slideshow": {
     "slide_type": "fragment"
    }
   },
   "source": [
    "- **Deep Learning (DL)** is a subset of machine learning that is inspired by how the human brain works. It involves training artificial neural networks to learn from data. Neural networks are composed of layers of interconnected nodes that can learn to recognize patterns in data."
   ]
  },
  {
   "cell_type": "markdown",
   "id": "99c6f003",
   "metadata": {
    "slideshow": {
     "slide_type": "slide"
    }
   },
   "source": [
    "# ❇️ Why ML and not DL?"
   ]
  },
  {
   "cell_type": "markdown",
   "id": "7ae17da0",
   "metadata": {
    "slideshow": {
     "slide_type": "slide"
    }
   },
   "source": [
    "- While DL is no doubt one of the most exciting areas in ML, you should master the fundamentals first! \n",
    "\n",
    "- ML also provides you with the skills needed to prepare data, select features, choose models, train them, and evaluate their performance"
   ]
  },
  {
   "cell_type": "markdown",
   "id": "28612164",
   "metadata": {
    "slideshow": {
     "slide_type": "fragment"
    }
   },
   "source": [
    "- DL is a only applicable for a limited subset of problems\n",
    "    - Requires lots of compute\n",
    "    - Requires lots of data"
   ]
  },
  {
   "cell_type": "markdown",
   "id": "14235a13",
   "metadata": {
    "slideshow": {
     "slide_type": "fragment"
    }
   },
   "source": [
    "- Moreover, most problems can be solved quite well using simpler techniques such as random forests!"
   ]
  },
  {
   "cell_type": "markdown",
   "id": "a7505719",
   "metadata": {
    "slideshow": {
     "slide_type": "slide"
    }
   },
   "source": [
    "# 🚀 Part 2\n",
    "\n",
    "See you here at 7:23 PM"
   ]
  },
  {
   "cell_type": "markdown",
   "id": "4ed37904",
   "metadata": {
    "slideshow": {
     "slide_type": "slide"
    }
   },
   "source": [
    "# ❇️ Python: script files vs notebook files"
   ]
  },
  {
   "cell_type": "markdown",
   "id": "b50b891d",
   "metadata": {
    "slideshow": {
     "slide_type": "slide"
    }
   },
   "source": [
    "<center><img src='../img/class_1/prog_langs.jpeg' style='height:800px; float: center; margin: 0px 30px 15px 0px'></center>"
   ]
  },
  {
   "cell_type": "markdown",
   "id": "996480fd",
   "metadata": {
    "slideshow": {
     "slide_type": "slide"
    }
   },
   "source": [
    "# 🐍 Python\n",
    "\n",
    "<center><img src='../img/class_1/python.png' style='height:100px; float: center; margin: 0px 30px 15px 0px'></center>\n",
    "\n",
    "- Emphasizes code readability \n",
    "- Widely used for machine learning algorithms"
   ]
  },
  {
   "cell_type": "markdown",
   "id": "99416e9b",
   "metadata": {
    "slideshow": {
     "slide_type": "fragment"
    }
   },
   "source": [
    "# How to install Python?\n",
    "\n",
    "Anaconda distribution: [Link](https://www.anaconda.com/products/distribution)"
   ]
  },
  {
   "cell_type": "markdown",
   "id": "738ebc9e",
   "metadata": {
    "slideshow": {
     "slide_type": "slide"
    }
   },
   "source": [
    "# File types: `.py` vs `.ipynb`\n",
    "\n",
    "- `.ipynb`: Jupyter Notebook file, you need to have installed Jupyter Notebooks\n",
    "- `.py`: Script file. They run in the terminal. Can be used for production. You can create them in a code editor (I recommend Visual Studio Code)"
   ]
  },
  {
   "cell_type": "markdown",
   "id": "87d54a10",
   "metadata": {
    "slideshow": {
     "slide_type": "slide"
    }
   },
   "source": [
    "# 😱 What if my computer can't open Python?\n",
    "\n",
    "<br>\n",
    "<center><img src='../img/class_1/superhero.gif' style='height:300px; float: center; margin: 0px 30px 15px 0px'></center>\n",
    "\n",
    "Use Google Colab: https://colab.research.google.com/"
   ]
  },
  {
   "cell_type": "markdown",
   "id": "069560f3",
   "metadata": {
    "slideshow": {
     "slide_type": "slide"
    }
   },
   "source": [
    "# ❇️ Creating a conda environment"
   ]
  },
  {
   "cell_type": "markdown",
   "id": "8b5da957",
   "metadata": {
    "slideshow": {
     "slide_type": "slide"
    }
   },
   "source": [
    "# Virtual environments\n",
    "\n",
    "<br>\n",
    "<center><img src='../img/class_1/sandbox.jpeg' style='height:250px; float: center; margin: 0px 30px 15px 0px'>\n",
    "    <small> More info <a href='https://towardsdatascience.com/virtual-environments-104c62d48c54'>here</a> and <a href='https://towardsdatascience.com/a-guide-to-conda-environments-bc6180fc533'>here</a></small></center>\n"
   ]
  },
  {
   "cell_type": "markdown",
   "id": "b10e66fc",
   "metadata": {
    "slideshow": {
     "slide_type": "fragment"
    }
   },
   "source": [
    "- **Isolation:** Resolve dependency issues by allowing you to use different versions of a package for different projects. For example, you could use `Package A v2.7` for Project X and `Package A v1.3` for Project Y."
   ]
  },
  {
   "cell_type": "markdown",
   "id": "9a38deb0",
   "metadata": {
    "slideshow": {
     "slide_type": "fragment"
    }
   },
   "source": [
    "- Make your project **self-contained** and **reproducible** by capturing all package dependencies in a requirements file.\n"
   ]
  },
  {
   "cell_type": "markdown",
   "id": "2e756c12",
   "metadata": {
    "slideshow": {
     "slide_type": "slide"
    }
   },
   "source": [
    "# Conda environment"
   ]
  },
  {
   "cell_type": "markdown",
   "id": "ce7fa82a",
   "metadata": {
    "slideshow": {
     "slide_type": "fragment"
    }
   },
   "source": [
    "### `conda` vs `pip` vs `venv`\n",
    "\n",
    "- `pip` is a package manager for Python\n",
    "- `venv` is an environment manager for Python\n",
    "- `conda` is both a package and environment manager (and it's language agnostic)"
   ]
  },
  {
   "cell_type": "markdown",
   "id": "85f7445a",
   "metadata": {
    "slideshow": {
     "slide_type": "slide"
    }
   },
   "source": [
    "### Conda environment commands\n",
    "\n",
    "- `conda create -n IntroML python=3.9`\n",
    "- `conda activate IntroML`\n",
    "        - Install Jupyter Notebook with `conda install jupyter`\n",
    "        - Launch`jupyter notebook`\n",
    "- `conda deactivate`\n",
    "- `conda env list`"
   ]
  },
  {
   "cell_type": "markdown",
   "id": "6abde8ae",
   "metadata": {
    "slideshow": {
     "slide_type": "slide"
    }
   },
   "source": [
    "# (Parenthesis)\n",
    "\n",
    "WSL2 - Windows subsystem for Linux: https://learn.microsoft.com/en-us/windows/wsl/install"
   ]
  },
  {
   "cell_type": "markdown",
   "id": "66ff7560",
   "metadata": {
    "slideshow": {
     "slide_type": "slide"
    }
   },
   "source": [
    "# ❇️ Ingredients of a model"
   ]
  },
  {
   "cell_type": "markdown",
   "id": "f6e143af",
   "metadata": {
    "slideshow": {
     "slide_type": "slide"
    }
   },
   "source": [
    "## How do machines learn from data?\n",
    "<br>\n",
    "<center><img src='../img/class_0/bot.png' style='height:300px;'>\n",
    "</center>\n",
    "\n",
    "Machine Learning involves two key tasks:"
   ]
  },
  {
   "cell_type": "markdown",
   "id": "88a5ec0c",
   "metadata": {
    "slideshow": {
     "slide_type": "fragment"
    }
   },
   "source": [
    "💡 **Representation**: Extracting structure from data through a model"
   ]
  },
  {
   "cell_type": "markdown",
   "id": "08da142e",
   "metadata": {
    "slideshow": {
     "slide_type": "fragment"
    }
   },
   "source": [
    "💡 **Generalization**: Making predictions from data through a model"
   ]
  },
  {
   "cell_type": "markdown",
   "id": "463c8781",
   "metadata": {
    "slideshow": {
     "slide_type": "slide"
    }
   },
   "source": [
    "# Elements of a model in the context of Machine Learning\n",
    "\n",
    "<br>\n",
    "<center><img src='../img/class_1/iris.png' style='height:300px;'>\n",
    "</center>"
   ]
  },
  {
   "cell_type": "code",
   "execution_count": 4,
   "id": "6c135fbf",
   "metadata": {
    "slideshow": {
     "slide_type": "slide"
    }
   },
   "outputs": [
    {
     "data": {
      "text/html": [
       "<div>\n",
       "<style scoped>\n",
       "    .dataframe tbody tr th:only-of-type {\n",
       "        vertical-align: middle;\n",
       "    }\n",
       "\n",
       "    .dataframe tbody tr th {\n",
       "        vertical-align: top;\n",
       "    }\n",
       "\n",
       "    .dataframe thead th {\n",
       "        text-align: right;\n",
       "    }\n",
       "</style>\n",
       "<table border=\"1\" class=\"dataframe\">\n",
       "  <thead>\n",
       "    <tr style=\"text-align: right;\">\n",
       "      <th></th>\n",
       "      <th>sepal_length</th>\n",
       "      <th>sepal_width</th>\n",
       "      <th>petal_length</th>\n",
       "      <th>petal_width</th>\n",
       "      <th>species</th>\n",
       "    </tr>\n",
       "  </thead>\n",
       "  <tbody>\n",
       "    <tr>\n",
       "      <th>0</th>\n",
       "      <td>5.1</td>\n",
       "      <td>3.5</td>\n",
       "      <td>1.4</td>\n",
       "      <td>0.2</td>\n",
       "      <td>setosa</td>\n",
       "    </tr>\n",
       "    <tr>\n",
       "      <th>1</th>\n",
       "      <td>4.9</td>\n",
       "      <td>3.0</td>\n",
       "      <td>1.4</td>\n",
       "      <td>0.2</td>\n",
       "      <td>setosa</td>\n",
       "    </tr>\n",
       "    <tr>\n",
       "      <th>2</th>\n",
       "      <td>4.7</td>\n",
       "      <td>3.2</td>\n",
       "      <td>1.3</td>\n",
       "      <td>0.2</td>\n",
       "      <td>setosa</td>\n",
       "    </tr>\n",
       "    <tr>\n",
       "      <th>3</th>\n",
       "      <td>4.6</td>\n",
       "      <td>3.1</td>\n",
       "      <td>1.5</td>\n",
       "      <td>0.2</td>\n",
       "      <td>setosa</td>\n",
       "    </tr>\n",
       "    <tr>\n",
       "      <th>4</th>\n",
       "      <td>5.0</td>\n",
       "      <td>3.6</td>\n",
       "      <td>1.4</td>\n",
       "      <td>0.2</td>\n",
       "      <td>setosa</td>\n",
       "    </tr>\n",
       "  </tbody>\n",
       "</table>\n",
       "</div>"
      ],
      "text/plain": [
       "   sepal_length  sepal_width  petal_length  petal_width species\n",
       "0           5.1          3.5           1.4          0.2  setosa\n",
       "1           4.9          3.0           1.4          0.2  setosa\n",
       "2           4.7          3.2           1.3          0.2  setosa\n",
       "3           4.6          3.1           1.5          0.2  setosa\n",
       "4           5.0          3.6           1.4          0.2  setosa"
      ]
     },
     "execution_count": 4,
     "metadata": {},
     "output_type": "execute_result"
    }
   ],
   "source": [
    "import seaborn as sns\n",
    "df = sns.load_dataset('iris')\n",
    "df.head()"
   ]
  },
  {
   "cell_type": "markdown",
   "id": "fbe6d65f",
   "metadata": {
    "slideshow": {
     "slide_type": "fragment"
    }
   },
   "source": [
    "- <b>Model Inputs:</b>\n",
    "Features, Attributes, Predictors, Inputs, Independent Variables, Dimensions, X, probably more..."
   ]
  },
  {
   "cell_type": "markdown",
   "id": "872fd061",
   "metadata": {
    "slideshow": {
     "slide_type": "fragment"
    }
   },
   "source": [
    "- <b>Model Outputs (what you're trying to predict):</b>\n",
    "Target, Response, Output, Dependent Variable, Labels, Y"
   ]
  },
  {
   "cell_type": "markdown",
   "id": "b4b4644d",
   "metadata": {
    "slideshow": {
     "slide_type": "fragment"
    }
   },
   "source": [
    "• **Row of Data (Inputs + Outputs):** Observation, Datapoint, Record, Row"
   ]
  },
  {
   "cell_type": "markdown",
   "id": "1e0233db",
   "metadata": {
    "slideshow": {
     "slide_type": "fragment"
    }
   },
   "source": [
    "• **Labels:** The values on the target variables (in Supervised Learning)"
   ]
  },
  {
   "cell_type": "markdown",
   "id": "ecbe6899",
   "metadata": {
    "slideshow": {
     "slide_type": "slide"
    }
   },
   "source": [
    "# ❇️ Flavors of Machine Learning"
   ]
  },
  {
   "cell_type": "markdown",
   "id": "af73679c",
   "metadata": {
    "slideshow": {
     "slide_type": "slide"
    }
   },
   "source": [
    "### 📝 Types of models in Machine Learning\n",
    "<br>\n",
    "<center><img src='../img/class_1/dogs.png' style='height:450px; float: center; margin: 0px 0px 0px 0px'>Is it a dog or a muffin?</center>\n",
    "\n",
    "Two questions:\n",
    "\n",
    "- Do we have labels? What type of data do we have?"
   ]
  },
  {
   "cell_type": "markdown",
   "id": "0c82f3a0",
   "metadata": {
    "slideshow": {
     "slide_type": "slide"
    }
   },
   "source": [
    "### First question: Do we have labels?"
   ]
  },
  {
   "cell_type": "markdown",
   "id": "da0c399f",
   "metadata": {
    "slideshow": {
     "slide_type": "fragment"
    }
   },
   "source": [
    "<center><img src='../img/class_1/supervised_unsupervised.png' style='height:500px; float: center; margin: 0px 0px 0px 0px'></center>\n",
    "\n",
    "- **Supervised** Problems with labels\n",
    "- **Unsupervised** Problems without labels"
   ]
  },
  {
   "cell_type": "markdown",
   "id": "f8f46734",
   "metadata": {
    "slideshow": {
     "slide_type": "slide"
    }
   },
   "source": [
    "#### 👮‍♀️ Pop Quiz: Supervised or unsupervised?\n",
    "\n",
    "- Classify restaurant reviews as positive or negative"
   ]
  },
  {
   "cell_type": "markdown",
   "id": "f59e9e6b",
   "metadata": {
    "slideshow": {
     "slide_type": "fragment"
    }
   },
   "source": [
    "- Grouping shopping mall stores into similar clusters based on their characteristics"
   ]
  },
  {
   "cell_type": "markdown",
   "id": "25b096ea",
   "metadata": {
    "slideshow": {
     "slide_type": "slide"
    }
   },
   "source": [
    "### Second question: What type of data do we have?"
   ]
  },
  {
   "cell_type": "markdown",
   "id": "637030ec",
   "metadata": {
    "slideshow": {
     "slide_type": "fragment"
    }
   },
   "source": [
    "<center><img src='../img/class_1/clasreg.png' style='height:500px; float: center; margin: 0px 0px 0px 0px'></center>\n",
    "\n",
    "- **Continuous data -> Regression:** Quantitative/numerical information\n",
    "- **Discrete data -> Classification:** Qualitative information"
   ]
  },
  {
   "cell_type": "markdown",
   "id": "58308811",
   "metadata": {
    "slideshow": {
     "slide_type": "slide"
    }
   },
   "source": [
    "#### 👮‍♀️Pop Quiz: Classification or regression?\n",
    "<br>\n",
    "\n",
    "<center><img src='../img/class_1/pollo.jpg' style='height:500px; float: center; margin: 0px 0px 0px 0px'></center>\n",
    "\n",
    "- Is it a chicken or a dog?"
   ]
  },
  {
   "cell_type": "markdown",
   "id": "465eb29d",
   "metadata": {
    "slideshow": {
     "slide_type": "fragment"
    }
   },
   "source": [
    "- Predict someone's height"
   ]
  },
  {
   "cell_type": "markdown",
   "id": "c0513c64",
   "metadata": {
    "slideshow": {
     "slide_type": "slide"
    }
   },
   "source": [
    "### First question: Do we have labels?"
   ]
  },
  {
   "cell_type": "markdown",
   "id": "9069a86d",
   "metadata": {
    "slideshow": {
     "slide_type": "fragment"
    }
   },
   "source": [
    "<center><img src='../img/class_1/ml_map.png' style='height:600px; float: center; margin: 0px 0px 0px 0px'></center>\n",
    "\n",
    "- **Supervised:** Problems with labels\n",
    "- **Unsupervised:** Problems without labels"
   ]
  },
  {
   "cell_type": "markdown",
   "id": "498b1d2b",
   "metadata": {
    "slideshow": {
     "slide_type": "slide"
    }
   },
   "source": [
    "### Second question: What type of data do we have?"
   ]
  },
  {
   "cell_type": "markdown",
   "id": "643a0e8c",
   "metadata": {
    "slideshow": {
     "slide_type": "slide"
    }
   },
   "source": [
    "<center><img src='../img/class_1/ml_map2.png' style='height:600px; float: center; margin: 0px 0px 0px 0px'></center>\n",
    "\n",
    "- **Continuous data -> Regression:** Quantitative/numerical information\n",
    "- **Discrete data -> Classification:** Qualitative information"
   ]
  },
  {
   "cell_type": "markdown",
   "id": "81e8f43c",
   "metadata": {
    "slideshow": {
     "slide_type": "slide"
    }
   },
   "source": [
    "# 🤔 Is this email spam or not?"
   ]
  },
  {
   "cell_type": "markdown",
   "id": "d9214204",
   "metadata": {
    "slideshow": {
     "slide_type": "slide"
    }
   },
   "source": [
    "<center><img src='../img/class_1/classification.png' style='height:600px; float: center; margin: 0px 0px 0px 0px'></center>"
   ]
  },
  {
   "cell_type": "markdown",
   "id": "6972aa22",
   "metadata": {
    "slideshow": {
     "slide_type": "slide"
    }
   },
   "source": [
    "# ❇️ Machine Learning workflow: End-to-End ML Project"
   ]
  },
  {
   "cell_type": "markdown",
   "id": "89f5697d",
   "metadata": {
    "slideshow": {
     "slide_type": "slide"
    }
   },
   "source": [
    "## Roadmap: Life of a ML model\n",
    "\n",
    "<br>\n",
    "<center>\n",
    "<img src='../img/class_0/pipeline.png' style='height:500px;'>\n",
    "</center>"
   ]
  },
  {
   "cell_type": "markdown",
   "id": "994776c0",
   "metadata": {
    "slideshow": {
     "slide_type": "slide"
    }
   },
   "source": [
    "# As a data professional, you'll have a toolbox...\n",
    "<br>\n",
    "<center>\n",
    "<img src='../img/class_0/bob.jpeg' style='height:400px;'> \n",
    "</center>"
   ]
  },
  {
   "cell_type": "markdown",
   "id": "fe781589",
   "metadata": {
    "slideshow": {
     "slide_type": "slide"
    }
   },
   "source": [
    "# 🗺️📍 Guide map \n",
    "\n",
    "<center>\n",
    "    <img src='../img/class_1/ml_map2.png' style='height:450px; float: center; margin: 0px 0px 0px 0px'>\n",
    "    <img src='../img/class_0/pipeline.png' style='height:350px;'>\n",
    "</center>\n",
    "    \n",
    "\n"
   ]
  },
  {
   "cell_type": "markdown",
   "id": "5cfccbcd",
   "metadata": {
    "slideshow": {
     "slide_type": "slide"
    }
   },
   "source": [
    "# ⏪ Today's recap\n",
    "\n",
    "- Welcome and logistics\n",
    "- What is machine learning?\n",
    "- Creating a conda environment \n",
    "- Types of machine learning models \n",
    "- ML workflow "
   ]
  },
  {
   "cell_type": "markdown",
   "id": "7b2900de",
   "metadata": {
    "slideshow": {
     "slide_type": "slide"
    }
   },
   "source": [
    "<center>\n",
    "<img src='../img/all/bye.gif' style='height:400px;'> \n",
    "</center>\n",
    "\n",
    "# Next class: Feature engineering and model setup"
   ]
  }
 ],
 "metadata": {
  "celltoolbar": "Slideshow",
  "kernelspec": {
   "display_name": "Python 3",
   "language": "python",
   "name": "python3"
  },
  "language_info": {
   "codemirror_mode": {
    "name": "ipython",
    "version": 3
   },
   "file_extension": ".py",
   "mimetype": "text/x-python",
   "name": "python",
   "nbconvert_exporter": "python",
   "pygments_lexer": "ipython3",
   "version": "3.7.4"
  }
 },
 "nbformat": 4,
 "nbformat_minor": 5
}
