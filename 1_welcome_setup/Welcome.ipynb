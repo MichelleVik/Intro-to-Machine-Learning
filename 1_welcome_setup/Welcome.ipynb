{
 "cells": [
  {
   "cell_type": "markdown",
   "id": "0b7f5ce0",
   "metadata": {
    "slideshow": {
     "slide_type": "slide"
    }
   },
   "source": [
    "# We will start at 6:05 p.m."
   ]
  },
  {
   "cell_type": "markdown",
   "id": "018ebef0",
   "metadata": {
    "slideshow": {
     "slide_type": "slide"
    }
   },
   "source": [
    "\n",
    "# Week 1: Welcome and setup\n",
    "### Intro to Machine Learning | Professional Certificate course \n",
    "\n",
    "Viviana Marquez,  M.Sc.<br>\n",
    "February 22, 2023\n",
    "\n",
    "<br>\n",
    "\n",
    "<img src='../img/all/di.jpeg' style='width:500px; float: left; margin: 0px 30px 15px 0px'>"
   ]
  },
  {
   "cell_type": "markdown",
   "id": "8ab989a0",
   "metadata": {
    "slideshow": {
     "slide_type": "slide"
    }
   },
   "source": [
    "# 🚀 Today's agenda\n",
    "\n",
    "**Part 1:**\n",
    "- Welcome and class introductions\n",
    "- Class dynamic and expectations\n",
    "<hr>\n",
    "- What is machine learning?\n",
    "- AI vs ML vs DL / Why ML and not DL?"
   ]
  },
  {
   "cell_type": "markdown",
   "id": "7d17799d",
   "metadata": {
    "slideshow": {
     "slide_type": "slide"
    }
   },
   "source": [
    "# 🚀 Today's agenda\n",
    "\n",
    "**Part 2:**\n",
    "- Jupyter Notebook / Google Colab\n",
    "- Creating a conda environment \n",
    "<hr>\n",
    "- Ingredients of a model\n",
    "- Flavors of Machine Learning\n",
    "- Machine Learning workflow: End-to-end ML Project"
   ]
  },
  {
   "cell_type": "markdown",
   "id": "f9a4cb10",
   "metadata": {
    "slideshow": {
     "slide_type": "slide"
    }
   },
   "source": [
    "# 🚀 Part 1"
   ]
  },
  {
   "cell_type": "markdown",
   "id": "4a9d8599",
   "metadata": {
    "slideshow": {
     "slide_type": "slide"
    }
   },
   "source": [
    "# ❇️ Welcome and class introductions"
   ]
  },
  {
   "cell_type": "markdown",
   "id": "90625b34",
   "metadata": {
    "slideshow": {
     "slide_type": "slide"
    }
   },
   "source": [
    "# About me\n",
    "<br>\n",
    "<img src='../img/all/viviana_marquez.jpg' style='height:300px; float: left; margin: 0px 30px 15px 0px'>\n",
    "\n",
    "👋 Hi! I'm Viviana Marquez\n",
    "<br><small>https://www.linkedin.com/in/vivianamarquez/</small>\n",
    "\n",
    "🎓 MSc. Data Science - *University of San Francisco* (CA, USA)<br>\n",
    "🎓 BSc. Mathematics - *Konrad Lorenz University* (Bogotá, Colombia)<br>\n",
    "🎓 A.A. Journalism & Media - *CST* (Bogotá, Colombia)<br>\n",
    "\n",
    "**Currently**: <br>\n",
    "Software Engineer III, Machine Learning @ Dataminr<br>\n",
    "<small>📍 Manhattan, New York</small><br>\n",
    "<small>*Before*: HBO, Royal Caribbean Cruises, Zimmerman Advertising, TruSTAR Technology</small><br>"
   ]
  },
  {
   "cell_type": "markdown",
   "id": "0dc67ee7",
   "metadata": {
    "slideshow": {
     "slide_type": "slide"
    }
   },
   "source": [
    "# Data science is for everyone! \n",
    "<br>\n",
    "<center>\n",
    "    <img src='../img/all/usf.jpeg' style='height:700px;'>\n",
    "</center>\n",
    "\n",
    "- When I joined my master's program it had a different name!"
   ]
  },
  {
   "cell_type": "markdown",
   "id": "d920ca95",
   "metadata": {
    "slideshow": {
     "slide_type": "slide"
    }
   },
   "source": [
    "# Now tell me about yourself!\n",
    "\n",
    "<br>\n",
    "<img src='../img/all/dons.png' style='height:400px; float: left; margin: 0px 0px 0px 0px'>\n",
    "\n",
    "- Preferred name\n",
    "- Where are you located?\n",
    "- About yourself \n",
    "- Computer Operating System (Windows, Linux, Mac, etc.)\n",
    "- Python experience\n",
    "- Machine Learning experience\n",
    "- What do you hope to learn from the class?\n",
    "- Favorite TV show/anime/movie"
   ]
  },
  {
   "cell_type": "markdown",
   "id": "4b10f20a",
   "metadata": {
    "slideshow": {
     "slide_type": "slide"
    }
   },
   "source": [
    "# ❇️ Class dynamic and expectations"
   ]
  },
  {
   "cell_type": "markdown",
   "id": "2a654c5d",
   "metadata": {
    "slideshow": {
     "slide_type": "slide"
    }
   },
   "source": [
    "## Class dynamics\n",
    "\n",
    "**🗓️ Schedule**\n",
    "- Wednesdays 6PM - 9PM PST from February 22 to April 5 (7 weeks)\n",
    "- Classes will be LIVE through Zoom\n",
    "- Lectures with exercises and Q+A"
   ]
  },
  {
   "cell_type": "markdown",
   "id": "128ea49d",
   "metadata": {
    "slideshow": {
     "slide_type": "fragment"
    }
   },
   "source": [
    "\n",
    "**⌛ Class breakdown**\n",
    "- First five minutes I'll give a fun fact. Class will promptly start at 6:05PM PST\n",
    "- Self-graded quiz\n",
    "- Two blocks, with a 15 min break in between \n",
    "- Ungraded homework 💪"
   ]
  },
  {
   "cell_type": "markdown",
   "id": "1206f105",
   "metadata": {
    "slideshow": {
     "slide_type": "slide"
    }
   },
   "source": [
    "## Resources\n",
    "\n",
    "<br>\n",
    "<img src='../img/class_0/book.png' style='height:500px; float: left; margin: 0px 30px 15px 0px'>\n",
    "\n",
    "- [Canvas](https://usfca.instructure.com/courses/1613920)\n",
    "- [GitHub](https://github.com/vivianamarquez/Intro-to-Machine-Learning)\n",
    "- One office hour per week: [Form](https://docs.google.com/forms/d/e/1FAIpQLSffe9sFASYxhO5X80-RebNwKD_iJUovKddbe0W76u8OhEEHMg/viewform)\n",
    "\n",
    "\n",
    "- 🙋🏻🙋🏾‍♀️🙋‍♂️ Questions and comments are encouraged!\n",
    "- My email: vmarquez2@usfca.edu"
   ]
  },
  {
   "cell_type": "markdown",
   "id": "a1dcc478",
   "metadata": {
    "slideshow": {
     "slide_type": "fragment"
    }
   },
   "source": [
    "- If you can't attend a session, please email Mikaela at mlmora@usfca.edu"
   ]
  },
  {
   "cell_type": "markdown",
   "id": "ed4bbe71",
   "metadata": {
    "slideshow": {
     "slide_type": "slide"
    }
   },
   "source": [
    "### Course objectives\n",
    "- Define key machine learning terminology\n",
    "- Apply common machine learning models to elementary data sets\n",
    "- Properly assess models using validation and test sets with appropriate metrics\n",
    "- Clean and perform simple feature engineering to improve model performance\n",
    "- Be familiar with the key libraries: Matplotlib, Pandas, Numpy, and scikit-learn\n"
   ]
  },
  {
   "cell_type": "markdown",
   "id": "c0276baf",
   "metadata": {
    "slideshow": {
     "slide_type": "slide"
    }
   },
   "source": [
    "### About you\n",
    "- Python fundamentals (lists, dictionaries, conditionals, loops, functions)\n",
    "- Enthusiastic about AI/ML/DS 😃 \n",
    "- Good internet access\n"
   ]
  },
  {
   "cell_type": "markdown",
   "id": "102e6d90",
   "metadata": {
    "slideshow": {
     "slide_type": "slide"
    }
   },
   "source": [
    "### Course objectives\n",
    "- Define key machine learning terminology\n",
    "- Apply common machine learning models to elementary data sets\n",
    "- Properly assess models using validation and test sets with appropriate metrics\n",
    "- Clean and perform simple feature engineering to improve model performance\n",
    "- Be familiar with the key libraries: Matplotlib, Pandas, Numpy, and scikit-learn\n"
   ]
  },
  {
   "cell_type": "markdown",
   "id": "d1237829",
   "metadata": {
    "slideshow": {
     "slide_type": "slide"
    }
   },
   "source": [
    "### Schedule overview\n",
    "\n",
    "<br>\n",
    "<center>\n",
    "<img src='../img/class_1/tentative_schedule.png' style='width:1100px;' >\n",
    "    </center>"
   ]
  },
  {
   "cell_type": "markdown",
   "id": "f3151a98",
   "metadata": {
    "slideshow": {
     "slide_type": "slide"
    }
   },
   "source": [
    "# ❇️ What is machine learning?"
   ]
  },
  {
   "cell_type": "markdown",
   "id": "5fac46a2",
   "metadata": {
    "slideshow": {
     "slide_type": "slide"
    }
   },
   "source": [
    "# ❇️ AI vs ML vs DL"
   ]
  },
  {
   "cell_type": "markdown",
   "id": "e72e9bfd",
   "metadata": {
    "slideshow": {
     "slide_type": "slide"
    }
   },
   "source": [
    "# ❇️ Why ML and not DL?"
   ]
  },
  {
   "cell_type": "markdown",
   "id": "55384e5b",
   "metadata": {
    "slideshow": {
     "slide_type": "slide"
    }
   },
   "source": [
    "# 🚀 Part 2"
   ]
  },
  {
   "cell_type": "markdown",
   "id": "7d37b100",
   "metadata": {
    "slideshow": {
     "slide_type": "slide"
    }
   },
   "source": [
    "# ❇️ Python... script files vs notebook files"
   ]
  },
  {
   "cell_type": "markdown",
   "id": "e1aee8a6",
   "metadata": {
    "slideshow": {
     "slide_type": "slide"
    }
   },
   "source": [
    "# ❇️ Creating a conda environment"
   ]
  },
  {
   "cell_type": "markdown",
   "id": "0dd881ab",
   "metadata": {
    "slideshow": {
     "slide_type": "slide"
    }
   },
   "source": [
    "# ❇️ Ingredients of a model"
   ]
  },
  {
   "cell_type": "markdown",
   "id": "3ec3ce73",
   "metadata": {
    "slideshow": {
     "slide_type": "slide"
    }
   },
   "source": [
    "# ❇️ Flavors of Machine Learning"
   ]
  },
  {
   "cell_type": "markdown",
   "id": "a68fe70b",
   "metadata": {
    "slideshow": {
     "slide_type": "slide"
    }
   },
   "source": [
    "# ❇️ Machine Learning workflow: End-to-End ML Project"
   ]
  },
  {
   "cell_type": "markdown",
   "id": "2d643615",
   "metadata": {
    "slideshow": {
     "slide_type": "slide"
    }
   },
   "source": [
    "# Why learn machine learning?\n",
    "\n",
    "<br>\n",
    "<center>\n",
    "<img src='../img/class_0/ml.jpeg' style='height:500px;'>\n",
    "</center>"
   ]
  },
  {
   "cell_type": "markdown",
   "id": "61506f64",
   "metadata": {
    "slideshow": {
     "slide_type": "slide"
    }
   },
   "source": [
    "#### What is the difference between statistics and machine learning?"
   ]
  },
  {
   "cell_type": "markdown",
   "id": "457cb97c",
   "metadata": {
    "slideshow": {
     "slide_type": "fragment"
    }
   },
   "source": [
    "- About $45K in salary "
   ]
  },
  {
   "cell_type": "markdown",
   "id": "3fcc3f30",
   "metadata": {
    "slideshow": {
     "slide_type": "fragment"
    }
   },
   "source": [
    "<center><img src='../img/class_0/stats_ml.png' style='height:120px;'></center>\n",
    "\n",
    "They're both concerned with the same question: \n",
    "\n",
    "<b>How do we learn about data? </b>"
   ]
  },
  {
   "cell_type": "markdown",
   "id": "6bb223bb",
   "metadata": {
    "slideshow": {
     "slide_type": "slide"
    }
   },
   "source": [
    "## ML in real life: Billions of people use it every day! 🗺️\n",
    "\n",
    "<br>\n",
    "<center>\n",
    "<img src='../img/class_0/ml_everywhere.webp' style='height:300px;'>\n",
    "</center>"
   ]
  },
  {
   "cell_type": "markdown",
   "id": "7c3b84d5",
   "metadata": {
    "slideshow": {
     "slide_type": "fragment"
    }
   },
   "source": [
    "- Spam filter!"
   ]
  },
  {
   "cell_type": "markdown",
   "id": "19549f99",
   "metadata": {
    "slideshow": {
     "slide_type": "fragment"
    }
   },
   "source": [
    "- Recommending videos"
   ]
  },
  {
   "cell_type": "markdown",
   "id": "545358f6",
   "metadata": {
    "slideshow": {
     "slide_type": "fragment"
    }
   },
   "source": [
    "- Segment customers and find the best marketing strategy for each group"
   ]
  },
  {
   "cell_type": "markdown",
   "id": "568051e5",
   "metadata": {
    "slideshow": {
     "slide_type": "fragment"
    }
   },
   "source": [
    "- Detect which transactions are likely to be fraudulent"
   ]
  },
  {
   "cell_type": "markdown",
   "id": "3848c4ec",
   "metadata": {
    "slideshow": {
     "slide_type": "slide"
    }
   },
   "source": [
    "## How do machines learn from data?\n",
    "<br>\n",
    "<center><img src='../img/class_0/bot.png' style='height:300px;'>\n",
    "</center>"
   ]
  },
  {
   "cell_type": "markdown",
   "id": "af217a49",
   "metadata": {
    "slideshow": {
     "slide_type": "fragment"
    }
   },
   "source": [
    "- Create a **model** from the data given in order to generate conclusions from data points never seen before"
   ]
  },
  {
   "cell_type": "markdown",
   "id": "b0931aa7",
   "metadata": {
    "slideshow": {
     "slide_type": "fragment"
    }
   },
   "source": [
    "\n",
    "💡 **Represent**\n",
    "\n",
    "💡 **Generalize** "
   ]
  },
  {
   "cell_type": "markdown",
   "id": "061c8fe7",
   "metadata": {
    "slideshow": {
     "slide_type": "slide"
    }
   },
   "source": [
    "## Roadmap: Life of a ML model\n",
    "\n",
    "<br>\n",
    "<center>\n",
    "<img src='../img/class_0/pipeline.png' style='height:500px;'>\n",
    "</center>"
   ]
  },
  {
   "cell_type": "markdown",
   "id": "c2b2c850",
   "metadata": {
    "slideshow": {
     "slide_type": "slide"
    }
   },
   "source": [
    "\n",
    "<center>\n",
    "<img src='../img/class_0/komp2.jpeg' style='height:300px;'> <img src='../img/class_0/bob.jpeg' style='height:400px;'> \n",
    "</center>"
   ]
  },
  {
   "cell_type": "markdown",
   "id": "d58108f3",
   "metadata": {
    "slideshow": {
     "slide_type": "slide"
    }
   },
   "source": [
    "\n",
    "<center>\n",
    "<img src='../img/class_0/ai_ml_dl.webp' style='height:300px;'>\n",
    "</center>"
   ]
  },
  {
   "cell_type": "markdown",
   "id": "ac9e279b",
   "metadata": {
    "slideshow": {
     "slide_type": "fragment"
    }
   },
   "source": [
    "- While DL is no doubt one of the most exciting areas in ML, you should master the fundamentals first! "
   ]
  },
  {
   "cell_type": "markdown",
   "id": "8cb9a9ce",
   "metadata": {
    "slideshow": {
     "slide_type": "fragment"
    }
   },
   "source": [
    "- DL is a only applicable for a limited subset of problems\n",
    "    - Requires lots of compute\n",
    "    - Requires lots of data"
   ]
  },
  {
   "cell_type": "markdown",
   "id": "5bc08ea3",
   "metadata": {
    "slideshow": {
     "slide_type": "fragment"
    }
   },
   "source": [
    "- Moreover, most problems can be solved quite well using simpler techniques such as random forests!"
   ]
  },
  {
   "cell_type": "code",
   "execution_count": null,
   "id": "a1548e3b",
   "metadata": {},
   "outputs": [],
   "source": []
  }
 ],
 "metadata": {
  "celltoolbar": "Slideshow",
  "kernelspec": {
   "display_name": "Python 3",
   "language": "python",
   "name": "python3"
  },
  "language_info": {
   "codemirror_mode": {
    "name": "ipython",
    "version": 3
   },
   "file_extension": ".py",
   "mimetype": "text/x-python",
   "name": "python",
   "nbconvert_exporter": "python",
   "pygments_lexer": "ipython3",
   "version": "3.7.4"
  }
 },
 "nbformat": 4,
 "nbformat_minor": 5
}
