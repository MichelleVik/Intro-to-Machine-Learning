{
 "cells": [
  {
   "cell_type": "markdown",
   "id": "4ce9e2bf",
   "metadata": {
    "slideshow": {
     "slide_type": "slide"
    }
   },
   "source": [
    "# 💃 Welcome to office hours :) "
   ]
  },
  {
   "cell_type": "markdown",
   "id": "b8db19cd",
   "metadata": {
    "slideshow": {
     "slide_type": "notes"
    }
   },
   "source": [
    "- `pip install hvplot`"
   ]
  },
  {
   "cell_type": "markdown",
   "id": "441caf5d",
   "metadata": {
    "slideshow": {
     "slide_type": "slide"
    }
   },
   "source": [
    "# Class will start at 6:05 PM\n",
    "\n",
    "In the meantime... fun fact!"
   ]
  },
  {
   "cell_type": "markdown",
   "id": "f4678989",
   "metadata": {
    "slideshow": {
     "slide_type": "fragment"
    }
   },
   "source": [
    "- 'Bold Glamour' filter on TikTok uses AI and not AR https://www.theverge.com/2023/3/2/23621751/bold-glamour-tiktok-face-filter-beauty-ai-ar-body-dismorphia\n"
   ]
  },
  {
   "cell_type": "markdown",
   "id": "b96fe938",
   "metadata": {
    "slideshow": {
     "slide_type": "fragment"
    }
   },
   "source": [
    "- We’re getting to a new place where it’s not just augmenting reality, it’s replacing reality.\n",
    "- It uses GAN (Generative Adversarial Networks):  \"GANs pit two competing neural networks against each other in a fist-fight\""
   ]
  },
  {
   "cell_type": "markdown",
   "id": "12d70594",
   "metadata": {
    "slideshow": {
     "slide_type": "slide"
    }
   },
   "source": [
    "# Week 3: Model setup and intro to regression models\n",
    "### Intro to Machine Learning | Professional Certificate course \n",
    "\n",
    "Viviana Marquez,  M.Sc.<br>\n",
    "March 8, 2023\n",
    "\n",
    "<br>\n",
    "\n",
    "<img src='../img/all/di.jpeg' style='width:500px; float: left; margin: 0px 30px 15px 0px'>"
   ]
  },
  {
   "cell_type": "markdown",
   "id": "ccaef5d0",
   "metadata": {
    "slideshow": {
     "slide_type": "slide"
    }
   },
   "source": [
    "# ❇️ Housekeeping"
   ]
  },
  {
   "cell_type": "markdown",
   "id": "1dcf078d",
   "metadata": {
    "slideshow": {
     "slide_type": "slide"
    }
   },
   "source": [
    "## Office hours\n",
    "\n",
    "More office hours:\n",
    "- Friday, March 10 @ 12PM PST\n",
    "- Monday, March 13 @ 6PM PST\n",
    "- Friday, March 17 @ 12PM PST\n",
    "- Monday, March 20 @ 6PM PST\n",
    "- Friday, March 24 @ 12PM PST\n",
    "- Monday, March 27 @ 6PM PST\n",
    "- Monday, April 3 @ 6PM PST\n",
    "\n",
    "Zoom link on Canvas"
   ]
  },
  {
   "cell_type": "markdown",
   "id": "ac8b7cd3",
   "metadata": {
    "slideshow": {
     "slide_type": "slide"
    }
   },
   "source": [
    "# 🚀 Today's agenda\n",
    "\n",
    "**Part 1:**\n",
    "\n",
    "- Finish up Feature Engineering\n",
    "- Underfitting vs overfitting / Bias-Variance trade-off"
   ]
  },
  {
   "cell_type": "markdown",
   "id": "f2f31e72",
   "metadata": {
    "slideshow": {
     "slide_type": "slide"
    }
   },
   "source": [
    "# 🚀 Today's agenda\n",
    "\n",
    "**Part 2:**\n",
    "- Linear Regression"
   ]
  },
  {
   "cell_type": "markdown",
   "id": "5cfccbcd",
   "metadata": {
    "slideshow": {
     "slide_type": "slide"
    }
   },
   "source": [
    "# ⏪ Last class recap\n",
    "\n",
    "- Getting data\n",
    "- Pandas crash course\n",
    "- EDA: Exploratory Data Analysis\n",
    "- Train, validation, and test data sets\n",
    "- Data cleaning and feature engineering "
   ]
  },
  {
   "cell_type": "markdown",
   "id": "85f7445a",
   "metadata": {
    "slideshow": {
     "slide_type": "slide"
    }
   },
   "source": [
    "### Conda environment commands\n",
    "\n",
    "- `conda activate IntroML`\n",
    "    - Launch `jupyter notebook`\n",
    "    \n",
    "    \n",
    "### Alternative\n",
    "\n",
    "Google Colab: https://colab.research.google.com/"
   ]
  },
  {
   "cell_type": "markdown",
   "id": "e2f5c083",
   "metadata": {
    "slideshow": {
     "slide_type": "slide"
    }
   },
   "source": [
    "# 🚀 Part 1"
   ]
  },
  {
   "cell_type": "markdown",
   "id": "adf92e74",
   "metadata": {
    "slideshow": {
     "slide_type": "slide"
    }
   },
   "source": [
    "# ❇️ Finish up Feature Engineering\n",
    "\n",
    "<br>\n",
    "<center>\n",
    "    <img src='../img/class_3/cinderella.gif' style='height:350px;'>\n",
    "</center>"
   ]
  },
  {
   "cell_type": "markdown",
   "id": "bfad8d4f",
   "metadata": {
    "slideshow": {
     "slide_type": "slide"
    }
   },
   "source": [
    "# EDA\n",
    "\n",
    "<br>\n",
    "<center>\n",
    "    <img src='../img/class_2/pipeline_EDA.png' style='height:300px;'>\n",
    "</center>\n",
    "\n",
    "- Exploratory Data Analysis is the process of performing initial investigations on data to be able to understand it, identify patterns and relationships between variables, detect outliers and anomalies with the help of summary statistics and data visualizations.\n",
    "\n",
    "- By exploring the data in this way, data professionals can check the overall health of their data and gain insights and make informed decisions about how to approach further analysis or modeling"
   ]
  },
  {
   "cell_type": "markdown",
   "id": "7f13e17e",
   "metadata": {
    "slideshow": {
     "slide_type": "slide"
    }
   },
   "source": [
    "# Feature Engineering \n",
    "<br>\n",
    "<center>\n",
    "    <img src='../img/class_2/pipeline_FE.png' style='height:300px;'>\n",
    "</center>\n",
    "\n",
    "- Feature engineering is the process of selecting and transforming raw data into features that can be used to train machine learning models\n",
    "- AKA creating/changing number of columns"
   ]
  },
  {
   "cell_type": "markdown",
   "id": "7e828306",
   "metadata": {
    "slideshow": {
     "slide_type": "slide"
    }
   },
   "source": [
    "# ⚠️⚠️⚠️ We need split the data into train/validation/test data sets!\n",
    "\n",
    "- It is important to separate the data into training, validation, and test sets **BEFORE** doing any data cleaning or feature engineering to prevent <u>data leakage</u> and ensure that the model is evaluated on unseen data.\n",
    "\n",
    "\n",
    "- **Training dataset:** Used to train machine learning model\n",
    "- **Validation dataset:** Used to tune the model's hyperparameters \n",
    "- **Test datatset:** Evaluate the model's performance on unseen data"
   ]
  },
  {
   "cell_type": "markdown",
   "id": "727770b4",
   "metadata": {
    "slideshow": {
     "slide_type": "slide"
    }
   },
   "source": [
    "<img src='../img/class_2/cali.png' style='height:500px; float: left; margin: 0px 100px 0px 0px'>\n",
    "\n",
    "\n",
    "Download data from [here](https://raw.githubusercontent.com/vivianamarquez/Intro-to-Machine-Learning/main/data/housing.csv)\n",
    "\n",
    " - California Housing Prices dataset\n",
    "     - 1990 California census\n",
    "     \n",
    "     \n",
    "Task: Create a model to predict median house value based on the other features of the dataset"
   ]
  },
  {
   "cell_type": "code",
   "execution_count": 2,
   "id": "5bd651d3",
   "metadata": {
    "slideshow": {
     "slide_type": "slide"
    }
   },
   "outputs": [
    {
     "data": {
      "text/html": [
       "<div>\n",
       "<style scoped>\n",
       "    .dataframe tbody tr th:only-of-type {\n",
       "        vertical-align: middle;\n",
       "    }\n",
       "\n",
       "    .dataframe tbody tr th {\n",
       "        vertical-align: top;\n",
       "    }\n",
       "\n",
       "    .dataframe thead th {\n",
       "        text-align: right;\n",
       "    }\n",
       "</style>\n",
       "<table border=\"1\" class=\"dataframe\">\n",
       "  <thead>\n",
       "    <tr style=\"text-align: right;\">\n",
       "      <th></th>\n",
       "      <th>longitude</th>\n",
       "      <th>latitude</th>\n",
       "      <th>housing_median_age</th>\n",
       "      <th>total_rooms</th>\n",
       "      <th>total_bedrooms</th>\n",
       "      <th>population</th>\n",
       "      <th>households</th>\n",
       "      <th>median_income</th>\n",
       "      <th>median_house_value</th>\n",
       "      <th>ocean_proximity</th>\n",
       "    </tr>\n",
       "  </thead>\n",
       "  <tbody>\n",
       "    <tr>\n",
       "      <th>0</th>\n",
       "      <td>-122.23</td>\n",
       "      <td>37.88</td>\n",
       "      <td>41.0</td>\n",
       "      <td>880.0</td>\n",
       "      <td>129.0</td>\n",
       "      <td>322.0</td>\n",
       "      <td>126.0</td>\n",
       "      <td>8.3252</td>\n",
       "      <td>452600.0</td>\n",
       "      <td>NEAR BAY</td>\n",
       "    </tr>\n",
       "    <tr>\n",
       "      <th>1</th>\n",
       "      <td>-122.22</td>\n",
       "      <td>37.86</td>\n",
       "      <td>21.0</td>\n",
       "      <td>7099.0</td>\n",
       "      <td>1106.0</td>\n",
       "      <td>2401.0</td>\n",
       "      <td>1138.0</td>\n",
       "      <td>8.3014</td>\n",
       "      <td>358500.0</td>\n",
       "      <td>NEAR BAY</td>\n",
       "    </tr>\n",
       "    <tr>\n",
       "      <th>2</th>\n",
       "      <td>-122.24</td>\n",
       "      <td>37.85</td>\n",
       "      <td>52.0</td>\n",
       "      <td>1467.0</td>\n",
       "      <td>190.0</td>\n",
       "      <td>496.0</td>\n",
       "      <td>177.0</td>\n",
       "      <td>7.2574</td>\n",
       "      <td>352100.0</td>\n",
       "      <td>NEAR BAY</td>\n",
       "    </tr>\n",
       "    <tr>\n",
       "      <th>3</th>\n",
       "      <td>-122.25</td>\n",
       "      <td>37.85</td>\n",
       "      <td>52.0</td>\n",
       "      <td>1274.0</td>\n",
       "      <td>235.0</td>\n",
       "      <td>558.0</td>\n",
       "      <td>219.0</td>\n",
       "      <td>5.6431</td>\n",
       "      <td>341300.0</td>\n",
       "      <td>NEAR BAY</td>\n",
       "    </tr>\n",
       "    <tr>\n",
       "      <th>4</th>\n",
       "      <td>-122.25</td>\n",
       "      <td>37.85</td>\n",
       "      <td>52.0</td>\n",
       "      <td>1627.0</td>\n",
       "      <td>280.0</td>\n",
       "      <td>565.0</td>\n",
       "      <td>259.0</td>\n",
       "      <td>3.8462</td>\n",
       "      <td>342200.0</td>\n",
       "      <td>NEAR BAY</td>\n",
       "    </tr>\n",
       "  </tbody>\n",
       "</table>\n",
       "</div>"
      ],
      "text/plain": [
       "   longitude  latitude  housing_median_age  total_rooms  total_bedrooms  \\\n",
       "0    -122.23     37.88                41.0        880.0           129.0   \n",
       "1    -122.22     37.86                21.0       7099.0          1106.0   \n",
       "2    -122.24     37.85                52.0       1467.0           190.0   \n",
       "3    -122.25     37.85                52.0       1274.0           235.0   \n",
       "4    -122.25     37.85                52.0       1627.0           280.0   \n",
       "\n",
       "   population  households  median_income  median_house_value ocean_proximity  \n",
       "0       322.0       126.0         8.3252            452600.0        NEAR BAY  \n",
       "1      2401.0      1138.0         8.3014            358500.0        NEAR BAY  \n",
       "2       496.0       177.0         7.2574            352100.0        NEAR BAY  \n",
       "3       558.0       219.0         5.6431            341300.0        NEAR BAY  \n",
       "4       565.0       259.0         3.8462            342200.0        NEAR BAY  "
      ]
     },
     "execution_count": 2,
     "metadata": {},
     "output_type": "execute_result"
    }
   ],
   "source": [
    "import pandas as pd\n",
    "\n",
    "df = pd.read_csv(\"../data/housing.csv\")\n",
    "df.head()"
   ]
  },
  {
   "cell_type": "code",
   "execution_count": 3,
   "id": "29c98d85",
   "metadata": {
    "slideshow": {
     "slide_type": "slide"
    }
   },
   "outputs": [],
   "source": [
    "from sklearn.model_selection import train_test_split"
   ]
  },
  {
   "cell_type": "code",
   "execution_count": 4,
   "id": "c6c4ea62",
   "metadata": {
    "slideshow": {
     "slide_type": "fragment"
    }
   },
   "outputs": [
    {
     "data": {
      "text/html": [
       "<div>\n",
       "<style scoped>\n",
       "    .dataframe tbody tr th:only-of-type {\n",
       "        vertical-align: middle;\n",
       "    }\n",
       "\n",
       "    .dataframe tbody tr th {\n",
       "        vertical-align: top;\n",
       "    }\n",
       "\n",
       "    .dataframe thead th {\n",
       "        text-align: right;\n",
       "    }\n",
       "</style>\n",
       "<table border=\"1\" class=\"dataframe\">\n",
       "  <thead>\n",
       "    <tr style=\"text-align: right;\">\n",
       "      <th></th>\n",
       "      <th>median_house_value</th>\n",
       "    </tr>\n",
       "  </thead>\n",
       "  <tbody>\n",
       "    <tr>\n",
       "      <th>0</th>\n",
       "      <td>452600.0</td>\n",
       "    </tr>\n",
       "    <tr>\n",
       "      <th>1</th>\n",
       "      <td>358500.0</td>\n",
       "    </tr>\n",
       "    <tr>\n",
       "      <th>2</th>\n",
       "      <td>352100.0</td>\n",
       "    </tr>\n",
       "    <tr>\n",
       "      <th>3</th>\n",
       "      <td>341300.0</td>\n",
       "    </tr>\n",
       "    <tr>\n",
       "      <th>4</th>\n",
       "      <td>342200.0</td>\n",
       "    </tr>\n",
       "  </tbody>\n",
       "</table>\n",
       "</div>"
      ],
      "text/plain": [
       "   median_house_value\n",
       "0            452600.0\n",
       "1            358500.0\n",
       "2            352100.0\n",
       "3            341300.0\n",
       "4            342200.0"
      ]
     },
     "execution_count": 4,
     "metadata": {},
     "output_type": "execute_result"
    }
   ],
   "source": [
    "# target variable \n",
    "y = df[['median_house_value']]\n",
    "y.head()"
   ]
  },
  {
   "cell_type": "code",
   "execution_count": 6,
   "id": "f95cc09b",
   "metadata": {
    "slideshow": {
     "slide_type": "fragment"
    }
   },
   "outputs": [
    {
     "data": {
      "text/html": [
       "<div>\n",
       "<style scoped>\n",
       "    .dataframe tbody tr th:only-of-type {\n",
       "        vertical-align: middle;\n",
       "    }\n",
       "\n",
       "    .dataframe tbody tr th {\n",
       "        vertical-align: top;\n",
       "    }\n",
       "\n",
       "    .dataframe thead th {\n",
       "        text-align: right;\n",
       "    }\n",
       "</style>\n",
       "<table border=\"1\" class=\"dataframe\">\n",
       "  <thead>\n",
       "    <tr style=\"text-align: right;\">\n",
       "      <th></th>\n",
       "      <th>longitude</th>\n",
       "      <th>latitude</th>\n",
       "      <th>housing_median_age</th>\n",
       "      <th>total_rooms</th>\n",
       "      <th>total_bedrooms</th>\n",
       "      <th>population</th>\n",
       "      <th>households</th>\n",
       "      <th>median_income</th>\n",
       "      <th>ocean_proximity</th>\n",
       "    </tr>\n",
       "  </thead>\n",
       "  <tbody>\n",
       "    <tr>\n",
       "      <th>0</th>\n",
       "      <td>-122.23</td>\n",
       "      <td>37.88</td>\n",
       "      <td>41.0</td>\n",
       "      <td>880.0</td>\n",
       "      <td>129.0</td>\n",
       "      <td>322.0</td>\n",
       "      <td>126.0</td>\n",
       "      <td>8.3252</td>\n",
       "      <td>NEAR BAY</td>\n",
       "    </tr>\n",
       "    <tr>\n",
       "      <th>1</th>\n",
       "      <td>-122.22</td>\n",
       "      <td>37.86</td>\n",
       "      <td>21.0</td>\n",
       "      <td>7099.0</td>\n",
       "      <td>1106.0</td>\n",
       "      <td>2401.0</td>\n",
       "      <td>1138.0</td>\n",
       "      <td>8.3014</td>\n",
       "      <td>NEAR BAY</td>\n",
       "    </tr>\n",
       "    <tr>\n",
       "      <th>2</th>\n",
       "      <td>-122.24</td>\n",
       "      <td>37.85</td>\n",
       "      <td>52.0</td>\n",
       "      <td>1467.0</td>\n",
       "      <td>190.0</td>\n",
       "      <td>496.0</td>\n",
       "      <td>177.0</td>\n",
       "      <td>7.2574</td>\n",
       "      <td>NEAR BAY</td>\n",
       "    </tr>\n",
       "  </tbody>\n",
       "</table>\n",
       "</div>"
      ],
      "text/plain": [
       "   longitude  latitude  housing_median_age  total_rooms  total_bedrooms  \\\n",
       "0    -122.23     37.88                41.0        880.0           129.0   \n",
       "1    -122.22     37.86                21.0       7099.0          1106.0   \n",
       "2    -122.24     37.85                52.0       1467.0           190.0   \n",
       "\n",
       "   population  households  median_income ocean_proximity  \n",
       "0       322.0       126.0         8.3252        NEAR BAY  \n",
       "1      2401.0      1138.0         8.3014        NEAR BAY  \n",
       "2       496.0       177.0         7.2574        NEAR BAY  "
      ]
     },
     "execution_count": 6,
     "metadata": {},
     "output_type": "execute_result"
    }
   ],
   "source": [
    "# attributes\n",
    "X = df[['longitude', 'latitude', 'housing_median_age', 'total_rooms',\n",
    "       'total_bedrooms', 'population', 'households', 'median_income',\n",
    "       'ocean_proximity']]\n",
    "X.head(3)"
   ]
  },
  {
   "cell_type": "code",
   "execution_count": 7,
   "id": "92c33a4f",
   "metadata": {
    "slideshow": {
     "slide_type": "slide"
    }
   },
   "outputs": [],
   "source": [
    "# Assuming X is your feature matrix and y is your target variable\n",
    "X_train_val, X_test, y_train_val, y_test = train_test_split(X, y, test_size=0.1)"
   ]
  },
  {
   "cell_type": "code",
   "execution_count": 8,
   "id": "75a1e104",
   "metadata": {
    "slideshow": {
     "slide_type": "fragment"
    }
   },
   "outputs": [],
   "source": [
    "# Split the training and validation sets\n",
    "X_train, X_val, y_train, y_val = train_test_split(X_train_val, y_train_val, test_size=0.111111)"
   ]
  },
  {
   "cell_type": "code",
   "execution_count": 14,
   "id": "9cc8c3d2",
   "metadata": {
    "slideshow": {
     "slide_type": "fragment"
    }
   },
   "outputs": [],
   "source": [
    "train_test_split?"
   ]
  },
  {
   "cell_type": "code",
   "execution_count": 13,
   "id": "2f90fd1f",
   "metadata": {
    "slideshow": {
     "slide_type": "fragment"
    }
   },
   "outputs": [
    {
     "name": "stdout",
     "output_type": "stream",
     "text": [
      "Percetage of observations in the train dataset: 80.0%\n",
      "Percetage of observations in the val dataset: 10.0%\n",
      "Percetage of observations in the test dataset: 10.0%\n"
     ]
    }
   ],
   "source": [
    "print(f\"Percetage of observations in the train dataset: {X_train.shape[0]/df.shape[0]*100}%\")\n",
    "print(f\"Percetage of observations in the val dataset: {X_val.shape[0]/df.shape[0]*100}%\")\n",
    "print(f\"Percetage of observations in the test dataset: {X_test.shape[0]/df.shape[0]*100}%\")"
   ]
  },
  {
   "cell_type": "markdown",
   "id": "d7b2ee77",
   "metadata": {
    "slideshow": {
     "slide_type": "slide"
    }
   },
   "source": [
    "# Why do we do data cleaning and feature engineering?\n",
    "\n",
    "<br><br>\n",
    "<center>\n",
    "    <img src='../img/class_0/gigo.png' style='height:300px;'>\n",
    "</center>\n",
    "\n",
    "- Objective: Improve data quality, making it suitable for modeling\n",
    "- All data must be numeric and there can't be any missing values (even with purely numeric data, there is potential cleanup work)"
   ]
  },
  {
   "cell_type": "markdown",
   "id": "9237ffbe",
   "metadata": {
    "slideshow": {
     "slide_type": "slide"
    }
   },
   "source": [
    "# 🛁 Data cleaning\n",
    "\n",
    "- Included but not limited to: \n",
    "    - Handling missing values: drop them or account for them \n",
    "    - Handling outliers: drop them or account for them or keep them\n",
    "    - Remove duplicates\n",
    "    - Handling incorrect data types\n",
    "    - Handling inconsistent data (example: age shouldn't be negative)"
   ]
  },
  {
   "cell_type": "markdown",
   "id": "ebd798c5",
   "metadata": {
    "slideshow": {
     "slide_type": "slide"
    }
   },
   "source": [
    "# 🏗 Feature engineering \n",
    "\n",
    "- Included but not limited to: \n",
    "    - Handling categorical attributes\n",
    "            - Ordinal encoder: Assumes two nearby values are more similar to each other\n",
    "            - One-Hot encoder: One binary category per attribute\n",
    "    - Custom feature engineering  ♊\n",
    "    - ✨ Feature scaling \n",
    "            - MinMax \n",
    "            - Standarization \n",
    "            \n",
    "- ✨ Putting it all together"
   ]
  },
  {
   "cell_type": "markdown",
   "id": "7c76b521",
   "metadata": {
    "slideshow": {
     "slide_type": "slide"
    }
   },
   "source": [
    "### Feature Scaling\n",
    "\n",
    "- With few exceptions, machine learning algorithms don't perform well when the input of the numerical values have very different scales\n",
    "- Example in this dataset: `total_rooms`, `median_income`\n",
    "\n",
    "The most common ones:\n",
    "- MinMax scaling\n",
    "- Standarization"
   ]
  },
  {
   "cell_type": "markdown",
   "id": "d3e3d7a9",
   "metadata": {
    "slideshow": {
     "slide_type": "slide"
    }
   },
   "source": [
    "### MinMax\n",
    "\n",
    "- AKA normalization\n",
    "- Values are shifted and rescaled so that they end up ranging from 0 to 1\n",
    "- How to calculate it? Subtracting the min val and diving by the difference between the min and the max"
   ]
  },
  {
   "cell_type": "code",
   "execution_count": 17,
   "id": "d3be6053",
   "metadata": {
    "slideshow": {
     "slide_type": "fragment"
    }
   },
   "outputs": [],
   "source": [
    "import numpy as np\n",
    "from sklearn.preprocessing import MinMaxScaler\n",
    "\n",
    "min_max_scaler = MinMaxScaler()\n",
    "\n",
    "X_train_numerical_features = X_train.select_dtypes(include=[np.number])\n",
    "X_train_num_min_max_scaled = min_max_scaler.fit_transform(X_train_numerical_features)"
   ]
  },
  {
   "cell_type": "code",
   "execution_count": 25,
   "id": "0d14bd9b",
   "metadata": {
    "slideshow": {
     "slide_type": "fragment"
    }
   },
   "outputs": [
    {
     "data": {
      "text/html": [
       "<div>\n",
       "<style scoped>\n",
       "    .dataframe tbody tr th:only-of-type {\n",
       "        vertical-align: middle;\n",
       "    }\n",
       "\n",
       "    .dataframe tbody tr th {\n",
       "        vertical-align: top;\n",
       "    }\n",
       "\n",
       "    .dataframe thead th {\n",
       "        text-align: right;\n",
       "    }\n",
       "</style>\n",
       "<table border=\"1\" class=\"dataframe\">\n",
       "  <thead>\n",
       "    <tr style=\"text-align: right;\">\n",
       "      <th></th>\n",
       "      <th>longitude</th>\n",
       "      <th>latitude</th>\n",
       "      <th>housing_median_age</th>\n",
       "      <th>total_rooms</th>\n",
       "      <th>total_bedrooms</th>\n",
       "      <th>population</th>\n",
       "      <th>households</th>\n",
       "      <th>median_income</th>\n",
       "    </tr>\n",
       "  </thead>\n",
       "  <tbody>\n",
       "    <tr>\n",
       "      <th>count</th>\n",
       "      <td>16512.000000</td>\n",
       "      <td>16512.000000</td>\n",
       "      <td>16512.000000</td>\n",
       "      <td>16512.000000</td>\n",
       "      <td>16349.000000</td>\n",
       "      <td>16512.000000</td>\n",
       "      <td>16512.000000</td>\n",
       "      <td>16512.000000</td>\n",
       "    </tr>\n",
       "    <tr>\n",
       "      <th>mean</th>\n",
       "      <td>0.483606</td>\n",
       "      <td>0.328987</td>\n",
       "      <td>0.540789</td>\n",
       "      <td>0.066800</td>\n",
       "      <td>0.083335</td>\n",
       "      <td>0.039838</td>\n",
       "      <td>0.081954</td>\n",
       "      <td>0.232450</td>\n",
       "    </tr>\n",
       "    <tr>\n",
       "      <th>std</th>\n",
       "      <td>0.202736</td>\n",
       "      <td>0.226555</td>\n",
       "      <td>0.246783</td>\n",
       "      <td>0.055367</td>\n",
       "      <td>0.065633</td>\n",
       "      <td>0.032036</td>\n",
       "      <td>0.063134</td>\n",
       "      <td>0.131203</td>\n",
       "    </tr>\n",
       "    <tr>\n",
       "      <th>min</th>\n",
       "      <td>0.000000</td>\n",
       "      <td>0.000000</td>\n",
       "      <td>0.000000</td>\n",
       "      <td>0.000000</td>\n",
       "      <td>0.000000</td>\n",
       "      <td>0.000000</td>\n",
       "      <td>0.000000</td>\n",
       "      <td>0.000000</td>\n",
       "    </tr>\n",
       "    <tr>\n",
       "      <th>25%</th>\n",
       "      <td>0.258097</td>\n",
       "      <td>0.148778</td>\n",
       "      <td>0.333333</td>\n",
       "      <td>0.036704</td>\n",
       "      <td>0.045934</td>\n",
       "      <td>0.022030</td>\n",
       "      <td>0.046045</td>\n",
       "      <td>0.142246</td>\n",
       "    </tr>\n",
       "    <tr>\n",
       "      <th>50%</th>\n",
       "      <td>0.592105</td>\n",
       "      <td>0.182784</td>\n",
       "      <td>0.549020</td>\n",
       "      <td>0.054052</td>\n",
       "      <td>0.067505</td>\n",
       "      <td>0.032652</td>\n",
       "      <td>0.067259</td>\n",
       "      <td>0.209504</td>\n",
       "    </tr>\n",
       "    <tr>\n",
       "      <th>75%</th>\n",
       "      <td>0.641700</td>\n",
       "      <td>0.550478</td>\n",
       "      <td>0.705882</td>\n",
       "      <td>0.079495</td>\n",
       "      <td>0.099783</td>\n",
       "      <td>0.048067</td>\n",
       "      <td>0.098832</td>\n",
       "      <td>0.292693</td>\n",
       "    </tr>\n",
       "    <tr>\n",
       "      <th>max</th>\n",
       "      <td>1.000000</td>\n",
       "      <td>1.000000</td>\n",
       "      <td>1.000000</td>\n",
       "      <td>1.000000</td>\n",
       "      <td>1.000000</td>\n",
       "      <td>1.000000</td>\n",
       "      <td>1.000000</td>\n",
       "      <td>1.000000</td>\n",
       "    </tr>\n",
       "  </tbody>\n",
       "</table>\n",
       "</div>"
      ],
      "text/plain": [
       "          longitude      latitude  housing_median_age   total_rooms  \\\n",
       "count  16512.000000  16512.000000        16512.000000  16512.000000   \n",
       "mean       0.483606      0.328987            0.540789      0.066800   \n",
       "std        0.202736      0.226555            0.246783      0.055367   \n",
       "min        0.000000      0.000000            0.000000      0.000000   \n",
       "25%        0.258097      0.148778            0.333333      0.036704   \n",
       "50%        0.592105      0.182784            0.549020      0.054052   \n",
       "75%        0.641700      0.550478            0.705882      0.079495   \n",
       "max        1.000000      1.000000            1.000000      1.000000   \n",
       "\n",
       "       total_bedrooms    population    households  median_income  \n",
       "count    16349.000000  16512.000000  16512.000000   16512.000000  \n",
       "mean         0.083335      0.039838      0.081954       0.232450  \n",
       "std          0.065633      0.032036      0.063134       0.131203  \n",
       "min          0.000000      0.000000      0.000000       0.000000  \n",
       "25%          0.045934      0.022030      0.046045       0.142246  \n",
       "50%          0.067505      0.032652      0.067259       0.209504  \n",
       "75%          0.099783      0.048067      0.098832       0.292693  \n",
       "max          1.000000      1.000000      1.000000       1.000000  "
      ]
     },
     "execution_count": 25,
     "metadata": {},
     "output_type": "execute_result"
    }
   ],
   "source": [
    "pd.DataFrame(X_train_num_min_max_scaled,\n",
    "            columns=X_train_numerical_features.columns,\n",
    "            index=X_train_numerical_features.index).describe()"
   ]
  },
  {
   "cell_type": "markdown",
   "id": "4850ca54",
   "metadata": {
    "slideshow": {
     "slide_type": "slide"
    }
   },
   "source": [
    "### Standarization\n",
    "\n",
    "- How to calculate it? Subtract the mean value, then divide the result by the standard deviation\n",
    "- It doesn't restrict the values to a specific range"
   ]
  },
  {
   "cell_type": "code",
   "execution_count": 22,
   "id": "2be73398",
   "metadata": {
    "slideshow": {
     "slide_type": "fragment"
    }
   },
   "outputs": [],
   "source": [
    "from sklearn.preprocessing import StandardScaler\n",
    "\n",
    "std_scaler = StandardScaler()\n",
    "X_train_num_std_scaled = std_scaler.fit_transform(X_train_numerical_features)"
   ]
  },
  {
   "cell_type": "code",
   "execution_count": 28,
   "id": "f12cc6d2",
   "metadata": {
    "slideshow": {
     "slide_type": "fragment"
    }
   },
   "outputs": [
    {
     "data": {
      "text/html": [
       "<div>\n",
       "<style scoped>\n",
       "    .dataframe tbody tr th:only-of-type {\n",
       "        vertical-align: middle;\n",
       "    }\n",
       "\n",
       "    .dataframe tbody tr th {\n",
       "        vertical-align: top;\n",
       "    }\n",
       "\n",
       "    .dataframe thead th {\n",
       "        text-align: right;\n",
       "    }\n",
       "</style>\n",
       "<table border=\"1\" class=\"dataframe\">\n",
       "  <thead>\n",
       "    <tr style=\"text-align: right;\">\n",
       "      <th></th>\n",
       "      <th>longitude</th>\n",
       "      <th>latitude</th>\n",
       "      <th>housing_median_age</th>\n",
       "      <th>total_rooms</th>\n",
       "      <th>total_bedrooms</th>\n",
       "      <th>population</th>\n",
       "      <th>households</th>\n",
       "      <th>median_income</th>\n",
       "    </tr>\n",
       "  </thead>\n",
       "  <tbody>\n",
       "    <tr>\n",
       "      <th>count</th>\n",
       "      <td>16512.0000</td>\n",
       "      <td>16512.0000</td>\n",
       "      <td>16512.0000</td>\n",
       "      <td>16512.0000</td>\n",
       "      <td>16349.0000</td>\n",
       "      <td>16512.0000</td>\n",
       "      <td>16512.0000</td>\n",
       "      <td>16512.0000</td>\n",
       "    </tr>\n",
       "    <tr>\n",
       "      <th>mean</th>\n",
       "      <td>0.0000</td>\n",
       "      <td>0.0000</td>\n",
       "      <td>-0.0000</td>\n",
       "      <td>-0.0000</td>\n",
       "      <td>0.0000</td>\n",
       "      <td>-0.0000</td>\n",
       "      <td>-0.0000</td>\n",
       "      <td>-0.0000</td>\n",
       "    </tr>\n",
       "    <tr>\n",
       "      <th>std</th>\n",
       "      <td>1.0000</td>\n",
       "      <td>1.0000</td>\n",
       "      <td>1.0000</td>\n",
       "      <td>1.0000</td>\n",
       "      <td>1.0000</td>\n",
       "      <td>1.0000</td>\n",
       "      <td>1.0000</td>\n",
       "      <td>1.0000</td>\n",
       "    </tr>\n",
       "    <tr>\n",
       "      <th>min</th>\n",
       "      <td>-2.3855</td>\n",
       "      <td>-1.4522</td>\n",
       "      <td>-2.1914</td>\n",
       "      <td>-1.2065</td>\n",
       "      <td>-1.2697</td>\n",
       "      <td>-1.2436</td>\n",
       "      <td>-1.2981</td>\n",
       "      <td>-1.7717</td>\n",
       "    </tr>\n",
       "    <tr>\n",
       "      <th>25%</th>\n",
       "      <td>-1.1124</td>\n",
       "      <td>-0.7955</td>\n",
       "      <td>-0.8407</td>\n",
       "      <td>-0.5436</td>\n",
       "      <td>-0.5699</td>\n",
       "      <td>-0.5559</td>\n",
       "      <td>-0.5688</td>\n",
       "      <td>-0.6875</td>\n",
       "    </tr>\n",
       "    <tr>\n",
       "      <th>50%</th>\n",
       "      <td>0.5352</td>\n",
       "      <td>-0.6454</td>\n",
       "      <td>0.0334</td>\n",
       "      <td>-0.2303</td>\n",
       "      <td>-0.2412</td>\n",
       "      <td>-0.2243</td>\n",
       "      <td>-0.2328</td>\n",
       "      <td>-0.1749</td>\n",
       "    </tr>\n",
       "    <tr>\n",
       "      <th>75%</th>\n",
       "      <td>0.7798</td>\n",
       "      <td>0.9777</td>\n",
       "      <td>0.6690</td>\n",
       "      <td>0.2293</td>\n",
       "      <td>0.2506</td>\n",
       "      <td>0.2569</td>\n",
       "      <td>0.2674</td>\n",
       "      <td>0.4592</td>\n",
       "    </tr>\n",
       "    <tr>\n",
       "      <th>max</th>\n",
       "      <td>2.5472</td>\n",
       "      <td>2.9619</td>\n",
       "      <td>1.8608</td>\n",
       "      <td>16.8553</td>\n",
       "      <td>13.9669</td>\n",
       "      <td>29.9727</td>\n",
       "      <td>14.5416</td>\n",
       "      <td>5.8502</td>\n",
       "    </tr>\n",
       "  </tbody>\n",
       "</table>\n",
       "</div>"
      ],
      "text/plain": [
       "        longitude    latitude  housing_median_age  total_rooms  \\\n",
       "count  16512.0000  16512.0000          16512.0000   16512.0000   \n",
       "mean       0.0000      0.0000             -0.0000      -0.0000   \n",
       "std        1.0000      1.0000              1.0000       1.0000   \n",
       "min       -2.3855     -1.4522             -2.1914      -1.2065   \n",
       "25%       -1.1124     -0.7955             -0.8407      -0.5436   \n",
       "50%        0.5352     -0.6454              0.0334      -0.2303   \n",
       "75%        0.7798      0.9777              0.6690       0.2293   \n",
       "max        2.5472      2.9619              1.8608      16.8553   \n",
       "\n",
       "       total_bedrooms  population  households  median_income  \n",
       "count      16349.0000  16512.0000  16512.0000     16512.0000  \n",
       "mean           0.0000     -0.0000     -0.0000        -0.0000  \n",
       "std            1.0000      1.0000      1.0000         1.0000  \n",
       "min           -1.2697     -1.2436     -1.2981        -1.7717  \n",
       "25%           -0.5699     -0.5559     -0.5688        -0.6875  \n",
       "50%           -0.2412     -0.2243     -0.2328        -0.1749  \n",
       "75%            0.2506      0.2569      0.2674         0.4592  \n",
       "max           13.9669     29.9727     14.5416         5.8502  "
      ]
     },
     "execution_count": 28,
     "metadata": {},
     "output_type": "execute_result"
    }
   ],
   "source": [
    "pd.DataFrame(X_train_num_std_scaled,\n",
    "             columns = X_train_numerical_features.columns,\n",
    "             index = X_train_numerical_features.index).describe().round(4)"
   ]
  },
  {
   "cell_type": "markdown",
   "id": "8ee0e778",
   "metadata": {
    "slideshow": {
     "slide_type": "slide"
    }
   },
   "source": [
    "# 🤔 When would you use standarization vs MinMax?"
   ]
  },
  {
   "cell_type": "code",
   "execution_count": 30,
   "id": "c19a3025",
   "metadata": {
    "slideshow": {
     "slide_type": "fragment"
    }
   },
   "outputs": [
    {
     "data": {
      "text/plain": [
       "count    16512.000000\n",
       "mean         3.870478\n",
       "std          1.902477\n",
       "min          0.499900\n",
       "25%          2.562500\n",
       "50%          3.537750\n",
       "75%          4.744000\n",
       "max         15.000100\n",
       "Name: median_income, dtype: float64"
      ]
     },
     "execution_count": 30,
     "metadata": {},
     "output_type": "execute_result"
    }
   ],
   "source": [
    "X_train_numerical_features['median_income'].describe()"
   ]
  },
  {
   "cell_type": "markdown",
   "id": "d8deea0e",
   "metadata": {
    "slideshow": {
     "slide_type": "fragment"
    }
   },
   "source": [
    "- Suppose a district has a median income of 100 (by mistake)\n",
    "- MinMax would map this outlier to 1 and squish all other values to 0-0.15\n",
    "- Meanwhile, standarization is not so sensitive to outliers\n",
    "- MinMax is better to use when the upper and lower boundaries are known"
   ]
  },
  {
   "cell_type": "markdown",
   "id": "6b18986c",
   "metadata": {
    "slideshow": {
     "slide_type": "slide"
    }
   },
   "source": [
    "### More notes on feature scaling\n",
    "\n",
    "- When a feature's distribution has a heavy tail, both MinMax and standarization will squash most values into a small range\n",
    "- You should first transform it to shrink the heavy tail \n",
    "    - Square root\n",
    "    - Log\n",
    "    - Bucket the feature\n",
    "    - and more..."
   ]
  },
  {
   "cell_type": "code",
   "execution_count": 31,
   "id": "77325e7e",
   "metadata": {
    "slideshow": {
     "slide_type": "fragment"
    }
   },
   "outputs": [
    {
     "data": {
      "image/png": "[encoded data removed]",
      "text/plain": [
       "<Figure size 800x300 with 2 Axes>"
      ]
     },
     "metadata": {},
     "output_type": "display_data"
    }
   ],
   "source": [
    "import matplotlib.pyplot as plt\n",
    "\n",
    "fig, axs = plt.subplots(1, 2, figsize=(8, 3), sharey=True)\n",
    "\n",
    "X_train[\"population\"].hist(ax=axs[0], bins=50)\n",
    "X_train[\"population\"].apply(np.log).hist(ax=axs[1], bins=50)\n",
    "axs[0].set_xlabel(\"Population\")\n",
    "axs[1].set_xlabel(\"Log of population\")\n",
    "axs[0].set_ylabel(\"Number of districts\")\n",
    "\n",
    "plt.show()"
   ]
  },
  {
   "cell_type": "markdown",
   "id": "def67ccc",
   "metadata": {
    "slideshow": {
     "slide_type": "slide"
    }
   },
   "source": [
    "# 🏗 Feature engineering \n",
    "\n",
    "- Included but not limited to: \n",
    "    - Handling categorical features: Ordinal encoder, OneHot encoder, etc.\n",
    "    - Feature scaling: MinMax, standarizaton, square root, log, etc.\n",
    "    - Feature extraction: Creating new features from existing ones\n",
    "    - Text processing: TF-IDF, Word2Vec, BERT, GPT\n",
    "    - Dimensionality reduction\n",
    "- Depends on your dataset!"
   ]
  },
  {
   "cell_type": "markdown",
   "id": "bd23f2d0",
   "metadata": {
    "slideshow": {
     "slide_type": "slide"
    }
   },
   "source": [
    "# ⚗️ Putting all of it together\n"
   ]
  },
  {
   "cell_type": "code",
   "execution_count": 33,
   "id": "866ed1c5",
   "metadata": {
    "slideshow": {
     "slide_type": "fragment"
    }
   },
   "outputs": [
    {
     "data": {
      "text/plain": [
       "longitude               0\n",
       "latitude                0\n",
       "housing_median_age      0\n",
       "total_rooms             0\n",
       "total_bedrooms        163\n",
       "population              0\n",
       "households              0\n",
       "median_income           0\n",
       "ocean_proximity         0\n",
       "dtype: int64"
      ]
     },
     "execution_count": 33,
     "metadata": {},
     "output_type": "execute_result"
    }
   ],
   "source": [
    "X_train.isna().sum()"
   ]
  },
  {
   "cell_type": "markdown",
   "id": "ce755c94",
   "metadata": {
    "slideshow": {
     "slide_type": "fragment"
    }
   },
   "source": [
    "- Impute the median to handle missing values\n",
    "- One-Hot Encoder to handle categorical values\n",
    "- Standartization "
   ]
  },
  {
   "cell_type": "code",
   "execution_count": 34,
   "id": "a4e154db",
   "metadata": {
    "slideshow": {
     "slide_type": "slide"
    }
   },
   "outputs": [],
   "source": [
    "from sklearn.pipeline import make_pipeline\n",
    "from sklearn.compose import make_column_selector, make_column_transformer\n",
    "from sklearn.impute import SimpleImputer\n",
    "from sklearn.preprocessing import OneHotEncoder\n",
    "\n",
    "num_pipeline = make_pipeline(SimpleImputer(strategy=\"median\"),\n",
    "                             StandardScaler())\n",
    "\n",
    "cat_pipeline = make_pipeline(OneHotEncoder(handle_unknown=\"ignore\"))\n",
    "\n",
    "preprocessing = make_column_transformer(\n",
    "                            (num_pipeline, make_column_selector(dtype_include=np.number)),\n",
    "                            (cat_pipeline, make_column_selector(dtype_include=object))\n",
    ")"
   ]
  },
  {
   "cell_type": "code",
   "execution_count": 36,
   "id": "51c1dfa4",
   "metadata": {
    "slideshow": {
     "slide_type": "fragment"
    }
   },
   "outputs": [
    {
     "data": {
      "text/html": [
       "<div>\n",
       "<style scoped>\n",
       "    .dataframe tbody tr th:only-of-type {\n",
       "        vertical-align: middle;\n",
       "    }\n",
       "\n",
       "    .dataframe tbody tr th {\n",
       "        vertical-align: top;\n",
       "    }\n",
       "\n",
       "    .dataframe thead th {\n",
       "        text-align: right;\n",
       "    }\n",
       "</style>\n",
       "<table border=\"1\" class=\"dataframe\">\n",
       "  <thead>\n",
       "    <tr style=\"text-align: right;\">\n",
       "      <th></th>\n",
       "      <th>pipeline-1__longitude</th>\n",
       "      <th>pipeline-1__latitude</th>\n",
       "      <th>pipeline-1__housing_median_age</th>\n",
       "      <th>pipeline-1__total_rooms</th>\n",
       "      <th>pipeline-1__total_bedrooms</th>\n",
       "      <th>pipeline-1__population</th>\n",
       "      <th>pipeline-1__households</th>\n",
       "      <th>pipeline-1__median_income</th>\n",
       "      <th>pipeline-2__ocean_proximity_&lt;1H OCEAN</th>\n",
       "      <th>pipeline-2__ocean_proximity_INLAND</th>\n",
       "      <th>pipeline-2__ocean_proximity_ISLAND</th>\n",
       "      <th>pipeline-2__ocean_proximity_NEAR BAY</th>\n",
       "      <th>pipeline-2__ocean_proximity_NEAR OCEAN</th>\n",
       "    </tr>\n",
       "  </thead>\n",
       "  <tbody>\n",
       "    <tr>\n",
       "      <th>3440</th>\n",
       "      <td>-1.531735</td>\n",
       "      <td>2.858707</td>\n",
       "      <td>0.589545</td>\n",
       "      <td>0.315535</td>\n",
       "      <td>0.301688</td>\n",
       "      <td>0.059152</td>\n",
       "      <td>0.342893</td>\n",
       "      <td>-1.051860</td>\n",
       "      <td>0.0</td>\n",
       "      <td>1.0</td>\n",
       "      <td>0.0</td>\n",
       "      <td>0.0</td>\n",
       "      <td>0.0</td>\n",
       "    </tr>\n",
       "    <tr>\n",
       "      <th>17791</th>\n",
       "      <td>0.839739</td>\n",
       "      <td>-0.720404</td>\n",
       "      <td>0.430633</td>\n",
       "      <td>-0.268393</td>\n",
       "      <td>-0.299325</td>\n",
       "      <td>0.027655</td>\n",
       "      <td>-0.217136</td>\n",
       "      <td>-0.391858</td>\n",
       "      <td>1.0</td>\n",
       "      <td>0.0</td>\n",
       "      <td>0.0</td>\n",
       "      <td>0.0</td>\n",
       "      <td>0.0</td>\n",
       "    </tr>\n",
       "    <tr>\n",
       "      <th>11362</th>\n",
       "      <td>0.575132</td>\n",
       "      <td>-0.696950</td>\n",
       "      <td>1.543019</td>\n",
       "      <td>-0.896885</td>\n",
       "      <td>-0.964477</td>\n",
       "      <td>-1.011750</td>\n",
       "      <td>-0.972524</td>\n",
       "      <td>0.391355</td>\n",
       "      <td>1.0</td>\n",
       "      <td>0.0</td>\n",
       "      <td>0.0</td>\n",
       "      <td>0.0</td>\n",
       "      <td>0.0</td>\n",
       "    </tr>\n",
       "    <tr>\n",
       "      <th>10999</th>\n",
       "      <td>0.714925</td>\n",
       "      <td>-0.865820</td>\n",
       "      <td>1.304650</td>\n",
       "      <td>-0.511428</td>\n",
       "      <td>-0.650905</td>\n",
       "      <td>-0.650408</td>\n",
       "      <td>-0.605249</td>\n",
       "      <td>0.407230</td>\n",
       "      <td>0.0</td>\n",
       "      <td>0.0</td>\n",
       "      <td>0.0</td>\n",
       "      <td>0.0</td>\n",
       "      <td>1.0</td>\n",
       "    </tr>\n",
       "    <tr>\n",
       "      <th>11220</th>\n",
       "      <td>1.129309</td>\n",
       "      <td>-0.650041</td>\n",
       "      <td>0.033352</td>\n",
       "      <td>0.908652</td>\n",
       "      <td>-0.239936</td>\n",
       "      <td>0.126521</td>\n",
       "      <td>0.241307</td>\n",
       "      <td>-0.580407</td>\n",
       "      <td>0.0</td>\n",
       "      <td>1.0</td>\n",
       "      <td>0.0</td>\n",
       "      <td>0.0</td>\n",
       "      <td>0.0</td>\n",
       "    </tr>\n",
       "  </tbody>\n",
       "</table>\n",
       "</div>"
      ],
      "text/plain": [
       "       pipeline-1__longitude  pipeline-1__latitude  \\\n",
       "3440               -1.531735              2.858707   \n",
       "17791               0.839739             -0.720404   \n",
       "11362               0.575132             -0.696950   \n",
       "10999               0.714925             -0.865820   \n",
       "11220               1.129309             -0.650041   \n",
       "\n",
       "       pipeline-1__housing_median_age  pipeline-1__total_rooms  \\\n",
       "3440                         0.589545                 0.315535   \n",
       "17791                        0.430633                -0.268393   \n",
       "11362                        1.543019                -0.896885   \n",
       "10999                        1.304650                -0.511428   \n",
       "11220                        0.033352                 0.908652   \n",
       "\n",
       "       pipeline-1__total_bedrooms  pipeline-1__population  \\\n",
       "3440                     0.301688                0.059152   \n",
       "17791                   -0.299325                0.027655   \n",
       "11362                   -0.964477               -1.011750   \n",
       "10999                   -0.650905               -0.650408   \n",
       "11220                   -0.239936                0.126521   \n",
       "\n",
       "       pipeline-1__households  pipeline-1__median_income  \\\n",
       "3440                 0.342893                  -1.051860   \n",
       "17791               -0.217136                  -0.391858   \n",
       "11362               -0.972524                   0.391355   \n",
       "10999               -0.605249                   0.407230   \n",
       "11220                0.241307                  -0.580407   \n",
       "\n",
       "       pipeline-2__ocean_proximity_<1H OCEAN  \\\n",
       "3440                                     0.0   \n",
       "17791                                    1.0   \n",
       "11362                                    1.0   \n",
       "10999                                    0.0   \n",
       "11220                                    0.0   \n",
       "\n",
       "       pipeline-2__ocean_proximity_INLAND  pipeline-2__ocean_proximity_ISLAND  \\\n",
       "3440                                  1.0                                 0.0   \n",
       "17791                                 0.0                                 0.0   \n",
       "11362                                 0.0                                 0.0   \n",
       "10999                                 0.0                                 0.0   \n",
       "11220                                 1.0                                 0.0   \n",
       "\n",
       "       pipeline-2__ocean_proximity_NEAR BAY  \\\n",
       "3440                                    0.0   \n",
       "17791                                   0.0   \n",
       "11362                                   0.0   \n",
       "10999                                   0.0   \n",
       "11220                                   0.0   \n",
       "\n",
       "       pipeline-2__ocean_proximity_NEAR OCEAN  \n",
       "3440                                      0.0  \n",
       "17791                                     0.0  \n",
       "11362                                     0.0  \n",
       "10999                                     1.0  \n",
       "11220                                     0.0  "
      ]
     },
     "execution_count": 36,
     "metadata": {},
     "output_type": "execute_result"
    }
   ],
   "source": [
    "X_train_processed = pd.DataFrame(preprocessing.fit_transform(X_train),\n",
    "                                columns = preprocessing.get_feature_names_out(),\n",
    "                                index=X_train.index)\n",
    "\n",
    "X_train_processed.head()"
   ]
  },
  {
   "cell_type": "markdown",
   "id": "f3c50a1e",
   "metadata": {
    "slideshow": {
     "slide_type": "fragment"
    }
   },
   "source": [
    "# 🤔 Do you notice something funny in here?"
   ]
  },
  {
   "cell_type": "markdown",
   "id": "a7505719",
   "metadata": {
    "slideshow": {
     "slide_type": "slide"
    }
   },
   "source": [
    "# 🚀 Part 2\n",
    "\n",
    "See you here in 15 minutes at @7:38 PM PST"
   ]
  },
  {
   "cell_type": "markdown",
   "id": "a6d8e306",
   "metadata": {
    "slideshow": {
     "slide_type": "slide"
    }
   },
   "source": [
    "# ❇️ Underfitting vs overfitting / Bias-Variance trade-off"
   ]
  },
  {
   "cell_type": "markdown",
   "id": "65ebb6c7",
   "metadata": {
    "slideshow": {
     "slide_type": "slide"
    }
   },
   "source": [
    "# Is our model any good? \n",
    "\n",
    "<br>\n",
    "<center>\n",
    "    <img src='../img/class_3/overfit_underfit.webp' style='height:300px;'>\n",
    "</center>"
   ]
  },
  {
   "cell_type": "markdown",
   "id": "9e3f425c",
   "metadata": {
    "slideshow": {
     "slide_type": "fragment"
    }
   },
   "source": [
    "- A good model makes useful predictions on unknown, future data (it **generalizes**)"
   ]
  },
  {
   "cell_type": "markdown",
   "id": "ec730cec",
   "metadata": {
    "slideshow": {
     "slide_type": "fragment"
    }
   },
   "source": [
    "- It might not be very accurate, but it's better than what coin flip, might still be useful"
   ]
  },
  {
   "cell_type": "markdown",
   "id": "cc360bbb",
   "metadata": {
    "slideshow": {
     "slide_type": "slide"
    }
   },
   "source": [
    "- ⚠️⚠️⚠️ We always need 3 data sets: train, val, test\n",
    "- Test set: Used **only** after you think you have the best model. No peeking!!! 👀 It's the only true measure of generality\n"
   ]
  },
  {
   "cell_type": "markdown",
   "id": "6aa0c9d5",
   "metadata": {
    "slideshow": {
     "slide_type": "fragment"
    }
   },
   "source": [
    "- If model is inaccurate on training set, the model is **biased**\n",
    "- If model is inaccurate on test set, the model doesn't generalize (high **variance**)\n",
    "\n"
   ]
  },
  {
   "cell_type": "markdown",
   "id": "2e88fd09",
   "metadata": {
    "slideshow": {
     "slide_type": "fragment"
    }
   },
   "source": [
    "**Resource**: https://elitedatascience.com/bias-variance-tradeoff"
   ]
  },
  {
   "cell_type": "markdown",
   "id": "a2e6f625",
   "metadata": {
    "slideshow": {
     "slide_type": "slide"
    }
   },
   "source": [
    "# Sources of prediction error\n",
    "\n",
    "<br>\n",
    "<center>\n",
    "    <img src='../img/class_3/error_types.png' style='height:300px;'>\n",
    "</center>"
   ]
  },
  {
   "cell_type": "markdown",
   "id": "f8bd7dfd",
   "metadata": {
    "slideshow": {
     "slide_type": "fragment"
    }
   },
   "source": [
    "- We are given $(X,y)$ training data and we fit a model $\\hat{f}(X)$"
   ]
  },
  {
   "cell_type": "markdown",
   "id": "144e4f9d",
   "metadata": {
    "slideshow": {
     "slide_type": "fragment"
    }
   },
   "source": [
    "- $Err = (\\hat{f}(x^{(i)})-y^{(i)})^2$ from a single observation in the test case"
   ]
  },
  {
   "cell_type": "markdown",
   "id": "113cbf5a",
   "metadata": {
    "slideshow": {
     "slide_type": "slide"
    }
   },
   "source": [
    "- There are three sources of errors in that $Err$ number:\n",
    "    - Noisy $X$ or $y$ data, such as inconsistent $X \\to y$\n",
    "    - Model underfitting or bias: Too weak of simple\n",
    "    - Model overfitting: Model too specific to training data"
   ]
  },
  {
   "cell_type": "markdown",
   "id": "98a44e58",
   "metadata": {
    "slideshow": {
     "slide_type": "fragment"
    }
   },
   "source": [
    "- Conceptually: $Err$ = \"noise\" + \"bias\" + \"overfitting\" "
   ]
  },
  {
   "cell_type": "markdown",
   "id": "f4e7c9c9",
   "metadata": {
    "slideshow": {
     "slide_type": "fragment"
    }
   },
   "source": [
    "- Stats nerds: $Err$ = Irreducible Error + Bias^2 + Variance"
   ]
  },
  {
   "cell_type": "markdown",
   "id": "ac5b1b24",
   "metadata": {
    "slideshow": {
     "slide_type": "slide"
    }
   },
   "source": [
    "# 1. Noise can lead to inconsistent data"
   ]
  },
  {
   "cell_type": "markdown",
   "id": "4d32d5f2",
   "metadata": {
    "slideshow": {
     "slide_type": "fragment"
    }
   },
   "source": [
    "- Imagine you have two observations such as:\n",
    "    - $[18,1,9] \\to 91$\n",
    "    - $[18,1,9] \\to 99$"
   ]
  },
  {
   "cell_type": "markdown",
   "id": "5d01a4fe",
   "metadata": {
    "slideshow": {
     "slide_type": "fragment"
    }
   },
   "source": [
    "- No model can predict two different $y$ values for the same $x$ vector\n",
    "- Model will have $Err>0$ no matter what"
   ]
  },
  {
   "cell_type": "markdown",
   "id": "43526fc3",
   "metadata": {
    "slideshow": {
     "slide_type": "fragment"
    }
   },
   "source": [
    "- We know this as **irreducible error**"
   ]
  },
  {
   "cell_type": "markdown",
   "id": "1cbacd64",
   "metadata": {
    "slideshow": {
     "slide_type": "fragment"
    }
   },
   "source": [
    "- Noise comes from faulty sensors, typos, self-reporting issues, etc..."
   ]
  },
  {
   "cell_type": "markdown",
   "id": "480e8b73",
   "metadata": {
    "slideshow": {
     "slide_type": "fragment"
    }
   },
   "source": [
    "- 🤷 Nothing we can do about the irreducible error"
   ]
  },
  {
   "cell_type": "markdown",
   "id": "6fa44706",
   "metadata": {
    "slideshow": {
     "slide_type": "slide"
    }
   },
   "source": [
    "# 1. Noise can lead to inconsistent data"
   ]
  },
  {
   "cell_type": "markdown",
   "id": "5e0cb241",
   "metadata": {
    "slideshow": {
     "slide_type": "fragment"
    }
   },
   "source": [
    "- What if inconsistent training observations, such as:\n",
    "    - $[18,1,9] \\to 91$\n",
    "    - $[18,1,9] \\to 99$\n",
    "   "
   ]
  },
  {
   "cell_type": "markdown",
   "id": "4d886207",
   "metadata": {
    "slideshow": {
     "slide_type": "fragment"
    }
   },
   "source": [
    "- were really just missing a variable we don't have?\n",
    "    - $[18,1,9,10] \\to 91$\n",
    "    - $[18,1,9,7] \\to 99$\n",
    "   "
   ]
  },
  {
   "cell_type": "markdown",
   "id": "3e9a2496",
   "metadata": {
    "slideshow": {
     "slide_type": "fragment"
    }
   },
   "source": [
    "- Example: Two apartment observations look identical: 2bd & 1bath, but they have very different price only because we lack \"awesome views\" vars\n",
    "   "
   ]
  },
  {
   "cell_type": "markdown",
   "id": "fbd9ca1b",
   "metadata": {
    "slideshow": {
     "slide_type": "fragment"
    }
   },
   "source": [
    "- Missing variables are called *exogenous* variables\n",
    "   "
   ]
  },
  {
   "cell_type": "markdown",
   "id": "c0953a92",
   "metadata": {
    "slideshow": {
     "slide_type": "slide"
    }
   },
   "source": [
    "# 2. Overly simple models lead to biased models\n",
    "\n",
    "<br>\n",
    "<center>\n",
    "    <img src='../img/class_3/underfit2.png' style='height:300px;'>\n",
    "</center>"
   ]
  },
  {
   "cell_type": "markdown",
   "id": "7321834d",
   "metadata": {
    "slideshow": {
     "slide_type": "fragment"
    }
   },
   "source": [
    "- **Bias** is the error rate of your model on the training set"
   ]
  },
  {
   "cell_type": "markdown",
   "id": "92b719bb",
   "metadata": {
    "slideshow": {
     "slide_type": "fragment"
    }
   },
   "source": [
    "- Bias is how much your model **underfits** the training data"
   ]
  },
  {
   "cell_type": "markdown",
   "id": "d0394ab3",
   "metadata": {
    "slideshow": {
     "slide_type": "slide"
    }
   },
   "source": [
    "# How do you compute bias?"
   ]
  },
  {
   "cell_type": "markdown",
   "id": "6b3fe91d",
   "metadata": {
    "slideshow": {
     "slide_type": "fragment"
    }
   },
   "source": [
    "$$\n",
    "\\begin{align}\n",
    "Bias[\\hat{f}(x)] = E[\\hat{f}(x)-y]\n",
    "\\end{align}\n",
    "$$"
   ]
  },
  {
   "cell_type": "markdown",
   "id": "baf15566",
   "metadata": {
    "slideshow": {
     "slide_type": "fragment"
    }
   },
   "source": [
    "- Expected difference between predicted and observed"
   ]
  },
  {
   "cell_type": "markdown",
   "id": "53d2149a",
   "metadata": {
    "slideshow": {
     "slide_type": "slide"
    }
   },
   "source": [
    "# 👮‍♀️ Check-in\n",
    "\n",
    "A model that has a good ability to fit the training data has ___________ bias.\n",
    "\n",
    "{high,low}"
   ]
  },
  {
   "cell_type": "markdown",
   "id": "9113f469",
   "metadata": {
    "slideshow": {
     "slide_type": "slide"
    }
   },
   "source": [
    "# Bias is bad"
   ]
  },
  {
   "cell_type": "markdown",
   "id": "49405dbe",
   "metadata": {
    "slideshow": {
     "slide_type": "fragment"
    }
   },
   "source": [
    "- A model that has a good ability to fit the training data has **low** bias"
   ]
  },
  {
   "cell_type": "markdown",
   "id": "db85b115",
   "metadata": {
    "slideshow": {
     "slide_type": "fragment"
    }
   },
   "source": [
    "- We want to minimize bias"
   ]
  },
  {
   "cell_type": "markdown",
   "id": "795a0248",
   "metadata": {
    "slideshow": {
     "slide_type": "fragment"
    }
   },
   "source": [
    "- Models with high bias:\n",
    "    - Fail to capture meaningful patterns in data\n",
    "    - Under-fit training data"
   ]
  },
  {
   "cell_type": "markdown",
   "id": "ac0be88b",
   "metadata": {
    "slideshow": {
     "slide_type": "slide"
    }
   },
   "source": [
    "# How to decrease bias?"
   ]
  },
  {
   "cell_type": "markdown",
   "id": "3bdaf277",
   "metadata": {
    "slideshow": {
     "slide_type": "fragment"
    }
   },
   "source": [
    "- Make the model more complex \n",
    "    - Add more parameters\n",
    "    - Pick a different model\n",
    " "
   ]
  },
  {
   "cell_type": "markdown",
   "id": "5b1a1c02",
   "metadata": {
    "slideshow": {
     "slide_type": "slide"
    }
   },
   "source": [
    "# 3. Overly complex models can overfit\n",
    "\n",
    "<br>\n",
    "<center>\n",
    "    <img src='../img/class_3/overfit2.png' style='height:300px;'>\n",
    "</center>"
   ]
  },
  {
   "cell_type": "markdown",
   "id": "ffe3316e",
   "metadata": {
    "slideshow": {
     "slide_type": "fragment"
    }
   },
   "source": [
    "- **Variance** is the amount a model's prediction will change if a different training data is used, ie, small changes in the training data can result in large changes in the estimated model"
   ]
  },
  {
   "cell_type": "markdown",
   "id": "63b968c1",
   "metadata": {
    "slideshow": {
     "slide_type": "fragment"
    }
   },
   "source": [
    "- **Variance** in a model is the flexibility to learn patterns in the observed data"
   ]
  },
  {
   "cell_type": "markdown",
   "id": "1f1573d9",
   "metadata": {
    "slideshow": {
     "slide_type": "fragment"
    }
   },
   "source": [
    "- Variance is how much your model **overfits** the training data"
   ]
  },
  {
   "cell_type": "markdown",
   "id": "ba9fcb77",
   "metadata": {
    "slideshow": {
     "slide_type": "slide"
    }
   },
   "source": [
    "# How do you compute variance?"
   ]
  },
  {
   "cell_type": "markdown",
   "id": "26aa3e20",
   "metadata": {
    "slideshow": {
     "slide_type": "fragment"
    }
   },
   "source": [
    "$$\n",
    "\\begin{align}\n",
    "Var[\\hat{f}(x)] = E[\\hat{f}(x)^2] - (E[\\hat{f}(x)])^2\n",
    "\\end{align}\n",
    "$$"
   ]
  },
  {
   "cell_type": "markdown",
   "id": "983c5d09",
   "metadata": {
    "slideshow": {
     "slide_type": "fragment"
    }
   },
   "source": [
    "- Intuitively, how much the algorithm will move around its mean"
   ]
  },
  {
   "cell_type": "markdown",
   "id": "05c87363",
   "metadata": {
    "slideshow": {
     "slide_type": "slide"
    }
   },
   "source": [
    "# 👮‍♀️ Check-in\n",
    "\n",
    "A model that is strongly influenced by the specifics of the training data has ___________ variance.\n",
    "\n",
    "{high,low}"
   ]
  },
  {
   "cell_type": "markdown",
   "id": "8994737f",
   "metadata": {
    "slideshow": {
     "slide_type": "fragment"
    }
   },
   "source": [
    "- A model that is strongly influenced by the specifics of the training data has **high** variance."
   ]
  },
  {
   "cell_type": "markdown",
   "id": "237e48f2",
   "metadata": {
    "slideshow": {
     "slide_type": "slide"
    }
   },
   "source": [
    "# Model Complexity will Increase Variance"
   ]
  },
  {
   "cell_type": "markdown",
   "id": "03617a10",
   "metadata": {
    "slideshow": {
     "slide_type": "fragment"
    }
   },
   "source": [
    "- The more complex the model is, the more data points it will \"capture\""
   ]
  },
  {
   "cell_type": "markdown",
   "id": "bb03152a",
   "metadata": {
    "slideshow": {
     "slide_type": "fragment"
    }
   },
   "source": [
    "- However, complexity will make the model \"move\" more to \"capture\" the data points, and hence its variance will be larger"
   ]
  },
  {
   "cell_type": "markdown",
   "id": "f5436762",
   "metadata": {
    "slideshow": {
     "slide_type": "fragment"
    }
   },
   "source": [
    "- A model that has a good ability to predict test data has **low** variance"
   ]
  },
  {
   "cell_type": "markdown",
   "id": "731336d5",
   "metadata": {
    "slideshow": {
     "slide_type": "fragment"
    }
   },
   "source": [
    "- We want to minimize variance"
   ]
  },
  {
   "cell_type": "markdown",
   "id": "34cff89c",
   "metadata": {
    "slideshow": {
     "slide_type": "slide"
    }
   },
   "source": [
    "# How to decrease variance?"
   ]
  },
  {
   "cell_type": "markdown",
   "id": "3ca0f81b",
   "metadata": {
    "slideshow": {
     "slide_type": "fragment"
    }
   },
   "source": [
    "- A larger training set tends to decrease variance, ie, reduces the chance of overfitting --> increases the chance of generalization \n",
    " "
   ]
  },
  {
   "cell_type": "markdown",
   "id": "1520a94e",
   "metadata": {
    "slideshow": {
     "slide_type": "fragment"
    }
   },
   "source": [
    "- Regularization\n",
    " "
   ]
  },
  {
   "cell_type": "markdown",
   "id": "ebe13cb2",
   "metadata": {
    "slideshow": {
     "slide_type": "fragment"
    }
   },
   "source": [
    "- Make the model less complex\n",
    " "
   ]
  },
  {
   "cell_type": "markdown",
   "id": "949745be",
   "metadata": {
    "slideshow": {
     "slide_type": "slide"
    }
   },
   "source": [
    "# Bias-variance trade-off\n",
    "\n",
    "### So... we need to decrease both bias and variance (to avoid underfitting and overfitting)\n",
    "\n",
    "<br>\n",
    "<center>\n",
    "    <img src='../img/class_3/both.gif' style='height:300px;'>\n",
    "</center>"
   ]
  },
  {
   "cell_type": "markdown",
   "id": "7ed3868c",
   "metadata": {
    "slideshow": {
     "slide_type": "fragment"
    }
   },
   "source": [
    "- Must increase the complexity of the model to get more accuracy (reduce bias)"
   ]
  },
  {
   "cell_type": "markdown",
   "id": "c491e0ff",
   "metadata": {
    "slideshow": {
     "slide_type": "fragment"
    }
   },
   "source": [
    "- But, increased complexity means more ability to chase quirks of data (high variance)"
   ]
  },
  {
   "cell_type": "markdown",
   "id": "54831b01",
   "metadata": {
    "slideshow": {
     "slide_type": "fragment"
    }
   },
   "source": [
    "- Conversely, if we reduce the model's complexity, we'll increase bias and reduce variance"
   ]
  },
  {
   "cell_type": "markdown",
   "id": "f89951ff",
   "metadata": {
    "slideshow": {
     "slide_type": "fragment"
    }
   },
   "source": [
    "- This is why it's called a trade-off"
   ]
  },
  {
   "cell_type": "markdown",
   "id": "9e4e1cf0",
   "metadata": {
    "slideshow": {
     "slide_type": "slide"
    }
   },
   "source": [
    "# What to do?\n",
    "\n",
    "<br>\n",
    "<center>\n",
    "    <img src='../img/class_3/bias_variance.png' style='height:300px;'>\n",
    "</center>"
   ]
  },
  {
   "cell_type": "markdown",
   "id": "7b09b33a",
   "metadata": {
    "slideshow": {
     "slide_type": "fragment"
    }
   },
   "source": [
    "- Let the validation be your guide to approximate complexity"
   ]
  },
  {
   "cell_type": "markdown",
   "id": "65a6a91f",
   "metadata": {
    "slideshow": {
     "slide_type": "fragment"
    }
   },
   "source": [
    "1. Collect a lot of data\n",
    "1. Engineer good features\n",
    "1. Pick a complex algorithm\n",
    "1. Train the specific model until validation scores starts to go down (smart early stopping)."
   ]
  },
  {
   "cell_type": "markdown",
   "id": "bd32408b",
   "metadata": {
    "slideshow": {
     "slide_type": "slide"
    }
   },
   "source": [
    "#### Summary\n",
    "\n",
    "<br>\n",
    "<center>\n",
    "    <img src='../img/class_3/summary.png' style='height:750px;'>\n",
    "</center>"
   ]
  },
  {
   "cell_type": "markdown",
   "id": "3c507d4f",
   "metadata": {
    "slideshow": {
     "slide_type": "slide"
    }
   },
   "source": [
    "# ❇️ Linear Regression"
   ]
  },
  {
   "cell_type": "markdown",
   "id": "7f94344f",
   "metadata": {
    "slideshow": {
     "slide_type": "slide"
    }
   },
   "source": [
    "# 🗺️📍 Guide map \n",
    "\n",
    "<br>\n",
    "<center>\n",
    "    <img src='../img/class_3/pipeline_train.png' style='height:350px;'>\n",
    "</center>\n",
    "    \n",
    "\n"
   ]
  },
  {
   "cell_type": "markdown",
   "id": "fe781589",
   "metadata": {
    "slideshow": {
     "slide_type": "slide"
    }
   },
   "source": [
    "# 🗺️📍 Guide map \n",
    "\n",
    "<center>\n",
    "    <img src='../img/class_3/reg.png' style='height:700px; float: center; margin: 0px 0px 0px 0px'>\n",
    "</center>\n",
    "    \n",
    "\n"
   ]
  },
  {
   "cell_type": "markdown",
   "id": "501267ee",
   "metadata": {
    "slideshow": {
     "slide_type": "slide"
    }
   },
   "source": [
    "# Regressor vs Classifier; 2 sides of the same coin\n",
    "<br>\n",
    "<center>\n",
    "    <img src='../img/class_3/reg_class.png' style='height:400px; float: center; margin: 0px 0px 0px 0px'>\n",
    "</center>"
   ]
  },
  {
   "cell_type": "markdown",
   "id": "b8d8080c",
   "metadata": {
    "slideshow": {
     "slide_type": "fragment"
    }
   },
   "source": [
    "- If target is numerical, model is a regressor"
   ]
  },
  {
   "cell_type": "markdown",
   "id": "2a4df896",
   "metadata": {
    "slideshow": {
     "slide_type": "fragment"
    }
   },
   "source": [
    "- If target is categorical, model is a classifier"
   ]
  },
  {
   "cell_type": "markdown",
   "id": "2d5b698d",
   "metadata": {
    "slideshow": {
     "slide_type": "fragment"
    }
   },
   "source": [
    "- Regressors draw through data, classifiers draw between clusters"
   ]
  },
  {
   "cell_type": "markdown",
   "id": "6e76401b",
   "metadata": {
    "slideshow": {
     "slide_type": "slide"
    }
   },
   "source": [
    "# How does training, prediction look like in code?\n",
    "\n",
    "<br>\n",
    "<center>\n",
    "    <img src='../img/class_3/scikitlearn.png' style='height:300px; float: center; margin: 0px 0px 0px 0px'><br>\n",
    "    <small>Image credits: T. Parr</small>\n",
    "</center>"
   ]
  },
  {
   "cell_type": "markdown",
   "id": "62101bb0",
   "metadata": {
    "slideshow": {
     "slide_type": "fragment"
    }
   },
   "source": [
    "- LinearRegression and RandomForest are objects representing models and hyperparameters go in as args to constructor"
   ]
  },
  {
   "cell_type": "markdown",
   "id": "b22869c3",
   "metadata": {
    "slideshow": {
     "slide_type": "slide"
    }
   },
   "source": [
    "# Why do we study linear models?"
   ]
  },
  {
   "cell_type": "markdown",
   "id": "de62e2a2",
   "metadata": {
    "slideshow": {
     "slide_type": "fragment"
    }
   },
   "source": [
    "- Simple, interpretable, super fast, can't be beat for linear relationships"
   ]
  },
  {
   "cell_type": "markdown",
   "id": "fe8e16e2",
   "metadata": {
    "slideshow": {
     "slide_type": "fragment"
    }
   },
   "source": [
    "- Usually, a lower bound on performance but they often form the basis of other more powerful techniques"
   ]
  },
  {
   "cell_type": "markdown",
   "id": "583aa703",
   "metadata": {
    "slideshow": {
     "slide_type": "fragment"
    }
   },
   "source": [
    "- Combining multiple linear models into a lattice with a nonlinear function as glue yields a **neural network**; those are insanely useful and powerful 🔥🔥🔥"
   ]
  },
  {
   "cell_type": "markdown",
   "id": "6b923a97",
   "metadata": {
    "slideshow": {
     "slide_type": "slide"
    }
   },
   "source": [
    "# What problem are we solving?\n",
    "\n",
    "<br>\n",
    "<center>\n",
    "    <img src='../img/class_3/pizza.png' style='height:450px; float: center; margin: 0px 0px 0px 0px'><br>\n",
    "    <small>Image and example credits: T. Parr</small>\n",
    "</center>"
   ]
  },
  {
   "cell_type": "markdown",
   "id": "384a976a",
   "metadata": {
    "slideshow": {
     "slide_type": "fragment"
    }
   },
   "source": [
    "- Imagine you're in college and you're given a fixed $500 for food every month"
   ]
  },
  {
   "cell_type": "markdown",
   "id": "9242fd8e",
   "metadata": {
    "slideshow": {
     "slide_type": "fragment"
    }
   },
   "source": [
    "- If you wanted to know, at current rate of pizza consumption, how fast you’d run out of money you can plot it and “eyeballed” zero $𝑥$ point"
   ]
  },
  {
   "cell_type": "markdown",
   "id": "bbf7792d",
   "metadata": {
    "slideshow": {
     "slide_type": "slide"
    }
   },
   "source": [
    "# We use linearity all the time without realizing it\n",
    "\n"
   ]
  },
  {
   "cell_type": "markdown",
   "id": "eeab3c4d",
   "metadata": {
    "slideshow": {
     "slide_type": "fragment"
    }
   },
   "source": [
    "- If we are baking cookies and the recipe calls for 2 cups of flour and we want to\n",
    "double the recipe, then we know that we need 4 cups of flour. If we want to triple\n",
    "the recipe, then we need 6 cups of flour. The amount of flour needed depends\n",
    "linearly on the number of recipes we are making."
   ]
  },
  {
   "cell_type": "markdown",
   "id": "f18b6802",
   "metadata": {
    "slideshow": {
     "slide_type": "fragment"
    }
   },
   "source": [
    "- If we buy one Starbucks Grande coffee for `$2.10` we know that if we buy our friend\n",
    "one too, it will cost us `$4.20`. The cost depends linearly on the number of cups\n",
    "we purchase."
   ]
  },
  {
   "cell_type": "markdown",
   "id": "d3bc411e",
   "metadata": {
    "slideshow": {
     "slide_type": "fragment"
    }
   },
   "source": [
    "- What does “depend linearly” mean graphically? We know that when we plot a linear function we get a straight line."
   ]
  },
  {
   "cell_type": "markdown",
   "id": "87bb79f6",
   "metadata": {
    "slideshow": {
     "slide_type": "slide"
    }
   },
   "source": [
    "# 👮‍♀️ Check-in\n",
    "\n",
    "Below are some plots of functions; determine in which cases $y$ depends\n",
    "linearly on $x$.\n",
    "\n",
    "<br>\n",
    "<center>\n",
    "    <img src='../img/class_3/check.png' style='height:500px; float: center; margin: 0px 0px 0px 0px'><br>\n",
    "</center>"
   ]
  },
  {
   "cell_type": "markdown",
   "id": "2237c47b",
   "metadata": {
    "slideshow": {
     "slide_type": "slide"
    }
   },
   "source": [
    "# Preparing data for linear regression "
   ]
  },
  {
   "cell_type": "markdown",
   "id": "c039d07d",
   "metadata": {
    "slideshow": {
     "slide_type": "fragment"
    }
   },
   "source": [
    "- Linear regression is been studied at great length, and there is a lot of literature on how your data must be structured to make the best use of the model."
   ]
  },
  {
   "cell_type": "markdown",
   "id": "4bb207e1",
   "metadata": {
    "slideshow": {
     "slide_type": "fragment"
    }
   },
   "source": [
    "- As such, there is a lot of sophistication when talking about these requirements and expectations which can be intimidating. In practice, you can use these rules more as rules of thumb when using Ordinary Least Squares Regression, the most common implementation of linear regression."
   ]
  },
  {
   "cell_type": "markdown",
   "id": "1cf1521a",
   "metadata": {
    "slideshow": {
     "slide_type": "slide"
    }
   },
   "source": [
    "- **Linear Assumption:** Linear regression assumes that the relationship between your input and output is linear. It does not support anything else. This may be obvious, but it is good to remember when you have a lot of attributes. You may need to transform data to make the relationship linear (e.g. log transform for an exponential relationship).\n",
    "\n",
    "- **Remove Noise:** Linear regression assumes that your input and output variables are not noisy. Consider using data cleaning operations that let you better expose and clarify the signal in your data. This is most important for the output variable and you want to remove outliers in the output variable (y) if possible.\n",
    "\n",
    "- **Remove Collinearity:** Linear regression will over-fit your data when you have highly correlated input variables. Consider calculating pairwise correlations for your input data and removing the most correlated.\n",
    "\n",
    "- **Gaussian Distributions:** Linear regression will make more reliable predictions if your input and output variables have a Gaussian distribution. You may get some benefit using transforms (e.g. log or BoxCox) on your variables to make their distribution more Gaussian looking.\n",
    "\n",
    "- **Rescale Inputs:** Linear regression will often make more reliable predictions if you rescale input variables using standardization or normalization."
   ]
  },
  {
   "cell_type": "markdown",
   "id": "4d071bc6",
   "metadata": {
    "slideshow": {
     "slide_type": "slide"
    }
   },
   "source": [
    "# Let's code"
   ]
  },
  {
   "cell_type": "code",
   "execution_count": 39,
   "id": "acaade51",
   "metadata": {
    "slideshow": {
     "slide_type": "slide"
    }
   },
   "outputs": [
    {
     "data": {
      "text/html": [
       "<div>\n",
       "<style scoped>\n",
       "    .dataframe tbody tr th:only-of-type {\n",
       "        vertical-align: middle;\n",
       "    }\n",
       "\n",
       "    .dataframe tbody tr th {\n",
       "        vertical-align: top;\n",
       "    }\n",
       "\n",
       "    .dataframe thead th {\n",
       "        text-align: right;\n",
       "    }\n",
       "</style>\n",
       "<table border=\"1\" class=\"dataframe\">\n",
       "  <thead>\n",
       "    <tr style=\"text-align: right;\">\n",
       "      <th></th>\n",
       "      <th>pipeline-1__longitude</th>\n",
       "      <th>pipeline-1__latitude</th>\n",
       "      <th>pipeline-1__housing_median_age</th>\n",
       "      <th>pipeline-1__total_rooms</th>\n",
       "      <th>pipeline-1__total_bedrooms</th>\n",
       "      <th>pipeline-1__population</th>\n",
       "      <th>pipeline-1__households</th>\n",
       "      <th>pipeline-1__median_income</th>\n",
       "      <th>pipeline-2__ocean_proximity_&lt;1H OCEAN</th>\n",
       "      <th>pipeline-2__ocean_proximity_INLAND</th>\n",
       "      <th>pipeline-2__ocean_proximity_ISLAND</th>\n",
       "      <th>pipeline-2__ocean_proximity_NEAR BAY</th>\n",
       "      <th>pipeline-2__ocean_proximity_NEAR OCEAN</th>\n",
       "    </tr>\n",
       "  </thead>\n",
       "  <tbody>\n",
       "    <tr>\n",
       "      <th>3440</th>\n",
       "      <td>-1.531735</td>\n",
       "      <td>2.858707</td>\n",
       "      <td>0.589545</td>\n",
       "      <td>0.315535</td>\n",
       "      <td>0.301688</td>\n",
       "      <td>0.059152</td>\n",
       "      <td>0.342893</td>\n",
       "      <td>-1.051860</td>\n",
       "      <td>0.0</td>\n",
       "      <td>1.0</td>\n",
       "      <td>0.0</td>\n",
       "      <td>0.0</td>\n",
       "      <td>0.0</td>\n",
       "    </tr>\n",
       "    <tr>\n",
       "      <th>17791</th>\n",
       "      <td>0.839739</td>\n",
       "      <td>-0.720404</td>\n",
       "      <td>0.430633</td>\n",
       "      <td>-0.268393</td>\n",
       "      <td>-0.299325</td>\n",
       "      <td>0.027655</td>\n",
       "      <td>-0.217136</td>\n",
       "      <td>-0.391858</td>\n",
       "      <td>1.0</td>\n",
       "      <td>0.0</td>\n",
       "      <td>0.0</td>\n",
       "      <td>0.0</td>\n",
       "      <td>0.0</td>\n",
       "    </tr>\n",
       "    <tr>\n",
       "      <th>11362</th>\n",
       "      <td>0.575132</td>\n",
       "      <td>-0.696950</td>\n",
       "      <td>1.543019</td>\n",
       "      <td>-0.896885</td>\n",
       "      <td>-0.964477</td>\n",
       "      <td>-1.011750</td>\n",
       "      <td>-0.972524</td>\n",
       "      <td>0.391355</td>\n",
       "      <td>1.0</td>\n",
       "      <td>0.0</td>\n",
       "      <td>0.0</td>\n",
       "      <td>0.0</td>\n",
       "      <td>0.0</td>\n",
       "    </tr>\n",
       "    <tr>\n",
       "      <th>10999</th>\n",
       "      <td>0.714925</td>\n",
       "      <td>-0.865820</td>\n",
       "      <td>1.304650</td>\n",
       "      <td>-0.511428</td>\n",
       "      <td>-0.650905</td>\n",
       "      <td>-0.650408</td>\n",
       "      <td>-0.605249</td>\n",
       "      <td>0.407230</td>\n",
       "      <td>0.0</td>\n",
       "      <td>0.0</td>\n",
       "      <td>0.0</td>\n",
       "      <td>0.0</td>\n",
       "      <td>1.0</td>\n",
       "    </tr>\n",
       "    <tr>\n",
       "      <th>11220</th>\n",
       "      <td>1.129309</td>\n",
       "      <td>-0.650041</td>\n",
       "      <td>0.033352</td>\n",
       "      <td>0.908652</td>\n",
       "      <td>-0.239936</td>\n",
       "      <td>0.126521</td>\n",
       "      <td>0.241307</td>\n",
       "      <td>-0.580407</td>\n",
       "      <td>0.0</td>\n",
       "      <td>1.0</td>\n",
       "      <td>0.0</td>\n",
       "      <td>0.0</td>\n",
       "      <td>0.0</td>\n",
       "    </tr>\n",
       "  </tbody>\n",
       "</table>\n",
       "</div>"
      ],
      "text/plain": [
       "       pipeline-1__longitude  pipeline-1__latitude  \\\n",
       "3440               -1.531735              2.858707   \n",
       "17791               0.839739             -0.720404   \n",
       "11362               0.575132             -0.696950   \n",
       "10999               0.714925             -0.865820   \n",
       "11220               1.129309             -0.650041   \n",
       "\n",
       "       pipeline-1__housing_median_age  pipeline-1__total_rooms  \\\n",
       "3440                         0.589545                 0.315535   \n",
       "17791                        0.430633                -0.268393   \n",
       "11362                        1.543019                -0.896885   \n",
       "10999                        1.304650                -0.511428   \n",
       "11220                        0.033352                 0.908652   \n",
       "\n",
       "       pipeline-1__total_bedrooms  pipeline-1__population  \\\n",
       "3440                     0.301688                0.059152   \n",
       "17791                   -0.299325                0.027655   \n",
       "11362                   -0.964477               -1.011750   \n",
       "10999                   -0.650905               -0.650408   \n",
       "11220                   -0.239936                0.126521   \n",
       "\n",
       "       pipeline-1__households  pipeline-1__median_income  \\\n",
       "3440                 0.342893                  -1.051860   \n",
       "17791               -0.217136                  -0.391858   \n",
       "11362               -0.972524                   0.391355   \n",
       "10999               -0.605249                   0.407230   \n",
       "11220                0.241307                  -0.580407   \n",
       "\n",
       "       pipeline-2__ocean_proximity_<1H OCEAN  \\\n",
       "3440                                     0.0   \n",
       "17791                                    1.0   \n",
       "11362                                    1.0   \n",
       "10999                                    0.0   \n",
       "11220                                    0.0   \n",
       "\n",
       "       pipeline-2__ocean_proximity_INLAND  pipeline-2__ocean_proximity_ISLAND  \\\n",
       "3440                                  1.0                                 0.0   \n",
       "17791                                 0.0                                 0.0   \n",
       "11362                                 0.0                                 0.0   \n",
       "10999                                 0.0                                 0.0   \n",
       "11220                                 1.0                                 0.0   \n",
       "\n",
       "       pipeline-2__ocean_proximity_NEAR BAY  \\\n",
       "3440                                    0.0   \n",
       "17791                                   0.0   \n",
       "11362                                   0.0   \n",
       "10999                                   0.0   \n",
       "11220                                   0.0   \n",
       "\n",
       "       pipeline-2__ocean_proximity_NEAR OCEAN  \n",
       "3440                                      0.0  \n",
       "17791                                     0.0  \n",
       "11362                                     0.0  \n",
       "10999                                     1.0  \n",
       "11220                                     0.0  "
      ]
     },
     "execution_count": 39,
     "metadata": {},
     "output_type": "execute_result"
    }
   ],
   "source": [
    "X_train_processed.head()"
   ]
  },
  {
   "cell_type": "code",
   "execution_count": 40,
   "id": "790a80b9",
   "metadata": {
    "slideshow": {
     "slide_type": "fragment"
    }
   },
   "outputs": [
    {
     "data": {
      "text/html": [
       "<div>\n",
       "<style scoped>\n",
       "    .dataframe tbody tr th:only-of-type {\n",
       "        vertical-align: middle;\n",
       "    }\n",
       "\n",
       "    .dataframe tbody tr th {\n",
       "        vertical-align: top;\n",
       "    }\n",
       "\n",
       "    .dataframe thead th {\n",
       "        text-align: right;\n",
       "    }\n",
       "</style>\n",
       "<table border=\"1\" class=\"dataframe\">\n",
       "  <thead>\n",
       "    <tr style=\"text-align: right;\">\n",
       "      <th></th>\n",
       "      <th>median_house_value</th>\n",
       "    </tr>\n",
       "  </thead>\n",
       "  <tbody>\n",
       "    <tr>\n",
       "      <th>3440</th>\n",
       "      <td>71200.0</td>\n",
       "    </tr>\n",
       "    <tr>\n",
       "      <th>17791</th>\n",
       "      <td>168600.0</td>\n",
       "    </tr>\n",
       "    <tr>\n",
       "      <th>11362</th>\n",
       "      <td>371400.0</td>\n",
       "    </tr>\n",
       "    <tr>\n",
       "      <th>10999</th>\n",
       "      <td>212500.0</td>\n",
       "    </tr>\n",
       "    <tr>\n",
       "      <th>11220</th>\n",
       "      <td>97900.0</td>\n",
       "    </tr>\n",
       "  </tbody>\n",
       "</table>\n",
       "</div>"
      ],
      "text/plain": [
       "       median_house_value\n",
       "3440              71200.0\n",
       "17791            168600.0\n",
       "11362            371400.0\n",
       "10999            212500.0\n",
       "11220             97900.0"
      ]
     },
     "execution_count": 40,
     "metadata": {},
     "output_type": "execute_result"
    }
   ],
   "source": [
    "y_train.head()"
   ]
  },
  {
   "cell_type": "code",
   "execution_count": 41,
   "id": "1ad53b3a",
   "metadata": {
    "slideshow": {
     "slide_type": "slide"
    }
   },
   "outputs": [
    {
     "data": {
      "text/html": [
       "<style>#sk-container-id-1 {color: black;background-color: white;}#sk-container-id-1 pre{padding: 0;}#sk-container-id-1 div.sk-toggleable {background-color: white;}#sk-container-id-1 label.sk-toggleable__label {cursor: pointer;display: block;width: 100%;margin-bottom: 0;padding: 0.3em;box-sizing: border-box;text-align: center;}#sk-container-id-1 label.sk-toggleable__label-arrow:before {content: \"▸\";float: left;margin-right: 0.25em;color: #696969;}#sk-container-id-1 label.sk-toggleable__label-arrow:hover:before {color: black;}#sk-container-id-1 div.sk-estimator:hover label.sk-toggleable__label-arrow:before {color: black;}#sk-container-id-1 div.sk-toggleable__content {max-height: 0;max-width: 0;overflow: hidden;text-align: left;background-color: #f0f8ff;}#sk-container-id-1 div.sk-toggleable__content pre {margin: 0.2em;color: black;border-radius: 0.25em;background-color: #f0f8ff;}#sk-container-id-1 input.sk-toggleable__control:checked~div.sk-toggleable__content {max-height: 200px;max-width: 100%;overflow: auto;}#sk-container-id-1 input.sk-toggleable__control:checked~label.sk-toggleable__label-arrow:before {content: \"▾\";}#sk-container-id-1 div.sk-estimator input.sk-toggleable__control:checked~label.sk-toggleable__label {background-color: #d4ebff;}#sk-container-id-1 div.sk-label input.sk-toggleable__control:checked~label.sk-toggleable__label {background-color: #d4ebff;}#sk-container-id-1 input.sk-hidden--visually {border: 0;clip: rect(1px 1px 1px 1px);clip: rect(1px, 1px, 1px, 1px);height: 1px;margin: -1px;overflow: hidden;padding: 0;position: absolute;width: 1px;}#sk-container-id-1 div.sk-estimator {font-family: monospace;background-color: #f0f8ff;border: 1px dotted black;border-radius: 0.25em;box-sizing: border-box;margin-bottom: 0.5em;}#sk-container-id-1 div.sk-estimator:hover {background-color: #d4ebff;}#sk-container-id-1 div.sk-parallel-item::after {content: \"\";width: 100%;border-bottom: 1px solid gray;flex-grow: 1;}#sk-container-id-1 div.sk-label:hover label.sk-toggleable__label {background-color: #d4ebff;}#sk-container-id-1 div.sk-serial::before {content: \"\";position: absolute;border-left: 1px solid gray;box-sizing: border-box;top: 0;bottom: 0;left: 50%;z-index: 0;}#sk-container-id-1 div.sk-serial {display: flex;flex-direction: column;align-items: center;background-color: white;padding-right: 0.2em;padding-left: 0.2em;position: relative;}#sk-container-id-1 div.sk-item {position: relative;z-index: 1;}#sk-container-id-1 div.sk-parallel {display: flex;align-items: stretch;justify-content: center;background-color: white;position: relative;}#sk-container-id-1 div.sk-item::before, #sk-container-id-1 div.sk-parallel-item::before {content: \"\";position: absolute;border-left: 1px solid gray;box-sizing: border-box;top: 0;bottom: 0;left: 50%;z-index: -1;}#sk-container-id-1 div.sk-parallel-item {display: flex;flex-direction: column;z-index: 1;position: relative;background-color: white;}#sk-container-id-1 div.sk-parallel-item:first-child::after {align-self: flex-end;width: 50%;}#sk-container-id-1 div.sk-parallel-item:last-child::after {align-self: flex-start;width: 50%;}#sk-container-id-1 div.sk-parallel-item:only-child::after {width: 0;}#sk-container-id-1 div.sk-dashed-wrapped {border: 1px dashed gray;margin: 0 0.4em 0.5em 0.4em;box-sizing: border-box;padding-bottom: 0.4em;background-color: white;}#sk-container-id-1 div.sk-label label {font-family: monospace;font-weight: bold;display: inline-block;line-height: 1.2em;}#sk-container-id-1 div.sk-label-container {text-align: center;}#sk-container-id-1 div.sk-container {/* jupyter's `normalize.less` sets `[hidden] { display: none; }` but bootstrap.min.css set `[hidden] { display: none !important; }` so we also need the `!important` here to be able to override the default hidden behavior on the sphinx rendered scikit-learn.org. See: https://github.com/scikit-learn/scikit-learn/issues/21755 */display: inline-block !important;position: relative;}#sk-container-id-1 div.sk-text-repr-fallback {display: none;}</style><div id=\"sk-container-id-1\" class=\"sk-top-container\"><div class=\"sk-text-repr-fallback\"><pre>LinearRegression()</pre><b>In a Jupyter environment, please rerun this cell to show the HTML representation or trust the notebook. <br />On GitHub, the HTML representation is unable to render, please try loading this page with nbviewer.org.</b></div><div class=\"sk-container\" hidden><div class=\"sk-item\"><div class=\"sk-estimator sk-toggleable\"><input class=\"sk-toggleable__control sk-hidden--visually\" id=\"sk-estimator-id-1\" type=\"checkbox\" checked><label for=\"sk-estimator-id-1\" class=\"sk-toggleable__label sk-toggleable__label-arrow\">LinearRegression</label><div class=\"sk-toggleable__content\"><pre>LinearRegression()</pre></div></div></div></div></div>"
      ],
      "text/plain": [
       "LinearRegression()"
      ]
     },
     "execution_count": 41,
     "metadata": {},
     "output_type": "execute_result"
    }
   ],
   "source": [
    "from sklearn.linear_model import LinearRegression\n",
    "\n",
    "lin_reg = LinearRegression()\n",
    "lin_reg.fit(X_train_processed, y_train)"
   ]
  },
  {
   "cell_type": "code",
   "execution_count": 47,
   "id": "f8311290",
   "metadata": {
    "slideshow": {
     "slide_type": "fragment"
    }
   },
   "outputs": [],
   "source": [
    "X_test_processed = pd.DataFrame(preprocessing.transform(X_test),\n",
    "                                columns = preprocessing.get_feature_names_out(),\n",
    "                                index=X_test.index)\n",
    "predictions = lin_reg.predict(X_test_processed)"
   ]
  },
  {
   "cell_type": "code",
   "execution_count": 55,
   "id": "006c9881",
   "metadata": {
    "slideshow": {
     "slide_type": "fragment"
    }
   },
   "outputs": [
    {
     "data": {
      "text/html": [
       "<div>\n",
       "<style scoped>\n",
       "    .dataframe tbody tr th:only-of-type {\n",
       "        vertical-align: middle;\n",
       "    }\n",
       "\n",
       "    .dataframe tbody tr th {\n",
       "        vertical-align: top;\n",
       "    }\n",
       "\n",
       "    .dataframe thead th {\n",
       "        text-align: right;\n",
       "    }\n",
       "</style>\n",
       "<table border=\"1\" class=\"dataframe\">\n",
       "  <thead>\n",
       "    <tr style=\"text-align: right;\">\n",
       "      <th></th>\n",
       "      <th>predictions</th>\n",
       "    </tr>\n",
       "  </thead>\n",
       "  <tbody>\n",
       "    <tr>\n",
       "      <th>7462</th>\n",
       "      <td>192879.070638</td>\n",
       "    </tr>\n",
       "    <tr>\n",
       "      <th>13044</th>\n",
       "      <td>229479.627467</td>\n",
       "    </tr>\n",
       "    <tr>\n",
       "      <th>18368</th>\n",
       "      <td>202937.032385</td>\n",
       "    </tr>\n",
       "    <tr>\n",
       "      <th>9496</th>\n",
       "      <td>235565.156561</td>\n",
       "    </tr>\n",
       "    <tr>\n",
       "      <th>16942</th>\n",
       "      <td>439803.835913</td>\n",
       "    </tr>\n",
       "  </tbody>\n",
       "</table>\n",
       "</div>"
      ],
      "text/plain": [
       "         predictions\n",
       "7462   192879.070638\n",
       "13044  229479.627467\n",
       "18368  202937.032385\n",
       "9496   235565.156561\n",
       "16942  439803.835913"
      ]
     },
     "execution_count": 55,
     "metadata": {},
     "output_type": "execute_result"
    }
   ],
   "source": [
    "predictions = pd.DataFrame(predictions, columns=['predictions'], index=X_test.index)\n",
    "predictions.head()"
   ]
  },
  {
   "cell_type": "markdown",
   "id": "63dbe4c6",
   "metadata": {
    "slideshow": {
     "slide_type": "slide"
    }
   },
   "source": [
    "## ⚠️⚠️⚠️ `fit()` vs `fit_transform()` vs `transform()`\n",
    "\n",
    "Scikit_Learn's API is remarkably well designed. \n",
    "\n",
    "- `fit()` and `fit_transform()` should **ONLY** be used on training data\n",
    "- Use `transform()` on any other set, including val, test, and new data"
   ]
  },
  {
   "cell_type": "markdown",
   "id": "7cb3ee01",
   "metadata": {
    "slideshow": {
     "slide_type": "slide"
    }
   },
   "source": [
    "### Let's explore our linear regression model"
   ]
  },
  {
   "cell_type": "markdown",
   "id": "14e903fe",
   "metadata": {
    "slideshow": {
     "slide_type": "fragment"
    }
   },
   "source": [
    "#### Intercept \n",
    "\n",
    "<br>\n",
    "<center>\n",
    "    <img src='../img/class_3/y_intercept.webp' style='height:300px; float: center; margin: 0px 0px 0px 0px'><br>\n",
    "</center>\n",
    "\n",
    "\n",
    "Intercept the y-intercept of a line as the value of y when x equals to 0"
   ]
  },
  {
   "cell_type": "code",
   "execution_count": 56,
   "id": "cb8f3768",
   "metadata": {
    "slideshow": {
     "slide_type": "fragment"
    }
   },
   "outputs": [
    {
     "data": {
      "text/plain": [
       "array([237497.20404855])"
      ]
     },
     "execution_count": 56,
     "metadata": {},
     "output_type": "execute_result"
    }
   ],
   "source": [
    "lin_reg.intercept_"
   ]
  },
  {
   "cell_type": "markdown",
   "id": "316547d7",
   "metadata": {
    "slideshow": {
     "slide_type": "slide"
    }
   },
   "source": [
    "#### Coefficients  \n",
    "<center>\n",
    "    <img src='../img/class_3/lr_formula.png' style='height:300px; float: center; margin: 0px 0px 0px 0px'><br>\n",
    "</center>\n",
    "\n",
    "\n",
    "- A positive coefficient indicates that as the value of the independent variable increases, the mean of the dependent variable also tends to increase.\n",
    "\n",
    "- A negative coefficient suggests that as the independent variable increases, the dependent variable tends to decrease.\n",
    "- Your goal with linear regression is finding those optimal coefficients"
   ]
  },
  {
   "cell_type": "code",
   "execution_count": 62,
   "id": "75d279b9",
   "metadata": {
    "slideshow": {
     "slide_type": "fragment"
    }
   },
   "outputs": [
    {
     "data": {
      "text/html": [
       "<div>\n",
       "<style scoped>\n",
       "    .dataframe tbody tr th:only-of-type {\n",
       "        vertical-align: middle;\n",
       "    }\n",
       "\n",
       "    .dataframe tbody tr th {\n",
       "        vertical-align: top;\n",
       "    }\n",
       "\n",
       "    .dataframe thead th {\n",
       "        text-align: right;\n",
       "    }\n",
       "</style>\n",
       "<table border=\"1\" class=\"dataframe\">\n",
       "  <thead>\n",
       "    <tr style=\"text-align: right;\">\n",
       "      <th></th>\n",
       "      <th>coefficients</th>\n",
       "    </tr>\n",
       "  </thead>\n",
       "  <tbody>\n",
       "    <tr>\n",
       "      <th>pipeline-1__longitude</th>\n",
       "      <td>-51102.997509</td>\n",
       "    </tr>\n",
       "    <tr>\n",
       "      <th>pipeline-1__latitude</th>\n",
       "      <td>-51990.576283</td>\n",
       "    </tr>\n",
       "    <tr>\n",
       "      <th>pipeline-1__housing_median_age</th>\n",
       "      <td>13769.876026</td>\n",
       "    </tr>\n",
       "    <tr>\n",
       "      <th>pipeline-1__total_rooms</th>\n",
       "      <td>-11850.179453</td>\n",
       "    </tr>\n",
       "    <tr>\n",
       "      <th>pipeline-1__total_bedrooms</th>\n",
       "      <td>31966.931552</td>\n",
       "    </tr>\n",
       "    <tr>\n",
       "      <th>pipeline-1__population</th>\n",
       "      <td>-44088.579757</td>\n",
       "    </tr>\n",
       "    <tr>\n",
       "      <th>pipeline-1__households</th>\n",
       "      <td>28751.485128</td>\n",
       "    </tr>\n",
       "    <tr>\n",
       "      <th>pipeline-1__median_income</th>\n",
       "      <td>74002.438647</td>\n",
       "    </tr>\n",
       "    <tr>\n",
       "      <th>pipeline-2__ocean_proximity_&lt;1H OCEAN</th>\n",
       "      <td>-17841.802062</td>\n",
       "    </tr>\n",
       "    <tr>\n",
       "      <th>pipeline-2__ocean_proximity_INLAND</th>\n",
       "      <td>-59121.328951</td>\n",
       "    </tr>\n",
       "    <tr>\n",
       "      <th>pipeline-2__ocean_proximity_ISLAND</th>\n",
       "      <td>112337.432579</td>\n",
       "    </tr>\n",
       "    <tr>\n",
       "      <th>pipeline-2__ocean_proximity_NEAR BAY</th>\n",
       "      <td>-21917.140306</td>\n",
       "    </tr>\n",
       "    <tr>\n",
       "      <th>pipeline-2__ocean_proximity_NEAR OCEAN</th>\n",
       "      <td>-13457.161259</td>\n",
       "    </tr>\n",
       "  </tbody>\n",
       "</table>\n",
       "</div>"
      ],
      "text/plain": [
       "                                         coefficients\n",
       "pipeline-1__longitude                   -51102.997509\n",
       "pipeline-1__latitude                    -51990.576283\n",
       "pipeline-1__housing_median_age           13769.876026\n",
       "pipeline-1__total_rooms                 -11850.179453\n",
       "pipeline-1__total_bedrooms               31966.931552\n",
       "pipeline-1__population                  -44088.579757\n",
       "pipeline-1__households                   28751.485128\n",
       "pipeline-1__median_income                74002.438647\n",
       "pipeline-2__ocean_proximity_<1H OCEAN   -17841.802062\n",
       "pipeline-2__ocean_proximity_INLAND      -59121.328951\n",
       "pipeline-2__ocean_proximity_ISLAND      112337.432579\n",
       "pipeline-2__ocean_proximity_NEAR BAY    -21917.140306\n",
       "pipeline-2__ocean_proximity_NEAR OCEAN  -13457.161259"
      ]
     },
     "execution_count": 62,
     "metadata": {},
     "output_type": "execute_result"
    }
   ],
   "source": [
    "pd.DataFrame(lin_reg.coef_.T, index=X_train_processed.columns, columns=['coefficients'])"
   ]
  },
  {
   "cell_type": "markdown",
   "id": "aeed2997",
   "metadata": {
    "slideshow": {
     "slide_type": "slide"
    }
   },
   "source": [
    "Interpreting the coefficients:\n",
    "<br>\n",
    "<center>\n",
    "    <img src='../img/class_3/change.png' style='height:300px; float: center; margin: 0px 0px 0px 0px'><br>\n",
    "</center>\n",
    "\n",
    "Holding all other features fixed, a 1 unit increase in `population` is associated with an decrease of $44,088"
   ]
  },
  {
   "cell_type": "code",
   "execution_count": 63,
   "id": "d6c0e394",
   "metadata": {
    "slideshow": {
     "slide_type": "slide"
    }
   },
   "outputs": [
    {
     "name": "stdout",
     "output_type": "stream",
     "text": [
      "Requirement already satisfied: hvplot in /Users/vivianamarquez/opt/anaconda3/envs/IntroML/lib/python3.9/site-packages (0.8.2)\n",
      "Requirement already satisfied: holoviews>=1.11.0 in /Users/vivianamarquez/opt/anaconda3/envs/IntroML/lib/python3.9/site-packages (from hvplot) (1.15.4)\n",
      "Requirement already satisfied: pandas in /Users/vivianamarquez/opt/anaconda3/envs/IntroML/lib/python3.9/site-packages (from hvplot) (1.5.3)\n",
      "Requirement already satisfied: colorcet>=2 in /Users/vivianamarquez/opt/anaconda3/envs/IntroML/lib/python3.9/site-packages (from hvplot) (3.0.1)\n",
      "Requirement already satisfied: panel>=0.11.0 in /Users/vivianamarquez/opt/anaconda3/envs/IntroML/lib/python3.9/site-packages (from hvplot) (0.14.4)\n",
      "Requirement already satisfied: bokeh>=1.0.0 in /Users/vivianamarquez/opt/anaconda3/envs/IntroML/lib/python3.9/site-packages (from hvplot) (2.4.3)\n",
      "Requirement already satisfied: packaging in /Users/vivianamarquez/opt/anaconda3/envs/IntroML/lib/python3.9/site-packages (from hvplot) (23.0)\n",
      "Requirement already satisfied: numpy>=1.15 in /Users/vivianamarquez/opt/anaconda3/envs/IntroML/lib/python3.9/site-packages (from hvplot) (1.24.2)\n",
      "Requirement already satisfied: tornado>=5.1 in /Users/vivianamarquez/opt/anaconda3/envs/IntroML/lib/python3.9/site-packages (from bokeh>=1.0.0->hvplot) (6.2)\n",
      "Requirement already satisfied: Jinja2>=2.9 in /Users/vivianamarquez/opt/anaconda3/envs/IntroML/lib/python3.9/site-packages (from bokeh>=1.0.0->hvplot) (3.1.2)\n",
      "Requirement already satisfied: typing-extensions>=3.10.0 in /Users/vivianamarquez/opt/anaconda3/envs/IntroML/lib/python3.9/site-packages (from bokeh>=1.0.0->hvplot) (4.5.0)\n",
      "Requirement already satisfied: pillow>=7.1.0 in /Users/vivianamarquez/opt/anaconda3/envs/IntroML/lib/python3.9/site-packages (from bokeh>=1.0.0->hvplot) (9.4.0)\n",
      "Requirement already satisfied: PyYAML>=3.10 in /Users/vivianamarquez/opt/anaconda3/envs/IntroML/lib/python3.9/site-packages (from bokeh>=1.0.0->hvplot) (6.0)\n",
      "Requirement already satisfied: pyct>=0.4.4 in /Users/vivianamarquez/opt/anaconda3/envs/IntroML/lib/python3.9/site-packages (from colorcet>=2->hvplot) (0.5.0)\n",
      "Requirement already satisfied: pyviz-comms>=0.7.4 in /Users/vivianamarquez/opt/anaconda3/envs/IntroML/lib/python3.9/site-packages (from holoviews>=1.11.0->hvplot) (2.2.1)\n",
      "Requirement already satisfied: param<2.0,>=1.9.3 in /Users/vivianamarquez/opt/anaconda3/envs/IntroML/lib/python3.9/site-packages (from holoviews>=1.11.0->hvplot) (1.12.3)\n",
      "Requirement already satisfied: python-dateutil>=2.8.1 in /Users/vivianamarquez/opt/anaconda3/envs/IntroML/lib/python3.9/site-packages (from pandas->hvplot) (2.8.2)\n",
      "Requirement already satisfied: pytz>=2020.1 in /Users/vivianamarquez/opt/anaconda3/envs/IntroML/lib/python3.9/site-packages (from pandas->hvplot) (2022.7.1)\n",
      "Requirement already satisfied: bleach in /Users/vivianamarquez/opt/anaconda3/envs/IntroML/lib/python3.9/site-packages (from panel>=0.11.0->hvplot) (6.0.0)\n",
      "Requirement already satisfied: requests in /Users/vivianamarquez/opt/anaconda3/envs/IntroML/lib/python3.9/site-packages (from panel>=0.11.0->hvplot) (2.28.2)\n",
      "Requirement already satisfied: markdown in /Users/vivianamarquez/opt/anaconda3/envs/IntroML/lib/python3.9/site-packages (from panel>=0.11.0->hvplot) (3.4.1)\n",
      "Requirement already satisfied: setuptools>=42 in /Users/vivianamarquez/opt/anaconda3/envs/IntroML/lib/python3.9/site-packages (from panel>=0.11.0->hvplot) (65.6.3)\n",
      "Requirement already satisfied: tqdm>=4.48.0 in /Users/vivianamarquez/opt/anaconda3/envs/IntroML/lib/python3.9/site-packages (from panel>=0.11.0->hvplot) (4.65.0)\n",
      "Requirement already satisfied: MarkupSafe>=2.0 in /Users/vivianamarquez/opt/anaconda3/envs/IntroML/lib/python3.9/site-packages (from Jinja2>=2.9->bokeh>=1.0.0->hvplot) (2.1.2)\n",
      "Requirement already satisfied: six>=1.5 in /Users/vivianamarquez/opt/anaconda3/envs/IntroML/lib/python3.9/site-packages (from python-dateutil>=2.8.1->pandas->hvplot) (1.16.0)\n",
      "Requirement already satisfied: webencodings in /Users/vivianamarquez/opt/anaconda3/envs/IntroML/lib/python3.9/site-packages (from bleach->panel>=0.11.0->hvplot) (0.5.1)\n",
      "Requirement already satisfied: importlib-metadata>=4.4 in /Users/vivianamarquez/opt/anaconda3/envs/IntroML/lib/python3.9/site-packages (from markdown->panel>=0.11.0->hvplot) (6.0.0)\n",
      "Requirement already satisfied: charset-normalizer<4,>=2 in /Users/vivianamarquez/opt/anaconda3/envs/IntroML/lib/python3.9/site-packages (from requests->panel>=0.11.0->hvplot) (3.1.0)\n",
      "Requirement already satisfied: certifi>=2017.4.17 in /Users/vivianamarquez/opt/anaconda3/envs/IntroML/lib/python3.9/site-packages (from requests->panel>=0.11.0->hvplot) (2022.12.7)\n",
      "Requirement already satisfied: urllib3<1.27,>=1.21.1 in /Users/vivianamarquez/opt/anaconda3/envs/IntroML/lib/python3.9/site-packages (from requests->panel>=0.11.0->hvplot) (1.26.14)\n",
      "Requirement already satisfied: idna<4,>=2.5 in /Users/vivianamarquez/opt/anaconda3/envs/IntroML/lib/python3.9/site-packages (from requests->panel>=0.11.0->hvplot) (3.4)\n",
      "Requirement already satisfied: zipp>=0.5 in /Users/vivianamarquez/opt/anaconda3/envs/IntroML/lib/python3.9/site-packages (from importlib-metadata>=4.4->markdown->panel>=0.11.0->hvplot) (3.14.0)\n"
     ]
    }
   ],
   "source": [
    "!pip install hvplot"
   ]
  },
  {
   "cell_type": "code",
   "execution_count": 68,
   "id": "b559e502",
   "metadata": {
    "slideshow": {
     "slide_type": "slide"
    }
   },
   "outputs": [
    {
     "data": {},
     "metadata": {},
     "output_type": "display_data"
    },
    {
     "data": {
      "application/vnd.holoviews_exec.v0+json": "",
      "text/html": [
       "<div id='1344'>\n",
       "  <div class=\"bk-root\" id=\"c7076046-e2b1-429a-8882-98e5e615f0a5\" data-root-id=\"1344\"></div>\n",
       "</div>\n",
       "<script type=\"application/javascript\">(function(root) {\n",
       "  function embed_document(root) {\n",
       "    var docs_json = {\"2ea762e4-d724-429a-ba26-6c1fe23c87db\":{\"defs\":[{\"extends\":null,\"module\":null,\"name\":\"ReactiveHTML1\",\"overrides\":[],\"properties\":[]},{\"extends\":null,\"module\":null,\"name\":\"FlexBox1\",\"overrides\":[],\"properties\":[{\"default\":\"flex-start\",\"kind\":null,\"name\":\"align_content\"},{\"default\":\"flex-start\",\"kind\":null,\"name\":\"align_items\"},{\"default\":\"row\",\"kind\":null,\"name\":\"flex_direction\"},{\"default\":\"wrap\",\"kind\":null,\"name\":\"flex_wrap\"},{\"default\":\"flex-start\",\"kind\":null,\"name\":\"justify_content\"}]},{\"extends\":null,\"module\":null,\"name\":\"GridStack1\",\"overrides\":[],\"properties\":[{\"default\":\"warn\",\"kind\":null,\"name\":\"mode\"},{\"default\":null,\"kind\":null,\"name\":\"ncols\"},{\"default\":null,\"kind\":null,\"name\":\"nrows\"},{\"default\":true,\"kind\":null,\"name\":\"allow_resize\"},{\"default\":true,\"kind\":null,\"name\":\"allow_drag\"},{\"default\":[],\"kind\":null,\"name\":\"state\"}]},{\"extends\":null,\"module\":null,\"name\":\"click1\",\"overrides\":[],\"properties\":[{\"default\":\"\",\"kind\":null,\"name\":\"terminal_output\"},{\"default\":\"\",\"kind\":null,\"name\":\"debug_name\"},{\"default\":0,\"kind\":null,\"name\":\"clears\"}]},{\"extends\":null,\"module\":null,\"name\":\"NotificationAreaBase1\",\"overrides\":[],\"properties\":[{\"default\":\"bottom-right\",\"kind\":null,\"name\":\"position\"},{\"default\":0,\"kind\":null,\"name\":\"_clear\"}]},{\"extends\":null,\"module\":null,\"name\":\"NotificationArea1\",\"overrides\":[],\"properties\":[{\"default\":[],\"kind\":null,\"name\":\"notifications\"},{\"default\":\"bottom-right\",\"kind\":null,\"name\":\"position\"},{\"default\":0,\"kind\":null,\"name\":\"_clear\"},{\"default\":[{\"background\":\"#ffc107\",\"icon\":{\"className\":\"fas fa-exclamation-triangle\",\"color\":\"white\",\"tagName\":\"i\"},\"type\":\"warning\"},{\"background\":\"#007bff\",\"icon\":{\"className\":\"fas fa-info-circle\",\"color\":\"white\",\"tagName\":\"i\"},\"type\":\"info\"}],\"kind\":null,\"name\":\"types\"}]},{\"extends\":null,\"module\":null,\"name\":\"Notification\",\"overrides\":[],\"properties\":[{\"default\":null,\"kind\":null,\"name\":\"background\"},{\"default\":3000,\"kind\":null,\"name\":\"duration\"},{\"default\":null,\"kind\":null,\"name\":\"icon\"},{\"default\":\"\",\"kind\":null,\"name\":\"message\"},{\"default\":null,\"kind\":null,\"name\":\"notification_type\"},{\"default\":false,\"kind\":null,\"name\":\"_destroyed\"}]},{\"extends\":null,\"module\":null,\"name\":\"TemplateActions1\",\"overrides\":[],\"properties\":[{\"default\":0,\"kind\":null,\"name\":\"open_modal\"},{\"default\":0,\"kind\":null,\"name\":\"close_modal\"}]},{\"extends\":null,\"module\":null,\"name\":\"MaterialTemplateActions1\",\"overrides\":[],\"properties\":[{\"default\":0,\"kind\":null,\"name\":\"open_modal\"},{\"default\":0,\"kind\":null,\"name\":\"close_modal\"}]}],\"roots\":{\"references\":[{\"attributes\":{},\"id\":\"1379\",\"type\":\"Selection\"},{\"attributes\":{},\"id\":\"1388\",\"type\":\"BasicTickFormatter\"},{\"attributes\":{},\"id\":\"1355\",\"type\":\"LinearScale\"},{\"attributes\":{\"end\":755523.865032237,\"reset_end\":755523.865032237,\"reset_start\":-246610.88035673677,\"start\":-246610.88035673677,\"tags\":[[[\"Predicted Values\",\"Predicted Values\",null]]]},\"id\":\"1346\",\"type\":\"Range1d\"},{\"attributes\":{},\"id\":\"1353\",\"type\":\"LinearScale\"},{\"attributes\":{\"end\":519946.7571428571,\"reset_end\":519946.7571428571,\"reset_start\":14654.242857142857,\"start\":14654.242857142857,\"tags\":[[[\"True Values\",\"True Values\",null]]]},\"id\":\"1345\",\"type\":\"Range1d\"},{\"attributes\":{},\"id\":\"1389\",\"type\":\"AllLabels\"},{\"attributes\":{\"callback\":null,\"renderers\":[{\"id\":\"1384\"}],\"tags\":[\"hv_created\"],\"tooltips\":[[\"True Values\",\"@{True_Values}\"],[\"Predicted Values\",\"@{Predicted_Values}\"]]},\"id\":\"1347\",\"type\":\"HoverTool\"},{\"attributes\":{\"angle\":{\"value\":0.0},\"fill_alpha\":{\"value\":1.0},\"fill_color\":{\"value\":\"#30a2da\"},\"hatch_alpha\":{\"value\":1.0},\"hatch_color\":{\"value\":\"#30a2da\"},\"hatch_scale\":{\"value\":12.0},\"hatch_weight\":{\"value\":1.0},\"line_alpha\":{\"value\":1.0},\"line_cap\":{\"value\":\"butt\"},\"line_color\":{\"value\":\"#30a2da\"},\"line_dash\":{\"value\":[]},\"line_dash_offset\":{\"value\":0},\"line_join\":{\"value\":\"bevel\"},\"line_width\":{\"value\":1},\"marker\":{\"value\":\"circle\"},\"size\":{\"value\":5.477225575051661},\"x\":{\"field\":\"True Values\"},\"y\":{\"field\":\"Predicted Values\"}},\"id\":\"1386\",\"type\":\"Scatter\"},{\"attributes\":{\"coordinates\":null,\"group\":null,\"text_color\":\"black\",\"text_font_size\":\"12pt\"},\"id\":\"1349\",\"type\":\"Title\"},{\"attributes\":{\"below\":[{\"id\":\"1357\"}],\"center\":[{\"id\":\"1360\"},{\"id\":\"1364\"}],\"height\":300,\"left\":[{\"id\":\"1361\"}],\"margin\":[5,5,5,5],\"min_border_bottom\":10,\"min_border_left\":10,\"min_border_right\":10,\"min_border_top\":10,\"renderers\":[{\"id\":\"1384\"}],\"sizing_mode\":\"fixed\",\"title\":{\"id\":\"1349\"},\"toolbar\":{\"id\":\"1371\"},\"width\":700,\"x_range\":{\"id\":\"1345\"},\"x_scale\":{\"id\":\"1353\"},\"y_range\":{\"id\":\"1346\"},\"y_scale\":{\"id\":\"1355\"}},\"id\":\"1348\",\"subtype\":\"Figure\",\"type\":\"Plot\"},{\"attributes\":{},\"id\":\"1392\",\"type\":\"AllLabels\"},{\"attributes\":{\"axis_label\":\"True Values\",\"coordinates\":null,\"formatter\":{\"id\":\"1388\"},\"group\":null,\"major_label_policy\":{\"id\":\"1389\"},\"ticker\":{\"id\":\"1358\"}},\"id\":\"1357\",\"type\":\"LinearAxis\"},{\"attributes\":{},\"id\":\"1358\",\"type\":\"BasicTicker\"},{\"attributes\":{},\"id\":\"1391\",\"type\":\"BasicTickFormatter\"},{\"attributes\":{\"axis\":{\"id\":\"1357\"},\"coordinates\":null,\"grid_line_color\":null,\"group\":null,\"ticker\":null},\"id\":\"1360\",\"type\":\"Grid\"},{\"attributes\":{\"source\":{\"id\":\"1378\"}},\"id\":\"1385\",\"type\":\"CDSView\"},{\"attributes\":{},\"id\":\"1366\",\"type\":\"PanTool\"},{\"attributes\":{\"fill_alpha\":{\"value\":0.1},\"fill_color\":{\"value\":\"#30a2da\"},\"hatch_alpha\":{\"value\":0.1},\"hatch_color\":{\"value\":\"#30a2da\"},\"line_alpha\":{\"value\":0.1},\"line_color\":{\"value\":\"#30a2da\"},\"size\":{\"value\":5.477225575051661},\"x\":{\"field\":\"True Values\"},\"y\":{\"field\":\"Predicted Values\"}},\"id\":\"1382\",\"type\":\"Scatter\"},{\"attributes\":{\"axis_label\":\"Predicted Values\",\"coordinates\":null,\"formatter\":{\"id\":\"1391\"},\"group\":null,\"major_label_policy\":{\"id\":\"1392\"},\"ticker\":{\"id\":\"1362\"}},\"id\":\"1361\",\"type\":\"LinearAxis\"},{\"attributes\":{\"children\":[{\"id\":\"1348\"}],\"height\":300,\"margin\":[0,0,0,0],\"name\":\"Row01178\",\"sizing_mode\":\"fixed\",\"tags\":[\"embedded\"],\"width\":700},\"id\":\"1344\",\"type\":\"Row\"},{\"attributes\":{\"axis\":{\"id\":\"1361\"},\"coordinates\":null,\"dimension\":1,\"grid_line_color\":null,\"group\":null,\"ticker\":null},\"id\":\"1364\",\"type\":\"Grid\"},{\"attributes\":{},\"id\":\"1362\",\"type\":\"BasicTicker\"},{\"attributes\":{},\"id\":\"1367\",\"type\":\"WheelZoomTool\"},{\"attributes\":{},\"id\":\"1404\",\"type\":\"UnionRenderers\"},{\"attributes\":{\"fill_color\":{\"value\":\"#30a2da\"},\"hatch_color\":{\"value\":\"#30a2da\"},\"line_color\":{\"value\":\"#30a2da\"},\"size\":{\"value\":5.477225575051661},\"x\":{\"field\":\"True Values\"},\"y\":{\"field\":\"Predicted Values\"}},\"id\":\"1381\",\"type\":\"Scatter\"},{\"attributes\":{\"coordinates\":null,\"data_source\":{\"id\":\"1378\"},\"glyph\":{\"id\":\"1381\"},\"group\":null,\"hover_glyph\":null,\"muted_glyph\":{\"id\":\"1383\"},\"nonselection_glyph\":{\"id\":\"1382\"},\"selection_glyph\":{\"id\":\"1386\"},\"view\":{\"id\":\"1385\"}},\"id\":\"1384\",\"type\":\"GlyphRenderer\"},{\"attributes\":{},\"id\":\"1365\",\"type\":\"SaveTool\"},{\"attributes\":{\"data\":{\"Predicted Values\":{\"__ndarray__\":\"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\",\"dtype\":\"float64\",\"order\":\"little\",\"shape\":[2064]},\"Predicted_Values\":{\"__ndarray__\":\"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\",\"dtype\":\"float64\",\"order\":\"little\",\"shape\":[2064]},\"True Values\":{\"__ndarray__\":\"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\",\"dtype\":\"float64\",\"order\":\"little\",\"shape\":[2064]},\"True_Values\":{\"__ndarray__\":\"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\",\"dtype\":\"float64\",\"order\":\"little\",\"shape\":[2064]}},\"selected\":{\"id\":\"1379\"},\"selection_policy\":{\"id\":\"1404\"}},\"id\":\"1378\",\"type\":\"ColumnDataSource\"},{\"attributes\":{\"overlay\":{\"id\":\"1370\"}},\"id\":\"1368\",\"type\":\"BoxZoomTool\"},{\"attributes\":{\"fill_alpha\":{\"value\":0.2},\"fill_color\":{\"value\":\"#30a2da\"},\"hatch_alpha\":{\"value\":0.2},\"hatch_color\":{\"value\":\"#30a2da\"},\"line_alpha\":{\"value\":0.2},\"line_color\":{\"value\":\"#30a2da\"},\"size\":{\"value\":5.477225575051661},\"x\":{\"field\":\"True Values\"},\"y\":{\"field\":\"Predicted Values\"}},\"id\":\"1383\",\"type\":\"Scatter\"},{\"attributes\":{},\"id\":\"1369\",\"type\":\"ResetTool\"},{\"attributes\":{\"bottom_units\":\"screen\",\"coordinates\":null,\"fill_alpha\":0.5,\"fill_color\":\"lightgrey\",\"group\":null,\"left_units\":\"screen\",\"level\":\"overlay\",\"line_alpha\":1.0,\"line_color\":\"black\",\"line_dash\":[4,4],\"line_width\":2,\"right_units\":\"screen\",\"syncable\":false,\"top_units\":\"screen\"},\"id\":\"1370\",\"type\":\"BoxAnnotation\"},{\"attributes\":{\"active_drag\":{\"id\":\"1366\"},\"active_scroll\":{\"id\":\"1367\"},\"tools\":[{\"id\":\"1347\"},{\"id\":\"1365\"},{\"id\":\"1366\"},{\"id\":\"1367\"},{\"id\":\"1368\"},{\"id\":\"1369\"}]},\"id\":\"1371\",\"type\":\"Toolbar\"}],\"root_ids\":[\"1344\"]},\"title\":\"Bokeh Application\",\"version\":\"2.4.3\"}};\n",
       "    var render_items = [{\"docid\":\"2ea762e4-d724-429a-ba26-6c1fe23c87db\",\"root_ids\":[\"1344\"],\"roots\":{\"1344\":\"c7076046-e2b1-429a-8882-98e5e615f0a5\"}}];\n",
       "    root.Bokeh.embed.embed_items_notebook(docs_json, render_items);\n",
       "    for (const render_item of render_items) {\n",
       "      for (const root_id of render_item.root_ids) {\n",
       "\tconst id_el = document.getElementById(root_id)\n",
       "\tif (id_el.children.length && (id_el.children[0].className === 'bk-root')) {\n",
       "\t  const root_el = id_el.children[0]\n",
       "\t  root_el.id = root_el.id + '-rendered'\n",
       "\t}\n",
       "      }\n",
       "    }\n",
       "  }\n",
       "  if (root.Bokeh !== undefined && root.Bokeh.Panel !== undefined) {\n",
       "    embed_document(root);\n",
       "  } else {\n",
       "    var attempts = 0;\n",
       "    var timer = setInterval(function(root) {\n",
       "      if (root.Bokeh !== undefined && root.Bokeh.Panel !== undefined) {\n",
       "        clearInterval(timer);\n",
       "        embed_document(root);\n",
       "      } else if (document.readyState == \"complete\") {\n",
       "        attempts++;\n",
       "        if (attempts > 200) {\n",
       "          clearInterval(timer);\n",
       "          console.log(\"Bokeh: ERROR: Unable to run BokehJS code because BokehJS library is missing\");\n",
       "        }\n",
       "      }\n",
       "    }, 25, root)\n",
       "  }\n",
       "})(window);</script>"
      ],
      "text/plain": [
       ":Scatter   [True Values]   (Predicted Values)"
      ]
     },
     "execution_count": 68,
     "metadata": {
      "application/vnd.holoviews_exec.v0+json": {
       "id": "1344"
      }
     },
     "output_type": "execute_result"
    }
   ],
   "source": [
    "import hvplot.pandas  \n",
    "\n",
    "pd.DataFrame({'True Values': y_test['median_house_value'].values, \n",
    "              'Predicted Values': predictions['predictions'].values}).hvplot.scatter(x='True Values', \n",
    "                                                                                     y='Predicted Values')"
   ]
  },
  {
   "cell_type": "code",
   "execution_count": 69,
   "id": "08f29808",
   "metadata": {
    "slideshow": {
     "slide_type": "slide"
    }
   },
   "outputs": [
    {
     "data": {},
     "metadata": {},
     "output_type": "display_data"
    },
    {
     "data": {
      "application/vnd.holoviews_exec.v0+json": "",
      "text/html": [
       "<div id='1458'>\n",
       "  <div class=\"bk-root\" id=\"11610e6f-584e-447c-8bcc-95a7ce79d1f6\" data-root-id=\"1458\"></div>\n",
       "</div>\n",
       "<script type=\"application/javascript\">(function(root) {\n",
       "  function embed_document(root) {\n",
       "    var docs_json = {\"071662ce-7513-403b-8834-0bfc8b6d2d3b\":{\"defs\":[{\"extends\":null,\"module\":null,\"name\":\"ReactiveHTML1\",\"overrides\":[],\"properties\":[]},{\"extends\":null,\"module\":null,\"name\":\"FlexBox1\",\"overrides\":[],\"properties\":[{\"default\":\"flex-start\",\"kind\":null,\"name\":\"align_content\"},{\"default\":\"flex-start\",\"kind\":null,\"name\":\"align_items\"},{\"default\":\"row\",\"kind\":null,\"name\":\"flex_direction\"},{\"default\":\"wrap\",\"kind\":null,\"name\":\"flex_wrap\"},{\"default\":\"flex-start\",\"kind\":null,\"name\":\"justify_content\"}]},{\"extends\":null,\"module\":null,\"name\":\"GridStack1\",\"overrides\":[],\"properties\":[{\"default\":\"warn\",\"kind\":null,\"name\":\"mode\"},{\"default\":null,\"kind\":null,\"name\":\"ncols\"},{\"default\":null,\"kind\":null,\"name\":\"nrows\"},{\"default\":true,\"kind\":null,\"name\":\"allow_resize\"},{\"default\":true,\"kind\":null,\"name\":\"allow_drag\"},{\"default\":[],\"kind\":null,\"name\":\"state\"}]},{\"extends\":null,\"module\":null,\"name\":\"click1\",\"overrides\":[],\"properties\":[{\"default\":\"\",\"kind\":null,\"name\":\"terminal_output\"},{\"default\":\"\",\"kind\":null,\"name\":\"debug_name\"},{\"default\":0,\"kind\":null,\"name\":\"clears\"}]},{\"extends\":null,\"module\":null,\"name\":\"NotificationAreaBase1\",\"overrides\":[],\"properties\":[{\"default\":\"bottom-right\",\"kind\":null,\"name\":\"position\"},{\"default\":0,\"kind\":null,\"name\":\"_clear\"}]},{\"extends\":null,\"module\":null,\"name\":\"NotificationArea1\",\"overrides\":[],\"properties\":[{\"default\":[],\"kind\":null,\"name\":\"notifications\"},{\"default\":\"bottom-right\",\"kind\":null,\"name\":\"position\"},{\"default\":0,\"kind\":null,\"name\":\"_clear\"},{\"default\":[{\"background\":\"#ffc107\",\"icon\":{\"className\":\"fas fa-exclamation-triangle\",\"color\":\"white\",\"tagName\":\"i\"},\"type\":\"warning\"},{\"background\":\"#007bff\",\"icon\":{\"className\":\"fas fa-info-circle\",\"color\":\"white\",\"tagName\":\"i\"},\"type\":\"info\"}],\"kind\":null,\"name\":\"types\"}]},{\"extends\":null,\"module\":null,\"name\":\"Notification\",\"overrides\":[],\"properties\":[{\"default\":null,\"kind\":null,\"name\":\"background\"},{\"default\":3000,\"kind\":null,\"name\":\"duration\"},{\"default\":null,\"kind\":null,\"name\":\"icon\"},{\"default\":\"\",\"kind\":null,\"name\":\"message\"},{\"default\":null,\"kind\":null,\"name\":\"notification_type\"},{\"default\":false,\"kind\":null,\"name\":\"_destroyed\"}]},{\"extends\":null,\"module\":null,\"name\":\"TemplateActions1\",\"overrides\":[],\"properties\":[{\"default\":0,\"kind\":null,\"name\":\"open_modal\"},{\"default\":0,\"kind\":null,\"name\":\"close_modal\"}]},{\"extends\":null,\"module\":null,\"name\":\"MaterialTemplateActions1\",\"overrides\":[],\"properties\":[{\"default\":0,\"kind\":null,\"name\":\"open_modal\"},{\"default\":0,\"kind\":null,\"name\":\"close_modal\"}]}],\"roots\":{\"references\":[{\"attributes\":{\"end\":8.189743612858536e-06,\"reset_end\":8.189743612858536e-06,\"reset_start\":0.0,\"tags\":[[[\"Error Values_density\",\"Density\",null]]]},\"id\":\"1460\",\"type\":\"Range1d\"},{\"attributes\":{},\"id\":\"1505\",\"type\":\"BasicTickFormatter\"},{\"attributes\":{},\"id\":\"1493\",\"type\":\"Selection\"},{\"attributes\":{},\"id\":\"1502\",\"type\":\"BasicTickFormatter\"},{\"attributes\":{\"end\":392978.42670017795,\"reset_end\":392978.42670017795,\"reset_start\":-286181.76996637386,\"start\":-286181.76996637386,\"tags\":[[[\"Error Values\",\"Error Values\",null]]]},\"id\":\"1459\",\"type\":\"Range1d\"},{\"attributes\":{\"callback\":null,\"renderers\":[{\"id\":\"1498\"}],\"tags\":[\"hv_created\"],\"tooltips\":[[\"Error Values\",\"@{Error_Values}\"],[\"Density\",\"@{Error_Values_density}\"]]},\"id\":\"1461\",\"type\":\"HoverTool\"},{\"attributes\":{\"fill_alpha\":0.5,\"fill_color\":\"#30a2da\",\"hatch_alpha\":0.1,\"hatch_color\":\"#30a2da\",\"line_alpha\":1,\"x\":{\"field\":\"x\"},\"y\":{\"field\":\"y\"}},\"id\":\"1496\",\"type\":\"Patch\"},{\"attributes\":{\"fill_alpha\":0.5,\"fill_color\":\"#30a2da\",\"hatch_color\":\"#30a2da\",\"x\":{\"field\":\"x\"},\"y\":{\"field\":\"y\"}},\"id\":\"1495\",\"type\":\"Patch\"},{\"attributes\":{\"coordinates\":null,\"group\":null,\"text_color\":\"black\",\"text_font_size\":\"12pt\"},\"id\":\"1463\",\"type\":\"Title\"},{\"attributes\":{},\"id\":\"1467\",\"type\":\"LinearScale\"},{\"attributes\":{\"coordinates\":null,\"data_source\":{\"id\":\"1492\"},\"glyph\":{\"id\":\"1495\"},\"group\":null,\"hover_glyph\":null,\"muted_glyph\":{\"id\":\"1497\"},\"nonselection_glyph\":{\"id\":\"1496\"},\"selection_glyph\":{\"id\":\"1500\"},\"view\":{\"id\":\"1499\"}},\"id\":\"1498\",\"type\":\"GlyphRenderer\"},{\"attributes\":{\"axis_label\":\"Error Values\",\"coordinates\":null,\"formatter\":{\"id\":\"1502\"},\"group\":null,\"major_label_policy\":{\"id\":\"1503\"},\"ticker\":{\"id\":\"1472\"}},\"id\":\"1471\",\"type\":\"LinearAxis\"},{\"attributes\":{\"below\":[{\"id\":\"1471\"}],\"center\":[{\"id\":\"1474\"},{\"id\":\"1478\"}],\"height\":300,\"left\":[{\"id\":\"1475\"}],\"margin\":[5,5,5,5],\"min_border_bottom\":10,\"min_border_left\":10,\"min_border_right\":10,\"min_border_top\":10,\"renderers\":[{\"id\":\"1498\"}],\"sizing_mode\":\"fixed\",\"title\":{\"id\":\"1463\"},\"toolbar\":{\"id\":\"1485\"},\"width\":700,\"x_range\":{\"id\":\"1459\"},\"x_scale\":{\"id\":\"1467\"},\"y_range\":{\"id\":\"1460\"},\"y_scale\":{\"id\":\"1469\"}},\"id\":\"1462\",\"subtype\":\"Figure\",\"type\":\"Plot\"},{\"attributes\":{},\"id\":\"1472\",\"type\":\"BasicTicker\"},{\"attributes\":{\"children\":[{\"id\":\"1462\"}],\"height\":300,\"margin\":[0,0,0,0],\"name\":\"Row01302\",\"sizing_mode\":\"fixed\",\"tags\":[\"embedded\"],\"width\":700},\"id\":\"1458\",\"type\":\"Row\"},{\"attributes\":{},\"id\":\"1469\",\"type\":\"LinearScale\"},{\"attributes\":{\"fill_alpha\":0.2,\"fill_color\":\"#30a2da\",\"hatch_alpha\":0.2,\"hatch_color\":\"#30a2da\",\"line_alpha\":0.2,\"x\":{\"field\":\"x\"},\"y\":{\"field\":\"y\"}},\"id\":\"1497\",\"type\":\"Patch\"},{\"attributes\":{\"axis\":{\"id\":\"1471\"},\"coordinates\":null,\"grid_line_color\":null,\"group\":null,\"ticker\":null},\"id\":\"1474\",\"type\":\"Grid\"},{\"attributes\":{\"active_drag\":{\"id\":\"1480\"},\"active_scroll\":{\"id\":\"1481\"},\"tools\":[{\"id\":\"1461\"},{\"id\":\"1479\"},{\"id\":\"1480\"},{\"id\":\"1481\"},{\"id\":\"1482\"},{\"id\":\"1483\"}]},\"id\":\"1485\",\"type\":\"Toolbar\"},{\"attributes\":{\"source\":{\"id\":\"1492\"}},\"id\":\"1499\",\"type\":\"CDSView\"},{\"attributes\":{},\"id\":\"1480\",\"type\":\"PanTool\"},{\"attributes\":{\"axis_label\":\"Density\",\"coordinates\":null,\"formatter\":{\"id\":\"1505\"},\"group\":null,\"major_label_policy\":{\"id\":\"1506\"},\"ticker\":{\"id\":\"1476\"}},\"id\":\"1475\",\"type\":\"LinearAxis\"},{\"attributes\":{},\"id\":\"1518\",\"type\":\"UnionRenderers\"},{\"attributes\":{\"axis\":{\"id\":\"1475\"},\"coordinates\":null,\"dimension\":1,\"grid_line_color\":null,\"group\":null,\"ticker\":null},\"id\":\"1478\",\"type\":\"Grid\"},{\"attributes\":{},\"id\":\"1476\",\"type\":\"BasicTicker\"},{\"attributes\":{\"data\":{\"x\":{\"__ndarray__\":\"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\",\"dtype\":\"float64\",\"order\":\"little\",\"shape\":[200]},\"y\":{\"__ndarray__\":\"AAAAAAAAAAAAAAAAAAAAAAAAAAAAAAAAAAAAAAAAAAAAAAAAAAAAAAAAAAAAAAAAAAAAAAAAAAAAAAAAAAAAAAAAAAAAAAAAAAAAAAAAAAAAAAAAAAAAAAAAAAAAAAAAAAAAAAAAAAAAAAAAAAAAAAAAAAAAAAAAAAAAAAAAAAAAAAAAAAAAAAAAAAAAAAAAAAAAAAAAAAAAAAAAAAAAAAAAAAAAAAAAAAAAAAAAAAAAAAAAAAAAAAAAAAAAAAAAAAAAAAAAAAAAAAAAAAAAAAAAAAAAAAAAAAAAAAAAAAAAAAAAAAAAAAAAAAAAAAAAAAAAAAAAAAAAAAAAAAAAAAAAAAAAAAAAAAAAAAAAAAAAAAAAAAAAAAAAAAAAAAAAAAAAAAAAAAAAAAAAAAAAAAAAAAAAAAAAAAAAAAAAAAAAAAAAAAAAAAAAAAAAAAAAAAAAAAAAAAAAAAAAAAAAAAAAAAAAAAAAAAAAAAAAAAAAAAAAAAAAAAAAAAAAAAAAAAAAAAAAAAAAAAAAAAAAAAAAAAAAAAAAAAAAAAAAAAAAAAAAAAAAAAAAAAAAAAAAAAAAAAAAAAAAAAAAAAAAAAAAAAAAAAAAAAAAAAAAAAAAAAAAAAAAAAAAAAAAAAAAAAAAAAAAAAAAAAAAAAAAAAAAAAAAAAAAAAAAAAAAAAAAAAAAAAAAAAAAAAAAAAAAAAAAAAAAAAAAAAAAAAAAAAAAAAAAAAAAAAAAAAAAAAAAAAAAAAAAAAAAAAAAAAAAAAAAAAAAAAAAAAAAAAAAAAAAAAAAAAAAAAAAAAAAAAAAAAAAAAAAAAAAAAAAAAAAAAAAAAAAAAAAAAAAAAAAAAAAAAAAAAAAAAAAAAAAAAAAAAAAAAAAAAAAAAAAAAAAAAAAAAAAAAAAAAAAAAAAAAAAAAAAAAAAAAAAAAAAAAAAAAAAAAAAAAAAAAAAAAAAAAAAAAAAAAAAAAAAAAAAAAAAAAAAAAAAAAAAAAAAAAAAAAAAAAAAAAAAAAAAAAAAAAAAAAAAAAAAAAAAAAAAAAAAAAAAAAAAAAAAAAAAAAATCahy8RzkPfC4/HfzVAI+wyJhnI7kGj6kqFNVfdAvPkEgIiQZhD4+6acERP8RSD4HrrxVYShQPnIwBHJkylM+YulyqDVBWD6nKd8NHvJePhwuD+TneWM+VN9HlvaEZj4Jwc/jd2lnPrKskJIN6mY+0Xho+hOIZz4JTuRYXMRrPtzbRi8WD3I+LOTi2SITdz787khpUf16Pvg9dYQq/Hw+icZApDaXfj7iEhncMT2BPl2aIn1W14Q+CZY3AWQpiT6qCAOqA7KMPvfwU2+M0o4+RzhecVElkD5rcX3nkzKRPp3jXkQe65I+Zftr6T4wlT7xs4AU5bCXPsGQSXsmQpo+eSO7KVvynD7mCYF+UeSfPpeu6mUll6E+kJVMCCVnoz5asU3N8lGlPmhhNrZOMqc+GCpEt9zMqD5I5ePeF/GpPkOnMZYGyao+UIKQMGAXrD7a/sASiQGvPqBArb+dMrI+B0tzXcQitj7CHM/CD+26Pg/6jHwNCMA+oi6GUCuUwj4p3JLrxgHFPpb/i1sYXsc+Ho52lAXyyT5XN34TDTbNPm90/VOwxNA+NZKTVrhu0z7r+80/41bWPveqBtjfJtk+TpLEzJGY2z5CS0wLPnvdPmf3MUp1sd4+jXN3jEI63z5seE6+Ay7fPvWf8zhYod4+XTKKnVKO3T6rN16GkOLbPnoWU9P0odk+4Z2IBBn41j45oUHuRyrUPnBOrMtkeNE+crmVDOMFzj614Cwn34vJPlVEw53qVMU+DKt4TgJDwT5NJ4Z/2dG6PhCujFe+/bM+CpmsXsTdrD7G5GlOHHqkPutEmT6g65w+QSDJNqCilD66VLn+OZeOPsia+Ns4cIg+canzmX1BhT6crI99EkqDPgMlN1nTG4E+pItIVxdQfD62LVSlGHZ1Ps0LPBCfu20+ioqHl6zFYj7HfyKVYIlVPqa7fGO2iUc+sDGjxBAzPz7TDXP/AapAPuHlFjDsYUY+wiSDaHR0Sz4tvSlFEcdLPtvnTakes0Y+9STm4wXZPT5UK+ZVMo0vPn90Wbw2zxo+52jp5n5PAj7OZvhjshrkPQ==\",\"dtype\":\"float64\",\"order\":\"little\",\"shape\":[200]}},\"selected\":{\"id\":\"1493\"},\"selection_policy\":{\"id\":\"1518\"}},\"id\":\"1492\",\"type\":\"ColumnDataSource\"},{\"attributes\":{},\"id\":\"1481\",\"type\":\"WheelZoomTool\"},{\"attributes\":{},\"id\":\"1506\",\"type\":\"AllLabels\"},{\"attributes\":{},\"id\":\"1503\",\"type\":\"AllLabels\"},{\"attributes\":{\"fill_alpha\":0.5,\"fill_color\":\"#30a2da\",\"hatch_color\":\"#30a2da\",\"x\":{\"field\":\"x\"},\"y\":{\"field\":\"y\"}},\"id\":\"1500\",\"type\":\"Patch\"},{\"attributes\":{},\"id\":\"1479\",\"type\":\"SaveTool\"},{\"attributes\":{\"overlay\":{\"id\":\"1484\"}},\"id\":\"1482\",\"type\":\"BoxZoomTool\"},{\"attributes\":{},\"id\":\"1483\",\"type\":\"ResetTool\"},{\"attributes\":{\"bottom_units\":\"screen\",\"coordinates\":null,\"fill_alpha\":0.5,\"fill_color\":\"lightgrey\",\"group\":null,\"left_units\":\"screen\",\"level\":\"overlay\",\"line_alpha\":1.0,\"line_color\":\"black\",\"line_dash\":[4,4],\"line_width\":2,\"right_units\":\"screen\",\"syncable\":false,\"top_units\":\"screen\"},\"id\":\"1484\",\"type\":\"BoxAnnotation\"}],\"root_ids\":[\"1458\"]},\"title\":\"Bokeh Application\",\"version\":\"2.4.3\"}};\n",
       "    var render_items = [{\"docid\":\"071662ce-7513-403b-8834-0bfc8b6d2d3b\",\"root_ids\":[\"1458\"],\"roots\":{\"1458\":\"11610e6f-584e-447c-8bcc-95a7ce79d1f6\"}}];\n",
       "    root.Bokeh.embed.embed_items_notebook(docs_json, render_items);\n",
       "    for (const render_item of render_items) {\n",
       "      for (const root_id of render_item.root_ids) {\n",
       "\tconst id_el = document.getElementById(root_id)\n",
       "\tif (id_el.children.length && (id_el.children[0].className === 'bk-root')) {\n",
       "\t  const root_el = id_el.children[0]\n",
       "\t  root_el.id = root_el.id + '-rendered'\n",
       "\t}\n",
       "      }\n",
       "    }\n",
       "  }\n",
       "  if (root.Bokeh !== undefined && root.Bokeh.Panel !== undefined) {\n",
       "    embed_document(root);\n",
       "  } else {\n",
       "    var attempts = 0;\n",
       "    var timer = setInterval(function(root) {\n",
       "      if (root.Bokeh !== undefined && root.Bokeh.Panel !== undefined) {\n",
       "        clearInterval(timer);\n",
       "        embed_document(root);\n",
       "      } else if (document.readyState == \"complete\") {\n",
       "        attempts++;\n",
       "        if (attempts > 200) {\n",
       "          clearInterval(timer);\n",
       "          console.log(\"Bokeh: ERROR: Unable to run BokehJS code because BokehJS library is missing\");\n",
       "        }\n",
       "      }\n",
       "    }, 25, root)\n",
       "  }\n",
       "})(window);</script>"
      ],
      "text/plain": [
       ":Distribution   [Error Values]   (Density)"
      ]
     },
     "execution_count": 69,
     "metadata": {
      "application/vnd.holoviews_exec.v0+json": {
       "id": "1458"
      }
     },
     "output_type": "execute_result"
    }
   ],
   "source": [
    "pd.DataFrame({'Error Values': (y_test['median_house_value'].values - predictions['predictions'].values)}).hvplot.kde()"
   ]
  },
  {
   "cell_type": "markdown",
   "id": "2c424aba",
   "metadata": {
    "slideshow": {
     "slide_type": "slide"
    }
   },
   "source": [
    "# Generic note"
   ]
  },
  {
   "cell_type": "markdown",
   "id": "c47e20b7",
   "metadata": {
    "slideshow": {
     "slide_type": "fragment"
    }
   },
   "source": [
    "If we only use one criteria in the training set, then we might expect that the result is\n",
    "not too good. Why?"
   ]
  },
  {
   "cell_type": "markdown",
   "id": "efa9925d",
   "metadata": {
    "slideshow": {
     "slide_type": "fragment"
    }
   },
   "source": [
    "Suppose we are using the square feet of house median value as our criteria in the training set.\n",
    "In this case we expect that if we have two homes with 2800 sq ft of living space, 4 bedrooms, and 2 baths then\n",
    "the algorithm will predict the same listing price. However if"
   ]
  },
  {
   "cell_type": "markdown",
   "id": "52afd68f",
   "metadata": {
    "slideshow": {
     "slide_type": "fragment"
    }
   },
   "source": [
    "- The first home is located in a prestigious neighborhood, is new construction, has a pool, 4 bedrooms, 2 baths, and a 2-car garage"
   ]
  },
  {
   "cell_type": "markdown",
   "id": "4785846d",
   "metadata": {
    "slideshow": {
     "slide_type": "fragment"
    }
   },
   "source": [
    "- and the second home was built in 1930, located on a dirt road, and has 4 bedrooms,\n",
    "2 baths, but no garage"
   ]
  },
  {
   "cell_type": "markdown",
   "id": "4447db4a",
   "metadata": {
    "slideshow": {
     "slide_type": "slide"
    }
   },
   "source": [
    "# 👀 Spoiler alerts: regression evaluation metrics and regularized linear models"
   ]
  },
  {
   "cell_type": "code",
   "execution_count": 70,
   "id": "435ff392",
   "metadata": {
    "slideshow": {
     "slide_type": "fragment"
    }
   },
   "outputs": [
    {
     "data": {
      "text/plain": [
       "67538.70220362469"
      ]
     },
     "execution_count": 70,
     "metadata": {},
     "output_type": "execute_result"
    }
   ],
   "source": [
    "from sklearn.metrics import mean_squared_error\n",
    "\n",
    "lin_rmse = mean_squared_error(y_test, predictions,\n",
    "                              squared=False)\n",
    "lin_rmse"
   ]
  },
  {
   "cell_type": "code",
   "execution_count": 71,
   "id": "a5a19d2d",
   "metadata": {
    "slideshow": {
     "slide_type": "slide"
    }
   },
   "outputs": [
    {
     "name": "stdout",
     "output_type": "stream",
     "text": [
      "RMSE for Ridge: 67538.70220362469\n",
      "RMSE for Lasso: 67542.54290539381\n",
      "RMSE for ElasticNet: 77008.77742303458\n"
     ]
    },
    {
     "name": "stderr",
     "output_type": "stream",
     "text": [
      "/Users/vivianamarquez/opt/anaconda3/envs/IntroML/lib/python3.9/site-packages/sklearn/linear_model/_coordinate_descent.py:631: ConvergenceWarning: Objective did not converge. You might want to increase the number of iterations, check the scale of the features or consider increasing regularisation. Duality gap: 6.368e+12, tolerance: 2.204e+10\n",
      "  model = cd_fast.enet_coordinate_descent(\n"
     ]
    }
   ],
   "source": [
    "# https://scikit-learn.org/stable/modules/linear_model.html\n",
    "from sklearn.linear_model import Ridge\n",
    "from sklearn.linear_model import Lasso\n",
    "from sklearn.linear_model import ElasticNet\n",
    "\n",
    "model = Ridge()\n",
    "model.fit(X_train_processed, y_train)\n",
    "\n",
    "pred = model.predict(X_test_processed)\n",
    "\n",
    "lin_rmse_ridge = mean_squared_error(y_test, pred,\n",
    "                              squared=False)\n",
    "\n",
    "print(f\"RMSE for Ridge: {lin_rmse}\")\n",
    "\n",
    "model = Lasso()\n",
    "model.fit(X_train_processed, y_train)\n",
    "pred = model.predict(X_test_processed)\n",
    "\n",
    "lin_rmse_lasso = mean_squared_error(y_test, pred,\n",
    "                              squared=False)\n",
    "\n",
    "print(f\"RMSE for Lasso: {lin_rmse_lasso}\")\n",
    "\n",
    "model = ElasticNet()\n",
    "model.fit(X_train_processed, y_train)\n",
    "pred = model.predict(X_test_processed)\n",
    "\n",
    "lin_rmse_en = mean_squared_error(y_test, pred,\n",
    "                              squared=False)\n",
    "\n",
    "print(f\"RMSE for ElasticNet: {lin_rmse_en}\")"
   ]
  },
  {
   "cell_type": "markdown",
   "id": "85d0d4f5",
   "metadata": {
    "slideshow": {
     "slide_type": "slide"
    }
   },
   "source": [
    "# ⏪ Today's recap\n",
    "\n",
    "- High Bias: Model is inaccurate on training set (too simple)\n",
    "- High Variance: Model is too good on training set, but inaccurate on test set (aka doesn't generalize well, too complex)\n",
    "- Bias-variance trade-off: We want both low bias and low variance but when one goes down, the other one goes up\n",
    "- Intro to Linear Regression models\n"
   ]
  },
  {
   "cell_type": "markdown",
   "id": "c28a7a07",
   "metadata": {
    "slideshow": {
     "slide_type": "slide"
    }
   },
   "source": [
    "# 👮‍♀️ Misc:\n",
    "\n",
    "- Self-graded quiz will be posted in the next hour\n",
    "- 💪 Ungraded homework will be posted tonight or tomorrow morning\n",
    "- Office hours on Friday at 12 PM PST and Monday 6 PM PST (Zoom link will be posted in Canvas) \n",
    "\n",
    "### Check-in: https://forms.gle/iPGEKNwJP1c8ftSp8"
   ]
  },
  {
   "cell_type": "markdown",
   "id": "7b2900de",
   "metadata": {
    "slideshow": {
     "slide_type": "slide"
    }
   },
   "source": [
    "<center>\n",
    "<img src='../img/all/bye.gif' style='height:400px;'> \n",
    "</center>\n",
    "\n",
    "# Next class: \n",
    "- Regression models part 2 \n",
    "    - Gradient descent\n",
    "    - Regularized linear models\n",
    "    - Regression performance metrics: RMSE / R Squared\n",
    "- Intro to classification models"
   ]
  }
 ],
 "metadata": {
  "celltoolbar": "Slideshow",
  "kernelspec": {
   "display_name": "Python 3 (ipykernel)",
   "language": "python",
   "name": "python3"
  },
  "language_info": {
   "codemirror_mode": {
    "name": "ipython",
    "version": 3
   },
   "file_extension": ".py",
   "mimetype": "text/x-python",
   "name": "python",
   "nbconvert_exporter": "python",
   "pygments_lexer": "ipython3",
   "version": "3.9.13"
  }
 },
 "nbformat": 4,
 "nbformat_minor": 5
}
