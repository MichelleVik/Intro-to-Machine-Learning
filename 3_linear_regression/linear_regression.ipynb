{
 "cells": [
  {
   "cell_type": "markdown",
   "id": "b8db19cd",
   "metadata": {
    "slideshow": {
     "slide_type": "notes"
    }
   },
   "source": [
    "- "
   ]
  },
  {
   "cell_type": "markdown",
   "id": "441caf5d",
   "metadata": {
    "slideshow": {
     "slide_type": "slide"
    }
   },
   "source": [
    "# Class will start at 6:05 PM\n",
    "\n",
    "In the meantime... fun fact!"
   ]
  },
  {
   "cell_type": "markdown",
   "id": "f4678989",
   "metadata": {
    "slideshow": {
     "slide_type": "fragment"
    }
   },
   "source": [
    "- 'Bold Glamour' filter on TikTok uses AI and not AR https://www.theverge.com/2023/3/2/23621751/bold-glamour-tiktok-face-filter-beauty-ai-ar-body-dismorphia\n"
   ]
  },
  {
   "cell_type": "markdown",
   "id": "b96fe938",
   "metadata": {
    "slideshow": {
     "slide_type": "fragment"
    }
   },
   "source": [
    "- We’re getting to a new place where it’s not just augmenting reality, it’s replacing reality.\n",
    "- It uses GAN (Generative Adversarial Networks):  \"GANs pit two competing neural networks against each other in a fist-fight\""
   ]
  },
  {
   "cell_type": "markdown",
   "id": "12d70594",
   "metadata": {
    "slideshow": {
     "slide_type": "slide"
    }
   },
   "source": [
    "# Week 3: Model setup and intro to regression models\n",
    "### Intro to Machine Learning | Professional Certificate course \n",
    "\n",
    "Viviana Marquez,  M.Sc.<br>\n",
    "March 8, 2023\n",
    "\n",
    "<br>\n",
    "\n",
    "<img src='../img/all/di.jpeg' style='width:500px; float: left; margin: 0px 30px 15px 0px'>"
   ]
  },
  {
   "cell_type": "markdown",
   "id": "ccaef5d0",
   "metadata": {
    "slideshow": {
     "slide_type": "slide"
    }
   },
   "source": [
    "# ❇️ Housekeeping"
   ]
  },
  {
   "cell_type": "markdown",
   "id": "1dcf078d",
   "metadata": {
    "slideshow": {
     "slide_type": "slide"
    }
   },
   "source": [
    "## Office hours\n",
    "\n",
    "More office hours:\n",
    "- Friday, March 10 @ 12PM PST\n",
    "- Monday, March 13 @ 6PM PST\n",
    "- Friday, March 17 @ 12PM PST\n",
    "- Monday, March 20 @ 6PM PST\n",
    "- Friday, March 24 @ 12PM PST\n",
    "- Monday, March 27 @ 6PM PST\n",
    "- Monday, April 3 @ 6PM PST\n",
    "\n",
    "Zoom link on Canvas"
   ]
  },
  {
   "cell_type": "markdown",
   "id": "ac8b7cd3",
   "metadata": {
    "slideshow": {
     "slide_type": "slide"
    }
   },
   "source": [
    "# 🚀 Today's agenda\n",
    "\n",
    "**Part 1:**\n",
    "\n",
    "- Finish up Feature Engineering\n",
    "- Underfitting vs overfitting / Bias-Variance trade-off\n",
    "- How to select a model?\n",
    "- Intro to performance metrics"
   ]
  },
  {
   "cell_type": "markdown",
   "id": "f2f31e72",
   "metadata": {
    "slideshow": {
     "slide_type": "slide"
    }
   },
   "source": [
    "# 🚀 Today's agenda\n",
    "\n",
    "**Part 2:**\n",
    "- Linear Regression\n",
    "- Gradient Descent\n",
    "- Regularized linear models\n",
    "- RMSE / R squared"
   ]
  },
  {
   "cell_type": "markdown",
   "id": "5cfccbcd",
   "metadata": {
    "slideshow": {
     "slide_type": "slide"
    }
   },
   "source": [
    "# ⏪ Last class recap\n",
    "\n",
    "- Getting data\n",
    "- Pandas crash course\n",
    "- EDA: Exploratory Data Analysis\n",
    "- Train, validation, and test data sets\n",
    "- Data cleaning and feature engineering "
   ]
  },
  {
   "cell_type": "markdown",
   "id": "85f7445a",
   "metadata": {
    "slideshow": {
     "slide_type": "slide"
    }
   },
   "source": [
    "### Conda environment commands\n",
    "\n",
    "- `conda activate IntroML`\n",
    "    - Launch `jupyter notebook`\n",
    "    \n",
    "    \n",
    "### Alternative\n",
    "\n",
    "Google Colab: https://colab.research.google.com/"
   ]
  },
  {
   "cell_type": "markdown",
   "id": "e2f5c083",
   "metadata": {
    "slideshow": {
     "slide_type": "slide"
    }
   },
   "source": [
    "# 🚀 Part 1"
   ]
  },
  {
   "cell_type": "markdown",
   "id": "adf92e74",
   "metadata": {
    "slideshow": {
     "slide_type": "slide"
    }
   },
   "source": [
    "# ❇️ Finish up Feature Engineering\n",
    "\n",
    "<br>\n",
    "<center>\n",
    "    <img src='../img/class_3/cinderella.gif' style='height:350px;'>\n",
    "</center>"
   ]
  },
  {
   "cell_type": "markdown",
   "id": "bfad8d4f",
   "metadata": {
    "slideshow": {
     "slide_type": "slide"
    }
   },
   "source": [
    "# EDA\n",
    "\n",
    "<br>\n",
    "<center>\n",
    "    <img src='../img/class_2/pipeline_EDA.png' style='height:300px;'>\n",
    "</center>\n",
    "\n",
    "- Exploratory Data Analysis is the process of performing initial investigations on data to be able to understand it, identify patters and relationships between variables, detect outliers and anomalies with the help of summary statistics and data visualizations.\n",
    "\n",
    "- By exploring the data in this way, data professionals can check the overall health of their data and gain insights and make informed decisions about how to approach further analysis or modeling"
   ]
  },
  {
   "cell_type": "markdown",
   "id": "7f13e17e",
   "metadata": {
    "slideshow": {
     "slide_type": "slide"
    }
   },
   "source": [
    "# Feature Engineering \n",
    "<br>\n",
    "<center>\n",
    "    <img src='../img/class_2/pipeline_FE.png' style='height:300px;'>\n",
    "</center>\n",
    "\n",
    "- Feature engineering is the process of selecting and transforming raw data into features that can be used to train machine learning models\n",
    "- AKA creating/changing number of columns"
   ]
  },
  {
   "cell_type": "markdown",
   "id": "7e828306",
   "metadata": {
    "slideshow": {
     "slide_type": "slide"
    }
   },
   "source": [
    "# ⚠️⚠️⚠️ We need split the data into train/validation/test data sets!\n",
    "\n",
    "- It is important to separate the data into training, validation, and test sets **BEFORE** doing any data cleaning or feature engineering to prevent <u>data leakage</u> and ensure that the model is evaluated on unseen data.\n",
    "\n",
    "\n",
    "- **Training dataset:** Used to train machine learning model\n",
    "- **Validation dataset:** Used to tune the model's hyperparameters \n",
    "- **Test datatset:** Evaluate the model's performance on unseen data"
   ]
  },
  {
   "cell_type": "markdown",
   "id": "727770b4",
   "metadata": {
    "slideshow": {
     "slide_type": "slide"
    }
   },
   "source": [
    "<img src='../img/class_2/cali.png' style='height:500px; float: left; margin: 0px 100px 0px 0px'>\n",
    "\n",
    "\n",
    "Download data from [here](https://raw.githubusercontent.com/vivianamarquez/Intro-to-Machine-Learning/main/data/housing.csv)\n",
    "\n",
    " - California Housing Prices dataset\n",
    "     - 1990 California census\n",
    "     \n",
    "     \n",
    "Task: Create a model to predict median house value based on the other features of the dataset"
   ]
  },
  {
   "cell_type": "code",
   "execution_count": 1,
   "id": "5bd651d3",
   "metadata": {
    "slideshow": {
     "slide_type": "slide"
    }
   },
   "outputs": [
    {
     "data": {
      "text/html": [
       "<div>\n",
       "<style scoped>\n",
       "    .dataframe tbody tr th:only-of-type {\n",
       "        vertical-align: middle;\n",
       "    }\n",
       "\n",
       "    .dataframe tbody tr th {\n",
       "        vertical-align: top;\n",
       "    }\n",
       "\n",
       "    .dataframe thead th {\n",
       "        text-align: right;\n",
       "    }\n",
       "</style>\n",
       "<table border=\"1\" class=\"dataframe\">\n",
       "  <thead>\n",
       "    <tr style=\"text-align: right;\">\n",
       "      <th></th>\n",
       "      <th>longitude</th>\n",
       "      <th>latitude</th>\n",
       "      <th>housing_median_age</th>\n",
       "      <th>total_rooms</th>\n",
       "      <th>total_bedrooms</th>\n",
       "      <th>population</th>\n",
       "      <th>households</th>\n",
       "      <th>median_income</th>\n",
       "      <th>median_house_value</th>\n",
       "      <th>ocean_proximity</th>\n",
       "    </tr>\n",
       "  </thead>\n",
       "  <tbody>\n",
       "    <tr>\n",
       "      <th>0</th>\n",
       "      <td>-122.23</td>\n",
       "      <td>37.88</td>\n",
       "      <td>41.0</td>\n",
       "      <td>880.0</td>\n",
       "      <td>129.0</td>\n",
       "      <td>322.0</td>\n",
       "      <td>126.0</td>\n",
       "      <td>8.3252</td>\n",
       "      <td>452600.0</td>\n",
       "      <td>NEAR BAY</td>\n",
       "    </tr>\n",
       "    <tr>\n",
       "      <th>1</th>\n",
       "      <td>-122.22</td>\n",
       "      <td>37.86</td>\n",
       "      <td>21.0</td>\n",
       "      <td>7099.0</td>\n",
       "      <td>1106.0</td>\n",
       "      <td>2401.0</td>\n",
       "      <td>1138.0</td>\n",
       "      <td>8.3014</td>\n",
       "      <td>358500.0</td>\n",
       "      <td>NEAR BAY</td>\n",
       "    </tr>\n",
       "    <tr>\n",
       "      <th>2</th>\n",
       "      <td>-122.24</td>\n",
       "      <td>37.85</td>\n",
       "      <td>52.0</td>\n",
       "      <td>1467.0</td>\n",
       "      <td>190.0</td>\n",
       "      <td>496.0</td>\n",
       "      <td>177.0</td>\n",
       "      <td>7.2574</td>\n",
       "      <td>352100.0</td>\n",
       "      <td>NEAR BAY</td>\n",
       "    </tr>\n",
       "    <tr>\n",
       "      <th>3</th>\n",
       "      <td>-122.25</td>\n",
       "      <td>37.85</td>\n",
       "      <td>52.0</td>\n",
       "      <td>1274.0</td>\n",
       "      <td>235.0</td>\n",
       "      <td>558.0</td>\n",
       "      <td>219.0</td>\n",
       "      <td>5.6431</td>\n",
       "      <td>341300.0</td>\n",
       "      <td>NEAR BAY</td>\n",
       "    </tr>\n",
       "    <tr>\n",
       "      <th>4</th>\n",
       "      <td>-122.25</td>\n",
       "      <td>37.85</td>\n",
       "      <td>52.0</td>\n",
       "      <td>1627.0</td>\n",
       "      <td>280.0</td>\n",
       "      <td>565.0</td>\n",
       "      <td>259.0</td>\n",
       "      <td>3.8462</td>\n",
       "      <td>342200.0</td>\n",
       "      <td>NEAR BAY</td>\n",
       "    </tr>\n",
       "  </tbody>\n",
       "</table>\n",
       "</div>"
      ],
      "text/plain": [
       "   longitude  latitude  housing_median_age  total_rooms  total_bedrooms  \\\n",
       "0    -122.23     37.88                41.0        880.0           129.0   \n",
       "1    -122.22     37.86                21.0       7099.0          1106.0   \n",
       "2    -122.24     37.85                52.0       1467.0           190.0   \n",
       "3    -122.25     37.85                52.0       1274.0           235.0   \n",
       "4    -122.25     37.85                52.0       1627.0           280.0   \n",
       "\n",
       "   population  households  median_income  median_house_value ocean_proximity  \n",
       "0       322.0       126.0         8.3252            452600.0        NEAR BAY  \n",
       "1      2401.0      1138.0         8.3014            358500.0        NEAR BAY  \n",
       "2       496.0       177.0         7.2574            352100.0        NEAR BAY  \n",
       "3       558.0       219.0         5.6431            341300.0        NEAR BAY  \n",
       "4       565.0       259.0         3.8462            342200.0        NEAR BAY  "
      ]
     },
     "execution_count": 1,
     "metadata": {},
     "output_type": "execute_result"
    }
   ],
   "source": [
    "import pandas as pd\n",
    "df = pd.read_csv(\"../data/housing.csv\")\n",
    "df.head()"
   ]
  },
  {
   "cell_type": "code",
   "execution_count": 2,
   "id": "29c98d85",
   "metadata": {
    "slideshow": {
     "slide_type": "slide"
    }
   },
   "outputs": [],
   "source": [
    "from sklearn.model_selection import train_test_split"
   ]
  },
  {
   "cell_type": "code",
   "execution_count": 3,
   "id": "c6c4ea62",
   "metadata": {
    "slideshow": {
     "slide_type": "fragment"
    }
   },
   "outputs": [
    {
     "data": {
      "text/html": [
       "<div>\n",
       "<style scoped>\n",
       "    .dataframe tbody tr th:only-of-type {\n",
       "        vertical-align: middle;\n",
       "    }\n",
       "\n",
       "    .dataframe tbody tr th {\n",
       "        vertical-align: top;\n",
       "    }\n",
       "\n",
       "    .dataframe thead th {\n",
       "        text-align: right;\n",
       "    }\n",
       "</style>\n",
       "<table border=\"1\" class=\"dataframe\">\n",
       "  <thead>\n",
       "    <tr style=\"text-align: right;\">\n",
       "      <th></th>\n",
       "      <th>median_house_value</th>\n",
       "    </tr>\n",
       "  </thead>\n",
       "  <tbody>\n",
       "    <tr>\n",
       "      <th>0</th>\n",
       "      <td>452600.0</td>\n",
       "    </tr>\n",
       "    <tr>\n",
       "      <th>1</th>\n",
       "      <td>358500.0</td>\n",
       "    </tr>\n",
       "    <tr>\n",
       "      <th>2</th>\n",
       "      <td>352100.0</td>\n",
       "    </tr>\n",
       "  </tbody>\n",
       "</table>\n",
       "</div>"
      ],
      "text/plain": [
       "   median_house_value\n",
       "0            452600.0\n",
       "1            358500.0\n",
       "2            352100.0"
      ]
     },
     "execution_count": 3,
     "metadata": {},
     "output_type": "execute_result"
    }
   ],
   "source": [
    "# target variable\n",
    "y = df[['median_house_value']]\n",
    "y.head(3)"
   ]
  },
  {
   "cell_type": "code",
   "execution_count": 4,
   "id": "f95cc09b",
   "metadata": {
    "slideshow": {
     "slide_type": "fragment"
    }
   },
   "outputs": [
    {
     "data": {
      "text/html": [
       "<div>\n",
       "<style scoped>\n",
       "    .dataframe tbody tr th:only-of-type {\n",
       "        vertical-align: middle;\n",
       "    }\n",
       "\n",
       "    .dataframe tbody tr th {\n",
       "        vertical-align: top;\n",
       "    }\n",
       "\n",
       "    .dataframe thead th {\n",
       "        text-align: right;\n",
       "    }\n",
       "</style>\n",
       "<table border=\"1\" class=\"dataframe\">\n",
       "  <thead>\n",
       "    <tr style=\"text-align: right;\">\n",
       "      <th></th>\n",
       "      <th>longitude</th>\n",
       "      <th>latitude</th>\n",
       "      <th>housing_median_age</th>\n",
       "      <th>total_rooms</th>\n",
       "      <th>total_bedrooms</th>\n",
       "      <th>population</th>\n",
       "      <th>households</th>\n",
       "      <th>median_income</th>\n",
       "      <th>ocean_proximity</th>\n",
       "    </tr>\n",
       "  </thead>\n",
       "  <tbody>\n",
       "    <tr>\n",
       "      <th>0</th>\n",
       "      <td>-122.23</td>\n",
       "      <td>37.88</td>\n",
       "      <td>41.0</td>\n",
       "      <td>880.0</td>\n",
       "      <td>129.0</td>\n",
       "      <td>322.0</td>\n",
       "      <td>126.0</td>\n",
       "      <td>8.3252</td>\n",
       "      <td>NEAR BAY</td>\n",
       "    </tr>\n",
       "    <tr>\n",
       "      <th>1</th>\n",
       "      <td>-122.22</td>\n",
       "      <td>37.86</td>\n",
       "      <td>21.0</td>\n",
       "      <td>7099.0</td>\n",
       "      <td>1106.0</td>\n",
       "      <td>2401.0</td>\n",
       "      <td>1138.0</td>\n",
       "      <td>8.3014</td>\n",
       "      <td>NEAR BAY</td>\n",
       "    </tr>\n",
       "    <tr>\n",
       "      <th>2</th>\n",
       "      <td>-122.24</td>\n",
       "      <td>37.85</td>\n",
       "      <td>52.0</td>\n",
       "      <td>1467.0</td>\n",
       "      <td>190.0</td>\n",
       "      <td>496.0</td>\n",
       "      <td>177.0</td>\n",
       "      <td>7.2574</td>\n",
       "      <td>NEAR BAY</td>\n",
       "    </tr>\n",
       "  </tbody>\n",
       "</table>\n",
       "</div>"
      ],
      "text/plain": [
       "   longitude  latitude  housing_median_age  total_rooms  total_bedrooms  \\\n",
       "0    -122.23     37.88                41.0        880.0           129.0   \n",
       "1    -122.22     37.86                21.0       7099.0          1106.0   \n",
       "2    -122.24     37.85                52.0       1467.0           190.0   \n",
       "\n",
       "   population  households  median_income ocean_proximity  \n",
       "0       322.0       126.0         8.3252        NEAR BAY  \n",
       "1      2401.0      1138.0         8.3014        NEAR BAY  \n",
       "2       496.0       177.0         7.2574        NEAR BAY  "
      ]
     },
     "execution_count": 4,
     "metadata": {},
     "output_type": "execute_result"
    }
   ],
   "source": [
    "# attributes\n",
    "df.columns\n",
    "X = df[['longitude', 'latitude', 'housing_median_age', 'total_rooms',\n",
    "       'total_bedrooms', 'population', 'households', 'median_income', 'ocean_proximity']]\n",
    "X.head(3)"
   ]
  },
  {
   "cell_type": "code",
   "execution_count": 5,
   "id": "92c33a4f",
   "metadata": {
    "slideshow": {
     "slide_type": "slide"
    }
   },
   "outputs": [],
   "source": [
    "# Assuming X is your feature matrix and y is your target variable\n",
    "X_train_val, X_test, y_train_val, y_test = train_test_split(X, y, test_size=0.1, random_state=42)"
   ]
  },
  {
   "cell_type": "code",
   "execution_count": 6,
   "id": "75a1e104",
   "metadata": {
    "slideshow": {
     "slide_type": "fragment"
    }
   },
   "outputs": [],
   "source": [
    "# Split the training and validation sets\n",
    "X_train, X_val, y_train, y_val = train_test_split(X_train_val, y_train_val, test_size=0.111111, random_state=42) #0.25"
   ]
  },
  {
   "cell_type": "code",
   "execution_count": 7,
   "id": "9cc8c3d2",
   "metadata": {
    "slideshow": {
     "slide_type": "fragment"
    }
   },
   "outputs": [
    {
     "data": {
      "text/html": [
       "<div>\n",
       "<style scoped>\n",
       "    .dataframe tbody tr th:only-of-type {\n",
       "        vertical-align: middle;\n",
       "    }\n",
       "\n",
       "    .dataframe tbody tr th {\n",
       "        vertical-align: top;\n",
       "    }\n",
       "\n",
       "    .dataframe thead th {\n",
       "        text-align: right;\n",
       "    }\n",
       "</style>\n",
       "<table border=\"1\" class=\"dataframe\">\n",
       "  <thead>\n",
       "    <tr style=\"text-align: right;\">\n",
       "      <th></th>\n",
       "      <th>longitude</th>\n",
       "      <th>latitude</th>\n",
       "      <th>housing_median_age</th>\n",
       "      <th>total_rooms</th>\n",
       "      <th>total_bedrooms</th>\n",
       "      <th>population</th>\n",
       "      <th>households</th>\n",
       "      <th>median_income</th>\n",
       "      <th>ocean_proximity</th>\n",
       "    </tr>\n",
       "  </thead>\n",
       "  <tbody>\n",
       "    <tr>\n",
       "      <th>15920</th>\n",
       "      <td>-117.78</td>\n",
       "      <td>33.51</td>\n",
       "      <td>44.0</td>\n",
       "      <td>1833.0</td>\n",
       "      <td>331.0</td>\n",
       "      <td>515.0</td>\n",
       "      <td>268.0</td>\n",
       "      <td>6.6178</td>\n",
       "      <td>&lt;1H OCEAN</td>\n",
       "    </tr>\n",
       "    <tr>\n",
       "      <th>18081</th>\n",
       "      <td>-118.05</td>\n",
       "      <td>33.86</td>\n",
       "      <td>16.0</td>\n",
       "      <td>2851.0</td>\n",
       "      <td>626.0</td>\n",
       "      <td>1985.0</td>\n",
       "      <td>603.0</td>\n",
       "      <td>5.4089</td>\n",
       "      <td>&lt;1H OCEAN</td>\n",
       "    </tr>\n",
       "    <tr>\n",
       "      <th>14694</th>\n",
       "      <td>-122.41</td>\n",
       "      <td>37.76</td>\n",
       "      <td>52.0</td>\n",
       "      <td>351.0</td>\n",
       "      <td>81.0</td>\n",
       "      <td>308.0</td>\n",
       "      <td>75.0</td>\n",
       "      <td>2.6667</td>\n",
       "      <td>NEAR BAY</td>\n",
       "    </tr>\n",
       "    <tr>\n",
       "      <th>20478</th>\n",
       "      <td>-117.30</td>\n",
       "      <td>34.15</td>\n",
       "      <td>33.0</td>\n",
       "      <td>1607.0</td>\n",
       "      <td>282.0</td>\n",
       "      <td>608.0</td>\n",
       "      <td>260.0</td>\n",
       "      <td>4.3438</td>\n",
       "      <td>INLAND</td>\n",
       "    </tr>\n",
       "    <tr>\n",
       "      <th>18634</th>\n",
       "      <td>-121.75</td>\n",
       "      <td>37.69</td>\n",
       "      <td>26.0</td>\n",
       "      <td>2647.0</td>\n",
       "      <td>536.0</td>\n",
       "      <td>1422.0</td>\n",
       "      <td>522.0</td>\n",
       "      <td>3.7212</td>\n",
       "      <td>INLAND</td>\n",
       "    </tr>\n",
       "  </tbody>\n",
       "</table>\n",
       "</div>"
      ],
      "text/plain": [
       "       longitude  latitude  housing_median_age  total_rooms  total_bedrooms  \\\n",
       "15920    -117.78     33.51                44.0       1833.0           331.0   \n",
       "18081    -118.05     33.86                16.0       2851.0           626.0   \n",
       "14694    -122.41     37.76                52.0        351.0            81.0   \n",
       "20478    -117.30     34.15                33.0       1607.0           282.0   \n",
       "18634    -121.75     37.69                26.0       2647.0           536.0   \n",
       "\n",
       "       population  households  median_income ocean_proximity  \n",
       "15920       515.0       268.0         6.6178       <1H OCEAN  \n",
       "18081      1985.0       603.0         5.4089       <1H OCEAN  \n",
       "14694       308.0        75.0         2.6667        NEAR BAY  \n",
       "20478       608.0       260.0         4.3438          INLAND  \n",
       "18634      1422.0       522.0         3.7212          INLAND  "
      ]
     },
     "execution_count": 7,
     "metadata": {},
     "output_type": "execute_result"
    }
   ],
   "source": [
    "X_train.head()"
   ]
  },
  {
   "cell_type": "code",
   "execution_count": 8,
   "id": "2f90fd1f",
   "metadata": {
    "slideshow": {
     "slide_type": "fragment"
    }
   },
   "outputs": [
    {
     "name": "stdout",
     "output_type": "stream",
     "text": [
      "Percentage of observations in the train dataset: 80.0%\n",
      "Percentage of observations in the val dataset: 10.0%\n",
      "Percentage of observations in the test dataset: 10.0%\n"
     ]
    }
   ],
   "source": [
    "print(f\"Percentage of observations in the train dataset: {X_train.shape[0]/df.shape[0]*100}%\")\n",
    "print(f\"Percentage of observations in the val dataset: {X_val.shape[0]/df.shape[0]*100}%\")\n",
    "print(f\"Percentage of observations in the test dataset: {X_test.shape[0]/df.shape[0]*100}%\")"
   ]
  },
  {
   "cell_type": "markdown",
   "id": "d7b2ee77",
   "metadata": {
    "slideshow": {
     "slide_type": "slide"
    }
   },
   "source": [
    "# Why do we do data cleaning and feature engineering?\n",
    "\n",
    "<br><br>\n",
    "<center>\n",
    "    <img src='../img/class_0/gigo.png' style='height:300px;'>\n",
    "</center>\n",
    "\n",
    "- Objective: Improve data quality, making it suitable for modeling"
   ]
  },
  {
   "cell_type": "markdown",
   "id": "9237ffbe",
   "metadata": {
    "slideshow": {
     "slide_type": "slide"
    }
   },
   "source": [
    "# 🛁 Data cleaning\n",
    "\n",
    "- Included but not limited to: \n",
    "    - Handling missing values: drop them or account for them \n",
    "    - Handling outliers: drop them or account for them or keep them\n",
    "    - Remove duplicates\n",
    "    - Handling incorrect data types\n",
    "    - Handling inconsistent data (example: age shouldn't be negative)"
   ]
  },
  {
   "cell_type": "markdown",
   "id": "ebd798c5",
   "metadata": {
    "slideshow": {
     "slide_type": "slide"
    }
   },
   "source": [
    "# 🏗 Feature engineering \n",
    "\n",
    "- Included but not limited to: \n",
    "    - Handling categorical attributes\n",
    "            - Ordinal encoder: Assumes two nearby values are more similar to each other\n",
    "            - One-Hot encoder: One binary category per attribute\n",
    "    - Custom feature engineering  ♊\n",
    "    - ✨ Feature scaling \n",
    "            - MinMax \n",
    "            - Standarization \n",
    "            \n",
    "- ✨ Putting it all together"
   ]
  },
  {
   "cell_type": "markdown",
   "id": "7c76b521",
   "metadata": {
    "slideshow": {
     "slide_type": "slide"
    }
   },
   "source": [
    "### Feature Scaling\n",
    "\n",
    "- With few exceptions, machine learning algorithms don't perform well when the input of the numerical values have very different scales\n",
    "- Example in this dataset: `total_rooms`, `median_income`\n",
    "\n",
    "The most common ones:\n",
    "- MinMax scaling\n",
    "- Standarization"
   ]
  },
  {
   "cell_type": "markdown",
   "id": "d3e3d7a9",
   "metadata": {
    "slideshow": {
     "slide_type": "slide"
    }
   },
   "source": [
    "### MinMax\n",
    "\n",
    "- AKA normalization\n",
    "- Values are shifted and rescaled so that they end up ranging from 0 to 1\n",
    "- How to calculate it? Subtracting the min val and diving by the difference between the min and the max"
   ]
  },
  {
   "cell_type": "code",
   "execution_count": 9,
   "id": "d3be6053",
   "metadata": {
    "slideshow": {
     "slide_type": "fragment"
    }
   },
   "outputs": [],
   "source": [
    "import numpy as np\n",
    "from sklearn.preprocessing import MinMaxScaler\n",
    "\n",
    "min_max_scaler = MinMaxScaler(feature_range=(0, 1))\n",
    "\n",
    "X_train_numerical_features = X_train.select_dtypes(include=[np.number])\n",
    "X_train_num_min_max_scaled = min_max_scaler.fit_transform(X_train_numerical_features)"
   ]
  },
  {
   "cell_type": "code",
   "execution_count": 10,
   "id": "0d14bd9b",
   "metadata": {
    "slideshow": {
     "slide_type": "fragment"
    }
   },
   "outputs": [
    {
     "data": {
      "text/html": [
       "<div>\n",
       "<style scoped>\n",
       "    .dataframe tbody tr th:only-of-type {\n",
       "        vertical-align: middle;\n",
       "    }\n",
       "\n",
       "    .dataframe tbody tr th {\n",
       "        vertical-align: top;\n",
       "    }\n",
       "\n",
       "    .dataframe thead th {\n",
       "        text-align: right;\n",
       "    }\n",
       "</style>\n",
       "<table border=\"1\" class=\"dataframe\">\n",
       "  <thead>\n",
       "    <tr style=\"text-align: right;\">\n",
       "      <th></th>\n",
       "      <th>longitude</th>\n",
       "      <th>latitude</th>\n",
       "      <th>housing_median_age</th>\n",
       "      <th>total_rooms</th>\n",
       "      <th>total_bedrooms</th>\n",
       "      <th>population</th>\n",
       "      <th>households</th>\n",
       "      <th>median_income</th>\n",
       "    </tr>\n",
       "  </thead>\n",
       "  <tbody>\n",
       "    <tr>\n",
       "      <th>15920</th>\n",
       "      <td>0.654382</td>\n",
       "      <td>0.103082</td>\n",
       "      <td>0.843137</td>\n",
       "      <td>0.056123</td>\n",
       "      <td>0.051210</td>\n",
       "      <td>0.014350</td>\n",
       "      <td>0.043907</td>\n",
       "      <td>0.421918</td>\n",
       "    </tr>\n",
       "    <tr>\n",
       "      <th>18081</th>\n",
       "      <td>0.627490</td>\n",
       "      <td>0.140276</td>\n",
       "      <td>0.294118</td>\n",
       "      <td>0.087326</td>\n",
       "      <td>0.096989</td>\n",
       "      <td>0.055551</td>\n",
       "      <td>0.098997</td>\n",
       "      <td>0.338547</td>\n",
       "    </tr>\n",
       "    <tr>\n",
       "      <th>14694</th>\n",
       "      <td>0.193227</td>\n",
       "      <td>0.554729</td>\n",
       "      <td>1.000000</td>\n",
       "      <td>0.010697</td>\n",
       "      <td>0.012415</td>\n",
       "      <td>0.008548</td>\n",
       "      <td>0.012169</td>\n",
       "      <td>0.149432</td>\n",
       "    </tr>\n",
       "    <tr>\n",
       "      <th>20478</th>\n",
       "      <td>0.702191</td>\n",
       "      <td>0.171095</td>\n",
       "      <td>0.627451</td>\n",
       "      <td>0.049195</td>\n",
       "      <td>0.043606</td>\n",
       "      <td>0.016957</td>\n",
       "      <td>0.042592</td>\n",
       "      <td>0.265093</td>\n",
       "    </tr>\n",
       "    <tr>\n",
       "      <th>18634</th>\n",
       "      <td>0.258964</td>\n",
       "      <td>0.547290</td>\n",
       "      <td>0.490196</td>\n",
       "      <td>0.081073</td>\n",
       "      <td>0.083023</td>\n",
       "      <td>0.039771</td>\n",
       "      <td>0.085677</td>\n",
       "      <td>0.222156</td>\n",
       "    </tr>\n",
       "  </tbody>\n",
       "</table>\n",
       "</div>"
      ],
      "text/plain": [
       "       longitude  latitude  housing_median_age  total_rooms  total_bedrooms  \\\n",
       "15920   0.654382  0.103082            0.843137     0.056123        0.051210   \n",
       "18081   0.627490  0.140276            0.294118     0.087326        0.096989   \n",
       "14694   0.193227  0.554729            1.000000     0.010697        0.012415   \n",
       "20478   0.702191  0.171095            0.627451     0.049195        0.043606   \n",
       "18634   0.258964  0.547290            0.490196     0.081073        0.083023   \n",
       "\n",
       "       population  households  median_income  \n",
       "15920    0.014350    0.043907       0.421918  \n",
       "18081    0.055551    0.098997       0.338547  \n",
       "14694    0.008548    0.012169       0.149432  \n",
       "20478    0.016957    0.042592       0.265093  \n",
       "18634    0.039771    0.085677       0.222156  "
      ]
     },
     "execution_count": 10,
     "metadata": {},
     "output_type": "execute_result"
    }
   ],
   "source": [
    "pd.DataFrame(X_train_num_min_max_scaled,\n",
    "              columns = X_train_numerical_features.columns, index=X_train_numerical_features.index).head()"
   ]
  },
  {
   "cell_type": "markdown",
   "id": "4850ca54",
   "metadata": {
    "slideshow": {
     "slide_type": "slide"
    }
   },
   "source": [
    "### Standarization\n",
    "\n",
    "- How to calculate it? Subtract the mean value, then divide the result by the standard deviation\n",
    "- It doesn't restrict the values to a specific range"
   ]
  },
  {
   "cell_type": "code",
   "execution_count": 11,
   "id": "2be73398",
   "metadata": {
    "slideshow": {
     "slide_type": "fragment"
    }
   },
   "outputs": [],
   "source": [
    "from sklearn.preprocessing import StandardScaler\n",
    "\n",
    "std_scaler = StandardScaler()\n",
    "X_train_num_std_scaled = std_scaler.fit_transform(X_train_numerical_features)"
   ]
  },
  {
   "cell_type": "code",
   "execution_count": 12,
   "id": "f12cc6d2",
   "metadata": {
    "slideshow": {
     "slide_type": "fragment"
    }
   },
   "outputs": [
    {
     "data": {
      "text/html": [
       "<div>\n",
       "<style scoped>\n",
       "    .dataframe tbody tr th:only-of-type {\n",
       "        vertical-align: middle;\n",
       "    }\n",
       "\n",
       "    .dataframe tbody tr th {\n",
       "        vertical-align: top;\n",
       "    }\n",
       "\n",
       "    .dataframe thead th {\n",
       "        text-align: right;\n",
       "    }\n",
       "</style>\n",
       "<table border=\"1\" class=\"dataframe\">\n",
       "  <thead>\n",
       "    <tr style=\"text-align: right;\">\n",
       "      <th></th>\n",
       "      <th>longitude</th>\n",
       "      <th>latitude</th>\n",
       "      <th>housing_median_age</th>\n",
       "      <th>total_rooms</th>\n",
       "      <th>total_bedrooms</th>\n",
       "      <th>population</th>\n",
       "      <th>households</th>\n",
       "      <th>median_income</th>\n",
       "    </tr>\n",
       "  </thead>\n",
       "  <tbody>\n",
       "    <tr>\n",
       "      <th>count</th>\n",
       "      <td>16512.0000</td>\n",
       "      <td>16512.0000</td>\n",
       "      <td>16512.0000</td>\n",
       "      <td>16512.0000</td>\n",
       "      <td>16341.0000</td>\n",
       "      <td>16512.0000</td>\n",
       "      <td>16512.0000</td>\n",
       "      <td>16512.0000</td>\n",
       "    </tr>\n",
       "    <tr>\n",
       "      <th>mean</th>\n",
       "      <td>-0.0000</td>\n",
       "      <td>-0.0000</td>\n",
       "      <td>-0.0000</td>\n",
       "      <td>-0.0000</td>\n",
       "      <td>0.0000</td>\n",
       "      <td>-0.0000</td>\n",
       "      <td>-0.0000</td>\n",
       "      <td>0.0000</td>\n",
       "    </tr>\n",
       "    <tr>\n",
       "      <th>std</th>\n",
       "      <td>1.0000</td>\n",
       "      <td>1.0000</td>\n",
       "      <td>1.0000</td>\n",
       "      <td>1.0000</td>\n",
       "      <td>1.0000</td>\n",
       "      <td>1.0000</td>\n",
       "      <td>1.0000</td>\n",
       "      <td>1.0000</td>\n",
       "    </tr>\n",
       "    <tr>\n",
       "      <th>min</th>\n",
       "      <td>-2.3917</td>\n",
       "      <td>-1.4484</td>\n",
       "      <td>-2.1874</td>\n",
       "      <td>-1.2325</td>\n",
       "      <td>-1.2884</td>\n",
       "      <td>-1.2608</td>\n",
       "      <td>-1.3182</td>\n",
       "      <td>-1.7631</td>\n",
       "    </tr>\n",
       "    <tr>\n",
       "      <th>25%</th>\n",
       "      <td>-1.1076</td>\n",
       "      <td>-0.7967</td>\n",
       "      <td>-0.8390</td>\n",
       "      <td>-0.5514</td>\n",
       "      <td>-0.5792</td>\n",
       "      <td>-0.5620</td>\n",
       "      <td>-0.5788</td>\n",
       "      <td>-0.6850</td>\n",
       "    </tr>\n",
       "    <tr>\n",
       "      <th>50%</th>\n",
       "      <td>0.5362</td>\n",
       "      <td>-0.6466</td>\n",
       "      <td>0.0335</td>\n",
       "      <td>-0.2314</td>\n",
       "      <td>-0.2413</td>\n",
       "      <td>-0.2276</td>\n",
       "      <td>-0.2328</td>\n",
       "      <td>-0.1792</td>\n",
       "    </tr>\n",
       "    <tr>\n",
       "      <th>75%</th>\n",
       "      <td>0.7810</td>\n",
       "      <td>0.9758</td>\n",
       "      <td>0.6680</td>\n",
       "      <td>0.2411</td>\n",
       "      <td>0.2619</td>\n",
       "      <td>0.2645</td>\n",
       "      <td>0.2795</td>\n",
       "      <td>0.4521</td>\n",
       "    </tr>\n",
       "    <tr>\n",
       "      <th>max</th>\n",
       "      <td>2.6247</td>\n",
       "      <td>2.9640</td>\n",
       "      <td>1.8577</td>\n",
       "      <td>14.0290</td>\n",
       "      <td>14.1521</td>\n",
       "      <td>30.3015</td>\n",
       "      <td>14.7414</td>\n",
       "      <td>5.8066</td>\n",
       "    </tr>\n",
       "  </tbody>\n",
       "</table>\n",
       "</div>"
      ],
      "text/plain": [
       "        longitude    latitude  housing_median_age  total_rooms  \\\n",
       "count  16512.0000  16512.0000          16512.0000   16512.0000   \n",
       "mean      -0.0000     -0.0000             -0.0000      -0.0000   \n",
       "std        1.0000      1.0000              1.0000       1.0000   \n",
       "min       -2.3917     -1.4484             -2.1874      -1.2325   \n",
       "25%       -1.1076     -0.7967             -0.8390      -0.5514   \n",
       "50%        0.5362     -0.6466              0.0335      -0.2314   \n",
       "75%        0.7810      0.9758              0.6680       0.2411   \n",
       "max        2.6247      2.9640              1.8577      14.0290   \n",
       "\n",
       "       total_bedrooms  population  households  median_income  \n",
       "count      16341.0000  16512.0000  16512.0000     16512.0000  \n",
       "mean           0.0000     -0.0000     -0.0000         0.0000  \n",
       "std            1.0000      1.0000      1.0000         1.0000  \n",
       "min           -1.2884     -1.2608     -1.3182        -1.7631  \n",
       "25%           -0.5792     -0.5620     -0.5788        -0.6850  \n",
       "50%           -0.2413     -0.2276     -0.2328        -0.1792  \n",
       "75%            0.2619      0.2645      0.2795         0.4521  \n",
       "max           14.1521     30.3015     14.7414         5.8066  "
      ]
     },
     "execution_count": 12,
     "metadata": {},
     "output_type": "execute_result"
    }
   ],
   "source": [
    "pd.DataFrame(X_train_num_std_scaled,\n",
    "             columns = X_train_numerical_features.columns, \n",
    "             index=X_train_numerical_features.index).describe().round(4)"
   ]
  },
  {
   "cell_type": "markdown",
   "id": "8ee0e778",
   "metadata": {
    "slideshow": {
     "slide_type": "slide"
    }
   },
   "source": [
    "# 🤔 When would you use standarization vs MinMax?"
   ]
  },
  {
   "cell_type": "code",
   "execution_count": 13,
   "id": "c19a3025",
   "metadata": {
    "slideshow": {
     "slide_type": "fragment"
    }
   },
   "outputs": [
    {
     "data": {
      "text/plain": [
       "count    16512.000000\n",
       "mean         3.877279\n",
       "std          1.915621\n",
       "min          0.499900\n",
       "25%          2.565175\n",
       "50%          3.534100\n",
       "75%          4.743250\n",
       "max         15.000100\n",
       "Name: median_income, dtype: float64"
      ]
     },
     "execution_count": 13,
     "metadata": {},
     "output_type": "execute_result"
    }
   ],
   "source": [
    "# data is capped at 15, numbers represent roughly tens of thousands of dollars\n",
    "X_train_numerical_features['median_income'].describe()"
   ]
  },
  {
   "cell_type": "markdown",
   "id": "d8deea0e",
   "metadata": {
    "slideshow": {
     "slide_type": "fragment"
    }
   },
   "source": [
    "- Suppose a district has a median income of 100 (by mistake)\n",
    "- MinMax would map this outlier to 1 and squish all other values to 0-0.15\n",
    "- Meanwhile, standarization is not so sensitive to outliers\n",
    "- MinMax is better to use when the upper and lower boundaries are known"
   ]
  },
  {
   "cell_type": "markdown",
   "id": "6b18986c",
   "metadata": {
    "slideshow": {
     "slide_type": "slide"
    }
   },
   "source": [
    "### More notes on feature scaling\n",
    "\n",
    "- When a feature's distribution has a heavy tail, both MinMax and standarization will squash most values into a small range\n",
    "- You should first transform it to shrink the heavy tail \n",
    "    - Square root\n",
    "    - Log\n",
    "    - Bucket the feature\n",
    "    - and more..."
   ]
  },
  {
   "cell_type": "code",
   "execution_count": 14,
   "id": "77325e7e",
   "metadata": {
    "slideshow": {
     "slide_type": "fragment"
    }
   },
   "outputs": [
    {
     "data": {
      "image/png": "[encoded data removed]",
      "text/plain": [
       "<Figure size 800x300 with 2 Axes>"
      ]
     },
     "metadata": {},
     "output_type": "display_data"
    }
   ],
   "source": [
    "import matplotlib.pyplot as plt\n",
    "\n",
    "fig, axs = plt.subplots(1, 2, figsize=(8, 3), sharey=True)\n",
    "\n",
    "X_train[\"population\"].hist(ax=axs[0], bins=50)\n",
    "X_train[\"population\"].apply(np.log).hist(ax=axs[1], bins=50)\n",
    "axs[0].set_xlabel(\"Population\")\n",
    "axs[1].set_xlabel(\"Log of population\")\n",
    "axs[0].set_ylabel(\"Number of districts\")\n",
    "\n",
    "plt.show()\n"
   ]
  },
  {
   "cell_type": "markdown",
   "id": "def67ccc",
   "metadata": {
    "slideshow": {
     "slide_type": "slide"
    }
   },
   "source": [
    "# 🏗 Feature engineering \n",
    "\n",
    "- Included but not limited to: \n",
    "    - Handling categorical features: Ordinal encoder, OneHot encoder, etc.\n",
    "    - Feature scaling: MinMax, standarizaton, square root, log, etc.\n",
    "    - Feature extraction: Creating new features from existing ones\n",
    "    - Text processing: TF-IDF, Word2Vec, BERT, GPT\n",
    "    - Dimensionality reduction\n",
    "- Depends on your dataset!"
   ]
  },
  {
   "cell_type": "markdown",
   "id": "bd23f2d0",
   "metadata": {
    "slideshow": {
     "slide_type": "slide"
    }
   },
   "source": [
    "# ⚗️ Putting all of it together\n"
   ]
  },
  {
   "cell_type": "code",
   "execution_count": 15,
   "id": "866ed1c5",
   "metadata": {
    "slideshow": {
     "slide_type": "fragment"
    }
   },
   "outputs": [
    {
     "data": {
      "text/plain": [
       "longitude               0\n",
       "latitude                0\n",
       "housing_median_age      0\n",
       "total_rooms             0\n",
       "total_bedrooms        171\n",
       "population              0\n",
       "households              0\n",
       "median_income           0\n",
       "ocean_proximity         0\n",
       "dtype: int64"
      ]
     },
     "execution_count": 15,
     "metadata": {},
     "output_type": "execute_result"
    }
   ],
   "source": [
    "X_train.isna().sum()"
   ]
  },
  {
   "cell_type": "markdown",
   "id": "ce755c94",
   "metadata": {
    "slideshow": {
     "slide_type": "fragment"
    }
   },
   "source": [
    "- Impute the median to handle missing values\n",
    "- One-Hot Encoder to handle categorical values\n",
    "- Standartization "
   ]
  },
  {
   "cell_type": "code",
   "execution_count": 16,
   "id": "a4e154db",
   "metadata": {
    "slideshow": {
     "slide_type": "slide"
    }
   },
   "outputs": [],
   "source": [
    "from sklearn.pipeline import make_pipeline\n",
    "from sklearn.compose import make_column_selector, make_column_transformer\n",
    "from sklearn.impute import SimpleImputer\n",
    "from sklearn.preprocessing import OneHotEncoder\n",
    "\n",
    "num_pipeline = make_pipeline(SimpleImputer(strategy=\"median\"), \n",
    "                             StandardScaler())\n",
    "\n",
    "cat_pipeline = make_pipeline(\n",
    "    #SimpleImputer(strategy=\"most_frequent\"),\n",
    "    OneHotEncoder(handle_unknown=\"ignore\"))\n",
    "\n",
    "preprocessing = make_column_transformer(\n",
    "    (num_pipeline, make_column_selector(dtype_include=np.number)),\n",
    "    (cat_pipeline, make_column_selector(dtype_include=object)),\n",
    ")"
   ]
  },
  {
   "cell_type": "code",
   "execution_count": 17,
   "id": "51c1dfa4",
   "metadata": {
    "slideshow": {
     "slide_type": "fragment"
    }
   },
   "outputs": [
    {
     "data": {
      "text/html": [
       "<div>\n",
       "<style scoped>\n",
       "    .dataframe tbody tr th:only-of-type {\n",
       "        vertical-align: middle;\n",
       "    }\n",
       "\n",
       "    .dataframe tbody tr th {\n",
       "        vertical-align: top;\n",
       "    }\n",
       "\n",
       "    .dataframe thead th {\n",
       "        text-align: right;\n",
       "    }\n",
       "</style>\n",
       "<table border=\"1\" class=\"dataframe\">\n",
       "  <thead>\n",
       "    <tr style=\"text-align: right;\">\n",
       "      <th></th>\n",
       "      <th>pipeline-1__longitude</th>\n",
       "      <th>pipeline-1__latitude</th>\n",
       "      <th>pipeline-1__housing_median_age</th>\n",
       "      <th>pipeline-1__total_rooms</th>\n",
       "      <th>pipeline-1__total_bedrooms</th>\n",
       "      <th>pipeline-1__population</th>\n",
       "      <th>pipeline-1__households</th>\n",
       "      <th>pipeline-1__median_income</th>\n",
       "      <th>pipeline-2__ocean_proximity_&lt;1H OCEAN</th>\n",
       "      <th>pipeline-2__ocean_proximity_INLAND</th>\n",
       "      <th>pipeline-2__ocean_proximity_ISLAND</th>\n",
       "      <th>pipeline-2__ocean_proximity_NEAR BAY</th>\n",
       "      <th>pipeline-2__ocean_proximity_NEAR OCEAN</th>\n",
       "    </tr>\n",
       "  </thead>\n",
       "  <tbody>\n",
       "    <tr>\n",
       "      <th>15920</th>\n",
       "      <td>0.890953</td>\n",
       "      <td>-0.993607</td>\n",
       "      <td>1.223207</td>\n",
       "      <td>-0.375939</td>\n",
       "      <td>-0.497649</td>\n",
       "      <td>-0.807894</td>\n",
       "      <td>-0.613104</td>\n",
       "      <td>1.430661</td>\n",
       "      <td>1.0</td>\n",
       "      <td>0.0</td>\n",
       "      <td>0.0</td>\n",
       "      <td>0.0</td>\n",
       "      <td>0.0</td>\n",
       "    </tr>\n",
       "    <tr>\n",
       "      <th>18081</th>\n",
       "      <td>0.756049</td>\n",
       "      <td>-0.829490</td>\n",
       "      <td>-0.997660</td>\n",
       "      <td>0.100266</td>\n",
       "      <td>0.212680</td>\n",
       "      <td>0.492494</td>\n",
       "      <td>0.271616</td>\n",
       "      <td>0.799567</td>\n",
       "      <td>1.0</td>\n",
       "      <td>0.0</td>\n",
       "      <td>0.0</td>\n",
       "      <td>0.0</td>\n",
       "      <td>0.0</td>\n",
       "    </tr>\n",
       "    <tr>\n",
       "      <th>14694</th>\n",
       "      <td>-1.422399</td>\n",
       "      <td>0.999243</td>\n",
       "      <td>1.857740</td>\n",
       "      <td>-1.069196</td>\n",
       "      <td>-1.099623</td>\n",
       "      <td>-0.991010</td>\n",
       "      <td>-1.122809</td>\n",
       "      <td>-0.631970</td>\n",
       "      <td>0.0</td>\n",
       "      <td>0.0</td>\n",
       "      <td>0.0</td>\n",
       "      <td>1.0</td>\n",
       "      <td>0.0</td>\n",
       "    </tr>\n",
       "    <tr>\n",
       "      <th>20478</th>\n",
       "      <td>1.130782</td>\n",
       "      <td>-0.693508</td>\n",
       "      <td>0.350724</td>\n",
       "      <td>-0.481658</td>\n",
       "      <td>-0.615636</td>\n",
       "      <td>-0.725625</td>\n",
       "      <td>-0.634232</td>\n",
       "      <td>0.243542</td>\n",
       "      <td>0.0</td>\n",
       "      <td>1.0</td>\n",
       "      <td>0.0</td>\n",
       "      <td>0.0</td>\n",
       "      <td>0.0</td>\n",
       "    </tr>\n",
       "    <tr>\n",
       "      <th>18634</th>\n",
       "      <td>-1.092634</td>\n",
       "      <td>0.966419</td>\n",
       "      <td>-0.204493</td>\n",
       "      <td>0.004838</td>\n",
       "      <td>-0.004030</td>\n",
       "      <td>-0.005546</td>\n",
       "      <td>0.057698</td>\n",
       "      <td>-0.081479</td>\n",
       "      <td>0.0</td>\n",
       "      <td>1.0</td>\n",
       "      <td>0.0</td>\n",
       "      <td>0.0</td>\n",
       "      <td>0.0</td>\n",
       "    </tr>\n",
       "  </tbody>\n",
       "</table>\n",
       "</div>"
      ],
      "text/plain": [
       "       pipeline-1__longitude  pipeline-1__latitude  \\\n",
       "15920               0.890953             -0.993607   \n",
       "18081               0.756049             -0.829490   \n",
       "14694              -1.422399              0.999243   \n",
       "20478               1.130782             -0.693508   \n",
       "18634              -1.092634              0.966419   \n",
       "\n",
       "       pipeline-1__housing_median_age  pipeline-1__total_rooms  \\\n",
       "15920                        1.223207                -0.375939   \n",
       "18081                       -0.997660                 0.100266   \n",
       "14694                        1.857740                -1.069196   \n",
       "20478                        0.350724                -0.481658   \n",
       "18634                       -0.204493                 0.004838   \n",
       "\n",
       "       pipeline-1__total_bedrooms  pipeline-1__population  \\\n",
       "15920                   -0.497649               -0.807894   \n",
       "18081                    0.212680                0.492494   \n",
       "14694                   -1.099623               -0.991010   \n",
       "20478                   -0.615636               -0.725625   \n",
       "18634                   -0.004030               -0.005546   \n",
       "\n",
       "       pipeline-1__households  pipeline-1__median_income  \\\n",
       "15920               -0.613104                   1.430661   \n",
       "18081                0.271616                   0.799567   \n",
       "14694               -1.122809                  -0.631970   \n",
       "20478               -0.634232                   0.243542   \n",
       "18634                0.057698                  -0.081479   \n",
       "\n",
       "       pipeline-2__ocean_proximity_<1H OCEAN  \\\n",
       "15920                                    1.0   \n",
       "18081                                    1.0   \n",
       "14694                                    0.0   \n",
       "20478                                    0.0   \n",
       "18634                                    0.0   \n",
       "\n",
       "       pipeline-2__ocean_proximity_INLAND  pipeline-2__ocean_proximity_ISLAND  \\\n",
       "15920                                 0.0                                 0.0   \n",
       "18081                                 0.0                                 0.0   \n",
       "14694                                 0.0                                 0.0   \n",
       "20478                                 1.0                                 0.0   \n",
       "18634                                 1.0                                 0.0   \n",
       "\n",
       "       pipeline-2__ocean_proximity_NEAR BAY  \\\n",
       "15920                                   0.0   \n",
       "18081                                   0.0   \n",
       "14694                                   1.0   \n",
       "20478                                   0.0   \n",
       "18634                                   0.0   \n",
       "\n",
       "       pipeline-2__ocean_proximity_NEAR OCEAN  \n",
       "15920                                     0.0  \n",
       "18081                                     0.0  \n",
       "14694                                     0.0  \n",
       "20478                                     0.0  \n",
       "18634                                     0.0  "
      ]
     },
     "execution_count": 17,
     "metadata": {},
     "output_type": "execute_result"
    }
   ],
   "source": [
    "# if you get an error in this cell, make sure you have scikit-learn==1.2.1\n",
    "# conda install scikit-learn=1.2.1\n",
    "X_train_processed = pd.DataFrame(preprocessing.fit_transform(X_train),\n",
    "                                 columns = preprocessing.get_feature_names_out(),\n",
    "                                 index=X_train.index)\n",
    "\n",
    "X_train_processed.head()"
   ]
  },
  {
   "cell_type": "markdown",
   "id": "f3c50a1e",
   "metadata": {
    "slideshow": {
     "slide_type": "slide"
    }
   },
   "source": [
    "# 🤔 Do you notice something funny in here?"
   ]
  },
  {
   "cell_type": "markdown",
   "id": "a7505719",
   "metadata": {
    "slideshow": {
     "slide_type": "slide"
    }
   },
   "source": [
    "# 🚀 Part 2\n",
    "\n",
    "See you here at @\n",
    "\n",
    "\n",
    "### Check-in: https://forms.gle/iPGEKNwJP1c8ftSp8"
   ]
  },
  {
   "cell_type": "markdown",
   "id": "85d0d4f5",
   "metadata": {
    "slideshow": {
     "slide_type": "slide"
    }
   },
   "source": [
    "# ⏪ Today's recap\n",
    "\n",
    "- "
   ]
  },
  {
   "cell_type": "markdown",
   "id": "c28a7a07",
   "metadata": {
    "slideshow": {
     "slide_type": "slide"
    }
   },
   "source": [
    "# 👮‍♀️ Misc:\n",
    "\n",
    "- Self-graded quiz will be posted in the next hour\n",
    "- 💪 Ungraded homework will be posted tonight or tomorrow morning\n",
    "- Office hours on Friday at 12 PM PST and Monday 6 PM PST (Zoom link will be posted in Canvas) \n",
    "\n",
    "### Check-in: https://forms.gle/iPGEKNwJP1c8ftSp8"
   ]
  },
  {
   "cell_type": "markdown",
   "id": "7b2900de",
   "metadata": {
    "slideshow": {
     "slide_type": "slide"
    }
   },
   "source": [
    "<center>\n",
    "<img src='../img/all/bye.gif' style='height:400px;'> \n",
    "</center>\n",
    "\n",
    "# Next class: Classification models"
   ]
  }
 ],
 "metadata": {
  "celltoolbar": "Slideshow",
  "kernelspec": {
   "display_name": "Python 3 (ipykernel)",
   "language": "python",
   "name": "python3"
  },
  "language_info": {
   "codemirror_mode": {
    "name": "ipython",
    "version": 3
   },
   "file_extension": ".py",
   "mimetype": "text/x-python",
   "name": "python",
   "nbconvert_exporter": "python",
   "pygments_lexer": "ipython3",
   "version": "3.9.16"
  }
 },
 "nbformat": 4,
 "nbformat_minor": 5
}
